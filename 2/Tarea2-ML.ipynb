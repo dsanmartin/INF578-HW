{
 "cells": [
  {
   "cell_type": "markdown",
   "metadata": {},
   "source": [
    "# Tarea 2 - Máquinas de Aprendizaje\n",
    "## Metodos Lineales para Clasificación\n",
    "### Integrantes: Gabriel Jara, Daniel San Martín"
   ]
  },
  {
   "cell_type": "markdown",
   "metadata": {},
   "source": [
    "## 1 Reducción de Dimensionalidad para Clasificación\n",
    "\n",
    "Como hemos discutido en clases, la reducción de dimensionalidad es extremadamente importante en análisis de datos, no sólo porque nos permite visualizar y por lo tanto explorar los datos a nuestra disposición, si no que también permite reducir el costo computacional de procesarlos, sino porque reduce de modo significativo el riesgo de *overfitting*. En problemas de clasificación, la técnica que hemos discutido en el capítulo 1 (PCA), puede exhibir resultados diametralmente opuestos a aquello que se busca: preservar la información correspondiente a la clase a la que pertenece un ítem.\n",
    "\n",
    "<img src=\"img/img1.png\">\n",
    "\n",
    "Para experimentar con este problema, en esta sección trabajaremos con una colección de sonidos fonéticos que deben ser identificados con vocales del inglés británico. Los datos han sido representados en un espacio de $d = 10$ características. Existen 528 datos de entrenamiento y 462 de pruebas, que pueden ser descargados desde el sitio web mantenido por los autores de nuestro texto guía. El mejor desempeño reportado por los autores corresponde a un 56% de *accuracy*, y es alcanzado por un modelo de vecinos más cercanos y una red neuronal artificial de radio basal."
   ]
  },
  {
   "cell_type": "markdown",
   "metadata": {},
   "source": [
    "(a) Construya un dataframe con los datos a analizar descargando los datos desde la URL. Determine cuántos registros contiene el conjunto de entrenamiento y cuántos el conjunto de pruebas. Determine además el número promedio de palabras por ítem en cada clase."
   ]
  },
  {
   "cell_type": "code",
   "execution_count": 1,
   "metadata": {},
   "outputs": [
    {
     "data": {
      "text/html": [
       "<div>\n",
       "<style>\n",
       "    .dataframe thead tr:only-child th {\n",
       "        text-align: right;\n",
       "    }\n",
       "\n",
       "    .dataframe thead th {\n",
       "        text-align: left;\n",
       "    }\n",
       "\n",
       "    .dataframe tbody tr th {\n",
       "        vertical-align: top;\n",
       "    }\n",
       "</style>\n",
       "<table border=\"1\" class=\"dataframe\">\n",
       "  <thead>\n",
       "    <tr style=\"text-align: right;\">\n",
       "      <th></th>\n",
       "      <th>y</th>\n",
       "      <th>x.1</th>\n",
       "      <th>x.2</th>\n",
       "      <th>x.3</th>\n",
       "      <th>x.4</th>\n",
       "      <th>x.5</th>\n",
       "      <th>x.6</th>\n",
       "      <th>x.7</th>\n",
       "      <th>x.8</th>\n",
       "      <th>x.9</th>\n",
       "      <th>x.10</th>\n",
       "    </tr>\n",
       "    <tr>\n",
       "      <th>row.names</th>\n",
       "      <th></th>\n",
       "      <th></th>\n",
       "      <th></th>\n",
       "      <th></th>\n",
       "      <th></th>\n",
       "      <th></th>\n",
       "      <th></th>\n",
       "      <th></th>\n",
       "      <th></th>\n",
       "      <th></th>\n",
       "      <th></th>\n",
       "    </tr>\n",
       "  </thead>\n",
       "  <tbody>\n",
       "    <tr>\n",
       "      <th>1</th>\n",
       "      <td>1</td>\n",
       "      <td>-3.639</td>\n",
       "      <td>0.418</td>\n",
       "      <td>-0.670</td>\n",
       "      <td>1.779</td>\n",
       "      <td>-0.168</td>\n",
       "      <td>1.627</td>\n",
       "      <td>-0.388</td>\n",
       "      <td>0.529</td>\n",
       "      <td>-0.874</td>\n",
       "      <td>-0.814</td>\n",
       "    </tr>\n",
       "    <tr>\n",
       "      <th>2</th>\n",
       "      <td>2</td>\n",
       "      <td>-3.327</td>\n",
       "      <td>0.496</td>\n",
       "      <td>-0.694</td>\n",
       "      <td>1.365</td>\n",
       "      <td>-0.265</td>\n",
       "      <td>1.933</td>\n",
       "      <td>-0.363</td>\n",
       "      <td>0.510</td>\n",
       "      <td>-0.621</td>\n",
       "      <td>-0.488</td>\n",
       "    </tr>\n",
       "    <tr>\n",
       "      <th>3</th>\n",
       "      <td>3</td>\n",
       "      <td>-2.120</td>\n",
       "      <td>0.894</td>\n",
       "      <td>-1.576</td>\n",
       "      <td>0.147</td>\n",
       "      <td>-0.707</td>\n",
       "      <td>1.559</td>\n",
       "      <td>-0.579</td>\n",
       "      <td>0.676</td>\n",
       "      <td>-0.809</td>\n",
       "      <td>-0.049</td>\n",
       "    </tr>\n",
       "    <tr>\n",
       "      <th>4</th>\n",
       "      <td>4</td>\n",
       "      <td>-2.287</td>\n",
       "      <td>1.809</td>\n",
       "      <td>-1.498</td>\n",
       "      <td>1.012</td>\n",
       "      <td>-1.053</td>\n",
       "      <td>1.060</td>\n",
       "      <td>-0.567</td>\n",
       "      <td>0.235</td>\n",
       "      <td>-0.091</td>\n",
       "      <td>-0.795</td>\n",
       "    </tr>\n",
       "    <tr>\n",
       "      <th>5</th>\n",
       "      <td>5</td>\n",
       "      <td>-2.598</td>\n",
       "      <td>1.938</td>\n",
       "      <td>-0.846</td>\n",
       "      <td>1.062</td>\n",
       "      <td>-1.633</td>\n",
       "      <td>0.764</td>\n",
       "      <td>0.394</td>\n",
       "      <td>-0.150</td>\n",
       "      <td>0.277</td>\n",
       "      <td>-0.396</td>\n",
       "    </tr>\n",
       "  </tbody>\n",
       "</table>\n",
       "</div>"
      ],
      "text/plain": [
       "           y    x.1    x.2    x.3    x.4    x.5    x.6    x.7    x.8    x.9  \\\n",
       "row.names                                                                     \n",
       "1          1 -3.639  0.418 -0.670  1.779 -0.168  1.627 -0.388  0.529 -0.874   \n",
       "2          2 -3.327  0.496 -0.694  1.365 -0.265  1.933 -0.363  0.510 -0.621   \n",
       "3          3 -2.120  0.894 -1.576  0.147 -0.707  1.559 -0.579  0.676 -0.809   \n",
       "4          4 -2.287  1.809 -1.498  1.012 -1.053  1.060 -0.567  0.235 -0.091   \n",
       "5          5 -2.598  1.938 -0.846  1.062 -1.633  0.764  0.394 -0.150  0.277   \n",
       "\n",
       "            x.10  \n",
       "row.names         \n",
       "1         -0.814  \n",
       "2         -0.488  \n",
       "3         -0.049  \n",
       "4         -0.795  \n",
       "5         -0.396  "
      ]
     },
     "execution_count": 1,
     "metadata": {},
     "output_type": "execute_result"
    }
   ],
   "source": [
    "import urllib\n",
    "import pandas as pd\n",
    "\n",
    "#train_data_url = \"http://statweb.stanford.edu/~hastie/ElemStatLearn/datasets/vowel.train\"\n",
    "#test_data_url = \"http://statweb.stanford.edu/~hastie/ElemStatLearn/datasets/vowel.test\"\n",
    "#train_data_f = urllib.urlretrieve(train_data_url, \"data/train_data.csv\")\n",
    "#test_data_f = urllib.urlretrieve(test_data_url, \"data/test_data.csv\")\n",
    "train_df = pd.DataFrame.from_csv('data/train_data.csv',header=0,index_col=0)\n",
    "test_df = pd.DataFrame.from_csv('data/test_data.csv',header=0,index_col=0)\n",
    "train_df.head()"
   ]
  },
  {
   "cell_type": "code",
   "execution_count": 2,
   "metadata": {},
   "outputs": [
    {
     "data": {
      "text/html": [
       "<div>\n",
       "<style>\n",
       "    .dataframe thead tr:only-child th {\n",
       "        text-align: right;\n",
       "    }\n",
       "\n",
       "    .dataframe thead th {\n",
       "        text-align: left;\n",
       "    }\n",
       "\n",
       "    .dataframe tbody tr th {\n",
       "        vertical-align: top;\n",
       "    }\n",
       "</style>\n",
       "<table border=\"1\" class=\"dataframe\">\n",
       "  <thead>\n",
       "    <tr style=\"text-align: right;\">\n",
       "      <th></th>\n",
       "      <th>y</th>\n",
       "      <th>x.1</th>\n",
       "      <th>x.2</th>\n",
       "      <th>x.3</th>\n",
       "      <th>x.4</th>\n",
       "      <th>x.5</th>\n",
       "      <th>x.6</th>\n",
       "      <th>x.7</th>\n",
       "      <th>x.8</th>\n",
       "      <th>x.9</th>\n",
       "      <th>x.10</th>\n",
       "    </tr>\n",
       "    <tr>\n",
       "      <th>row.names</th>\n",
       "      <th></th>\n",
       "      <th></th>\n",
       "      <th></th>\n",
       "      <th></th>\n",
       "      <th></th>\n",
       "      <th></th>\n",
       "      <th></th>\n",
       "      <th></th>\n",
       "      <th></th>\n",
       "      <th></th>\n",
       "      <th></th>\n",
       "    </tr>\n",
       "  </thead>\n",
       "  <tbody>\n",
       "    <tr>\n",
       "      <th>458</th>\n",
       "      <td>7</td>\n",
       "      <td>-3.239</td>\n",
       "      <td>3.083</td>\n",
       "      <td>-1.427</td>\n",
       "      <td>-0.202</td>\n",
       "      <td>-0.282</td>\n",
       "      <td>1.421</td>\n",
       "      <td>0.576</td>\n",
       "      <td>0.068</td>\n",
       "      <td>-0.914</td>\n",
       "      <td>0.147</td>\n",
       "    </tr>\n",
       "    <tr>\n",
       "      <th>459</th>\n",
       "      <td>8</td>\n",
       "      <td>-3.753</td>\n",
       "      <td>3.605</td>\n",
       "      <td>-0.899</td>\n",
       "      <td>-0.747</td>\n",
       "      <td>-0.401</td>\n",
       "      <td>1.765</td>\n",
       "      <td>0.620</td>\n",
       "      <td>0.754</td>\n",
       "      <td>-0.835</td>\n",
       "      <td>-0.301</td>\n",
       "    </tr>\n",
       "    <tr>\n",
       "      <th>460</th>\n",
       "      <td>9</td>\n",
       "      <td>-3.980</td>\n",
       "      <td>2.459</td>\n",
       "      <td>0.068</td>\n",
       "      <td>0.023</td>\n",
       "      <td>0.237</td>\n",
       "      <td>1.029</td>\n",
       "      <td>-0.189</td>\n",
       "      <td>0.521</td>\n",
       "      <td>-0.773</td>\n",
       "      <td>-0.500</td>\n",
       "    </tr>\n",
       "    <tr>\n",
       "      <th>461</th>\n",
       "      <td>10</td>\n",
       "      <td>-4.264</td>\n",
       "      <td>2.925</td>\n",
       "      <td>0.065</td>\n",
       "      <td>0.794</td>\n",
       "      <td>0.323</td>\n",
       "      <td>0.515</td>\n",
       "      <td>-1.282</td>\n",
       "      <td>-0.140</td>\n",
       "      <td>-0.863</td>\n",
       "      <td>-0.390</td>\n",
       "    </tr>\n",
       "    <tr>\n",
       "      <th>462</th>\n",
       "      <td>11</td>\n",
       "      <td>-3.291</td>\n",
       "      <td>2.324</td>\n",
       "      <td>-0.679</td>\n",
       "      <td>0.285</td>\n",
       "      <td>0.441</td>\n",
       "      <td>0.557</td>\n",
       "      <td>-0.227</td>\n",
       "      <td>0.115</td>\n",
       "      <td>-1.046</td>\n",
       "      <td>0.697</td>\n",
       "    </tr>\n",
       "  </tbody>\n",
       "</table>\n",
       "</div>"
      ],
      "text/plain": [
       "            y    x.1    x.2    x.3    x.4    x.5    x.6    x.7    x.8    x.9  \\\n",
       "row.names                                                                      \n",
       "458         7 -3.239  3.083 -1.427 -0.202 -0.282  1.421  0.576  0.068 -0.914   \n",
       "459         8 -3.753  3.605 -0.899 -0.747 -0.401  1.765  0.620  0.754 -0.835   \n",
       "460         9 -3.980  2.459  0.068  0.023  0.237  1.029 -0.189  0.521 -0.773   \n",
       "461        10 -4.264  2.925  0.065  0.794  0.323  0.515 -1.282 -0.140 -0.863   \n",
       "462        11 -3.291  2.324 -0.679  0.285  0.441  0.557 -0.227  0.115 -1.046   \n",
       "\n",
       "            x.10  \n",
       "row.names         \n",
       "458        0.147  \n",
       "459       -0.301  \n",
       "460       -0.500  \n",
       "461       -0.390  \n",
       "462        0.697  "
      ]
     },
     "execution_count": 2,
     "metadata": {},
     "output_type": "execute_result"
    }
   ],
   "source": [
    "test_df.tail()"
   ]
  },
  {
   "cell_type": "code",
   "execution_count": 3,
   "metadata": {},
   "outputs": [
    {
     "data": {
      "text/html": [
       "<div>\n",
       "<style>\n",
       "    .dataframe thead tr:only-child th {\n",
       "        text-align: right;\n",
       "    }\n",
       "\n",
       "    .dataframe thead th {\n",
       "        text-align: left;\n",
       "    }\n",
       "\n",
       "    .dataframe tbody tr th {\n",
       "        vertical-align: top;\n",
       "    }\n",
       "</style>\n",
       "<table border=\"1\" class=\"dataframe\">\n",
       "  <thead>\n",
       "    <tr style=\"text-align: right;\">\n",
       "      <th></th>\n",
       "      <th>y</th>\n",
       "      <th>x.1</th>\n",
       "      <th>x.2</th>\n",
       "      <th>x.3</th>\n",
       "      <th>x.4</th>\n",
       "      <th>x.5</th>\n",
       "      <th>x.6</th>\n",
       "      <th>x.7</th>\n",
       "      <th>x.8</th>\n",
       "      <th>x.9</th>\n",
       "      <th>x.10</th>\n",
       "    </tr>\n",
       "  </thead>\n",
       "  <tbody>\n",
       "    <tr>\n",
       "      <th>count</th>\n",
       "      <td>528.000000</td>\n",
       "      <td>528.000000</td>\n",
       "      <td>528.000000</td>\n",
       "      <td>528.000000</td>\n",
       "      <td>528.000000</td>\n",
       "      <td>528.000000</td>\n",
       "      <td>528.000000</td>\n",
       "      <td>528.000000</td>\n",
       "      <td>528.000000</td>\n",
       "      <td>528.000000</td>\n",
       "      <td>528.000000</td>\n",
       "    </tr>\n",
       "    <tr>\n",
       "      <th>mean</th>\n",
       "      <td>6.000000</td>\n",
       "      <td>-3.166695</td>\n",
       "      <td>1.735343</td>\n",
       "      <td>-0.448002</td>\n",
       "      <td>0.524983</td>\n",
       "      <td>-0.389280</td>\n",
       "      <td>0.584960</td>\n",
       "      <td>0.017477</td>\n",
       "      <td>0.417394</td>\n",
       "      <td>-0.268112</td>\n",
       "      <td>-0.084568</td>\n",
       "    </tr>\n",
       "    <tr>\n",
       "      <th>std</th>\n",
       "      <td>3.165277</td>\n",
       "      <td>0.957965</td>\n",
       "      <td>1.160970</td>\n",
       "      <td>0.741363</td>\n",
       "      <td>0.769361</td>\n",
       "      <td>0.722011</td>\n",
       "      <td>0.648547</td>\n",
       "      <td>0.479254</td>\n",
       "      <td>0.595580</td>\n",
       "      <td>0.619584</td>\n",
       "      <td>0.560317</td>\n",
       "    </tr>\n",
       "    <tr>\n",
       "      <th>min</th>\n",
       "      <td>1.000000</td>\n",
       "      <td>-5.211000</td>\n",
       "      <td>-1.274000</td>\n",
       "      <td>-2.487000</td>\n",
       "      <td>-1.409000</td>\n",
       "      <td>-2.127000</td>\n",
       "      <td>-0.836000</td>\n",
       "      <td>-1.537000</td>\n",
       "      <td>-1.293000</td>\n",
       "      <td>-1.613000</td>\n",
       "      <td>-1.680000</td>\n",
       "    </tr>\n",
       "    <tr>\n",
       "      <th>25%</th>\n",
       "      <td>3.000000</td>\n",
       "      <td>-3.923000</td>\n",
       "      <td>0.916750</td>\n",
       "      <td>-0.945500</td>\n",
       "      <td>-0.083500</td>\n",
       "      <td>-0.930750</td>\n",
       "      <td>0.108500</td>\n",
       "      <td>-0.297000</td>\n",
       "      <td>-0.018250</td>\n",
       "      <td>-0.673750</td>\n",
       "      <td>-0.507000</td>\n",
       "    </tr>\n",
       "    <tr>\n",
       "      <th>50%</th>\n",
       "      <td>6.000000</td>\n",
       "      <td>-3.097000</td>\n",
       "      <td>1.733000</td>\n",
       "      <td>-0.502500</td>\n",
       "      <td>0.456500</td>\n",
       "      <td>-0.417000</td>\n",
       "      <td>0.527500</td>\n",
       "      <td>0.040000</td>\n",
       "      <td>0.477000</td>\n",
       "      <td>-0.255000</td>\n",
       "      <td>-0.082500</td>\n",
       "    </tr>\n",
       "    <tr>\n",
       "      <th>75%</th>\n",
       "      <td>9.000000</td>\n",
       "      <td>-2.511750</td>\n",
       "      <td>2.403750</td>\n",
       "      <td>0.049250</td>\n",
       "      <td>1.164000</td>\n",
       "      <td>0.115500</td>\n",
       "      <td>1.009750</td>\n",
       "      <td>0.348000</td>\n",
       "      <td>0.861250</td>\n",
       "      <td>0.137500</td>\n",
       "      <td>0.301000</td>\n",
       "    </tr>\n",
       "    <tr>\n",
       "      <th>max</th>\n",
       "      <td>11.000000</td>\n",
       "      <td>-0.941000</td>\n",
       "      <td>5.074000</td>\n",
       "      <td>1.413000</td>\n",
       "      <td>2.191000</td>\n",
       "      <td>1.831000</td>\n",
       "      <td>2.327000</td>\n",
       "      <td>1.403000</td>\n",
       "      <td>1.673000</td>\n",
       "      <td>1.309000</td>\n",
       "      <td>1.396000</td>\n",
       "    </tr>\n",
       "  </tbody>\n",
       "</table>\n",
       "</div>"
      ],
      "text/plain": [
       "                y         x.1         x.2         x.3         x.4         x.5  \\\n",
       "count  528.000000  528.000000  528.000000  528.000000  528.000000  528.000000   \n",
       "mean     6.000000   -3.166695    1.735343   -0.448002    0.524983   -0.389280   \n",
       "std      3.165277    0.957965    1.160970    0.741363    0.769361    0.722011   \n",
       "min      1.000000   -5.211000   -1.274000   -2.487000   -1.409000   -2.127000   \n",
       "25%      3.000000   -3.923000    0.916750   -0.945500   -0.083500   -0.930750   \n",
       "50%      6.000000   -3.097000    1.733000   -0.502500    0.456500   -0.417000   \n",
       "75%      9.000000   -2.511750    2.403750    0.049250    1.164000    0.115500   \n",
       "max     11.000000   -0.941000    5.074000    1.413000    2.191000    1.831000   \n",
       "\n",
       "              x.6         x.7         x.8         x.9        x.10  \n",
       "count  528.000000  528.000000  528.000000  528.000000  528.000000  \n",
       "mean     0.584960    0.017477    0.417394   -0.268112   -0.084568  \n",
       "std      0.648547    0.479254    0.595580    0.619584    0.560317  \n",
       "min     -0.836000   -1.537000   -1.293000   -1.613000   -1.680000  \n",
       "25%      0.108500   -0.297000   -0.018250   -0.673750   -0.507000  \n",
       "50%      0.527500    0.040000    0.477000   -0.255000   -0.082500  \n",
       "75%      1.009750    0.348000    0.861250    0.137500    0.301000  \n",
       "max      2.327000    1.403000    1.673000    1.309000    1.396000  "
      ]
     },
     "execution_count": 3,
     "metadata": {},
     "output_type": "execute_result"
    }
   ],
   "source": [
    "train_df.describe()"
   ]
  },
  {
   "cell_type": "code",
   "execution_count": 3,
   "metadata": {},
   "outputs": [
    {
     "data": {
      "text/html": [
       "<div>\n",
       "<style>\n",
       "    .dataframe thead tr:only-child th {\n",
       "        text-align: right;\n",
       "    }\n",
       "\n",
       "    .dataframe thead th {\n",
       "        text-align: left;\n",
       "    }\n",
       "\n",
       "    .dataframe tbody tr th {\n",
       "        vertical-align: top;\n",
       "    }\n",
       "</style>\n",
       "<table border=\"1\" class=\"dataframe\">\n",
       "  <thead>\n",
       "    <tr style=\"text-align: right;\">\n",
       "      <th></th>\n",
       "      <th>y</th>\n",
       "      <th>x.1</th>\n",
       "      <th>x.2</th>\n",
       "      <th>x.3</th>\n",
       "      <th>x.4</th>\n",
       "      <th>x.5</th>\n",
       "      <th>x.6</th>\n",
       "      <th>x.7</th>\n",
       "      <th>x.8</th>\n",
       "      <th>x.9</th>\n",
       "      <th>x.10</th>\n",
       "    </tr>\n",
       "  </thead>\n",
       "  <tbody>\n",
       "    <tr>\n",
       "      <th>count</th>\n",
       "      <td>462.000000</td>\n",
       "      <td>462.000000</td>\n",
       "      <td>462.000000</td>\n",
       "      <td>462.000000</td>\n",
       "      <td>462.000000</td>\n",
       "      <td>462.000000</td>\n",
       "      <td>462.000000</td>\n",
       "      <td>462.000000</td>\n",
       "      <td>462.000000</td>\n",
       "      <td>462.000000</td>\n",
       "      <td>462.000000</td>\n",
       "    </tr>\n",
       "    <tr>\n",
       "      <th>mean</th>\n",
       "      <td>6.000000</td>\n",
       "      <td>-3.246078</td>\n",
       "      <td>2.049102</td>\n",
       "      <td>-0.576076</td>\n",
       "      <td>0.504626</td>\n",
       "      <td>-0.210089</td>\n",
       "      <td>0.681998</td>\n",
       "      <td>-0.029327</td>\n",
       "      <td>0.244162</td>\n",
       "      <td>-0.342820</td>\n",
       "      <td>-0.056221</td>\n",
       "    </tr>\n",
       "    <tr>\n",
       "      <th>std</th>\n",
       "      <td>3.165706</td>\n",
       "      <td>0.753377</td>\n",
       "      <td>1.170402</td>\n",
       "      <td>0.671069</td>\n",
       "      <td>0.748236</td>\n",
       "      <td>0.578353</td>\n",
       "      <td>0.544476</td>\n",
       "      <td>0.440483</td>\n",
       "      <td>0.532523</td>\n",
       "      <td>0.505557</td>\n",
       "      <td>0.650602</td>\n",
       "    </tr>\n",
       "    <tr>\n",
       "      <th>min</th>\n",
       "      <td>1.000000</td>\n",
       "      <td>-4.982000</td>\n",
       "      <td>-1.074000</td>\n",
       "      <td>-2.091000</td>\n",
       "      <td>-1.044000</td>\n",
       "      <td>-1.733000</td>\n",
       "      <td>-0.405000</td>\n",
       "      <td>-1.282000</td>\n",
       "      <td>-0.949000</td>\n",
       "      <td>-1.409000</td>\n",
       "      <td>-1.241000</td>\n",
       "    </tr>\n",
       "    <tr>\n",
       "      <th>25%</th>\n",
       "      <td>3.000000</td>\n",
       "      <td>-3.855750</td>\n",
       "      <td>1.194000</td>\n",
       "      <td>-1.037000</td>\n",
       "      <td>-0.049250</td>\n",
       "      <td>-0.612000</td>\n",
       "      <td>0.278250</td>\n",
       "      <td>-0.310250</td>\n",
       "      <td>-0.167750</td>\n",
       "      <td>-0.721750</td>\n",
       "      <td>-0.564500</td>\n",
       "    </tr>\n",
       "    <tr>\n",
       "      <th>50%</th>\n",
       "      <td>6.000000</td>\n",
       "      <td>-3.220000</td>\n",
       "      <td>2.101500</td>\n",
       "      <td>-0.621000</td>\n",
       "      <td>0.418500</td>\n",
       "      <td>-0.181500</td>\n",
       "      <td>0.593000</td>\n",
       "      <td>0.005500</td>\n",
       "      <td>0.245000</td>\n",
       "      <td>-0.358000</td>\n",
       "      <td>-0.257500</td>\n",
       "    </tr>\n",
       "    <tr>\n",
       "      <th>75%</th>\n",
       "      <td>9.000000</td>\n",
       "      <td>-2.706500</td>\n",
       "      <td>2.985000</td>\n",
       "      <td>-0.181000</td>\n",
       "      <td>0.960750</td>\n",
       "      <td>0.199000</td>\n",
       "      <td>1.038500</td>\n",
       "      <td>0.245750</td>\n",
       "      <td>0.651500</td>\n",
       "      <td>0.019500</td>\n",
       "      <td>0.594750</td>\n",
       "    </tr>\n",
       "    <tr>\n",
       "      <th>max</th>\n",
       "      <td>11.000000</td>\n",
       "      <td>-1.093000</td>\n",
       "      <td>4.314000</td>\n",
       "      <td>1.431000</td>\n",
       "      <td>2.377000</td>\n",
       "      <td>1.114000</td>\n",
       "      <td>2.108000</td>\n",
       "      <td>1.209000</td>\n",
       "      <td>2.039000</td>\n",
       "      <td>0.757000</td>\n",
       "      <td>1.294000</td>\n",
       "    </tr>\n",
       "  </tbody>\n",
       "</table>\n",
       "</div>"
      ],
      "text/plain": [
       "                y         x.1         x.2         x.3         x.4         x.5  \\\n",
       "count  462.000000  462.000000  462.000000  462.000000  462.000000  462.000000   \n",
       "mean     6.000000   -3.246078    2.049102   -0.576076    0.504626   -0.210089   \n",
       "std      3.165706    0.753377    1.170402    0.671069    0.748236    0.578353   \n",
       "min      1.000000   -4.982000   -1.074000   -2.091000   -1.044000   -1.733000   \n",
       "25%      3.000000   -3.855750    1.194000   -1.037000   -0.049250   -0.612000   \n",
       "50%      6.000000   -3.220000    2.101500   -0.621000    0.418500   -0.181500   \n",
       "75%      9.000000   -2.706500    2.985000   -0.181000    0.960750    0.199000   \n",
       "max     11.000000   -1.093000    4.314000    1.431000    2.377000    1.114000   \n",
       "\n",
       "              x.6         x.7         x.8         x.9        x.10  \n",
       "count  462.000000  462.000000  462.000000  462.000000  462.000000  \n",
       "mean     0.681998   -0.029327    0.244162   -0.342820   -0.056221  \n",
       "std      0.544476    0.440483    0.532523    0.505557    0.650602  \n",
       "min     -0.405000   -1.282000   -0.949000   -1.409000   -1.241000  \n",
       "25%      0.278250   -0.310250   -0.167750   -0.721750   -0.564500  \n",
       "50%      0.593000    0.005500    0.245000   -0.358000   -0.257500  \n",
       "75%      1.038500    0.245750    0.651500    0.019500    0.594750  \n",
       "max      2.108000    1.209000    2.039000    0.757000    1.294000  "
      ]
     },
     "execution_count": 3,
     "metadata": {},
     "output_type": "execute_result"
    }
   ],
   "source": [
    "test_df.describe()"
   ]
  },
  {
   "cell_type": "code",
   "execution_count": 6,
   "metadata": {},
   "outputs": [
    {
     "data": {
      "text/plain": [
       "11    48\n",
       "10    48\n",
       "9     48\n",
       "8     48\n",
       "7     48\n",
       "6     48\n",
       "5     48\n",
       "4     48\n",
       "3     48\n",
       "2     48\n",
       "1     48\n",
       "Name: y, dtype: int64"
      ]
     },
     "execution_count": 6,
     "metadata": {},
     "output_type": "execute_result"
    }
   ],
   "source": [
    "train_df['y'].value_counts()"
   ]
  },
  {
   "cell_type": "code",
   "execution_count": 13,
   "metadata": {
    "scrolled": false
   },
   "outputs": [
    {
     "data": {
      "image/png": "[encoded data removed]",
      "text/plain": [
       "<matplotlib.figure.Figure at 0x7fa549a8d710>"
      ]
     },
     "metadata": {},
     "output_type": "display_data"
    }
   ],
   "source": [
    "import matplotlib.pyplot as plt\n",
    "\n",
    "train_df.hist(figsize=(14, 10))\n",
    "plt.suptitle(\"Train dataset histogram\")\n",
    "plt.show()"
   ]
  },
  {
   "cell_type": "markdown",
   "metadata": {},
   "source": [
    "Del análisis anterior podemos corroborar que el número de datos de entrenamiento es de $528$ y datos de prueba $462$. Además, podemos notar que cada clase ($11$) contiene un total de $48$ registros, por lo que el promedio de palabras por clases es justamente $48$."
   ]
  },
  {
   "cell_type": "markdown",
   "metadata": {},
   "source": [
    "(b) Construya matrices $X$ e $y$ que contengan las características y las etiquetas correspondientes a los datos de entrenamiento y pruebas. Normalice apropiadamente los datos antes de empezar a trabajar."
   ]
  },
  {
   "cell_type": "code",
   "execution_count": 16,
   "metadata": {
    "collapsed": true
   },
   "outputs": [],
   "source": [
    "from sklearn.preprocessing import StandardScaler\n",
    "\n",
    "X = train_df.loc[:,'x.1':'x.10'].values\n",
    "y = train_df.loc[:,'y'].values\n",
    "Scaler = StandardScaler().fit(X)\n",
    "X_std = Scaler.transform(X)"
   ]
  },
  {
   "cell_type": "markdown",
   "metadata": {},
   "source": [
    "(c) Utilizando PCA genere una representación en 2 dimensiones de la data original (10 dimensiones) identificando\n",
    "cada clase con un color distinto (elija una paleta apropiada)."
   ]
  },
  {
   "cell_type": "code",
   "execution_count": 17,
   "metadata": {},
   "outputs": [
    {
     "data": {
      "image/png": "[encoded data removed]",
      "text/plain": [
       "<matplotlib.figure.Figure at 0x7fa549d6f450>"
      ]
     },
     "metadata": {},
     "output_type": "display_data"
    }
   ],
   "source": [
    "from sklearn.decomposition import PCA\n",
    "from matplotlib import pyplot as plt\n",
    "import seaborn as sns\n",
    "import numpy as np\n",
    "\n",
    "sklearn_pca = PCA(n_components=2)\n",
    "Xred_pca = sklearn_pca.fit_transform(X_std)\n",
    "cmap = plt.cm.get_cmap('hsv')\n",
    "mclasses=(1,2,3,4,5,6,7,8,9)\n",
    "mcolors = [cmap(i) for i in np.linspace(0,1,10)]\n",
    "plt.figure(figsize=(12, 8))\n",
    "\n",
    "for lab, col in zip(mclasses,mcolors):\n",
    "    plt.scatter(Xred_pca[y==lab, 0],Xred_pca[y==lab, 1],label=lab,c=col)\n",
    "\n",
    "plt.xlabel('Principal Component 1')\n",
    "plt.ylabel('Principal Component 2')\n",
    "leg = plt.legend(loc='upper right', fancybox=True)\n",
    "plt.show()"
   ]
  },
  {
   "cell_type": "markdown",
   "metadata": {},
   "source": [
    "(d) Utilizando LDA genere una representación en 2 dimensiones de la data original (10 dimensiones) identificando\n",
    "cada clase con un color distinto (elija una paleta apropiada)."
   ]
  },
  {
   "cell_type": "code",
   "execution_count": 18,
   "metadata": {},
   "outputs": [
    {
     "data": {
      "image/png": "[encoded data removed]",
      "text/plain": [
       "<matplotlib.figure.Figure at 0x7fa54a8c23d0>"
      ]
     },
     "metadata": {},
     "output_type": "display_data"
    }
   ],
   "source": [
    "from sklearn.discriminant_analysis import LinearDiscriminantAnalysis\n",
    "\n",
    "sklearn_lda = LinearDiscriminantAnalysis(n_components=2)\n",
    "Xred_lda = sklearn_lda.fit_transform(X_std,y)\n",
    "cmap = plt.cm.get_cmap('hsv')\n",
    "mclasses=(1,2,3,4,5,6,7,8,9)\n",
    "mcolors = [cmap(i) for i in np.linspace(0,1,10)]\n",
    "plt.figure(figsize=(12, 8))\n",
    "\n",
    "for lab, col in zip(mclasses,mcolors):\n",
    "    plt.scatter(Xred_lda[y==lab, 0],Xred_lda[y==lab, 1],label=lab, c=col)\n",
    "\n",
    "plt.xlabel('LDA/Fisher Direction 1')\n",
    "plt.ylabel('LDA/Fisher Direction 2')\n",
    "leg = plt.legend(loc='upper right', fancybox=True)\n",
    "plt.show()"
   ]
  },
  {
   "cell_type": "markdown",
   "metadata": {},
   "source": [
    "(e) Compare cualitativamente los resultados obtenidos en c y d"
   ]
  },
  {
   "cell_type": "markdown",
   "metadata": {},
   "source": [
    "De los resultados anteriores se puede apreciar una mejor representación con *LDA*, dado que gráficamente pareciera haber una agrupación de datos lo suficientemente dispersa para poder clasificarlos de mejor forma que utilizando *PCA*"
   ]
  },
  {
   "cell_type": "markdown",
   "metadata": {},
   "source": [
    "(f) Construya un clasificador que determine la clase de un dato x aleatoriamente sin considerar las características\n",
    "sino que solamente la probabilidad *a-priori* de cada clase. Por ejemplo, si la clase $y = 0$ ocurre el 25% de las veces, su clasificador debe predecir esta clase para un determinado $x$ con probabilidad $0.25$, independiente de los atributos de $x$."
   ]
  },
  {
   "cell_type": "code",
   "execution_count": 58,
   "metadata": {},
   "outputs": [
    {
     "name": "stdout",
     "output_type": "stream",
     "text": [
      "Probabilidades de cada clase: [ 0.09090909  0.09090909  0.09090909  0.09090909  0.09090909  0.09090909\n",
      "  0.09090909  0.09090909  0.09090909  0.09090909  0.09090909]\n"
     ]
    },
    {
     "data": {
      "text/plain": [
       "3"
      ]
     },
     "execution_count": 58,
     "metadata": {},
     "output_type": "execute_result"
    }
   ],
   "source": [
    "# Probabilidades de cada calse\n",
    "probs = np.array(train_df['y'].value_counts()/train_df['y'].shape[0])\n",
    "print \"Probabilidades de cada clase:\", probs\n",
    "\n",
    "# Dado que todas las clases tienen la misma probabilidad\n",
    "# podriamos clasificar un x utilizando una distribucion uniforme discreta\n",
    "def classif(x):\n",
    "    return np.random.randint(11) + 1 # Retorna un valor aleatorio unfiforme entre [1, 11]\n",
    "\n",
    "# Clasificacion de un dato de entrenamiento\n",
    "classif(train_df.loc[:,'x.1':'x.10'].sample(1))"
   ]
  },
  {
   "cell_type": "markdown",
   "metadata": {},
   "source": [
    "(g) Compare el desempeño de LDA, QDA y un modelo de *Vecinos Más Cercanos (k-NN)* $^{†}$ sin reducir dimensionalidad. ¿Qué técnica se comporta mejor sobre el conjunto de entrenamiento? ¿Sobre el conjunto de pruebas? Describa, utilizando un gráfico, el efecto de cambiar el parámetro de $k$ en el tercer modelo.\n",
    "\n",
    "$^{†}$ Este clasificador busca los $k$ datos de entrenamiento más similares al patrón que se quiere clasificar y predice la clase más popular entre estos."
   ]
  },
  {
   "cell_type": "code",
   "execution_count": 61,
   "metadata": {},
   "outputs": [
    {
     "name": "stdout",
     "output_type": "stream",
     "text": [
      "-----LDA-----\n",
      "0.683712121212\n",
      "0.443722943723\n",
      "-----QDA-----\n",
      "0.988636363636\n",
      "0.471861471861\n",
      "-----KNN-----\n"
     ]
    },
    {
     "data": {
      "image/png": "[encoded data removed]",
      "text/plain": [
       "<matplotlib.figure.Figure at 0x7fa549f15e90>"
      ]
     },
     "metadata": {},
     "output_type": "display_data"
    }
   ],
   "source": [
    "from sklearn.discriminant_analysis import LinearDiscriminantAnalysis\n",
    "from sklearn.discriminant_analysis import QuadraticDiscriminantAnalysis\n",
    "from sklearn.neighbors import KNeighborsClassifier\n",
    "import matplotlib.pyplot as plt\n",
    "\n",
    "Xtest = test_df.loc[:,'x.1':'x.10'].values\n",
    "ytest = test_df.loc[:,'y'].values\n",
    "X_std_test = Scaler.transform(Xtest)\n",
    "lda_model = LinearDiscriminantAnalysis()\n",
    "lda_model.fit(X_std,y)\n",
    "print \"-----LDA-----\"\n",
    "print lda_model.score(X_std,y)\n",
    "print lda_model.score(X_std_test,ytest)\n",
    "qda_model = QuadraticDiscriminantAnalysis()\n",
    "qda_model.fit(X_std,y)\n",
    "print \"-----QDA-----\"\n",
    "print qda_model.score(X_std,y)\n",
    "print qda_model.score(X_std_test,ytest)\n",
    "print \"-----KNN-----\"\n",
    "knn_scores_training = []\n",
    "knn_scores_testing = []\n",
    "k = range(1,51)\n",
    "for c in k:\n",
    "    knn_model = KNeighborsClassifier(n_neighbors=c)\n",
    "    knn_model.fit(X_std,y)\n",
    "    knn_scores_training.append(knn_model.score(X_std,y))\n",
    "    knn_scores_testing.append(knn_model.score(X_std_test,ytest))\n",
    "plt.figure(figsize=(10,10))\n",
    "plt.subplot(211)\n",
    "plt.xlabel(\"k\")\n",
    "plt.ylabel(\"Score\")\n",
    "plt.title(\"Training/Testing\")\n",
    "plt.plot(k,knn_scores_training, '-o',k,knn_scores_testing, '-o')\n",
    "plt.legend((\"Training\", \"Testing\"), loc = \"upper right\")\n",
    "plt.show()"
   ]
  },
  {
   "cell_type": "markdown",
   "metadata": {},
   "source": [
    "Analizando los resultados, notamos que el mejor valor de *accuracy* para el conjunto de entrenamiento se encuentra con el modelo $k$-NN con $k=1$. Con respecto al conjunto de pruebas el mejor resultado también se obtiene con el $k$-NN pero con un valor de $k=7$."
   ]
  },
  {
   "cell_type": "markdown",
   "metadata": {},
   "source": [
    "(h) Utilice PCA para generar una representación de la data en $d'= 1, 2, 3, ... , 10$ dimensiones. Para cada caso entrene un modelo LDA, QDA y de k-NN. Construya un gráfico que muestre cómo evoluciona el error de entrenamiento versus $d'$. Sobreponga a este gráfico el error de pruebas versus $d'$. Concluya."
   ]
  },
  {
   "cell_type": "code",
   "execution_count": 70,
   "metadata": {},
   "outputs": [],
   "source": [
    "lda_train = np.zeros(10)\n",
    "lda_test = np.zeros(10)\n",
    "qda_train = np.zeros(10)\n",
    "qda_test = np.zeros(10)\n",
    "knn_train = np.zeros(10)\n",
    "knn_test = np.zeros(10)\n",
    "\n",
    "\n",
    "for d in range(1, 11):\n",
    "    sklearn_pca = PCA(n_components=d)\n",
    "    Xtrain_pca = sklearn_pca.fit_transform(X_std)\n",
    "    Xtest_pca = sklearn_pca.fit_transform(X_std_test)\n",
    "    \n",
    "    lda_model = LinearDiscriminantAnalysis()\n",
    "    lda_model.fit(Xtrain_pca,y)\n",
    "    lda_train[d-1] = lda_model.score(Xtrain_pca, y)\n",
    "    lda_test[d-1] = lda_model.score(Xtest_pca, ytest)\n",
    "    \n",
    "    qda_model = QuadraticDiscriminantAnalysis()\n",
    "    qda_model.fit(Xtrain_pca, y)\n",
    "    qda_train[d-1] = qda_model.score(Xtrain_pca, y)\n",
    "    qda_test[d-1] = qda_model.score(Xtest_pca, ytest)\n",
    "\n",
    "    k = 1\n",
    "    knn_model = KNeighborsClassifier(n_neighbors=k)\n",
    "    knn_model.fit(Xtrain_pca, y)\n",
    "    knn_train[d-1] = knn_model.score(Xtrain_pca, y)\n",
    "    knn_test[d-1] = knn_model.score(Xtest_pca, ytest)"
   ]
  },
  {
   "cell_type": "code",
   "execution_count": 71,
   "metadata": {},
   "outputs": [
    {
     "data": {
      "image/png": "[encoded data removed]",
      "text/plain": [
       "<matplotlib.figure.Figure at 0x7fa5493f2d50>"
      ]
     },
     "metadata": {},
     "output_type": "display_data"
    }
   ],
   "source": [
    "plt.figure(figsize=(14, 6))\n",
    "D = np.arange(1, 11)\n",
    "plt.plot(D, 1 - lda_train, marker=\"*\", label=\"LDA train\")\n",
    "plt.plot(D, 1 - lda_test, marker=\"*\", label=\"LDA test\")\n",
    "plt.plot(D, 1 - qda_train, marker=\"o\", label=\"QDA train\")\n",
    "plt.plot(D, 1 - qda_test, marker=\"o\", label=\"QDA test\")\n",
    "plt.plot(D, 1 - knn_train, marker=\"x\", label=\"KNN train\")\n",
    "plt.plot(D, 1 - knn_test, marker=\"x\", label=\"KNN test\")\n",
    "plt.title(\"Representacion con PCA\")\n",
    "plt.xlabel(r\"$d'$\")\n",
    "plt.ylabel(\"Error\")\n",
    "plt.legend()\n",
    "plt.grid(True)\n",
    "plt.show()"
   ]
  },
  {
   "cell_type": "markdown",
   "metadata": {},
   "source": [
    "Del gráfico podemos notar que el clasificador $k$-NN con $k=1$ obtiene los menores valores de error. En cuanto a los errores de entrenamiento y prueba muestran una tendencia comparable para los algoritmos restantes."
   ]
  },
  {
   "cell_type": "markdown",
   "metadata": {},
   "source": [
    "(i) Utilice LDA para generar una representación de la data en $d'= 1, 2, 3, ..., 10$ dimensiones. Para cada caso entrene un modelo LDA, QDA y de k-NN. Construya un gráfico que muestre cómo evoluciona el error de entrenamiento versus $d'$. Sobreponga a este gráfico el error de pruebas versus $d'$. Concluya."
   ]
  },
  {
   "cell_type": "code",
   "execution_count": 76,
   "metadata": {
    "collapsed": true
   },
   "outputs": [],
   "source": [
    "lda_train = np.zeros(10)\n",
    "lda_test = np.zeros(10)\n",
    "qda_train = np.zeros(10)\n",
    "qda_test = np.zeros(10)\n",
    "knn_train = np.zeros(10)\n",
    "knn_test = np.zeros(10)\n",
    "\n",
    "\n",
    "for d in range(1, 11):\n",
    "    sklearn_lda = LinearDiscriminantAnalysis(n_components=d)\n",
    "    Xtrain_lda = sklearn_lda.fit_transform(X_std, y)\n",
    "    Xtest_lda = sklearn_lda.fit_transform(X_std_test, ytest)\n",
    "    \n",
    "    lda_model = LinearDiscriminantAnalysis()\n",
    "    lda_model.fit(Xtrain_lda,y)\n",
    "    lda_train[d-1] = lda_model.score(Xtrain_lda, y)\n",
    "    lda_test[d-1] = lda_model.score(Xtest_lda, ytest)\n",
    "    \n",
    "    qda_model = QuadraticDiscriminantAnalysis()\n",
    "    qda_model.fit(Xtrain_lda, y)\n",
    "    qda_train[d-1] = qda_model.score(Xtrain_lda, y)\n",
    "    qda_test[d-1] = qda_model.score(Xtest_lda, ytest)\n",
    "\n",
    "    k = 1\n",
    "    knn_model = KNeighborsClassifier(n_neighbors=k)\n",
    "    knn_model.fit(Xtrain_lda, y)\n",
    "    knn_train[d-1] = knn_model.score(Xtrain_lda, y)\n",
    "    knn_test[d-1] = knn_model.score(Xtest_lda, ytest)"
   ]
  },
  {
   "cell_type": "code",
   "execution_count": 77,
   "metadata": {},
   "outputs": [
    {
     "data": {
      "image/png": "[encoded data removed]",
      "text/plain": [
       "<matplotlib.figure.Figure at 0x7fa549353890>"
      ]
     },
     "metadata": {},
     "output_type": "display_data"
    }
   ],
   "source": [
    "plt.figure(figsize=(14, 6))\n",
    "D = np.arange(1, 11)\n",
    "plt.plot(D, 1 - lda_train, marker=\"*\", label=\"LDA train\")\n",
    "plt.plot(D, 1 - lda_test, marker=\"*\", label=\"LDA test\")\n",
    "plt.plot(D, 1 - qda_train, marker=\"o\", label=\"QDA train\")\n",
    "plt.plot(D, 1 - qda_test, marker=\"o\", label=\"QDA test\")\n",
    "plt.plot(D, 1 - knn_train, marker=\"x\", label=\"KNN train\")\n",
    "plt.plot(D, 1 - knn_test, marker=\"x\", label=\"KNN test\")\n",
    "plt.title(\"Representacion con LDA\")\n",
    "plt.xlabel(r\"$d'$\")\n",
    "plt.ylabel(\"Error\")\n",
    "plt.legend()\n",
    "plt.grid(True)\n",
    "plt.show()"
   ]
  },
  {
   "cell_type": "markdown",
   "metadata": {},
   "source": [
    "Utilizando una representación con *LDA* el comportamiento de los clasificadores es similar al del *PCA*, donde el $k$-NN obtiene los mejores resultados. La única diferencia significativa podría ser el comportamiento oscilatorio entre $d'=1$ y $d'=3$ que se aprecia en la respresentación con *PCA*."
   ]
  },
  {
   "cell_type": "markdown",
   "metadata": {},
   "source": [
    "## 2 Análisis de Opiniones sobre Películas\n",
    "\n",
    "El análisis de sentimiento (o minería de opiniones) se refiere al proceso de extraer información acerca de la actitud que una persona (o grupo de ellas) manifiesta, en un determinado medio o formato digital, con respecto a un tópico o contexto de comunicación. Uno de los casos más estudiados corresponde a determinar la *polaridad* de un trozo de texto, es decir, clasificar una determinada evaluación escrita (ó *review*), en que una persona manifiesta una opinión, como *positiva*, *negativa* o *neutral*. La dificultad de este problema radica en el carácter altamente ambiguo e informal del lenguaje que utilizan naturalmente las personas así como el manejo de negaciones, sarcasmo y abreviaciones en una frase.\n",
    "\n",
    "<img src=\"img/img2.png\">\n",
    "\n",
    "Los datos que usaremos para esta actividad corresponden a un subconjunto de los datos publicados en *Kaggle*, en el contexto de una competencia organizada por la Universidad de Stanford [?]. Cada registro disponible corresponderá a una opinión sobre una película, registrada sobre el sitio *Rotten Tomatoes*. Para empezar nos limitaremos a estudiar textos anotados como positivos o negativos, clases que codificaremos como +1 y 0 respectivamente. Para construir un clasificador que determine automáticamente la polaridad de un trozo de texto, vamos a necesitar representar los textos $\\{d_i\\}^n_{i=1}$ disponibles como vectores de características (features). El tipo de características más utilizado consiste en contar cuántas veces aparecen ciertos términos/palabras en el texto. Para esto, necesitaremos un *vocabulario* que, para esta actividad, construiremos mediante la unión de todas las palabras que observemos en los textos que tenemos a disposición. Para aumentar la eficacia de las características extraídas es conveniente ejecutar algunas técnicas de preprocesamiento básicas como: pasar todo el texto a minúsculas (lower-casing), eliminar signos de puntuación y eliminar palabras sin significado como artículos, pronombres y preposiciones (stop word removal [4]). Otra técnica que suele ser útil para obtener buenas características (features) es la lematización [6], es decir la reducción de todas las palabras a su tronco léxico base. Una técnica similar y más utilizada en la práctica es el *stemming* [5]."
   ]
  },
  {
   "cell_type": "markdown",
   "metadata": {},
   "source": [
    "(a) Construya un dataframe con los datos a analizar descargando los datos desde la URL local. Determine cuántos registros de cada clase contiene el conjunto de entrenamiento y cuántos el conjunto de pruebas."
   ]
  },
  {
   "cell_type": "code",
   "execution_count": 78,
   "metadata": {},
   "outputs": [
    {
     "name": "stdout",
     "output_type": "stream",
     "text": [
      "(3554, 2)\n",
      "(3554, 2)\n"
     ]
    }
   ],
   "source": [
    "import urllib\n",
    "import pandas as pd\n",
    "\n",
    "#train_data_url = \"http://www.inf.utfsm.cl/~jnancu/stanford-subset/polarity.train\"\n",
    "#test_data_url = \"http://www.inf.utfsm.cl/~jnancu/stanford-subset/polarity.dev\"\n",
    "#train_data_f = urllib.urlretrieve(train_data_url, \"data/movies_train_data.csv\")\n",
    "#test_data_f = urllib.urlretrieve(test_data_url, \"data/movies_test_data.csv\")\n",
    "ftr = open(\"data/movies_train_data.csv\", \"r\")\n",
    "fts = open(\"data/movies_test_data.csv\", \"r\")\n",
    "rows = [line.split(\" \",1) for line in ftr.readlines()]\n",
    "train_df = pd.DataFrame(rows, columns=['Sentiment','Text'])\n",
    "train_df['Sentiment'] = pd.to_numeric(train_df['Sentiment'])\n",
    "rows = [line.split(\" \",1) for line in fts.readlines()]\n",
    "test_df = pd.DataFrame(rows, columns=['Sentiment','Text'])\n",
    "test_df['Sentiment'] = pd.to_numeric(test_df['Sentiment'])\n",
    "print train_df.shape\n",
    "print test_df.shape"
   ]
  },
  {
   "cell_type": "code",
   "execution_count": 82,
   "metadata": {},
   "outputs": [
    {
     "data": {
      "text/html": [
       "<div>\n",
       "<style>\n",
       "    .dataframe thead tr:only-child th {\n",
       "        text-align: right;\n",
       "    }\n",
       "\n",
       "    .dataframe thead th {\n",
       "        text-align: left;\n",
       "    }\n",
       "\n",
       "    .dataframe tbody tr th {\n",
       "        vertical-align: top;\n",
       "    }\n",
       "</style>\n",
       "<table border=\"1\" class=\"dataframe\">\n",
       "  <thead>\n",
       "    <tr style=\"text-align: right;\">\n",
       "      <th></th>\n",
       "      <th>Sentiment</th>\n",
       "      <th>Text</th>\n",
       "    </tr>\n",
       "  </thead>\n",
       "  <tbody>\n",
       "    <tr>\n",
       "      <th>3209</th>\n",
       "      <td>1</td>\n",
       "      <td>like mike doesn't win any points for originali...</td>\n",
       "    </tr>\n",
       "    <tr>\n",
       "      <th>2549</th>\n",
       "      <td>-1</td>\n",
       "      <td>detox is ultimately a pointless endeavor .\\n</td>\n",
       "    </tr>\n",
       "    <tr>\n",
       "      <th>3282</th>\n",
       "      <td>1</td>\n",
       "      <td>at 78 minutes it just zings along with vibranc...</td>\n",
       "    </tr>\n",
       "    <tr>\n",
       "      <th>3502</th>\n",
       "      <td>1</td>\n",
       "      <td>the overall effect is awe and affection -- and...</td>\n",
       "    </tr>\n",
       "    <tr>\n",
       "      <th>2123</th>\n",
       "      <td>1</td>\n",
       "      <td>they're just a couple of cops in copmovieland ...</td>\n",
       "    </tr>\n",
       "  </tbody>\n",
       "</table>\n",
       "</div>"
      ],
      "text/plain": [
       "      Sentiment                                               Text\n",
       "3209          1  like mike doesn't win any points for originali...\n",
       "2549         -1       detox is ultimately a pointless endeavor .\\n\n",
       "3282          1  at 78 minutes it just zings along with vibranc...\n",
       "3502          1  the overall effect is awe and affection -- and...\n",
       "2123          1  they're just a couple of cops in copmovieland ..."
      ]
     },
     "execution_count": 82,
     "metadata": {},
     "output_type": "execute_result"
    }
   ],
   "source": [
    "# Algunos ejemplos\n",
    "train_df.sample(5)"
   ]
  },
  {
   "cell_type": "code",
   "execution_count": 84,
   "metadata": {},
   "outputs": [
    {
     "data": {
      "text/plain": [
       "-1    1784\n",
       " 1    1770\n",
       "Name: Sentiment, dtype: int64"
      ]
     },
     "execution_count": 84,
     "metadata": {},
     "output_type": "execute_result"
    }
   ],
   "source": [
    "train_df['Sentiment'].value_counts()"
   ]
  },
  {
   "cell_type": "code",
   "execution_count": 85,
   "metadata": {},
   "outputs": [
    {
     "data": {
      "text/plain": [
       "-1    1803\n",
       " 1    1751\n",
       "Name: Sentiment, dtype: int64"
      ]
     },
     "execution_count": 85,
     "metadata": {},
     "output_type": "execute_result"
    }
   ],
   "source": [
    "test_df['Sentiment'].value_counts()"
   ]
  },
  {
   "cell_type": "markdown",
   "metadata": {},
   "source": [
    "Para el conjunto de entrenamiento existen $1770$ comentarios positivos y $1784$ negativos. Para el conjunto de pruebas existen $1751$ comentarios positivos y $1803$ negativos."
   ]
  },
  {
   "cell_type": "markdown",
   "metadata": {},
   "source": [
    "(b) Construya una función, denominada *word_extractor*, que devuelva una lista de las palabras contenidas en un determinado un trozo de texto. Incorpore en su función las operaciones de lower-casing y stemming. Pruebe la función con las frases sugeridas en el código, invente otras similares y comente. Compare con los resultados obtenidos si no se hace stemming."
   ]
  },
  {
   "cell_type": "code",
   "execution_count": 102,
   "metadata": {},
   "outputs": [
    {
     "name": "stdout",
     "output_type": "stream",
     "text": [
      " love eat cake\n",
      " love eat cake\n",
      " love eat cake\n",
      " not love eat cake\n",
      " n't love eat cake\n"
     ]
    }
   ],
   "source": [
    "import re, time\n",
    "from nltk.corpus import stopwords\n",
    "from nltk import WordNetLemmatizer, word_tokenize\n",
    "from nltk.stem.porter import PorterStemmer\n",
    "\n",
    "def word_extractor(text, stemming=True):\n",
    "    ps = PorterStemmer()\n",
    "    commonwords = stopwords.words('english')\n",
    "    commonwords.remove(\"not\")\n",
    "    text = re.sub(r'([a-z])\\1+', r'\\1\\1',text)\n",
    "    words = \"\"\n",
    "        \n",
    "    if stemming is True:\n",
    "        wordtokens = [ ps.stem(word.lower()) \\\n",
    "            for word in word_tokenize(text.decode('utf-8', 'ignore')) ]\n",
    "    else:\n",
    "        wordtokens = [ word.lower() \\\n",
    "            for word in word_tokenize(text.decode('utf-8', 'ignore')) ]\n",
    "        \n",
    "    \n",
    "    for word in wordtokens:\n",
    "        if word not in commonwords:\n",
    "            words+=\" \"+word\n",
    "            \n",
    "    return words\n",
    "\n",
    "print word_extractor(\"I love to eat cake\")\n",
    "print word_extractor(\"I love eating cake\")\n",
    "print word_extractor(\"I loved eating the cake\")\n",
    "print word_extractor(\"I do not love eating cake\")\n",
    "print word_extractor(\"I don't love eating cake\")"
   ]
  },
  {
   "cell_type": "code",
   "execution_count": 133,
   "metadata": {},
   "outputs": [
    {
     "name": "stdout",
     "output_type": "stream",
     "text": [
      " love eat cake\n",
      " love eating cake\n",
      " loved eating cake\n",
      " not love eating cake\n",
      " n't love eating cake\n"
     ]
    }
   ],
   "source": [
    "# Sin usar stemming\n",
    "print word_extractor(\"I love to eat cake\", False)\n",
    "print word_extractor(\"I love eating cake\", False)\n",
    "print word_extractor(\"I loved eating the cake\", False)\n",
    "print word_extractor(\"I do not love eating cake\", False)\n",
    "print word_extractor(\"I don't love eating cake\", False)"
   ]
  },
  {
   "cell_type": "code",
   "execution_count": 130,
   "metadata": {},
   "outputs": [
    {
     "name": "stdout",
     "output_type": "stream",
     "text": [
      " far far away , behind word mountain , far countri vokalia consonantia , live blind text . separ live bookmarksgrov right coast semant , larg languag ocean .\n",
      " far far away , behind word mountains , far countries vokalia consonantia , live blind texts . separated live bookmarksgrove right coast semantics , large language ocean .\n"
     ]
    }
   ],
   "source": [
    "text = \"Far far away, behind the word mountains, far from the countries Vokalia \\\n",
    "    and Consonantia, there live the blind texts. Separated they live in Bookmarksgrove \\\n",
    "    right at the coast of the Semantics, a large language ocean.\"\n",
    "\n",
    "print word_extractor(text)\n",
    "print word_extractor(text, False)"
   ]
  },
  {
   "cell_type": "markdown",
   "metadata": {},
   "source": [
    "Luego de ejecutar el código anterior notamos que con la función de *Stemmer* es dejar solo la raíz de las palabras. "
   ]
  },
  {
   "cell_type": "markdown",
   "metadata": {},
   "source": [
    "(c) Construya una función, denominada *word_extractor2*, análoga a la función anterior, pero que lematice las palabras en vez de hacer stemming. Pruebe la función con las frases sugeridas en el código anterior y discuta las diferencias que observa."
   ]
  },
  {
   "cell_type": "code",
   "execution_count": 139,
   "metadata": {},
   "outputs": [
    {
     "name": "stdout",
     "output_type": "stream",
     "text": [
      " love eat cake\n",
      " love eat cake\n",
      " love eat cake\n",
      " not love eat cake\n",
      " n't love eat cake\n"
     ]
    }
   ],
   "source": [
    "def word_extractor2(text):\n",
    "    wordlemmatizer = WordNetLemmatizer()\n",
    "    commonwords = stopwords.words('english')\n",
    "    commonwords.remove(\"not\")\n",
    "    text = re.sub(r'([a-z])\\1+', r'\\1\\1',text)\n",
    "    words = \"\"\n",
    "    wordtokens = [ wordlemmatizer.lemmatize(word.lower(), 'v') \\\n",
    "        for word in word_tokenize(text.decode('utf-8','ignore')) ]\n",
    "    \n",
    "    for word in wordtokens:\n",
    "        if word not in commonwords:\n",
    "            words+=\" \"+word\n",
    "    \n",
    "    return words\n",
    "\n",
    "print word_extractor2(\"I love to eat cake\")\n",
    "print word_extractor2(\"I love eating cake\")\n",
    "print word_extractor2(\"I loved eating the cake\")\n",
    "print word_extractor2(\"I do not love eating cake\")\n",
    "print word_extractor2(\"I don't love eating cake\")"
   ]
  },
  {
   "cell_type": "code",
   "execution_count": 140,
   "metadata": {},
   "outputs": [
    {
     "name": "stdout",
     "output_type": "stream",
     "text": [
      " far far away , behind word mountains , far countries vokalia consonantia , live blind texts . separate live bookmarksgrove right coast semantics , large language ocean .\n"
     ]
    }
   ],
   "source": [
    "print word_extractor2(text)"
   ]
  },
  {
   "cell_type": "markdown",
   "metadata": {},
   "source": [
    "Al comparar los dos algoritmos, notamos que al usar *Stemming* las palabras son \"truncadas\" sin preocuparse de palabras plurales o de la conjugación. Al utilizar *Lemmatizer* las palabras que sean sustantivos se \"truncan\" de forma correcta."
   ]
  },
  {
   "cell_type": "code",
   "execution_count": 169,
   "metadata": {
    "collapsed": true
   },
   "outputs": [],
   "source": [
    "# Version corregida por Francisco Casas\n",
    "from nltk import pos_tag\n",
    "\n",
    "def get_wordnet_tag(tag):\n",
    "    if tag.startswith('JJ'):\n",
    "        return 'a'\n",
    "    elif tag.startswith('RB') or tag == \"WRB\":\n",
    "        return 'r'\n",
    "    elif tag.startswith('NN') or tag.startswith(\"WP\"):\n",
    "        return 'n'\n",
    "    elif tag.startswith('VB'):\n",
    "        return 'v'\n",
    "    else:\n",
    "        return None\n",
    "    \n",
    "def lemmatize_words(lemmatizer,words):\n",
    "    tagged = pos_tag(words)\n",
    "    lemmas = []\n",
    "    for word, tag in tagged:\n",
    "        wntag = get_wordnet_tag(tag)\n",
    "        if wntag is None:\n",
    "            lemma = lemmatizer.lemmatize(word)\n",
    "        else:\n",
    "            lemma = lemmatizer.lemmatize(word,pos=wntag)\n",
    "        lemmas.append(lemma)\n",
    "    return lemmas\n",
    "\n",
    "def word_extractor3(text):\n",
    "    wordlemmatizer = WordNetLemmatizer()\n",
    "    commonwords = stopwords.words('english')\n",
    "    commonwords.remove(\"not\")\n",
    "    text = re.sub(r'([a-z])\\1+', r'\\1\\1',text)\n",
    "    words = \"\"\n",
    "    \n",
    "    wordtokens = [ wordlemmatizer.lemmatize(word.lower(), 'v') \\\n",
    "        for word in word_tokenize(text.decode('utf-8','ignore')) ]\n",
    "    \n",
    "    #wordtokens = lemmatize_words(wordlemmatizer, word_tokenize(text))\n",
    "    \n",
    "    for word in wordtokens:\n",
    "        if word not in commonwords:\n",
    "            words+=\" \"+word\n",
    "    return words"
   ]
  },
  {
   "cell_type": "code",
   "execution_count": 170,
   "metadata": {},
   "outputs": [
    {
     "name": "stdout",
     "output_type": "stream",
     "text": [
      " love eat cake\n",
      " love eat cake\n",
      " love eat cake\n",
      " not love eat cake\n",
      " n't love eat cake\n"
     ]
    }
   ],
   "source": [
    "print word_extractor3(\"I love to eat cake\")\n",
    "print word_extractor3(\"I love eating cake\")\n",
    "print word_extractor3(\"I loved eating the cake\")\n",
    "print word_extractor3(\"I do not love eating cake\")\n",
    "print word_extractor3(\"I don't love eating cake\")"
   ]
  },
  {
   "cell_type": "code",
   "execution_count": 171,
   "metadata": {},
   "outputs": [
    {
     "name": "stdout",
     "output_type": "stream",
     "text": [
      " far far away , behind word mountains , far countries vokalia consonantia , live blind texts . separate live bookmarksgrove right coast semantics , large language ocean .\n"
     ]
    }
   ],
   "source": [
    "print word_extractor3(text)"
   ]
  },
  {
   "cell_type": "code",
   "execution_count": 173,
   "metadata": {},
   "outputs": [
    {
     "name": "stdout",
     "output_type": "stream",
     "text": [
      "[u'separate', u'separate', 'separated']\n",
      " separate separate separated\n"
     ]
    }
   ],
   "source": [
    "print word_extractor2(\"separated separated separated\")"
   ]
  },
  {
   "cell_type": "markdown",
   "metadata": {},
   "source": [
    "(d) Utilizando la función *CountVectorizer* de la librería *sklearn* y de acuerdo a las directrices mencionadas\n",
    "en la introducción, genere una representación vectorial del texto de entrenamiento y del conjunto que usaremos para realizar pruebas. Explore el vocabulario utilizado y determine cuáles son las palabras más frecuentes en el conjunto de entrenamiento y pruebas."
   ]
  },
  {
   "cell_type": "code",
   "execution_count": 27,
   "metadata": {
    "collapsed": true,
    "scrolled": false
   },
   "outputs": [],
   "source": [
    "import numpy as np\n",
    "from sklearn.feature_extraction.text import CountVectorizer\n",
    "texts_train = [word_extractor2(text) for text in train_df.Text]\n",
    "texts_test = [word_extractor2(text) for text in test_df.Text]\n",
    "vectorizer = CountVectorizer(ngram_range=(1, 1), binary='False')\n",
    "vectorizer.fit(np.asarray(texts_train))\n",
    "features_train = vectorizer.transform(texts_train)\n",
    "features_test = vectorizer.transform(texts_test)\n",
    "labels_train = np.asarray((train_df.Sentiment.astype(float)+1)/2.0)\n",
    "labels_test = np.asarray((test_df.Sentiment.astype(float)+1)/2.0)\n",
    "vocab = vectorizer.get_feature_names()\n",
    "dist_train = list(np.array(features_train.sum(axis=0)).reshape(-1,))\n",
    "dist_test = list(np.array(features_test.sum(axis=0)).reshape(-1,))\n",
    "\n",
    "data_train = []\n",
    "data_test = []\n",
    "\n",
    "for tag, count in zip(vocab, dist_train):\n",
    "    data_train.append([count, str(tag)])\n",
    "    #print count, tag\n",
    "    \n",
    "for tag, count in zip(vocab, dist_test):\n",
    "    data_test.append([count, str(tag)])"
   ]
  },
  {
   "cell_type": "code",
   "execution_count": 30,
   "metadata": {},
   "outputs": [
    {
     "name": "stdout",
     "output_type": "stream",
     "text": [
      "[[566, 'film'], [481, 'movie'], [266, 'not'], [246, 'one'], [245, 'like'], [224, 'ha'], [183, 'make'], [176, 'story'], [163, 'character'], [145, 'comedy']]\n",
      "[[558, 'film'], [540, 'movie'], [278, 'not'], [250, 'one'], [238, 'ha'], [230, 'like'], [197, 'story'], [175, 'character'], [165, 'time'], [161, 'make']]\n"
     ]
    }
   ],
   "source": [
    "# Palabras mas frecuentes en los datos de train y test\n",
    "print sorted(data_train, reverse=True)[:10]\n",
    "print sorted(data_test, reverse=True)[:10]"
   ]
  },
  {
   "cell_type": "markdown",
   "metadata": {},
   "source": [
    "(e) Construya una función que evalúe el desempeño obtenido por un clasificador genérico en el conjunto de entrenamiento y en el conjunto de pruebas. Utilice y explique las métricas que calcula la función *classification_report* de la librería *sklearn*."
   ]
  },
  {
   "cell_type": "code",
   "execution_count": 31,
   "metadata": {
    "collapsed": true
   },
   "outputs": [],
   "source": [
    "from sklearn.metrics import classification_report\n",
    "\n",
    "def score_the_model(model,x,y,xt,yt,text):\n",
    "    acc_tr = model.score(x,y)\n",
    "    acc_test = model.score(xt[:-1],yt[:-1])\n",
    "    print \"Training Accuracy %s: %f\"%(text,acc_tr)\n",
    "    print \"Test Accuracy %s: %f\"%(text,acc_test)\n",
    "    print \"Detailed Analysis Testing Results ...\"\n",
    "    print(classification_report(yt, model.predict(xt), target_names=['+','-']))"
   ]
  },
  {
   "cell_type": "code",
   "execution_count": 44,
   "metadata": {},
   "outputs": [
    {
     "name": "stdout",
     "output_type": "stream",
     "text": [
      "Training Accuracy LDA: 0.991840\n",
      "Test Accuracy LDA: 0.583732\n",
      "Detailed Analysis Testing Results ...\n",
      "             precision    recall  f1-score   support\n",
      "\n",
      "          +       0.59      0.58      0.59      1803\n",
      "          -       0.58      0.59      0.58      1751\n",
      "\n",
      "avg / total       0.58      0.58      0.58      3554\n",
      "\n"
     ]
    }
   ],
   "source": [
    "lda_model = LinearDiscriminantAnalysis()\n",
    "lda_model.fit(features_train.toarray(), labels_train)\n",
    "score_the_model(lda_model, features_train.toarray(), labels_train, features_test.toarray(), labels_test, 'LDA')"
   ]
  },
  {
   "cell_type": "code",
   "execution_count": 45,
   "metadata": {},
   "outputs": [
    {
     "name": "stdout",
     "output_type": "stream",
     "text": [
      "Training Accuracy QDA: 1.000000\n",
      "Test Accuracy QDA: 0.485505\n",
      "Detailed Analysis Testing Results ...\n",
      "             precision    recall  f1-score   support\n",
      "\n",
      "          +       0.49      0.51      0.50      1803\n",
      "          -       0.48      0.46      0.47      1751\n",
      "\n",
      "avg / total       0.49      0.49      0.49      3554\n",
      "\n"
     ]
    }
   ],
   "source": [
    "qda_model = QuadraticDiscriminantAnalysis()\n",
    "qda_model.fit(features_train.toarray(), labels_train)\n",
    "score_the_model(qda_model, features_train.toarray(), labels_train, features_test.toarray(), labels_test, 'QDA')"
   ]
  },
  {
   "cell_type": "code",
   "execution_count": 48,
   "metadata": {},
   "outputs": [
    {
     "name": "stdout",
     "output_type": "stream",
     "text": [
      "Training Accuracy KNN: 0.684862\n",
      "Test Accuracy KNN: 0.583169\n",
      "Detailed Analysis Testing Results ...\n",
      "             precision    recall  f1-score   support\n",
      "\n",
      "          +       0.56      0.83      0.67      1803\n",
      "          -       0.66      0.32      0.43      1751\n",
      "\n",
      "avg / total       0.61      0.58      0.55      3554\n",
      "\n"
     ]
    }
   ],
   "source": [
    "knn_model = KNeighborsClassifier(n_neighbors=10)\n",
    "knn_model.fit(features_train.toarray(), labels_train)\n",
    "score_the_model(knn_model, features_train.toarray(), labels_train, features_test.toarray(), labels_test, 'KNN')"
   ]
  },
  {
   "cell_type": "markdown",
   "metadata": {},
   "source": [
    "(f) Construya una función que entrene/ajuste un clasificador *Bayesiano Ingenuo (Binario)* (las características\n",
    "no nulas serán tratadas como 1) y mida el error de predicción obtenido sobre los datos de entrenamiento y pruebas. Utilice esta función con las características extraídas en el punto (d). Mida el efecto de filtrar *stopwords* y de eliminar este paso de pre-procesamiento típico. Determine además, qué representación obtiene un mejor resultado: si aquella obtenida vía lematización o aquella obtenida vía stemming. Finalmente, tome un subconjunto aleatorio de los textos de prueba y analice las predicciones del modelo (explore las predicciones, así como las probabilidades que el clasificador asigna a cada clase)."
   ]
  },
  {
   "cell_type": "code",
   "execution_count": 27,
   "metadata": {},
   "outputs": [
    {
     "name": "stdout",
     "output_type": "stream",
     "text": [
      "Training Accuracy BernoulliNB: 0.958920\n",
      "Test Accuracy BernoulliNB: 0.738249\n",
      "Detailed Analysis Testing Results ...\n",
      "             precision    recall  f1-score   support\n",
      "\n",
      "          +       0.75      0.73      0.74      1803\n",
      "          -       0.73      0.75      0.74      1751\n",
      "\n",
      "avg / total       0.74      0.74      0.74      3554\n",
      "\n",
      "[ 0.87321944  0.12678056] such a fine idea for a film , and such a stultifying , lifeless execution .\n",
      "\n",
      "[ 0.21836018  0.78163982] this is simply the most fun you'll ever have with a documentary !\n",
      "\n",
      "[ 0.13550865  0.86449135] one of the best examples of how to treat a subject , you're not fully aware is being examined , much like a photo of yourself you didn't know was being taken .\n",
      "\n",
      "[ 0.10492176  0.89507824] gangs of new york is an unapologetic mess , whose only saving grace is that it ends by blowing just about everything up .\n",
      "\n",
      "[ 0.05524006  0.94475994] this bracingly truthful antidote to hollywood teenage movies that slather clearasil over the blemishes of youth captures the combustible mixture of a chafing inner loneliness and desperate grandiosity that tend to characterize puberty .\n",
      "\n",
      "[ 0.09577479  0.90422521] it's still a comic book , but maguire makes it a comic book with soul .\n",
      "\n",
      "[ 0.41732957  0.58267043] add yet another hat to a talented head , clooney's a good director .\n",
      "\n",
      "[ 0.49589768  0.50410232] compellingly watchable .\n",
      "\n",
      "[ 0.00501556  0.99498444] this engrossing , characteristically complex tom clancy thriller is shifty in the manner in which it addresses current terrorism anxieties and sidesteps them at the same time .\n",
      "\n",
      "[ 0.8733729  0.1266271] \" . . . something appears to have been lost in the translation this time . the importance of being earnest movie seems to be missing a great deal of the acerbic repartee of the play . \"\n",
      "\n",
      "[  7.12745302e-05   9.99928725e-01] a thoughtful , moving piece that faces difficult issues with honesty and beauty .\n",
      "\n",
      "[ 0.88462325  0.11537675] preposterous and tedious , sonny is spiked with unintentional laughter that , unfortunately , occurs too infrequently to make the film even a guilty pleasure .\n",
      "\n",
      "[ 0.00157195  0.99842805] humorous and heartfelt , douglas mcgrath's version of 'nicholas nickleby' left me feeling refreshed and hopeful . not many movies have that kind of impact on me these days .\n",
      "\n",
      "[ 0.00106968  0.99893032] what lee does so marvelously compelling is present brown as a catalyst for the struggle of black manhood in restrictive and chaotic america . . . sketchy but nevertheless gripping portrait of jim brown , a celebrated wonder in the spotlight\n",
      "\n",
      "[ 0.007795  0.992205] a quietly moving look back at what it was to be iranian-american in 1979 .\n",
      "\n"
     ]
    }
   ],
   "source": [
    "from sklearn.naive_bayes import BernoulliNB\n",
    "import random\n",
    "def do_NAIVE_BAYES(x,y,xt,yt):\n",
    "    model = BernoulliNB()\n",
    "    model = model.fit(x, y)\n",
    "    score_the_model(model,x,y,xt,yt,\"BernoulliNB\")\n",
    "    return model\n",
    "\n",
    "model=do_NAIVE_BAYES(features_train,labels_train,features_test,labels_test)\n",
    "test_pred = model.predict_proba(features_test)\n",
    "spl = random.sample(xrange(len(test_pred)), 15)\n",
    "for text, sentiment in zip(test_df.Text[spl], test_pred[spl]):\n",
    "    print sentiment, text"
   ]
  },
  {
   "cell_type": "markdown",
   "metadata": {},
   "source": [
    "(g) Construya una función que entrene/ajuste una *Máquina de Vectores de Soporte (SVM) Lineal* y mida el error de predicción obtenido sobre los datos de entrenamiento y pruebas. Incluya en su función la exploración de diferentes valores del parámetro de regularización $C$. Discuta el significado y efecto esperado de este parámetro. Utilice la función construida con los atributos extraídos en el punto (d). Mida el efecto de filtrar *stopwords* y de eliminar este paso de pre-procesamiento típico. Determine además, qué representaciṕn obtiene un mejor resultado: si aquella obtenida vía lematización o aquella obtenida vía stemming. Finalmente, tome un subconjunto aleatorio de los textos de prueba y analice las predicciones del modelo (explore las predicciones, así como las probabilidades que el clasificador asigna a cada clase)."
   ]
  },
  {
   "cell_type": "code",
   "execution_count": 28,
   "metadata": {},
   "outputs": [
    {
     "name": "stdout",
     "output_type": "stream",
     "text": [
      "C Value: 0.010000\n",
      "Training Accuracy SVM: 0.886044\n",
      "Test Accuracy SVM: 0.716296\n",
      "Detailed Analysis Testing Results ...\n",
      "             precision    recall  f1-score   support\n",
      "\n",
      "          +       0.72      0.72      0.72      1803\n",
      "          -       0.71      0.71      0.71      1751\n",
      "\n",
      "avg / total       0.72      0.72      0.72      3554\n",
      "\n",
      "C Value: 0.100000\n",
      "Training Accuracy SVM: 0.989871\n",
      "Test Accuracy SVM: 0.724740\n",
      "Detailed Analysis Testing Results ...\n",
      "             precision    recall  f1-score   support\n",
      "\n",
      "          +       0.73      0.72      0.73      1803\n",
      "          -       0.72      0.73      0.72      1751\n",
      "\n",
      "avg / total       0.72      0.72      0.72      3554\n",
      "\n",
      "C Value: 10.000000\n",
      "Training Accuracy SVM: 1.000000\n",
      "Test Accuracy SVM: 0.705038\n",
      "Detailed Analysis Testing Results ...\n",
      "             precision    recall  f1-score   support\n",
      "\n",
      "          +       0.72      0.69      0.70      1803\n",
      "          -       0.69      0.72      0.71      1751\n",
      "\n",
      "avg / total       0.71      0.71      0.71      3554\n",
      "\n",
      "C Value: 100.000000\n",
      "Training Accuracy SVM: 1.000000\n",
      "Test Accuracy SVM: 0.700816\n",
      "Detailed Analysis Testing Results ...\n",
      "             precision    recall  f1-score   support\n",
      "\n",
      "          +       0.71      0.69      0.70      1803\n",
      "          -       0.69      0.71      0.70      1751\n",
      "\n",
      "avg / total       0.70      0.70      0.70      3554\n",
      "\n",
      "C Value: 1000.000000\n",
      "Training Accuracy SVM: 1.000000\n",
      "Test Accuracy SVM: 0.699972\n",
      "Detailed Analysis Testing Results ...\n",
      "             precision    recall  f1-score   support\n",
      "\n",
      "          +       0.71      0.69      0.70      1803\n",
      "          -       0.69      0.71      0.70      1751\n",
      "\n",
      "avg / total       0.70      0.70      0.70      3554\n",
      "\n"
     ]
    }
   ],
   "source": [
    "from sklearn.svm import LinearSVC\n",
    "\n",
    "def do_SVM(x,y,xt,yt):\n",
    "    Cs = [0.01,0.1,10,100,1000]\n",
    "    for C in Cs:\n",
    "        print \"C Value: %f\"%C\n",
    "        model = LinearSVC(C=C)\n",
    "        model = model.fit(x, y)\n",
    "        score_the_model(model,x,y,xt,yt,\"SVM\")\n",
    "        \n",
    "do_SVM(features_train,labels_train,features_test,labels_test)"
   ]
  },
  {
   "cell_type": "markdown",
   "metadata": {},
   "source": [
    "## 3 Fraude en transacciones bancarias\n",
    "\n",
    "El mundo está más globalizado, servicios que antes solo se podían hacer de manera presencial hoy en día están disponibles de forma electrónica, el más claro ejemplo de esto son las transacciones bancarias. La ventaja de este cambio es que cualquier persona en el mundo puede enviar dinero de un lado a otro en cosa de segundos, por consecuencia, la cantidad de transacciones aumentó mucho. La desventaja es que es más fácil cometer fraudes, debido a que las únicas barreras de protección que tenemos ante estas malas prácticas son códigos de seguridad (Clave secreta, matriz de números, etc.) que si caen en manos de gente deshonesta lo más probable es que se comenta algún tipo fraude. \n",
    "\n",
    "En esta sección utilizaremos un dataset de *Kaggle* [3] que contiene transacciones bancarias, el desafío está en que sus clases están desbalanceadas, por lo tanto, utilizaremos 3 técnicas para hacer frente a este problema. El *dataset* contiene transacciones hechas por tarjetas de créditos europeas durante un periodo de 2 díaas, donde 492 de 284807 fueron fraudulentas. Cada dato tiene como atributo 28 componentes principales obtenidos por PCA (Esto se hace para enmascarar datos sensibles), una variable tiempo y el monto de la transacción."
   ]
  },
  {
   "cell_type": "markdown",
   "metadata": {},
   "source": [
    "(a) Descargue y cargue el archivo, genere un gráfico que compare la cantidad de elementos que hay por clase."
   ]
  },
  {
   "cell_type": "code",
   "execution_count": 37,
   "metadata": {},
   "outputs": [
    {
     "data": {
      "image/png": "[encoded data removed]",
      "text/plain": [
       "<matplotlib.figure.Figure at 0x7fc8ee35d450>"
      ]
     },
     "metadata": {},
     "output_type": "display_data"
    }
   ],
   "source": [
    "import pandas as pd\n",
    "import seaborn as sns\n",
    "import matplotlib.pyplot as plt\n",
    "import numpy as np\n",
    "\n",
    "dt = pd.read_csv(\"data/creditcard.csv\",header = 0)\n",
    "sns.countplot(\"Class\",data=dt)\n",
    "plt.show()"
   ]
  },
  {
   "cell_type": "markdown",
   "metadata": {},
   "source": [
    "(b) Estandarice el monto de la transacción. ¿Por qué solo estandarizamos un atributo?"
   ]
  },
  {
   "cell_type": "code",
   "execution_count": 38,
   "metadata": {},
   "outputs": [
    {
     "data": {
      "text/html": [
       "<div>\n",
       "<style>\n",
       "    .dataframe thead tr:only-child th {\n",
       "        text-align: right;\n",
       "    }\n",
       "\n",
       "    .dataframe thead th {\n",
       "        text-align: left;\n",
       "    }\n",
       "\n",
       "    .dataframe tbody tr th {\n",
       "        vertical-align: top;\n",
       "    }\n",
       "</style>\n",
       "<table border=\"1\" class=\"dataframe\">\n",
       "  <thead>\n",
       "    <tr style=\"text-align: right;\">\n",
       "      <th></th>\n",
       "      <th>V1</th>\n",
       "      <th>V2</th>\n",
       "      <th>V3</th>\n",
       "      <th>V4</th>\n",
       "      <th>V5</th>\n",
       "      <th>V6</th>\n",
       "      <th>V7</th>\n",
       "      <th>V8</th>\n",
       "      <th>V9</th>\n",
       "      <th>V10</th>\n",
       "      <th>...</th>\n",
       "      <th>V21</th>\n",
       "      <th>V22</th>\n",
       "      <th>V23</th>\n",
       "      <th>V24</th>\n",
       "      <th>V25</th>\n",
       "      <th>V26</th>\n",
       "      <th>V27</th>\n",
       "      <th>V28</th>\n",
       "      <th>Class</th>\n",
       "      <th>nAmount</th>\n",
       "    </tr>\n",
       "  </thead>\n",
       "  <tbody>\n",
       "    <tr>\n",
       "      <th>0</th>\n",
       "      <td>-1.359807</td>\n",
       "      <td>-0.072781</td>\n",
       "      <td>2.536347</td>\n",
       "      <td>1.378155</td>\n",
       "      <td>-0.338321</td>\n",
       "      <td>0.462388</td>\n",
       "      <td>0.239599</td>\n",
       "      <td>0.098698</td>\n",
       "      <td>0.363787</td>\n",
       "      <td>0.090794</td>\n",
       "      <td>...</td>\n",
       "      <td>-0.018307</td>\n",
       "      <td>0.277838</td>\n",
       "      <td>-0.110474</td>\n",
       "      <td>0.066928</td>\n",
       "      <td>0.128539</td>\n",
       "      <td>-0.189115</td>\n",
       "      <td>0.133558</td>\n",
       "      <td>-0.021053</td>\n",
       "      <td>0</td>\n",
       "      <td>0.244964</td>\n",
       "    </tr>\n",
       "    <tr>\n",
       "      <th>1</th>\n",
       "      <td>1.191857</td>\n",
       "      <td>0.266151</td>\n",
       "      <td>0.166480</td>\n",
       "      <td>0.448154</td>\n",
       "      <td>0.060018</td>\n",
       "      <td>-0.082361</td>\n",
       "      <td>-0.078803</td>\n",
       "      <td>0.085102</td>\n",
       "      <td>-0.255425</td>\n",
       "      <td>-0.166974</td>\n",
       "      <td>...</td>\n",
       "      <td>-0.225775</td>\n",
       "      <td>-0.638672</td>\n",
       "      <td>0.101288</td>\n",
       "      <td>-0.339846</td>\n",
       "      <td>0.167170</td>\n",
       "      <td>0.125895</td>\n",
       "      <td>-0.008983</td>\n",
       "      <td>0.014724</td>\n",
       "      <td>0</td>\n",
       "      <td>-0.342475</td>\n",
       "    </tr>\n",
       "    <tr>\n",
       "      <th>2</th>\n",
       "      <td>-1.358354</td>\n",
       "      <td>-1.340163</td>\n",
       "      <td>1.773209</td>\n",
       "      <td>0.379780</td>\n",
       "      <td>-0.503198</td>\n",
       "      <td>1.800499</td>\n",
       "      <td>0.791461</td>\n",
       "      <td>0.247676</td>\n",
       "      <td>-1.514654</td>\n",
       "      <td>0.207643</td>\n",
       "      <td>...</td>\n",
       "      <td>0.247998</td>\n",
       "      <td>0.771679</td>\n",
       "      <td>0.909412</td>\n",
       "      <td>-0.689281</td>\n",
       "      <td>-0.327642</td>\n",
       "      <td>-0.139097</td>\n",
       "      <td>-0.055353</td>\n",
       "      <td>-0.059752</td>\n",
       "      <td>0</td>\n",
       "      <td>1.160686</td>\n",
       "    </tr>\n",
       "    <tr>\n",
       "      <th>3</th>\n",
       "      <td>-0.966272</td>\n",
       "      <td>-0.185226</td>\n",
       "      <td>1.792993</td>\n",
       "      <td>-0.863291</td>\n",
       "      <td>-0.010309</td>\n",
       "      <td>1.247203</td>\n",
       "      <td>0.237609</td>\n",
       "      <td>0.377436</td>\n",
       "      <td>-1.387024</td>\n",
       "      <td>-0.054952</td>\n",
       "      <td>...</td>\n",
       "      <td>-0.108300</td>\n",
       "      <td>0.005274</td>\n",
       "      <td>-0.190321</td>\n",
       "      <td>-1.175575</td>\n",
       "      <td>0.647376</td>\n",
       "      <td>-0.221929</td>\n",
       "      <td>0.062723</td>\n",
       "      <td>0.061458</td>\n",
       "      <td>0</td>\n",
       "      <td>0.140534</td>\n",
       "    </tr>\n",
       "    <tr>\n",
       "      <th>4</th>\n",
       "      <td>-1.158233</td>\n",
       "      <td>0.877737</td>\n",
       "      <td>1.548718</td>\n",
       "      <td>0.403034</td>\n",
       "      <td>-0.407193</td>\n",
       "      <td>0.095921</td>\n",
       "      <td>0.592941</td>\n",
       "      <td>-0.270533</td>\n",
       "      <td>0.817739</td>\n",
       "      <td>0.753074</td>\n",
       "      <td>...</td>\n",
       "      <td>-0.009431</td>\n",
       "      <td>0.798278</td>\n",
       "      <td>-0.137458</td>\n",
       "      <td>0.141267</td>\n",
       "      <td>-0.206010</td>\n",
       "      <td>0.502292</td>\n",
       "      <td>0.219422</td>\n",
       "      <td>0.215153</td>\n",
       "      <td>0</td>\n",
       "      <td>-0.073403</td>\n",
       "    </tr>\n",
       "  </tbody>\n",
       "</table>\n",
       "<p>5 rows × 30 columns</p>\n",
       "</div>"
      ],
      "text/plain": [
       "         V1        V2        V3        V4        V5        V6        V7  \\\n",
       "0 -1.359807 -0.072781  2.536347  1.378155 -0.338321  0.462388  0.239599   \n",
       "1  1.191857  0.266151  0.166480  0.448154  0.060018 -0.082361 -0.078803   \n",
       "2 -1.358354 -1.340163  1.773209  0.379780 -0.503198  1.800499  0.791461   \n",
       "3 -0.966272 -0.185226  1.792993 -0.863291 -0.010309  1.247203  0.237609   \n",
       "4 -1.158233  0.877737  1.548718  0.403034 -0.407193  0.095921  0.592941   \n",
       "\n",
       "         V8        V9       V10    ...          V21       V22       V23  \\\n",
       "0  0.098698  0.363787  0.090794    ...    -0.018307  0.277838 -0.110474   \n",
       "1  0.085102 -0.255425 -0.166974    ...    -0.225775 -0.638672  0.101288   \n",
       "2  0.247676 -1.514654  0.207643    ...     0.247998  0.771679  0.909412   \n",
       "3  0.377436 -1.387024 -0.054952    ...    -0.108300  0.005274 -0.190321   \n",
       "4 -0.270533  0.817739  0.753074    ...    -0.009431  0.798278 -0.137458   \n",
       "\n",
       "        V24       V25       V26       V27       V28  Class   nAmount  \n",
       "0  0.066928  0.128539 -0.189115  0.133558 -0.021053      0  0.244964  \n",
       "1 -0.339846  0.167170  0.125895 -0.008983  0.014724      0 -0.342475  \n",
       "2 -0.689281 -0.327642 -0.139097 -0.055353 -0.059752      0  1.160686  \n",
       "3 -1.175575  0.647376 -0.221929  0.062723  0.061458      0  0.140534  \n",
       "4  0.141267 -0.206010  0.502292  0.219422  0.215153      0 -0.073403  \n",
       "\n",
       "[5 rows x 30 columns]"
      ]
     },
     "execution_count": 38,
     "metadata": {},
     "output_type": "execute_result"
    }
   ],
   "source": [
    "from sklearn.preprocessing import StandardScaler\n",
    "\n",
    "dt[\"nAmount\"] = StandardScaler().fit_transform(dt['Amount'].values.reshape(-1, 1))\n",
    "dt.drop([\"Time\",\"Amount\"],axis=1,inplace=True)\n",
    "dt.head()"
   ]
  },
  {
   "cell_type": "markdown",
   "metadata": {},
   "source": [
    "(c) Defina una función que reciba como *input* un modelo, los datos de entrenamiento y datos de testeo. Esta función deberá mostrar luego de generar el modelo y haber probado la data de testing una matriz de confusión, junto a sus respectivas métricas. Deberá además mostrar una curva ROC junto al valor del área bajo la curva de esta. Finalmente, responda las siguientes preguntas ¿Qué es una matriz de confusión? ¿Que métricas se pueden calcular de esta y cuales nos serán útiles en este experimento? ¿Que es una curva ROC y qué relación tiene con la matriz de confusión?"
   ]
  },
  {
   "cell_type": "code",
   "execution_count": 39,
   "metadata": {
    "collapsed": true
   },
   "outputs": [],
   "source": [
    "def model(model,features_train,features_test,labels_train,labels_test):\n",
    "    clf = model\n",
    "    clf.fit(features_train,labels_train.values.ravel())\n",
    "    pred=clf.predict(features_test)\n",
    "    cnf_matrix=confusion_matrix(labels_test,pred)\n",
    "    print \"The recall for this model is: %f\"%(float(cnf_matrix[1,1])/(cnf_matrix[1,1]+\n",
    "    cnf_matrix[1,0]))\n",
    "    fig= plt.figure(figsize=(6,3))\n",
    "    print \"TP: %d\"%cnf_matrix[1,1,]\n",
    "    print \"TN: %d\"%cnf_matrix[0,0]\n",
    "    print \"FP: %d\"%cnf_matrix[0,1]\n",
    "    print \"FN: %d\"%cnf_matrix[1,0]\n",
    "    sns.heatmap(cnf_matrix,cmap=\"coolwarm_r\",annot=True,linewidths=0.5)\n",
    "    plt.title(\"Confusion_matrix\")\n",
    "    plt.xlabel(\"Predicted_class\")\n",
    "    plt.ylabel(\"Real class\")\n",
    "    plt.show()\n",
    "    print \"\\n----------Classification Report------------------------------------\"\n",
    "    print classification_report(labels_test,pred)\n",
    "    ''' You have to complete this function, ROC Curve is missing'''"
   ]
  },
  {
   "cell_type": "markdown",
   "metadata": {},
   "source": [
    "(d) Defina una función que genere un *Training* y *Testing Set* de un *Dataset* cualquiera. Indique que está\n",
    "haciendo la función."
   ]
  },
  {
   "cell_type": "code",
   "execution_count": 40,
   "metadata": {
    "collapsed": true
   },
   "outputs": [],
   "source": [
    "from sklearn.model_selection import train_test_split\n",
    "def data_prepration(x):\n",
    "    x_features= x.iloc[:,x.columns != \"Class\"]\n",
    "    x_labels=x.iloc[:,x.columns==\"Class\"]\n",
    "    x_train,x_test,y_train,y_test=train_test_split(x_features,x_labels,test_size=0.3)\n",
    "    print \"Length of training data: %d\"%len(x_train)\n",
    "    print \"Length of test data: %d\"%len(x_test)\n",
    "    return(x_train,x_test,y_train,y_test)"
   ]
  },
  {
   "cell_type": "markdown",
   "metadata": {},
   "source": [
    "(e) Defina una función que realice *Undersample* [8] . ¿Explique en que consiste esta técnica?"
   ]
  },
  {
   "cell_type": "code",
   "execution_count": 41,
   "metadata": {
    "collapsed": true
   },
   "outputs": [],
   "source": [
    "def undersample(data,times):\n",
    "    fraud_indices= np.array(data[data.Class==1].index)\n",
    "    normal_indices = np.array(data[data.Class==0].index)\n",
    "    Count_Normal_transacation = len(data[data[\"Class\"]==0])\n",
    "    Count_Fraud_transacation = len(data[data[\"Class\"]==1])\n",
    "    Normal_indices_undersample = np.array(np.random.choice(normal_indices,\n",
    "    (times*Count_Fraud_transacation),replace=False))\n",
    "    undersample_data= np.concatenate([fraud_indices,Normal_indices_undersample])\n",
    "    undersample_data = data.iloc[undersample_data,:]\n",
    "    normal = (float(len(undersample_data[undersample_data.Class==0]))/len(undersample_data[\"Class\"]))\n",
    "    print \"The normal transacation proportion is : %f\"%normal\n",
    "    fraud = (float(len(undersample_data[undersample_data.Class==1]))/len(undersample_data[\"Class\"]))\n",
    "    print \"The fraud transacation proportion is : %f\"%fraud\n",
    "    return(undersample_data)"
   ]
  },
  {
   "cell_type": "markdown",
   "metadata": {},
   "source": [
    "(f) Genere un modelo de *Logistic Regression* y otro a su elección utilizando *UnderSample* [8]. Concluya a partir de los resultados"
   ]
  },
  {
   "cell_type": "code",
   "execution_count": 42,
   "metadata": {
    "scrolled": false
   },
   "outputs": [
    {
     "name": "stdout",
     "output_type": "stream",
     "text": [
      "Length of training data: 199364\n",
      "Length of test data: 85443\n",
      "The undersample data for 1 proportion\n",
      "\n",
      "The normal transacation proportion is : 0.500000\n",
      "The fraud transacation proportion is : 0.500000\n",
      "\n",
      "----------------------Validation Set------------------------\n",
      "\n",
      "The model classification for 1 proportion\n",
      "\n",
      "Length of training data: 504\n",
      "Length of test data: 216\n",
      "The recall for this model is: 0.888889\n",
      "TP: 96\n",
      "TN: 103\n",
      "FP: 5\n",
      "FN: 12\n"
     ]
    },
    {
     "data": {
      "image/png": "[encoded data removed]",
      "text/plain": [
       "<matplotlib.figure.Figure at 0x7fc9141a8210>"
      ]
     },
     "metadata": {},
     "output_type": "display_data"
    },
    {
     "name": "stdout",
     "output_type": "stream",
     "text": [
      "\n",
      "----------Classification Report------------------------------------\n",
      "             precision    recall  f1-score   support\n",
      "\n",
      "          0       0.90      0.95      0.92       108\n",
      "          1       0.95      0.89      0.92       108\n",
      "\n",
      "avg / total       0.92      0.92      0.92       216\n",
      "\n",
      "--------------------------Testing Set---------------------------\n",
      "The recall for this model is: 0.901515\n",
      "TP: 119\n",
      "TN: 81323\n",
      "FP: 3988\n",
      "FN: 13\n"
     ]
    },
    {
     "data": {
      "image/png": "[encoded data removed]",
      "text/plain": [
       "<matplotlib.figure.Figure at 0x7fc8e29e74d0>"
      ]
     },
     "metadata": {},
     "output_type": "display_data"
    },
    {
     "name": "stdout",
     "output_type": "stream",
     "text": [
      "\n",
      "----------Classification Report------------------------------------\n",
      "             precision    recall  f1-score   support\n",
      "\n",
      "          0       1.00      0.95      0.98     85311\n",
      "          1       0.03      0.90      0.06       132\n",
      "\n",
      "avg / total       1.00      0.95      0.97     85443\n",
      "\n",
      "---------------------------------------------------------------\n",
      "The undersample data for 2 proportion\n",
      "\n",
      "The normal transacation proportion is : 0.666667\n",
      "The fraud transacation proportion is : 0.333333\n",
      "\n",
      "----------------------Validation Set------------------------\n",
      "\n",
      "The model classification for 2 proportion\n",
      "\n",
      "Length of training data: 756\n",
      "Length of test data: 324\n",
      "The recall for this model is: 0.920354\n",
      "TP: 104\n",
      "TN: 203\n",
      "FP: 8\n",
      "FN: 9\n"
     ]
    },
    {
     "data": {
      "image/png": "[encoded data removed]",
      "text/plain": [
       "<matplotlib.figure.Figure at 0x7fc8ee28ff50>"
      ]
     },
     "metadata": {},
     "output_type": "display_data"
    },
    {
     "name": "stdout",
     "output_type": "stream",
     "text": [
      "\n",
      "----------Classification Report------------------------------------\n",
      "             precision    recall  f1-score   support\n",
      "\n",
      "          0       0.96      0.96      0.96       211\n",
      "          1       0.93      0.92      0.92       113\n",
      "\n",
      "avg / total       0.95      0.95      0.95       324\n",
      "\n",
      "--------------------------Testing Set---------------------------\n",
      "The recall for this model is: 0.916667\n",
      "TP: 121\n",
      "TN: 82505\n",
      "FP: 2806\n",
      "FN: 11\n"
     ]
    },
    {
     "data": {
      "image/png": "[encoded data removed]",
      "text/plain": [
       "<matplotlib.figure.Figure at 0x7fc8ee096ad0>"
      ]
     },
     "metadata": {},
     "output_type": "display_data"
    },
    {
     "name": "stdout",
     "output_type": "stream",
     "text": [
      "\n",
      "----------Classification Report------------------------------------\n",
      "             precision    recall  f1-score   support\n",
      "\n",
      "          0       1.00      0.97      0.98     85311\n",
      "          1       0.04      0.92      0.08       132\n",
      "\n",
      "avg / total       1.00      0.97      0.98     85443\n",
      "\n",
      "---------------------------------------------------------------\n",
      "The undersample data for 3 proportion\n",
      "\n",
      "The normal transacation proportion is : 0.750000\n",
      "The fraud transacation proportion is : 0.250000\n",
      "\n",
      "----------------------Validation Set------------------------\n",
      "\n",
      "The model classification for 3 proportion\n",
      "\n",
      "Length of training data: 1008\n",
      "Length of test data: 432\n",
      "The recall for this model is: 0.890909\n",
      "TP: 98\n",
      "TN: 311\n",
      "FP: 11\n",
      "FN: 12\n"
     ]
    },
    {
     "data": {
      "image/png": "[encoded data removed]",
      "text/plain": [
       "<matplotlib.figure.Figure at 0x7fc8e2aa8e90>"
      ]
     },
     "metadata": {},
     "output_type": "display_data"
    },
    {
     "name": "stdout",
     "output_type": "stream",
     "text": [
      "\n",
      "----------Classification Report------------------------------------\n",
      "             precision    recall  f1-score   support\n",
      "\n",
      "          0       0.96      0.97      0.96       322\n",
      "          1       0.90      0.89      0.89       110\n",
      "\n",
      "avg / total       0.95      0.95      0.95       432\n",
      "\n",
      "--------------------------Testing Set---------------------------\n",
      "The recall for this model is: 0.863636\n",
      "TP: 114\n",
      "TN: 83844\n",
      "FP: 1467\n",
      "FN: 18\n"
     ]
    },
    {
     "data": {
      "image/png": "[encoded data removed]",
      "text/plain": [
       "<matplotlib.figure.Figure at 0x7fc8dba14510>"
      ]
     },
     "metadata": {},
     "output_type": "display_data"
    },
    {
     "name": "stdout",
     "output_type": "stream",
     "text": [
      "\n",
      "----------Classification Report------------------------------------\n",
      "             precision    recall  f1-score   support\n",
      "\n",
      "          0       1.00      0.98      0.99     85311\n",
      "          1       0.07      0.86      0.13       132\n",
      "\n",
      "avg / total       1.00      0.98      0.99     85443\n",
      "\n",
      "---------------------------------------------------------------\n"
     ]
    }
   ],
   "source": [
    "from sklearn.linear_model import LogisticRegression\n",
    "from sklearn.metrics import confusion_matrix,recall_score,precision_recall_curve,auc,roc_curve, roc_auc_score,classification_report\n",
    "x_tr,x_ts,y_tr,y_ts = data_prepration(dt)\n",
    "x_tr[\"Class\"] = y_tr[\"Class\"]\n",
    "x_tr = x_tr.reset_index(drop=True)\n",
    "for i in range(1,4):\n",
    "    print \"The undersample data for \" + str(i) + \" proportion\\n\"\n",
    "    Undersample_data = undersample(x_tr,i)\n",
    "    print \"\\n----------------------Validation Set------------------------\"\n",
    "    print \"\\nThe model classification for \" + str(i) + \" proportion\\n\"\n",
    "    under_x,under_xt,under_yx,under_yxt=data_prepration(Undersample_data)\n",
    "    clf=LogisticRegression()\n",
    "    model(clf,under_x,under_xt,under_yx,under_yxt)\n",
    "    print \"--------------------------Testing Set---------------------------\"\n",
    "    model(clf,under_x,x_ts,under_yx,y_ts)\n",
    "    print \"---------------------------------------------------------------\""
   ]
  },
  {
   "cell_type": "markdown",
   "metadata": {},
   "source": [
    "(g) Vuelva a realizar los puntos (e) y (f), esta vez utilizando *OverSampling* [7] y SMOTE [8] (Hint: Para\n",
    "SMOTE usted puede apoyarse de la libreria imblearn)"
   ]
  },
  {
   "cell_type": "code",
   "execution_count": 43,
   "metadata": {},
   "outputs": [
    {
     "name": "stderr",
     "output_type": "stream",
     "text": [
      "/home/dsanmartin/anaconda3/envs/py27/lib/python2.7/site-packages/sklearn/utils/validation.py:547: DataConversionWarning: A column-vector y was passed when a 1d array was expected. Please change the shape of y to (n_samples, ), for example using ravel().\n",
      "  y = column_or_1d(y, warn=True)\n"
     ]
    }
   ],
   "source": [
    "from imblearn.over_sampling import SMOTE\n",
    "os = SMOTE(random_state=0)\n",
    "os_data_X,os_data_y=os.fit_sample(x_tr,y_tr)"
   ]
  },
  {
   "cell_type": "markdown",
   "metadata": {},
   "source": [
    "## Referencias\n",
    "\n",
    "* [1] Hastie, T.; Tibshirani, R., Friedman, J. (2009), The Elements of Statistical Learning, Second Edition. Springer New York Inc.\n",
    "* [2] Joshi, M., Das, D., Gimpel, K., Smith, N. A. (2010). Movie reviews and revenues: An experiment in text regression. In the 2010 Annual Conference of the North American Chapter of the Association for Computational Linguistics (pp. 293-296). Association for Computational Linguistics.\n",
    "* [3] https://www.kaggle.com/dalpozz/creditcardfraud\n",
    "* [4] https://en.wikipedia.org/wiki/Stop words\n",
    "* [5] https://en.wikipedia.org/wiki/Stemming\n",
    "* [6] https://en.wikipedia.org/wiki/Lemmatisation\n",
    "* [7] https://en.wikipedia.org/wiki/Oversampling and undersampling in data analysis\n",
    "* [8] https://www.irjet.net/archives/V4/i8/IRJET-V4I857.pd"
   ]
  },
  {
   "cell_type": "code",
   "execution_count": null,
   "metadata": {
    "collapsed": true
   },
   "outputs": [],
   "source": []
  }
 ],
 "metadata": {
  "kernelspec": {
   "display_name": "Python 2",
   "language": "python",
   "name": "python2"
  },
  "language_info": {
   "codemirror_mode": {
    "name": "ipython",
    "version": 2
   },
   "file_extension": ".py",
   "mimetype": "text/x-python",
   "name": "python",
   "nbconvert_exporter": "python",
   "pygments_lexer": "ipython2",
   "version": "2.7.13"
  }
 },
 "nbformat": 4,
 "nbformat_minor": 2
}
