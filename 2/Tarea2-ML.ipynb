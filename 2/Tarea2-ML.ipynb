{
 "cells": [
  {
   "cell_type": "markdown",
   "metadata": {},
   "source": [
    "# Tarea 2 - Máquinas de Aprendizaje\n",
    "## Metodos Lineales para Clasificación\n",
    "### Integrantes: Gabriel Jara, Daniel San Martín"
   ]
  },
  {
   "cell_type": "markdown",
   "metadata": {},
   "source": [
    "## 1 Reducción de Dimensionalidad para Clasificación\n",
    "\n",
    "Como hemos discutido en clases, la reducción de dimensionalidad es extremadamente importante en análisis de datos, no sólo porque nos permite visualizar y por lo tanto explorar los datos a nuestra disposición, si no que también permite reducir el costo computacional de procesarlos, sino porque reduce de modo significativo el riesgo de *overfitting*. En problemas de clasificación, la técnica que hemos discutido en el capítulo 1 (PCA), puede exhibir resultados diametralmente opuestos a aquello que se busca: preservar la información correspondiente a la clase a la que pertenece un ítem.\n",
    "\n",
    "<img src=\"img/img1.png\">\n",
    "\n",
    "Para experimentar con este problema, en esta sección trabajaremos con una colección de sonidos fonéticos que deben ser identificados con vocales del inglés británico. Los datos han sido representados en un espacio de $d = 10$ características. Existen 528 datos de entrenamiento y 462 de pruebas, que pueden ser descargados desde el sitio web mantenido por los autores de nuestro texto guía. El mejor desempeño reportado por los autores corresponde a un 56% de *accuracy*, y es alcanzado por un modelo de vecinos más cercanos y una red neuronal artificial de radio basal."
   ]
  },
  {
   "cell_type": "markdown",
   "metadata": {},
   "source": [
    "(a) Construya un dataframe con los datos a analizar descargando los datos desde la URL. Determine cuántos registros contiene el conjunto de entrenamiento y cuántos el conjunto de pruebas. Determine además el número promedio de palabras por ítem en cada clase."
   ]
  },
  {
   "cell_type": "code",
   "execution_count": 1,
   "metadata": {},
   "outputs": [
    {
     "data": {
      "text/html": [
       "<div>\n",
       "<style>\n",
       "    .dataframe thead tr:only-child th {\n",
       "        text-align: right;\n",
       "    }\n",
       "\n",
       "    .dataframe thead th {\n",
       "        text-align: left;\n",
       "    }\n",
       "\n",
       "    .dataframe tbody tr th {\n",
       "        vertical-align: top;\n",
       "    }\n",
       "</style>\n",
       "<table border=\"1\" class=\"dataframe\">\n",
       "  <thead>\n",
       "    <tr style=\"text-align: right;\">\n",
       "      <th></th>\n",
       "      <th>y</th>\n",
       "      <th>x.1</th>\n",
       "      <th>x.2</th>\n",
       "      <th>x.3</th>\n",
       "      <th>x.4</th>\n",
       "      <th>x.5</th>\n",
       "      <th>x.6</th>\n",
       "      <th>x.7</th>\n",
       "      <th>x.8</th>\n",
       "      <th>x.9</th>\n",
       "      <th>x.10</th>\n",
       "    </tr>\n",
       "    <tr>\n",
       "      <th>row.names</th>\n",
       "      <th></th>\n",
       "      <th></th>\n",
       "      <th></th>\n",
       "      <th></th>\n",
       "      <th></th>\n",
       "      <th></th>\n",
       "      <th></th>\n",
       "      <th></th>\n",
       "      <th></th>\n",
       "      <th></th>\n",
       "      <th></th>\n",
       "    </tr>\n",
       "  </thead>\n",
       "  <tbody>\n",
       "    <tr>\n",
       "      <th>1</th>\n",
       "      <td>1</td>\n",
       "      <td>-3.639</td>\n",
       "      <td>0.418</td>\n",
       "      <td>-0.670</td>\n",
       "      <td>1.779</td>\n",
       "      <td>-0.168</td>\n",
       "      <td>1.627</td>\n",
       "      <td>-0.388</td>\n",
       "      <td>0.529</td>\n",
       "      <td>-0.874</td>\n",
       "      <td>-0.814</td>\n",
       "    </tr>\n",
       "    <tr>\n",
       "      <th>2</th>\n",
       "      <td>2</td>\n",
       "      <td>-3.327</td>\n",
       "      <td>0.496</td>\n",
       "      <td>-0.694</td>\n",
       "      <td>1.365</td>\n",
       "      <td>-0.265</td>\n",
       "      <td>1.933</td>\n",
       "      <td>-0.363</td>\n",
       "      <td>0.510</td>\n",
       "      <td>-0.621</td>\n",
       "      <td>-0.488</td>\n",
       "    </tr>\n",
       "    <tr>\n",
       "      <th>3</th>\n",
       "      <td>3</td>\n",
       "      <td>-2.120</td>\n",
       "      <td>0.894</td>\n",
       "      <td>-1.576</td>\n",
       "      <td>0.147</td>\n",
       "      <td>-0.707</td>\n",
       "      <td>1.559</td>\n",
       "      <td>-0.579</td>\n",
       "      <td>0.676</td>\n",
       "      <td>-0.809</td>\n",
       "      <td>-0.049</td>\n",
       "    </tr>\n",
       "    <tr>\n",
       "      <th>4</th>\n",
       "      <td>4</td>\n",
       "      <td>-2.287</td>\n",
       "      <td>1.809</td>\n",
       "      <td>-1.498</td>\n",
       "      <td>1.012</td>\n",
       "      <td>-1.053</td>\n",
       "      <td>1.060</td>\n",
       "      <td>-0.567</td>\n",
       "      <td>0.235</td>\n",
       "      <td>-0.091</td>\n",
       "      <td>-0.795</td>\n",
       "    </tr>\n",
       "    <tr>\n",
       "      <th>5</th>\n",
       "      <td>5</td>\n",
       "      <td>-2.598</td>\n",
       "      <td>1.938</td>\n",
       "      <td>-0.846</td>\n",
       "      <td>1.062</td>\n",
       "      <td>-1.633</td>\n",
       "      <td>0.764</td>\n",
       "      <td>0.394</td>\n",
       "      <td>-0.150</td>\n",
       "      <td>0.277</td>\n",
       "      <td>-0.396</td>\n",
       "    </tr>\n",
       "  </tbody>\n",
       "</table>\n",
       "</div>"
      ],
      "text/plain": [
       "           y    x.1    x.2    x.3    x.4    x.5    x.6    x.7    x.8    x.9  \\\n",
       "row.names                                                                     \n",
       "1          1 -3.639  0.418 -0.670  1.779 -0.168  1.627 -0.388  0.529 -0.874   \n",
       "2          2 -3.327  0.496 -0.694  1.365 -0.265  1.933 -0.363  0.510 -0.621   \n",
       "3          3 -2.120  0.894 -1.576  0.147 -0.707  1.559 -0.579  0.676 -0.809   \n",
       "4          4 -2.287  1.809 -1.498  1.012 -1.053  1.060 -0.567  0.235 -0.091   \n",
       "5          5 -2.598  1.938 -0.846  1.062 -1.633  0.764  0.394 -0.150  0.277   \n",
       "\n",
       "            x.10  \n",
       "row.names         \n",
       "1         -0.814  \n",
       "2         -0.488  \n",
       "3         -0.049  \n",
       "4         -0.795  \n",
       "5         -0.396  "
      ]
     },
     "execution_count": 1,
     "metadata": {},
     "output_type": "execute_result"
    }
   ],
   "source": [
    "import urllib\n",
    "import pandas as pd\n",
    "\n",
    "#train_data_url = \"http://statweb.stanford.edu/~hastie/ElemStatLearn/datasets/vowel.train\"\n",
    "#test_data_url = \"http://statweb.stanford.edu/~hastie/ElemStatLearn/datasets/vowel.test\"\n",
    "#train_data_f = urllib.urlretrieve(train_data_url, \"data/train_data.csv\")\n",
    "#test_data_f = urllib.urlretrieve(test_data_url, \"data/test_data.csv\")\n",
    "train_df = pd.DataFrame.from_csv('data/train_data.csv',header=0,index_col=0)\n",
    "test_df = pd.DataFrame.from_csv('data/test_data.csv',header=0,index_col=0)\n",
    "train_df.head()"
   ]
  },
  {
   "cell_type": "code",
   "execution_count": 2,
   "metadata": {},
   "outputs": [
    {
     "data": {
      "text/html": [
       "<div>\n",
       "<style>\n",
       "    .dataframe thead tr:only-child th {\n",
       "        text-align: right;\n",
       "    }\n",
       "\n",
       "    .dataframe thead th {\n",
       "        text-align: left;\n",
       "    }\n",
       "\n",
       "    .dataframe tbody tr th {\n",
       "        vertical-align: top;\n",
       "    }\n",
       "</style>\n",
       "<table border=\"1\" class=\"dataframe\">\n",
       "  <thead>\n",
       "    <tr style=\"text-align: right;\">\n",
       "      <th></th>\n",
       "      <th>y</th>\n",
       "      <th>x.1</th>\n",
       "      <th>x.2</th>\n",
       "      <th>x.3</th>\n",
       "      <th>x.4</th>\n",
       "      <th>x.5</th>\n",
       "      <th>x.6</th>\n",
       "      <th>x.7</th>\n",
       "      <th>x.8</th>\n",
       "      <th>x.9</th>\n",
       "      <th>x.10</th>\n",
       "    </tr>\n",
       "    <tr>\n",
       "      <th>row.names</th>\n",
       "      <th></th>\n",
       "      <th></th>\n",
       "      <th></th>\n",
       "      <th></th>\n",
       "      <th></th>\n",
       "      <th></th>\n",
       "      <th></th>\n",
       "      <th></th>\n",
       "      <th></th>\n",
       "      <th></th>\n",
       "      <th></th>\n",
       "    </tr>\n",
       "  </thead>\n",
       "  <tbody>\n",
       "    <tr>\n",
       "      <th>458</th>\n",
       "      <td>7</td>\n",
       "      <td>-3.239</td>\n",
       "      <td>3.083</td>\n",
       "      <td>-1.427</td>\n",
       "      <td>-0.202</td>\n",
       "      <td>-0.282</td>\n",
       "      <td>1.421</td>\n",
       "      <td>0.576</td>\n",
       "      <td>0.068</td>\n",
       "      <td>-0.914</td>\n",
       "      <td>0.147</td>\n",
       "    </tr>\n",
       "    <tr>\n",
       "      <th>459</th>\n",
       "      <td>8</td>\n",
       "      <td>-3.753</td>\n",
       "      <td>3.605</td>\n",
       "      <td>-0.899</td>\n",
       "      <td>-0.747</td>\n",
       "      <td>-0.401</td>\n",
       "      <td>1.765</td>\n",
       "      <td>0.620</td>\n",
       "      <td>0.754</td>\n",
       "      <td>-0.835</td>\n",
       "      <td>-0.301</td>\n",
       "    </tr>\n",
       "    <tr>\n",
       "      <th>460</th>\n",
       "      <td>9</td>\n",
       "      <td>-3.980</td>\n",
       "      <td>2.459</td>\n",
       "      <td>0.068</td>\n",
       "      <td>0.023</td>\n",
       "      <td>0.237</td>\n",
       "      <td>1.029</td>\n",
       "      <td>-0.189</td>\n",
       "      <td>0.521</td>\n",
       "      <td>-0.773</td>\n",
       "      <td>-0.500</td>\n",
       "    </tr>\n",
       "    <tr>\n",
       "      <th>461</th>\n",
       "      <td>10</td>\n",
       "      <td>-4.264</td>\n",
       "      <td>2.925</td>\n",
       "      <td>0.065</td>\n",
       "      <td>0.794</td>\n",
       "      <td>0.323</td>\n",
       "      <td>0.515</td>\n",
       "      <td>-1.282</td>\n",
       "      <td>-0.140</td>\n",
       "      <td>-0.863</td>\n",
       "      <td>-0.390</td>\n",
       "    </tr>\n",
       "    <tr>\n",
       "      <th>462</th>\n",
       "      <td>11</td>\n",
       "      <td>-3.291</td>\n",
       "      <td>2.324</td>\n",
       "      <td>-0.679</td>\n",
       "      <td>0.285</td>\n",
       "      <td>0.441</td>\n",
       "      <td>0.557</td>\n",
       "      <td>-0.227</td>\n",
       "      <td>0.115</td>\n",
       "      <td>-1.046</td>\n",
       "      <td>0.697</td>\n",
       "    </tr>\n",
       "  </tbody>\n",
       "</table>\n",
       "</div>"
      ],
      "text/plain": [
       "            y    x.1    x.2    x.3    x.4    x.5    x.6    x.7    x.8    x.9  \\\n",
       "row.names                                                                      \n",
       "458         7 -3.239  3.083 -1.427 -0.202 -0.282  1.421  0.576  0.068 -0.914   \n",
       "459         8 -3.753  3.605 -0.899 -0.747 -0.401  1.765  0.620  0.754 -0.835   \n",
       "460         9 -3.980  2.459  0.068  0.023  0.237  1.029 -0.189  0.521 -0.773   \n",
       "461        10 -4.264  2.925  0.065  0.794  0.323  0.515 -1.282 -0.140 -0.863   \n",
       "462        11 -3.291  2.324 -0.679  0.285  0.441  0.557 -0.227  0.115 -1.046   \n",
       "\n",
       "            x.10  \n",
       "row.names         \n",
       "458        0.147  \n",
       "459       -0.301  \n",
       "460       -0.500  \n",
       "461       -0.390  \n",
       "462        0.697  "
      ]
     },
     "execution_count": 2,
     "metadata": {},
     "output_type": "execute_result"
    }
   ],
   "source": [
    "test_df.tail()"
   ]
  },
  {
   "cell_type": "code",
   "execution_count": 3,
   "metadata": {},
   "outputs": [
    {
     "data": {
      "text/html": [
       "<div>\n",
       "<style>\n",
       "    .dataframe thead tr:only-child th {\n",
       "        text-align: right;\n",
       "    }\n",
       "\n",
       "    .dataframe thead th {\n",
       "        text-align: left;\n",
       "    }\n",
       "\n",
       "    .dataframe tbody tr th {\n",
       "        vertical-align: top;\n",
       "    }\n",
       "</style>\n",
       "<table border=\"1\" class=\"dataframe\">\n",
       "  <thead>\n",
       "    <tr style=\"text-align: right;\">\n",
       "      <th></th>\n",
       "      <th>y</th>\n",
       "      <th>x.1</th>\n",
       "      <th>x.2</th>\n",
       "      <th>x.3</th>\n",
       "      <th>x.4</th>\n",
       "      <th>x.5</th>\n",
       "      <th>x.6</th>\n",
       "      <th>x.7</th>\n",
       "      <th>x.8</th>\n",
       "      <th>x.9</th>\n",
       "      <th>x.10</th>\n",
       "    </tr>\n",
       "  </thead>\n",
       "  <tbody>\n",
       "    <tr>\n",
       "      <th>count</th>\n",
       "      <td>528.000000</td>\n",
       "      <td>528.000000</td>\n",
       "      <td>528.000000</td>\n",
       "      <td>528.000000</td>\n",
       "      <td>528.000000</td>\n",
       "      <td>528.000000</td>\n",
       "      <td>528.000000</td>\n",
       "      <td>528.000000</td>\n",
       "      <td>528.000000</td>\n",
       "      <td>528.000000</td>\n",
       "      <td>528.000000</td>\n",
       "    </tr>\n",
       "    <tr>\n",
       "      <th>mean</th>\n",
       "      <td>6.000000</td>\n",
       "      <td>-3.166695</td>\n",
       "      <td>1.735343</td>\n",
       "      <td>-0.448002</td>\n",
       "      <td>0.524983</td>\n",
       "      <td>-0.389280</td>\n",
       "      <td>0.584960</td>\n",
       "      <td>0.017477</td>\n",
       "      <td>0.417394</td>\n",
       "      <td>-0.268112</td>\n",
       "      <td>-0.084568</td>\n",
       "    </tr>\n",
       "    <tr>\n",
       "      <th>std</th>\n",
       "      <td>3.165277</td>\n",
       "      <td>0.957965</td>\n",
       "      <td>1.160970</td>\n",
       "      <td>0.741363</td>\n",
       "      <td>0.769361</td>\n",
       "      <td>0.722011</td>\n",
       "      <td>0.648547</td>\n",
       "      <td>0.479254</td>\n",
       "      <td>0.595580</td>\n",
       "      <td>0.619584</td>\n",
       "      <td>0.560317</td>\n",
       "    </tr>\n",
       "    <tr>\n",
       "      <th>min</th>\n",
       "      <td>1.000000</td>\n",
       "      <td>-5.211000</td>\n",
       "      <td>-1.274000</td>\n",
       "      <td>-2.487000</td>\n",
       "      <td>-1.409000</td>\n",
       "      <td>-2.127000</td>\n",
       "      <td>-0.836000</td>\n",
       "      <td>-1.537000</td>\n",
       "      <td>-1.293000</td>\n",
       "      <td>-1.613000</td>\n",
       "      <td>-1.680000</td>\n",
       "    </tr>\n",
       "    <tr>\n",
       "      <th>25%</th>\n",
       "      <td>3.000000</td>\n",
       "      <td>-3.923000</td>\n",
       "      <td>0.916750</td>\n",
       "      <td>-0.945500</td>\n",
       "      <td>-0.083500</td>\n",
       "      <td>-0.930750</td>\n",
       "      <td>0.108500</td>\n",
       "      <td>-0.297000</td>\n",
       "      <td>-0.018250</td>\n",
       "      <td>-0.673750</td>\n",
       "      <td>-0.507000</td>\n",
       "    </tr>\n",
       "    <tr>\n",
       "      <th>50%</th>\n",
       "      <td>6.000000</td>\n",
       "      <td>-3.097000</td>\n",
       "      <td>1.733000</td>\n",
       "      <td>-0.502500</td>\n",
       "      <td>0.456500</td>\n",
       "      <td>-0.417000</td>\n",
       "      <td>0.527500</td>\n",
       "      <td>0.040000</td>\n",
       "      <td>0.477000</td>\n",
       "      <td>-0.255000</td>\n",
       "      <td>-0.082500</td>\n",
       "    </tr>\n",
       "    <tr>\n",
       "      <th>75%</th>\n",
       "      <td>9.000000</td>\n",
       "      <td>-2.511750</td>\n",
       "      <td>2.403750</td>\n",
       "      <td>0.049250</td>\n",
       "      <td>1.164000</td>\n",
       "      <td>0.115500</td>\n",
       "      <td>1.009750</td>\n",
       "      <td>0.348000</td>\n",
       "      <td>0.861250</td>\n",
       "      <td>0.137500</td>\n",
       "      <td>0.301000</td>\n",
       "    </tr>\n",
       "    <tr>\n",
       "      <th>max</th>\n",
       "      <td>11.000000</td>\n",
       "      <td>-0.941000</td>\n",
       "      <td>5.074000</td>\n",
       "      <td>1.413000</td>\n",
       "      <td>2.191000</td>\n",
       "      <td>1.831000</td>\n",
       "      <td>2.327000</td>\n",
       "      <td>1.403000</td>\n",
       "      <td>1.673000</td>\n",
       "      <td>1.309000</td>\n",
       "      <td>1.396000</td>\n",
       "    </tr>\n",
       "  </tbody>\n",
       "</table>\n",
       "</div>"
      ],
      "text/plain": [
       "                y         x.1         x.2         x.3         x.4         x.5  \\\n",
       "count  528.000000  528.000000  528.000000  528.000000  528.000000  528.000000   \n",
       "mean     6.000000   -3.166695    1.735343   -0.448002    0.524983   -0.389280   \n",
       "std      3.165277    0.957965    1.160970    0.741363    0.769361    0.722011   \n",
       "min      1.000000   -5.211000   -1.274000   -2.487000   -1.409000   -2.127000   \n",
       "25%      3.000000   -3.923000    0.916750   -0.945500   -0.083500   -0.930750   \n",
       "50%      6.000000   -3.097000    1.733000   -0.502500    0.456500   -0.417000   \n",
       "75%      9.000000   -2.511750    2.403750    0.049250    1.164000    0.115500   \n",
       "max     11.000000   -0.941000    5.074000    1.413000    2.191000    1.831000   \n",
       "\n",
       "              x.6         x.7         x.8         x.9        x.10  \n",
       "count  528.000000  528.000000  528.000000  528.000000  528.000000  \n",
       "mean     0.584960    0.017477    0.417394   -0.268112   -0.084568  \n",
       "std      0.648547    0.479254    0.595580    0.619584    0.560317  \n",
       "min     -0.836000   -1.537000   -1.293000   -1.613000   -1.680000  \n",
       "25%      0.108500   -0.297000   -0.018250   -0.673750   -0.507000  \n",
       "50%      0.527500    0.040000    0.477000   -0.255000   -0.082500  \n",
       "75%      1.009750    0.348000    0.861250    0.137500    0.301000  \n",
       "max      2.327000    1.403000    1.673000    1.309000    1.396000  "
      ]
     },
     "execution_count": 3,
     "metadata": {},
     "output_type": "execute_result"
    }
   ],
   "source": [
    "train_df.describe()"
   ]
  },
  {
   "cell_type": "code",
   "execution_count": 4,
   "metadata": {},
   "outputs": [
    {
     "data": {
      "text/html": [
       "<div>\n",
       "<style>\n",
       "    .dataframe thead tr:only-child th {\n",
       "        text-align: right;\n",
       "    }\n",
       "\n",
       "    .dataframe thead th {\n",
       "        text-align: left;\n",
       "    }\n",
       "\n",
       "    .dataframe tbody tr th {\n",
       "        vertical-align: top;\n",
       "    }\n",
       "</style>\n",
       "<table border=\"1\" class=\"dataframe\">\n",
       "  <thead>\n",
       "    <tr style=\"text-align: right;\">\n",
       "      <th></th>\n",
       "      <th>y</th>\n",
       "      <th>x.1</th>\n",
       "      <th>x.2</th>\n",
       "      <th>x.3</th>\n",
       "      <th>x.4</th>\n",
       "      <th>x.5</th>\n",
       "      <th>x.6</th>\n",
       "      <th>x.7</th>\n",
       "      <th>x.8</th>\n",
       "      <th>x.9</th>\n",
       "      <th>x.10</th>\n",
       "    </tr>\n",
       "  </thead>\n",
       "  <tbody>\n",
       "    <tr>\n",
       "      <th>count</th>\n",
       "      <td>462.000000</td>\n",
       "      <td>462.000000</td>\n",
       "      <td>462.000000</td>\n",
       "      <td>462.000000</td>\n",
       "      <td>462.000000</td>\n",
       "      <td>462.000000</td>\n",
       "      <td>462.000000</td>\n",
       "      <td>462.000000</td>\n",
       "      <td>462.000000</td>\n",
       "      <td>462.000000</td>\n",
       "      <td>462.000000</td>\n",
       "    </tr>\n",
       "    <tr>\n",
       "      <th>mean</th>\n",
       "      <td>6.000000</td>\n",
       "      <td>-3.246078</td>\n",
       "      <td>2.049102</td>\n",
       "      <td>-0.576076</td>\n",
       "      <td>0.504626</td>\n",
       "      <td>-0.210089</td>\n",
       "      <td>0.681998</td>\n",
       "      <td>-0.029327</td>\n",
       "      <td>0.244162</td>\n",
       "      <td>-0.342820</td>\n",
       "      <td>-0.056221</td>\n",
       "    </tr>\n",
       "    <tr>\n",
       "      <th>std</th>\n",
       "      <td>3.165706</td>\n",
       "      <td>0.753377</td>\n",
       "      <td>1.170402</td>\n",
       "      <td>0.671069</td>\n",
       "      <td>0.748236</td>\n",
       "      <td>0.578353</td>\n",
       "      <td>0.544476</td>\n",
       "      <td>0.440483</td>\n",
       "      <td>0.532523</td>\n",
       "      <td>0.505557</td>\n",
       "      <td>0.650602</td>\n",
       "    </tr>\n",
       "    <tr>\n",
       "      <th>min</th>\n",
       "      <td>1.000000</td>\n",
       "      <td>-4.982000</td>\n",
       "      <td>-1.074000</td>\n",
       "      <td>-2.091000</td>\n",
       "      <td>-1.044000</td>\n",
       "      <td>-1.733000</td>\n",
       "      <td>-0.405000</td>\n",
       "      <td>-1.282000</td>\n",
       "      <td>-0.949000</td>\n",
       "      <td>-1.409000</td>\n",
       "      <td>-1.241000</td>\n",
       "    </tr>\n",
       "    <tr>\n",
       "      <th>25%</th>\n",
       "      <td>3.000000</td>\n",
       "      <td>-3.855750</td>\n",
       "      <td>1.194000</td>\n",
       "      <td>-1.037000</td>\n",
       "      <td>-0.049250</td>\n",
       "      <td>-0.612000</td>\n",
       "      <td>0.278250</td>\n",
       "      <td>-0.310250</td>\n",
       "      <td>-0.167750</td>\n",
       "      <td>-0.721750</td>\n",
       "      <td>-0.564500</td>\n",
       "    </tr>\n",
       "    <tr>\n",
       "      <th>50%</th>\n",
       "      <td>6.000000</td>\n",
       "      <td>-3.220000</td>\n",
       "      <td>2.101500</td>\n",
       "      <td>-0.621000</td>\n",
       "      <td>0.418500</td>\n",
       "      <td>-0.181500</td>\n",
       "      <td>0.593000</td>\n",
       "      <td>0.005500</td>\n",
       "      <td>0.245000</td>\n",
       "      <td>-0.358000</td>\n",
       "      <td>-0.257500</td>\n",
       "    </tr>\n",
       "    <tr>\n",
       "      <th>75%</th>\n",
       "      <td>9.000000</td>\n",
       "      <td>-2.706500</td>\n",
       "      <td>2.985000</td>\n",
       "      <td>-0.181000</td>\n",
       "      <td>0.960750</td>\n",
       "      <td>0.199000</td>\n",
       "      <td>1.038500</td>\n",
       "      <td>0.245750</td>\n",
       "      <td>0.651500</td>\n",
       "      <td>0.019500</td>\n",
       "      <td>0.594750</td>\n",
       "    </tr>\n",
       "    <tr>\n",
       "      <th>max</th>\n",
       "      <td>11.000000</td>\n",
       "      <td>-1.093000</td>\n",
       "      <td>4.314000</td>\n",
       "      <td>1.431000</td>\n",
       "      <td>2.377000</td>\n",
       "      <td>1.114000</td>\n",
       "      <td>2.108000</td>\n",
       "      <td>1.209000</td>\n",
       "      <td>2.039000</td>\n",
       "      <td>0.757000</td>\n",
       "      <td>1.294000</td>\n",
       "    </tr>\n",
       "  </tbody>\n",
       "</table>\n",
       "</div>"
      ],
      "text/plain": [
       "                y         x.1         x.2         x.3         x.4         x.5  \\\n",
       "count  462.000000  462.000000  462.000000  462.000000  462.000000  462.000000   \n",
       "mean     6.000000   -3.246078    2.049102   -0.576076    0.504626   -0.210089   \n",
       "std      3.165706    0.753377    1.170402    0.671069    0.748236    0.578353   \n",
       "min      1.000000   -4.982000   -1.074000   -2.091000   -1.044000   -1.733000   \n",
       "25%      3.000000   -3.855750    1.194000   -1.037000   -0.049250   -0.612000   \n",
       "50%      6.000000   -3.220000    2.101500   -0.621000    0.418500   -0.181500   \n",
       "75%      9.000000   -2.706500    2.985000   -0.181000    0.960750    0.199000   \n",
       "max     11.000000   -1.093000    4.314000    1.431000    2.377000    1.114000   \n",
       "\n",
       "              x.6         x.7         x.8         x.9        x.10  \n",
       "count  462.000000  462.000000  462.000000  462.000000  462.000000  \n",
       "mean     0.681998   -0.029327    0.244162   -0.342820   -0.056221  \n",
       "std      0.544476    0.440483    0.532523    0.505557    0.650602  \n",
       "min     -0.405000   -1.282000   -0.949000   -1.409000   -1.241000  \n",
       "25%      0.278250   -0.310250   -0.167750   -0.721750   -0.564500  \n",
       "50%      0.593000    0.005500    0.245000   -0.358000   -0.257500  \n",
       "75%      1.038500    0.245750    0.651500    0.019500    0.594750  \n",
       "max      2.108000    1.209000    2.039000    0.757000    1.294000  "
      ]
     },
     "execution_count": 4,
     "metadata": {},
     "output_type": "execute_result"
    }
   ],
   "source": [
    "test_df.describe()"
   ]
  },
  {
   "cell_type": "code",
   "execution_count": 5,
   "metadata": {},
   "outputs": [
    {
     "data": {
      "text/plain": [
       "11    48\n",
       "10    48\n",
       "9     48\n",
       "8     48\n",
       "7     48\n",
       "6     48\n",
       "5     48\n",
       "4     48\n",
       "3     48\n",
       "2     48\n",
       "1     48\n",
       "Name: y, dtype: int64"
      ]
     },
     "execution_count": 5,
     "metadata": {},
     "output_type": "execute_result"
    }
   ],
   "source": [
    "train_df['y'].value_counts()"
   ]
  },
  {
   "cell_type": "code",
   "execution_count": 6,
   "metadata": {
    "scrolled": false
   },
   "outputs": [
    {
     "data": {
      "image/png": "[encoded data removed]",
      "text/plain": [
       "<matplotlib.figure.Figure at 0x7fdfbdc71a50>"
      ]
     },
     "metadata": {},
     "output_type": "display_data"
    }
   ],
   "source": [
    "import matplotlib.pyplot as plt\n",
    "\n",
    "train_df.hist(figsize=(14, 10))\n",
    "plt.suptitle(\"Train dataset histogram\")\n",
    "plt.show()"
   ]
  },
  {
   "cell_type": "markdown",
   "metadata": {},
   "source": [
    "Del análisis anterior podemos corroborar que el número de datos de entrenamiento es de $528$ y datos de prueba $462$. Además, podemos notar que cada clase ($11$) contiene un total de $48$ registros, por lo que el promedio de palabras por clases es justamente $48$."
   ]
  },
  {
   "cell_type": "markdown",
   "metadata": {},
   "source": [
    "(b) Construya matrices $X$ e $y$ que contengan las características y las etiquetas correspondientes a los datos de entrenamiento y pruebas. Normalice apropiadamente los datos antes de empezar a trabajar."
   ]
  },
  {
   "cell_type": "code",
   "execution_count": 7,
   "metadata": {
    "collapsed": true
   },
   "outputs": [],
   "source": [
    "from sklearn.preprocessing import StandardScaler\n",
    "\n",
    "X = train_df.loc[:,'x.1':'x.10'].values\n",
    "y = train_df.loc[:,'y'].values\n",
    "Scaler = StandardScaler().fit(X)\n",
    "X_std = Scaler.transform(X)"
   ]
  },
  {
   "cell_type": "markdown",
   "metadata": {},
   "source": [
    "Como siempre, el proceso de estandarización se realiza sobre los datos de prueba."
   ]
  },
  {
   "cell_type": "markdown",
   "metadata": {},
   "source": [
    "(c) Utilizando PCA genere una representación en 2 dimensiones de la data original (10 dimensiones) identificando\n",
    "cada clase con un color distinto (elija una paleta apropiada)."
   ]
  },
  {
   "cell_type": "code",
   "execution_count": 8,
   "metadata": {},
   "outputs": [
    {
     "data": {
      "image/png": "[encoded data removed]",
      "text/plain": [
       "<matplotlib.figure.Figure at 0x7fdfe7ee5e10>"
      ]
     },
     "metadata": {},
     "output_type": "display_data"
    }
   ],
   "source": [
    "from sklearn.decomposition import PCA\n",
    "from matplotlib import pyplot as plt\n",
    "import seaborn as sns\n",
    "import numpy as np\n",
    "\n",
    "sklearn_pca = PCA(n_components=2)\n",
    "Xred_pca = sklearn_pca.fit_transform(X_std)\n",
    "cmap = plt.cm.get_cmap('hsv')\n",
    "mclasses=(1,2,3,4,5,6,7,8,9)\n",
    "mcolors = [cmap(i) for i in np.linspace(0,1,10)]\n",
    "plt.figure(figsize=(12, 8))\n",
    "\n",
    "for lab, col in zip(mclasses,mcolors):\n",
    "    plt.scatter(Xred_pca[y==lab, 0],Xred_pca[y==lab, 1],label=lab,c=col)\n",
    "\n",
    "plt.xlabel('Principal Component 1')\n",
    "plt.ylabel('Principal Component 2')\n",
    "leg = plt.legend(loc='upper right', fancybox=True)\n",
    "plt.show()"
   ]
  },
  {
   "cell_type": "markdown",
   "metadata": {},
   "source": [
    "Se escogió dicha paleta porque consideramos que es posible identificar bastante bien los datos gracias a estos colores."
   ]
  },
  {
   "cell_type": "markdown",
   "metadata": {},
   "source": [
    "(d) Utilizando LDA genere una representación en 2 dimensiones de la data original (10 dimensiones) identificando\n",
    "cada clase con un color distinto (elija una paleta apropiada)."
   ]
  },
  {
   "cell_type": "code",
   "execution_count": 9,
   "metadata": {},
   "outputs": [
    {
     "data": {
      "image/png": "[encoded data removed]",
      "text/plain": [
       "<matplotlib.figure.Figure at 0x7fdfe956d550>"
      ]
     },
     "metadata": {},
     "output_type": "display_data"
    }
   ],
   "source": [
    "from sklearn.discriminant_analysis import LinearDiscriminantAnalysis\n",
    "\n",
    "sklearn_lda = LinearDiscriminantAnalysis(n_components=2)\n",
    "Xred_lda = sklearn_lda.fit_transform(X_std,y)\n",
    "cmap = plt.cm.get_cmap('hsv')\n",
    "mclasses=(1,2,3,4,5,6,7,8,9)\n",
    "mcolors = [cmap(i) for i in np.linspace(0,1,10)]\n",
    "plt.figure(figsize=(12, 8))\n",
    "\n",
    "for lab, col in zip(mclasses,mcolors):\n",
    "    plt.scatter(Xred_lda[y==lab, 0],Xred_lda[y==lab, 1],label=lab, c=col)\n",
    "\n",
    "plt.xlabel('LDA/Fisher Direction 1')\n",
    "plt.ylabel('LDA/Fisher Direction 2')\n",
    "leg = plt.legend(loc='upper right', fancybox=True)\n",
    "plt.show()"
   ]
  },
  {
   "cell_type": "markdown",
   "metadata": {},
   "source": [
    "(e) Compare cualitativamente los resultados obtenidos en c y d"
   ]
  },
  {
   "cell_type": "markdown",
   "metadata": {},
   "source": [
    "De los resultados anteriores se puede apreciar una mejor representación con *LDA*, dado que gráficamente pareciera haber una agrupación de datos lo suficientemente dispersa para poder clasificarlos de mejor forma que utilizando *PCA* (al menos gráficamente)."
   ]
  },
  {
   "cell_type": "markdown",
   "metadata": {},
   "source": [
    "(f) Construya un clasificador que determine la clase de un dato x aleatoriamente sin considerar las características\n",
    "sino que solamente la probabilidad *a-priori* de cada clase. Por ejemplo, si la clase $y = 0$ ocurre el 25% de las veces, su clasificador debe predecir esta clase para un determinado $x$ con probabilidad $0.25$, independiente de los atributos de $x$."
   ]
  },
  {
   "cell_type": "code",
   "execution_count": 10,
   "metadata": {},
   "outputs": [
    {
     "name": "stdout",
     "output_type": "stream",
     "text": [
      "Probabilidades de cada clase: [ 0.09090909  0.09090909  0.09090909  0.09090909  0.09090909  0.09090909\n",
      "  0.09090909  0.09090909  0.09090909  0.09090909  0.09090909]\n"
     ]
    },
    {
     "data": {
      "text/plain": [
       "2"
      ]
     },
     "execution_count": 10,
     "metadata": {},
     "output_type": "execute_result"
    }
   ],
   "source": [
    "# Probabilidades de cada calse\n",
    "probs = np.array(train_df['y'].value_counts()/train_df['y'].shape[0])\n",
    "print \"Probabilidades de cada clase:\", probs\n",
    "\n",
    "# Dado que todas las clases tienen la misma probabilidad\n",
    "# podriamos clasificar un x utilizando una distribucion uniforme discreta\n",
    "def classif(x):\n",
    "    return np.random.randint(11) + 1 # Retorna un valor aleatorio unfiforme entre [1, 11]\n",
    "\n",
    "# Clasificacion de un dato de entrenamiento\n",
    "classif(train_df.loc[:,'x.1':'x.10'].sample(1))"
   ]
  },
  {
   "cell_type": "markdown",
   "metadata": {},
   "source": [
    "(g) Compare el desempeño de LDA, QDA y un modelo de *Vecinos Más Cercanos (k-NN)* $^{†}$ sin reducir dimensionalidad. ¿Qué técnica se comporta mejor sobre el conjunto de entrenamiento? ¿Sobre el conjunto de pruebas? Describa, utilizando un gráfico, el efecto de cambiar el parámetro de $k$ en el tercer modelo.\n",
    "\n",
    "$^{†}$ Este clasificador busca los $k$ datos de entrenamiento más similares al patrón que se quiere clasificar y predice la clase más popular entre estos."
   ]
  },
  {
   "cell_type": "code",
   "execution_count": 11,
   "metadata": {},
   "outputs": [
    {
     "name": "stdout",
     "output_type": "stream",
     "text": [
      "-----LDA-----\n",
      "0.683712121212\n",
      "0.443722943723\n",
      "-----QDA-----\n",
      "0.988636363636\n",
      "0.471861471861\n",
      "-----KNN-----\n"
     ]
    },
    {
     "data": {
      "image/png": "[encoded data removed]",
      "text/plain": [
       "<matplotlib.figure.Figure at 0x7fdfb9a5bdd0>"
      ]
     },
     "metadata": {},
     "output_type": "display_data"
    }
   ],
   "source": [
    "from sklearn.discriminant_analysis import LinearDiscriminantAnalysis\n",
    "from sklearn.discriminant_analysis import QuadraticDiscriminantAnalysis\n",
    "from sklearn.neighbors import KNeighborsClassifier\n",
    "import matplotlib.pyplot as plt\n",
    "\n",
    "Xtest = test_df.loc[:,'x.1':'x.10'].values\n",
    "ytest = test_df.loc[:,'y'].values\n",
    "X_std_test = Scaler.transform(Xtest)\n",
    "lda_model = LinearDiscriminantAnalysis()\n",
    "lda_model.fit(X_std,y)\n",
    "print \"-----LDA-----\"\n",
    "print lda_model.score(X_std,y)\n",
    "print lda_model.score(X_std_test,ytest)\n",
    "qda_model = QuadraticDiscriminantAnalysis()\n",
    "qda_model.fit(X_std,y)\n",
    "print \"-----QDA-----\"\n",
    "print qda_model.score(X_std,y)\n",
    "print qda_model.score(X_std_test,ytest)\n",
    "print \"-----KNN-----\"\n",
    "knn_scores_training = []\n",
    "knn_scores_testing = []\n",
    "k = range(1,51)\n",
    "for c in k:\n",
    "    knn_model = KNeighborsClassifier(n_neighbors=c)\n",
    "    knn_model.fit(X_std,y)\n",
    "    knn_scores_training.append(knn_model.score(X_std,y))\n",
    "    knn_scores_testing.append(knn_model.score(X_std_test,ytest))\n",
    "plt.figure(figsize=(10,10))\n",
    "plt.subplot(211)\n",
    "plt.xlabel(\"k\")\n",
    "plt.ylabel(\"Score\")\n",
    "plt.title(\"Training/Testing\")\n",
    "plt.plot(k,knn_scores_training, '-o',k,knn_scores_testing, '-o')\n",
    "plt.legend((\"Training\", \"Testing\"), loc = \"upper right\")\n",
    "plt.show()"
   ]
  },
  {
   "cell_type": "markdown",
   "metadata": {},
   "source": [
    "Analizando los resultados, notamos que el mejor valor de *accuracy* para el conjunto de entrenamiento se encuentra con el modelo $k$-NN con $k=1$. Con respecto al conjunto de pruebas el mejor resultado también se obtiene con el $k$-NN pero con un valor de $k=7$."
   ]
  },
  {
   "cell_type": "markdown",
   "metadata": {},
   "source": [
    "(h) Utilice PCA para generar una representación de la data en $d'= 1, 2, 3, ... , 10$ dimensiones. Para cada caso entrene un modelo LDA, QDA y de k-NN. Construya un gráfico que muestre cómo evoluciona el error de entrenamiento versus $d'$. Sobreponga a este gráfico el error de pruebas versus $d'$. Concluya."
   ]
  },
  {
   "cell_type": "code",
   "execution_count": 12,
   "metadata": {
    "collapsed": true
   },
   "outputs": [],
   "source": [
    "lda_train = np.zeros(10)\n",
    "lda_test = np.zeros(10)\n",
    "qda_train = np.zeros(10)\n",
    "qda_test = np.zeros(10)\n",
    "knn_train = np.zeros(10)\n",
    "knn_test = np.zeros(10)\n",
    "\n",
    "\n",
    "for d in range(1, 11):\n",
    "    # Representacion PCA\n",
    "    sklearn_pca = PCA(n_components=d)\n",
    "    Xtrain_pca = sklearn_pca.fit_transform(X_std)\n",
    "    Xtest_pca = sklearn_pca.fit_transform(X_std_test)\n",
    "    \n",
    "    # Modelo LDA\n",
    "    lda_model = LinearDiscriminantAnalysis()\n",
    "    lda_model.fit(Xtrain_pca,y)\n",
    "    lda_train[d-1] = lda_model.score(Xtrain_pca, y)\n",
    "    lda_test[d-1] = lda_model.score(Xtest_pca, ytest)\n",
    "    \n",
    "    # Modelo QDA\n",
    "    qda_model = QuadraticDiscriminantAnalysis()\n",
    "    qda_model.fit(Xtrain_pca, y)\n",
    "    qda_train[d-1] = qda_model.score(Xtrain_pca, y)\n",
    "    qda_test[d-1] = qda_model.score(Xtest_pca, ytest)\n",
    "    \n",
    "    # KNN con k=1\n",
    "    k = 1\n",
    "    knn_model = KNeighborsClassifier(n_neighbors=k)\n",
    "    knn_model.fit(Xtrain_pca, y)\n",
    "    knn_train[d-1] = knn_model.score(Xtrain_pca, y)\n",
    "    knn_test[d-1] = knn_model.score(Xtest_pca, ytest)"
   ]
  },
  {
   "cell_type": "code",
   "execution_count": 13,
   "metadata": {},
   "outputs": [
    {
     "data": {
      "image/png": "[encoded data removed]",
      "text/plain": [
       "<matplotlib.figure.Figure at 0x7fdfba34e750>"
      ]
     },
     "metadata": {},
     "output_type": "display_data"
    }
   ],
   "source": [
    "plt.figure(figsize=(14, 6))\n",
    "D = np.arange(1, 11)\n",
    "plt.plot(D, 1 - lda_train, marker=\"*\", label=\"LDA train\")\n",
    "plt.plot(D, 1 - lda_test, marker=\"*\", label=\"LDA test\")\n",
    "plt.plot(D, 1 - qda_train, marker=\"o\", label=\"QDA train\")\n",
    "plt.plot(D, 1 - qda_test, marker=\"o\", label=\"QDA test\")\n",
    "plt.plot(D, 1 - knn_train, marker=\"x\", label=\"KNN train\")\n",
    "plt.plot(D, 1 - knn_test, marker=\"x\", label=\"KNN test\")\n",
    "plt.title(\"Representacion con PCA\")\n",
    "plt.xlabel(r\"$d'$\")\n",
    "plt.ylabel(\"Error\")\n",
    "plt.legend()\n",
    "plt.grid(True)\n",
    "plt.show()"
   ]
  },
  {
   "cell_type": "markdown",
   "metadata": {},
   "source": [
    "Del gráfico podemos notar que el clasificador $k$-NN con $k=1$ obtiene los menores valores de error. En cuanto a los errores de entrenamiento y prueba muestran una tendencia comparable para los algoritmos restantes."
   ]
  },
  {
   "cell_type": "markdown",
   "metadata": {},
   "source": [
    "(i) Utilice LDA para generar una representación de la data en $d'= 1, 2, 3, ..., 10$ dimensiones. Para cada caso entrene un modelo LDA, QDA y de k-NN. Construya un gráfico que muestre cómo evoluciona el error de entrenamiento versus $d'$. Sobreponga a este gráfico el error de pruebas versus $d'$. Concluya."
   ]
  },
  {
   "cell_type": "code",
   "execution_count": 14,
   "metadata": {
    "collapsed": true
   },
   "outputs": [],
   "source": [
    "lda_train = np.zeros(10)\n",
    "lda_test = np.zeros(10)\n",
    "qda_train = np.zeros(10)\n",
    "qda_test = np.zeros(10)\n",
    "knn_train = np.zeros(10)\n",
    "knn_test = np.zeros(10)\n",
    "\n",
    "\n",
    "for d in range(1, 11):\n",
    "    # Representacion con LDA\n",
    "    sklearn_lda = LinearDiscriminantAnalysis(n_components=d)\n",
    "    Xtrain_lda = sklearn_lda.fit_transform(X_std, y)\n",
    "    Xtest_lda = sklearn_lda.fit_transform(X_std_test, ytest)\n",
    "    \n",
    "    # Modelo LDA\n",
    "    lda_model = LinearDiscriminantAnalysis()\n",
    "    lda_model.fit(Xtrain_lda,y)\n",
    "    lda_train[d-1] = lda_model.score(Xtrain_lda, y)\n",
    "    lda_test[d-1] = lda_model.score(Xtest_lda, ytest)\n",
    "    \n",
    "    # Modelo QDA\n",
    "    qda_model = QuadraticDiscriminantAnalysis()\n",
    "    qda_model.fit(Xtrain_lda, y)\n",
    "    qda_train[d-1] = qda_model.score(Xtrain_lda, y)\n",
    "    qda_test[d-1] = qda_model.score(Xtest_lda, ytest)\n",
    "    \n",
    "    # Modelo KNN con k=1\n",
    "    k = 1\n",
    "    knn_model = KNeighborsClassifier(n_neighbors=k)\n",
    "    knn_model.fit(Xtrain_lda, y)\n",
    "    knn_train[d-1] = knn_model.score(Xtrain_lda, y)\n",
    "    knn_test[d-1] = knn_model.score(Xtest_lda, ytest)"
   ]
  },
  {
   "cell_type": "code",
   "execution_count": 15,
   "metadata": {},
   "outputs": [
    {
     "data": {
      "image/png": "[encoded data removed]",
      "text/plain": [
       "<matplotlib.figure.Figure at 0x7fdfba41bb10>"
      ]
     },
     "metadata": {},
     "output_type": "display_data"
    }
   ],
   "source": [
    "plt.figure(figsize=(14, 6))\n",
    "D = np.arange(1, 11)\n",
    "plt.plot(D, 1 - lda_train, marker=\"*\", label=\"LDA train\")\n",
    "plt.plot(D, 1 - lda_test, marker=\"*\", label=\"LDA test\")\n",
    "plt.plot(D, 1 - qda_train, marker=\"o\", label=\"QDA train\")\n",
    "plt.plot(D, 1 - qda_test, marker=\"o\", label=\"QDA test\")\n",
    "plt.plot(D, 1 - knn_train, marker=\"x\", label=\"KNN train\")\n",
    "plt.plot(D, 1 - knn_test, marker=\"x\", label=\"KNN test\")\n",
    "plt.title(\"Representacion con LDA\")\n",
    "plt.xlabel(r\"$d'$\")\n",
    "plt.ylabel(\"Error\")\n",
    "plt.legend()\n",
    "plt.grid(True)\n",
    "plt.show()"
   ]
  },
  {
   "cell_type": "markdown",
   "metadata": {},
   "source": [
    "Utilizando una representación con *LDA* el comportamiento de los clasificadores es similar al del *PCA*, donde el $k$-NN obtiene los mejores resultados. La única diferencia significativa podría ser el comportamiento oscilatorio entre $d'=1$ y $d'=3$ que se aprecia en la respresentación con *PCA*."
   ]
  },
  {
   "cell_type": "markdown",
   "metadata": {},
   "source": [
    "## 2 Análisis de Opiniones sobre Películas\n",
    "\n",
    "El análisis de sentimiento (o minería de opiniones) se refiere al proceso de extraer información acerca de la actitud que una persona (o grupo de ellas) manifiesta, en un determinado medio o formato digital, con respecto a un tópico o contexto de comunicación. Uno de los casos más estudiados corresponde a determinar la *polaridad* de un trozo de texto, es decir, clasificar una determinada evaluación escrita (ó *review*), en que una persona manifiesta una opinión, como *positiva*, *negativa* o *neutral*. La dificultad de este problema radica en el carácter altamente ambiguo e informal del lenguaje que utilizan naturalmente las personas así como el manejo de negaciones, sarcasmo y abreviaciones en una frase.\n",
    "\n",
    "<img src=\"img/img2.png\">\n",
    "\n",
    "Los datos que usaremos para esta actividad corresponden a un subconjunto de los datos publicados en *Kaggle*, en el contexto de una competencia organizada por la Universidad de Stanford [?]. Cada registro disponible corresponderá a una opinión sobre una película, registrada sobre el sitio *Rotten Tomatoes*. Para empezar nos limitaremos a estudiar textos anotados como positivos o negativos, clases que codificaremos como +1 y 0 respectivamente. Para construir un clasificador que determine automáticamente la polaridad de un trozo de texto, vamos a necesitar representar los textos $\\{d_i\\}^n_{i=1}$ disponibles como vectores de características (features). El tipo de características más utilizado consiste en contar cuántas veces aparecen ciertos términos/palabras en el texto. Para esto, necesitaremos un *vocabulario* que, para esta actividad, construiremos mediante la unión de todas las palabras que observemos en los textos que tenemos a disposición. Para aumentar la eficacia de las características extraídas es conveniente ejecutar algunas técnicas de preprocesamiento básicas como: pasar todo el texto a minúsculas (lower-casing), eliminar signos de puntuación y eliminar palabras sin significado como artículos, pronombres y preposiciones (stop word removal [4]). Otra técnica que suele ser útil para obtener buenas características (features) es la lematización [6], es decir la reducción de todas las palabras a su tronco léxico base. Una técnica similar y más utilizada en la práctica es el *stemming* [5]."
   ]
  },
  {
   "cell_type": "markdown",
   "metadata": {},
   "source": [
    "(a) Construya un dataframe con los datos a analizar descargando los datos desde la URL local. Determine cuántos registros de cada clase contiene el conjunto de entrenamiento y cuántos el conjunto de pruebas."
   ]
  },
  {
   "cell_type": "code",
   "execution_count": 16,
   "metadata": {},
   "outputs": [
    {
     "name": "stdout",
     "output_type": "stream",
     "text": [
      "(3554, 2)\n",
      "(3554, 2)\n"
     ]
    }
   ],
   "source": [
    "import urllib\n",
    "import pandas as pd\n",
    "\n",
    "#train_data_url = \"http://www.inf.utfsm.cl/~jnancu/stanford-subset/polarity.train\"\n",
    "#test_data_url = \"http://www.inf.utfsm.cl/~jnancu/stanford-subset/polarity.dev\"\n",
    "#train_data_f = urllib.urlretrieve(train_data_url, \"data/movies_train_data.csv\")\n",
    "#test_data_f = urllib.urlretrieve(test_data_url, \"data/movies_test_data.csv\")\n",
    "ftr = open(\"data/movies_train_data.csv\", \"r\")\n",
    "fts = open(\"data/movies_test_data.csv\", \"r\")\n",
    "rows = [line.split(\" \",1) for line in ftr.readlines()]\n",
    "train_df = pd.DataFrame(rows, columns=['Sentiment','Text'])\n",
    "train_df['Sentiment'] = pd.to_numeric(train_df['Sentiment'])\n",
    "rows = [line.split(\" \",1) for line in fts.readlines()]\n",
    "test_df = pd.DataFrame(rows, columns=['Sentiment','Text'])\n",
    "test_df['Sentiment'] = pd.to_numeric(test_df['Sentiment'])\n",
    "print train_df.shape\n",
    "print test_df.shape"
   ]
  },
  {
   "cell_type": "code",
   "execution_count": 17,
   "metadata": {},
   "outputs": [
    {
     "data": {
      "text/html": [
       "<div>\n",
       "<style>\n",
       "    .dataframe thead tr:only-child th {\n",
       "        text-align: right;\n",
       "    }\n",
       "\n",
       "    .dataframe thead th {\n",
       "        text-align: left;\n",
       "    }\n",
       "\n",
       "    .dataframe tbody tr th {\n",
       "        vertical-align: top;\n",
       "    }\n",
       "</style>\n",
       "<table border=\"1\" class=\"dataframe\">\n",
       "  <thead>\n",
       "    <tr style=\"text-align: right;\">\n",
       "      <th></th>\n",
       "      <th>Sentiment</th>\n",
       "      <th>Text</th>\n",
       "    </tr>\n",
       "  </thead>\n",
       "  <tbody>\n",
       "    <tr>\n",
       "      <th>1088</th>\n",
       "      <td>-1</td>\n",
       "      <td>generic slasher-movie nonsense , but it's not ...</td>\n",
       "    </tr>\n",
       "    <tr>\n",
       "      <th>1387</th>\n",
       "      <td>1</td>\n",
       "      <td>few films this year have been as resolute in t...</td>\n",
       "    </tr>\n",
       "    <tr>\n",
       "      <th>217</th>\n",
       "      <td>-1</td>\n",
       "      <td>the film equivalent of a toy chest whose conte...</td>\n",
       "    </tr>\n",
       "    <tr>\n",
       "      <th>2321</th>\n",
       "      <td>-1</td>\n",
       "      <td>it's surprisingly bland despite the heavy dose...</td>\n",
       "    </tr>\n",
       "    <tr>\n",
       "      <th>2360</th>\n",
       "      <td>-1</td>\n",
       "      <td>falters when it takes itself too seriously and...</td>\n",
       "    </tr>\n",
       "  </tbody>\n",
       "</table>\n",
       "</div>"
      ],
      "text/plain": [
       "      Sentiment                                               Text\n",
       "1088         -1  generic slasher-movie nonsense , but it's not ...\n",
       "1387          1  few films this year have been as resolute in t...\n",
       "217          -1  the film equivalent of a toy chest whose conte...\n",
       "2321         -1  it's surprisingly bland despite the heavy dose...\n",
       "2360         -1  falters when it takes itself too seriously and..."
      ]
     },
     "execution_count": 17,
     "metadata": {},
     "output_type": "execute_result"
    }
   ],
   "source": [
    "# Algunos ejemplos\n",
    "train_df.sample(5)"
   ]
  },
  {
   "cell_type": "code",
   "execution_count": 18,
   "metadata": {},
   "outputs": [
    {
     "data": {
      "text/plain": [
       "-1    1784\n",
       " 1    1770\n",
       "Name: Sentiment, dtype: int64"
      ]
     },
     "execution_count": 18,
     "metadata": {},
     "output_type": "execute_result"
    }
   ],
   "source": [
    "train_df['Sentiment'].value_counts()"
   ]
  },
  {
   "cell_type": "code",
   "execution_count": 19,
   "metadata": {},
   "outputs": [
    {
     "data": {
      "text/plain": [
       "-1    1803\n",
       " 1    1751\n",
       "Name: Sentiment, dtype: int64"
      ]
     },
     "execution_count": 19,
     "metadata": {},
     "output_type": "execute_result"
    }
   ],
   "source": [
    "test_df['Sentiment'].value_counts()"
   ]
  },
  {
   "cell_type": "markdown",
   "metadata": {},
   "source": [
    "Para el conjunto de entrenamiento existen $1770$ comentarios positivos y $1784$ negativos. Para el conjunto de pruebas existen $1751$ comentarios positivos y $1803$ negativos."
   ]
  },
  {
   "cell_type": "markdown",
   "metadata": {},
   "source": [
    "(b) Construya una función, denominada *word_extractor*, que devuelva una lista de las palabras contenidas en un determinado un trozo de texto. Incorpore en su función las operaciones de lower-casing y stemming. Pruebe la función con las frases sugeridas en el código, invente otras similares y comente. Compare con los resultados obtenidos si no se hace stemming."
   ]
  },
  {
   "cell_type": "code",
   "execution_count": 20,
   "metadata": {},
   "outputs": [
    {
     "name": "stdout",
     "output_type": "stream",
     "text": [
      " love eat cake\n",
      " love eat cake\n",
      " love eat cake\n",
      " not love eat cake\n",
      " n't love eat cake\n",
      " love eat cake\n",
      " love eat cake\n",
      " 'm love eat cake\n",
      " eat eat eat\n"
     ]
    }
   ],
   "source": [
    "import re, time\n",
    "from nltk.corpus import stopwords\n",
    "from nltk import WordNetLemmatizer, word_tokenize\n",
    "from nltk.stem.porter import PorterStemmer\n",
    "\n",
    "def word_extractor(text, stemming=True):\n",
    "    ps = PorterStemmer()\n",
    "    commonwords = stopwords.words('english')\n",
    "    commonwords.remove(\"not\")\n",
    "    text = re.sub(r'([a-z])\\1+', r'\\1\\1',text)\n",
    "    words = \"\"\n",
    "    \n",
    "    if stemming is True:\n",
    "        wordtokens = [ ps.stem(word.lower()) \\\n",
    "            for word in word_tokenize(text.decode('utf-8', 'ignore')) ]\n",
    "    else:\n",
    "        wordtokens = [ word.lower() \\\n",
    "            for word in word_tokenize(text.decode('utf-8', 'ignore')) ]\n",
    "    \n",
    "    for word in wordtokens:\n",
    "        if word not in commonwords:\n",
    "            words+=\" \"+word\n",
    "            \n",
    "    return words\n",
    "\n",
    "print word_extractor(\"I love to eat cake\")\n",
    "print word_extractor(\"I love eating cake\")\n",
    "print word_extractor(\"I loved eating the cake\")\n",
    "print word_extractor(\"I do not love eating cake\")\n",
    "print word_extractor(\"I don't love eating cake\")\n",
    "print word_extractor(\"I Love EATING CAKE\")\n",
    "print word_extractor(\"I love to eat cakes\")\n",
    "print word_extractor(\"I'm loving to eat cakes\")\n",
    "print word_extractor(\"eated eated eated\")"
   ]
  },
  {
   "cell_type": "code",
   "execution_count": 21,
   "metadata": {},
   "outputs": [
    {
     "name": "stdout",
     "output_type": "stream",
     "text": [
      " love eat cake\n",
      " love eating cake\n",
      " loved eating cake\n",
      " not love eating cake\n",
      " n't love eating cake\n",
      " love eating cake\n",
      " love eat cake\n",
      " 'm loving eat cakes\n",
      " eated eated eated\n"
     ]
    }
   ],
   "source": [
    "# Sin usar stemming\n",
    "print word_extractor(\"I love to eat cake\", False)\n",
    "print word_extractor(\"I love eating cake\", False)\n",
    "print word_extractor(\"I loved eating the cake\", False)\n",
    "print word_extractor(\"I do not love eating cake\", False)\n",
    "print word_extractor(\"I don't love eating cake\", False)\n",
    "print word_extractor(\"I Love EATING CAKE\", False)\n",
    "print word_extractor(\"I love to eat cakes\")\n",
    "print word_extractor(\"I'm loving to eat cakes\", False)\n",
    "print word_extractor(\"eated eated eated\", False)"
   ]
  },
  {
   "cell_type": "code",
   "execution_count": 22,
   "metadata": {},
   "outputs": [
    {
     "name": "stdout",
     "output_type": "stream",
     "text": [
      " far far away , behind word mountain , far countri vokalia consonantia , live blind text . separ live bookmarksgrov right coast semant , larg languag ocean .\n",
      " far far away , behind word mountains , far countries vokalia consonantia , live blind texts . separated live bookmarksgrove right coast semantics , large language ocean .\n"
     ]
    }
   ],
   "source": [
    "text = \"Far far away, behind the word mountains, far from the countries Vokalia \\\n",
    "    and Consonantia, there live the blind texts. Separated they live in Bookmarksgrove \\\n",
    "    right at the coast of the Semantics, a large language ocean.\"\n",
    "\n",
    "print word_extractor(text)\n",
    "print word_extractor(text, False)"
   ]
  },
  {
   "cell_type": "markdown",
   "metadata": {},
   "source": [
    "La función implementada aplica Tokenize para identificar las palabras dentro del texto, transforma todas las letras a minúsculas, utiliza Stopwords para remover palabras demasiado comunes para ser relevantes y extrae la raíz de las palabras aplicando Stemmer. Esta última herramienta permite obtener una reduccion de cada palabra de forma que diversas conjugaciones sean reconocidas como equivalentes al momento de aplicar los algoritmos de minería de texto. \n",
    "\n",
    "Se aprecia por las frases utilizadas como ejemplo que la función cumple con los efectos antes mencionados. "
   ]
  },
  {
   "cell_type": "markdown",
   "metadata": {},
   "source": [
    "(c) Construya una función, denominada *word_extractor2*, análoga a la función anterior, pero que lematice las palabras en vez de hacer stemming. Pruebe la función con las frases sugeridas en el código anterior y discuta las diferencias que observa."
   ]
  },
  {
   "cell_type": "code",
   "execution_count": 23,
   "metadata": {},
   "outputs": [
    {
     "name": "stdout",
     "output_type": "stream",
     "text": [
      " love eat cake\n",
      " love eating cake\n",
      " loved eating cake\n",
      " not love eating cake\n",
      " n't love eating cake\n",
      " love eating cake\n",
      " love eat cake\n",
      " 'm loving eat cake\n",
      " eated eated eated\n"
     ]
    }
   ],
   "source": [
    "def word_extractor2(text):\n",
    "    wordlemmatizer = WordNetLemmatizer()\n",
    "    commonwords = stopwords.words('english')\n",
    "    commonwords.remove(\"not\")\n",
    "    text = re.sub(r'([a-z])\\1+', r'\\1\\1',text)\n",
    "    words = \"\"\n",
    "    wordtokens = [ wordlemmatizer.lemmatize(word.lower()) \\\n",
    "        for word in word_tokenize(text.decode('utf-8','ignore')) ]\n",
    "    \n",
    "    for word in wordtokens:\n",
    "        if word not in commonwords:\n",
    "            words+=\" \"+word\n",
    "    \n",
    "    return words\n",
    "\n",
    "print word_extractor2(\"I love to eat cake\")\n",
    "print word_extractor2(\"I love eating cake\")\n",
    "print word_extractor2(\"I loved eating the cake\")\n",
    "print word_extractor2(\"I do not love eating cake\")\n",
    "print word_extractor2(\"I don't love eating cake\")\n",
    "print word_extractor2(\"I Love EATING CAKE\")\n",
    "print word_extractor2(\"I love to eat cakes\")\n",
    "print word_extractor2(\"I'm loving to eat cakes\")\n",
    "print word_extractor2(\"eated eated eated\")"
   ]
  },
  {
   "cell_type": "code",
   "execution_count": 24,
   "metadata": {},
   "outputs": [
    {
     "name": "stdout",
     "output_type": "stream",
     "text": [
      " far far away , behind word mountain , far country vokalia consonantia , live blind text . separated live bookmarksgrove right coast semantics , large language ocean .\n"
     ]
    }
   ],
   "source": [
    "print word_extractor2(text)"
   ]
  },
  {
   "cell_type": "markdown",
   "metadata": {},
   "source": [
    "Se implementa una segunda versión de la formula de extracción de palabras, esta vez usando Lemmatizer, una alternativa a Stemmer. Esta técnica hace uso de análisis morfológico para extraer una palabra lema representativa de cada termino presente en el documento. Stemmer, por otra parte, se limita a identificar una cadena de caracteres base, pero no profundiza en la forma de las palabras. Esto implica que stemmer tenderá a ser menos preciso que lemmatizer, pudiendo reducir a una misma raíz dos términos no relacionados que compartan los mismos carácteres iniciales, independiente de si están cumpliendo una función distinta en la horación, a una raíz común que no necesariamente será una palabra real. Lemmatizer, en cambio, reconoce la función de cada termino y busca la palabra que mejor le represente, para lo cual necesita recurrir a diccionarios. \n",
    "\n",
    "En los ejemplos analizados se observa que Lemmatizer trata distinto los términos que están siendo utilizados como verbos respecto a cuando son sustantivos, pese a que tengan la misma base de caracteres. Por ejemplo eating es un verbo distinto de eat que es un sustantivo. \n",
    "\n",
    "Es posible que este comportamiento sea insuficiente para los objetivos del proceso de reducción de términos a una base, por lo que se evalúa otra configuración de Lemmatizer que permite que todos los  términos sean tratados como si fueran verbos, de forma de asegurar la reduccíon de las palabras. "
   ]
  },
  {
   "cell_type": "code",
   "execution_count": 25,
   "metadata": {},
   "outputs": [
    {
     "name": "stdout",
     "output_type": "stream",
     "text": [
      " love eat cake\n",
      " love eat cake\n",
      " love eat cake\n",
      " not love eat cake\n",
      " n't love eat cake\n",
      " love eat cake\n",
      " love eat cake\n",
      " 'm love eat cake\n",
      " eat eat eat\n"
     ]
    }
   ],
   "source": [
    "def word_extractor3(text):\n",
    "    wordlemmatizer = WordNetLemmatizer()\n",
    "    commonwords = stopwords.words('english')\n",
    "    commonwords.remove(\"not\")\n",
    "    text = re.sub(r'([a-z])\\1+', r'\\1\\1',text)\n",
    "    words = \"\"\n",
    "    wordtokens = [ wordlemmatizer.lemmatize(word.lower(), \"v\") \\\n",
    "        for word in word_tokenize(text.decode('utf-8','ignore')) ]\n",
    "    \n",
    "    for word in wordtokens:\n",
    "        if word not in commonwords:\n",
    "            words+=\" \"+word\n",
    "    \n",
    "    return words\n",
    "\n",
    "print word_extractor3(\"I love to eat cake\")\n",
    "print word_extractor3(\"I love eating cake\")\n",
    "print word_extractor3(\"I loved eating the cake\")\n",
    "print word_extractor3(\"I do not love eating cake\")\n",
    "print word_extractor3(\"I don't love eating cake\")\n",
    "print word_extractor3(\"I Love EATING CAKE\")\n",
    "print word_extractor3(\"I love to eat cakes\")\n",
    "print word_extractor3(\"I'm loving to eat cakes\")\n",
    "print word_extractor3(\"eated eated eated\")"
   ]
  },
  {
   "cell_type": "markdown",
   "metadata": {},
   "source": [
    "La tercera versión de la función de extracción de palabras asume que cada termino es un verbo al utilizar Lemmatizer. Se aprecia, en los ejemplos, que el resultado fue similar al que generaba Stemmer, siendo este último un método de uso más general, por lo que no se encuentra ventaja en usar Lemmatizer con la presunción de verbo. "
   ]
  },
  {
   "cell_type": "code",
   "execution_count": 26,
   "metadata": {
    "collapsed": true
   },
   "outputs": [],
   "source": [
    "# Version corregida por Francisco Casas\n",
    "from nltk import pos_tag\n",
    "\n",
    "def get_wordnet_tag(tag):\n",
    "    if tag.startswith('JJ'):\n",
    "        return 'a'\n",
    "    elif tag.startswith('RB') or tag == \"WRB\":\n",
    "        return 'r'\n",
    "    elif tag.startswith('NN') or tag.startswith(\"WP\"):\n",
    "        return 'n'\n",
    "    elif tag.startswith('VB'):\n",
    "        return 'v'\n",
    "    else:\n",
    "        return None\n",
    "    \n",
    "def lemmatize_words(lemmatizer,words):\n",
    "    tagged = pos_tag(words)\n",
    "    lemmas = []\n",
    "    for word, tag in tagged:\n",
    "        wntag = get_wordnet_tag(tag)\n",
    "        if wntag is None:\n",
    "            lemma = lemmatizer.lemmatize(word)\n",
    "        else:\n",
    "            lemma = lemmatizer.lemmatize(word,pos=wntag)\n",
    "        lemmas.append(lemma)\n",
    "    return lemmas\n",
    "\n",
    "def word_extractor4(text):\n",
    "    wordlemmatizer = WordNetLemmatizer()\n",
    "    commonwords = stopwords.words('english')\n",
    "    commonwords.remove(\"not\")\n",
    "    text = re.sub(r'([a-z])\\1+', r'\\1\\1',text)\n",
    "    words = \"\"\n",
    "    \n",
    "    wordtokens = [ wordlemmatizer.lemmatize(word.lower(), 'v') \\\n",
    "        for word in word_tokenize(text.decode('utf-8','ignore')) ]\n",
    "    \n",
    "    #wordtokens = lemmatize_words(wordlemmatizer, word_tokenize(text))\n",
    "    \n",
    "    for word in wordtokens:\n",
    "        if word not in commonwords:\n",
    "            words+=\" \"+word\n",
    "    return words"
   ]
  },
  {
   "cell_type": "code",
   "execution_count": 27,
   "metadata": {},
   "outputs": [
    {
     "name": "stdout",
     "output_type": "stream",
     "text": [
      " love eat cake\n",
      " love eat cake\n",
      " love eat cake\n",
      " not love eat cake\n",
      " n't love eat cake\n"
     ]
    }
   ],
   "source": [
    "print word_extractor4(\"I love to eat cake\")\n",
    "print word_extractor4(\"I love eating cake\")\n",
    "print word_extractor4(\"I loved eating the cake\")\n",
    "print word_extractor4(\"I do not love eating cake\")\n",
    "print word_extractor4(\"I don't love eating cake\")"
   ]
  },
  {
   "cell_type": "code",
   "execution_count": 28,
   "metadata": {},
   "outputs": [
    {
     "name": "stdout",
     "output_type": "stream",
     "text": [
      " far far away , behind word mountains , far countries vokalia consonantia , live blind texts . separate live bookmarksgrove right coast semantics , large language ocean .\n"
     ]
    }
   ],
   "source": [
    "print word_extractor4(text)"
   ]
  },
  {
   "cell_type": "markdown",
   "metadata": {},
   "source": [
    "(d) Utilizando la función *CountVectorizer* de la librería *sklearn* y de acuerdo a las directrices mencionadas\n",
    "en la introducción, genere una representación vectorial del texto de entrenamiento y del conjunto que usaremos para realizar pruebas. Explore el vocabulario utilizado y determine cuáles son las palabras más frecuentes en el conjunto de entrenamiento y pruebas."
   ]
  },
  {
   "cell_type": "markdown",
   "metadata": {},
   "source": [
    "Se analizará en primer lugar los resultados obtenidos utilizando Stemmer en la función de extracción de datos. "
   ]
  },
  {
   "cell_type": "code",
   "execution_count": 29,
   "metadata": {
    "collapsed": true,
    "scrolled": false
   },
   "outputs": [],
   "source": [
    "import numpy as np\n",
    "from sklearn.feature_extraction.text import CountVectorizer\n",
    "\n",
    "texts_train = [word_extractor(text) for text in train_df.Text]\n",
    "texts_test = [word_extractor(text) for text in test_df.Text]\n",
    "vectorizer = CountVectorizer(ngram_range=(1, 1), binary='False')\n",
    "vectorizer.fit(np.asarray(texts_train))\n",
    "features_train = vectorizer.transform(texts_train)\n",
    "features_test = vectorizer.transform(texts_test)\n",
    "labels_train = np.asarray((train_df.Sentiment.astype(float)+1)/2.0)\n",
    "labels_test = np.asarray((test_df.Sentiment.astype(float)+1)/2.0)\n",
    "vocab = vectorizer.get_feature_names()\n",
    "dist_train = list(np.array(features_train.sum(axis=0)).reshape(-1,))\n",
    "dist_test = list(np.array(features_test.sum(axis=0)).reshape(-1,))\n",
    "\n",
    "data_train = []\n",
    "data_test = []\n",
    "\n",
    "for tag, count in zip(vocab, dist_train):\n",
    "    data_train.append([count, str(tag)])\n",
    "    #print count, tag\n",
    "    \n",
    "for tag, count in zip(vocab, dist_test):\n",
    "    data_test.append([count, str(tag)])"
   ]
  },
  {
   "cell_type": "code",
   "execution_count": 30,
   "metadata": {},
   "outputs": [
    {
     "name": "stdout",
     "output_type": "stream",
     "text": [
      "[[574, 'film'], [477, 'movi'], [425, 'thi'], [269, 'not'], [268, 'like'], [245, 'one'], [224, 'ha'], [207, 'make'], [179, 'hi'], [176, 'stori']]\n",
      "[[572, 'film'], [530, 'movi'], [514, 'thi'], [281, 'not'], [250, 'one'], [248, 'like'], [238, 'ha'], [196, 'stori'], [187, 'make'], [184, 'hi']]\n"
     ]
    }
   ],
   "source": [
    "# Palabras mas frecuentes en los datos de train y test\n",
    "print sorted(data_train, reverse=True)[:10]\n",
    "print sorted(data_test, reverse=True)[:10]"
   ]
  },
  {
   "cell_type": "markdown",
   "metadata": {},
   "source": [
    "El efecto de haber usado Stemmer se hace patente al analizar los términos más frecuentes, los cuales se presentan cortados a su raiz. "
   ]
  },
  {
   "cell_type": "markdown",
   "metadata": {},
   "source": [
    "(e) Construya una función que evalúe el desempeño obtenido por un clasificador genérico en el conjunto de entrenamiento y en el conjunto de pruebas. Utilice y explique las métricas que calcula la función *classification_report* de la librería *sklearn*."
   ]
  },
  {
   "cell_type": "code",
   "execution_count": 31,
   "metadata": {
    "collapsed": true
   },
   "outputs": [],
   "source": [
    "from sklearn.metrics import classification_report\n",
    "\n",
    "def score_the_model(model,x,y,xt,yt,text):\n",
    "    acc_tr = model.score(x,y)\n",
    "    acc_test = model.score(xt[:-1],yt[:-1])\n",
    "    print \"Training Accuracy %s: %f\"%(text,acc_tr)\n",
    "    print \"Test Accuracy %s: %f\"%(text,acc_test)\n",
    "    print \"Detailed Analysis Testing Results ...\"\n",
    "    print(classification_report(yt, model.predict(xt), target_names=['+','-']))"
   ]
  },
  {
   "cell_type": "code",
   "execution_count": 32,
   "metadata": {},
   "outputs": [
    {
     "name": "stderr",
     "output_type": "stream",
     "text": [
      "/home/dsanmartin/anaconda3/envs/py27/lib/python2.7/site-packages/sklearn/discriminant_analysis.py:388: UserWarning: Variables are collinear.\n",
      "  warnings.warn(\"Variables are collinear.\")\n"
     ]
    },
    {
     "name": "stdout",
     "output_type": "stream",
     "text": [
      "Training Accuracy LDA: 0.993247\n",
      "Test Accuracy LDA: 0.561497\n",
      "Detailed Analysis Testing Results ...\n",
      "             precision    recall  f1-score   support\n",
      "\n",
      "          +       0.56      0.59      0.58      1803\n",
      "          -       0.56      0.53      0.54      1751\n",
      "\n",
      "avg / total       0.56      0.56      0.56      3554\n",
      "\n"
     ]
    }
   ],
   "source": [
    "from sklearn.discriminant_analysis import LinearDiscriminantAnalysis\n",
    "\n",
    "lda_model = LinearDiscriminantAnalysis()\n",
    "lda_model.fit(features_train.toarray(), labels_train)\n",
    "score_the_model(lda_model, features_train.toarray(), labels_train, features_test.toarray(), labels_test, 'LDA')"
   ]
  },
  {
   "cell_type": "code",
   "execution_count": 33,
   "metadata": {},
   "outputs": [
    {
     "name": "stderr",
     "output_type": "stream",
     "text": [
      "/home/dsanmartin/anaconda3/envs/py27/lib/python2.7/site-packages/sklearn/discriminant_analysis.py:682: UserWarning: Variables are collinear\n",
      "  warnings.warn(\"Variables are collinear\")\n"
     ]
    },
    {
     "name": "stdout",
     "output_type": "stream",
     "text": [
      "Training Accuracy QDA: 1.000000\n",
      "Test Accuracy QDA: 0.491416\n",
      "Detailed Analysis Testing Results ...\n",
      "             precision    recall  f1-score   support\n",
      "\n",
      "          +       0.50      0.42      0.46      1803\n",
      "          -       0.49      0.57      0.52      1751\n",
      "\n",
      "avg / total       0.49      0.49      0.49      3554\n",
      "\n"
     ]
    }
   ],
   "source": [
    "from sklearn.discriminant_analysis import QuadraticDiscriminantAnalysis\n",
    "\n",
    "qda_model = QuadraticDiscriminantAnalysis()\n",
    "qda_model.fit(features_train.toarray(), labels_train)\n",
    "score_the_model(qda_model, features_train.toarray(), labels_train, features_test.toarray(), labels_test, 'QDA')"
   ]
  },
  {
   "cell_type": "code",
   "execution_count": 34,
   "metadata": {},
   "outputs": [
    {
     "name": "stdout",
     "output_type": "stream",
     "text": [
      "Training Accuracy KNN: 0.730445\n",
      "Test Accuracy KNN: 0.589643\n",
      "Detailed Analysis Testing Results ...\n",
      "             precision    recall  f1-score   support\n",
      "\n",
      "          +       0.57      0.76      0.65      1803\n",
      "          -       0.63      0.42      0.50      1751\n",
      "\n",
      "avg / total       0.60      0.59      0.58      3554\n",
      "\n"
     ]
    }
   ],
   "source": [
    "from sklearn.neighbors import KNeighborsClassifier\n",
    "\n",
    "knn_model = KNeighborsClassifier(n_neighbors=10)\n",
    "knn_model.fit(features_train.toarray(), labels_train)\n",
    "score_the_model(knn_model, features_train.toarray(), labels_train, features_test.toarray(), labels_test, 'KNN')"
   ]
  },
  {
   "cell_type": "markdown",
   "metadata": {},
   "source": [
    "Las métricas presentadas son:\n",
    "\n",
    "Accuracy, corresponde al volumen de observaciones bien clasificadas, sobre la totalidad de observaciones predichas. \n",
    "\n",
    "Recall, es la proporción de observaciones de una clase que son correctamente clasificadas como tal. Es una medida del éxito del modelo predictivo en rescatar la mayor cantidad de observaciones de la clase posibles. De los modelos probados tanto LinearDiscriminantAnalysis como KNeighborsClassifier obtienen un Recall promedio similar, sin embargo el primero logra valores similares para ambas clases, a diferencia de KNeighborsClassifier que privilegia la prediccion de una clase sobre la otra, pese a no existir desbalance, con lo que logra alto Recall para una clase y bajo para otra. \n",
    "\n",
    "Precision, es la proporción de observaciones correctamente clasificadas de entre todas las que fueron predichas de una clase. Es una medida de la confiabilidad que ofrece el modelo cuando predice en una clase una observación. De los modelos probados KNeighborsClassifier obtuvo los mejores Precision en ambas clases. \n",
    "\n",
    "F1-score, es la media armónica entre la Precision y Recall. Se utiliza como alternativa para obtener un indicador que recoja estos dos aspectos contrapuestos, en un único ratio. De los modelos comparados LinearDiscriminantAnalysis logra mayor F1-score, lo cual da cuenta de que es un modelo que equilibra mejor Precision y Recall para ambas clases. \n",
    "\n",
    "De los tres algoritmos evaluados, KNeighbors presenta mejor Accuracy, Recall, Precision y F1-score. "
   ]
  },
  {
   "cell_type": "markdown",
   "metadata": {},
   "source": [
    "Se repite a continuación el experimento, esta vez usando Lemmatizer en la función de extracción de palabras. "
   ]
  },
  {
   "cell_type": "code",
   "execution_count": 35,
   "metadata": {
    "collapsed": true
   },
   "outputs": [],
   "source": [
    "import numpy as np\n",
    "from sklearn.feature_extraction.text import CountVectorizer\n",
    "\n",
    "texts_train = [word_extractor2(text) for text in train_df.Text]\n",
    "texts_test = [word_extractor2(text) for text in test_df.Text]\n",
    "vectorizer = CountVectorizer(ngram_range=(1, 1), binary='False')\n",
    "vectorizer.fit(np.asarray(texts_train))\n",
    "features_train = vectorizer.transform(texts_train)\n",
    "features_test = vectorizer.transform(texts_test)\n",
    "labels_train = np.asarray((train_df.Sentiment.astype(float)+1)/2.0)\n",
    "labels_test = np.asarray((test_df.Sentiment.astype(float)+1)/2.0)\n",
    "vocab = vectorizer.get_feature_names()\n",
    "dist_train = list(np.array(features_train.sum(axis=0)).reshape(-1,))\n",
    "dist_test = list(np.array(features_test.sum(axis=0)).reshape(-1,))\n",
    "\n",
    "data_train = []\n",
    "data_test = []\n",
    "\n",
    "for tag, count in zip(vocab, dist_train):\n",
    "    data_train.append([count, str(tag)])\n",
    "    #print count, tag\n",
    "    \n",
    "for tag, count in zip(vocab, dist_test):\n",
    "    data_test.append([count, str(tag)])"
   ]
  },
  {
   "cell_type": "code",
   "execution_count": 36,
   "metadata": {},
   "outputs": [
    {
     "name": "stdout",
     "output_type": "stream",
     "text": [
      "[[566, 'film'], [481, 'movie'], [266, 'not'], [246, 'one'], [245, 'like'], [224, 'ha'], [183, 'make'], [176, 'story'], [163, 'character'], [145, 'comedy']]\n",
      "[[558, 'film'], [540, 'movie'], [278, 'not'], [250, 'one'], [238, 'ha'], [230, 'like'], [197, 'story'], [175, 'character'], [165, 'time'], [161, 'make']]\n"
     ]
    }
   ],
   "source": [
    "# Palabras mas frecuentes en los datos de train y test\n",
    "print sorted(data_train, reverse=True)[:10]\n",
    "print sorted(data_test, reverse=True)[:10]"
   ]
  },
  {
   "cell_type": "markdown",
   "metadata": {},
   "source": [
    "Claramente el uso de Lemmatize facilita la legibilidad de los términos más frecuentes, aunque es posible que algunos terminos que pudieron o debieron ser asimilados no lo fueran, perjudicando la medida de su frecuencia real. "
   ]
  },
  {
   "cell_type": "code",
   "execution_count": 37,
   "metadata": {},
   "outputs": [
    {
     "name": "stdout",
     "output_type": "stream",
     "text": [
      "Training Accuracy LDA: 0.991840\n",
      "Test Accuracy LDA: 0.583732\n",
      "Detailed Analysis Testing Results ...\n",
      "             precision    recall  f1-score   support\n",
      "\n",
      "          +       0.59      0.58      0.59      1803\n",
      "          -       0.58      0.59      0.58      1751\n",
      "\n",
      "avg / total       0.58      0.58      0.58      3554\n",
      "\n"
     ]
    }
   ],
   "source": [
    "from sklearn.discriminant_analysis import LinearDiscriminantAnalysis\n",
    "\n",
    "lda_model = LinearDiscriminantAnalysis()\n",
    "lda_model.fit(features_train.toarray(), labels_train)\n",
    "score_the_model(lda_model, features_train.toarray(), labels_train, features_test.toarray(), labels_test, 'LDA')"
   ]
  },
  {
   "cell_type": "markdown",
   "metadata": {},
   "source": [
    "El uso de Lemmatize en lugar de Stemmer aportó a un mejor desempeño de LDA (Linear Discriminant Analyzis). "
   ]
  },
  {
   "cell_type": "code",
   "execution_count": 38,
   "metadata": {},
   "outputs": [
    {
     "name": "stdout",
     "output_type": "stream",
     "text": [
      "Training Accuracy QDA: 1.000000\n",
      "Test Accuracy QDA: 0.485505\n",
      "Detailed Analysis Testing Results ...\n",
      "             precision    recall  f1-score   support\n",
      "\n",
      "          +       0.49      0.51      0.50      1803\n",
      "          -       0.48      0.46      0.47      1751\n",
      "\n",
      "avg / total       0.49      0.49      0.49      3554\n",
      "\n"
     ]
    }
   ],
   "source": [
    "from sklearn.discriminant_analysis import QuadraticDiscriminantAnalysis\n",
    "\n",
    "qda_model = QuadraticDiscriminantAnalysis()\n",
    "qda_model.fit(features_train.toarray(), labels_train)\n",
    "score_the_model(qda_model, features_train.toarray(), labels_train, features_test.toarray(), labels_test, 'QDA')"
   ]
  },
  {
   "cell_type": "code",
   "execution_count": 39,
   "metadata": {},
   "outputs": [
    {
     "name": "stdout",
     "output_type": "stream",
     "text": [
      "Training Accuracy KNN: 0.684862\n",
      "Test Accuracy KNN: 0.583169\n",
      "Detailed Analysis Testing Results ...\n",
      "             precision    recall  f1-score   support\n",
      "\n",
      "          +       0.56      0.83      0.67      1803\n",
      "          -       0.66      0.32      0.43      1751\n",
      "\n",
      "avg / total       0.61      0.58      0.55      3554\n",
      "\n"
     ]
    }
   ],
   "source": [
    "from sklearn.neighbors import KNeighborsClassifier\n",
    "\n",
    "knn_model = KNeighborsClassifier(n_neighbors=10)\n",
    "knn_model.fit(features_train.toarray(), labels_train)\n",
    "score_the_model(knn_model, features_train.toarray(), labels_train, features_test.toarray(), labels_test, 'KNN')"
   ]
  },
  {
   "cell_type": "markdown",
   "metadata": {},
   "source": [
    "El uso de Lemmatizer en lugar de Stemmer no significó una mejora significativa para KNeighbors, que sigue siendo el algoritmo mejor evaluado de los tres, puesto que si bien incrementa levemente el Recall lo hace a costa de menor Precision, alcanzando además menor Accuracy y F1-score. "
   ]
  },
  {
   "cell_type": "markdown",
   "metadata": {},
   "source": [
    "(f) Construya una función que entrene/ajuste un clasificador *Bayesiano Ingenuo (Binario)* (las características\n",
    "no nulas serán tratadas como 1) y mida el error de predicción obtenido sobre los datos de entrenamiento y pruebas. Utilice esta función con las características extraídas en el punto (d). Mida el efecto de filtrar *stopwords* y de eliminar este paso de pre-procesamiento típico. Determine además, qué representación obtiene un mejor resultado: si aquella obtenida vía lematización o aquella obtenida vía stemming. Finalmente, tome un subconjunto aleatorio de los textos de prueba y analice las predicciones del modelo (explore las predicciones, así como las probabilidades que el clasificador asigna a cada clase)."
   ]
  },
  {
   "cell_type": "code",
   "execution_count": 40,
   "metadata": {},
   "outputs": [
    {
     "name": "stdout",
     "output_type": "stream",
     "text": [
      "Training Accuracy BernoulliNB: 0.958920\n",
      "Test Accuracy BernoulliNB: 0.738249\n",
      "Detailed Analysis Testing Results ...\n",
      "             precision    recall  f1-score   support\n",
      "\n",
      "          +       0.75      0.73      0.74      1803\n",
      "          -       0.73      0.75      0.74      1751\n",
      "\n",
      "avg / total       0.74      0.74      0.74      3554\n",
      "\n",
      "[ 0.01249961  0.98750039] mr . polanski is in his element here : alone , abandoned , but still consoled by his art , which is more than he has ever revealed before about the source of his spiritual survival .\n",
      "\n",
      "[ 0.06511049  0.93488951] a sugar-coated rocky whose valuable messages are forgotten 10 minutes after the last trombone honks .\n",
      "\n",
      "[ 0.00826585  0.99173415] made-up lampoons the moviemaking process itself , while shining a not particularly flattering spotlight on america's skin-deep notions of pulchritude .\n",
      "\n",
      "[ 0.06531974  0.93468026] 'no es la mejor cinta de la serie , ni la mejor con brosnan a la cabeza , pero de que entretiene ni duda cabe . '\n",
      "\n",
      "[ 0.32957393  0.67042607] a charmer from belgium .\n",
      "\n",
      "[ 0.89427117  0.10572883] a good-natured ensemble comedy that tries hard to make the most of a bumper cast , but never quite gets off the ground .\n",
      "\n",
      "[ 0.00483088  0.99516912] shanghai ghetto may not be as dramatic as roman polanski's the pianist , but its compassionate spirit soars every bit as high .\n",
      "\n",
      "[ 0.82274232  0.17725768] no , it's not as single-minded as john carpenter's original , but it's sure a lot smarter and more unnerving than the sequels .\n",
      "\n",
      "[ 0.96320143  0.03679857] you wonder why enough wasn't just a music video rather than a full-length movie .\n",
      "\n",
      "[ 0.35233722  0.64766278] it all adds up to good fun .\n",
      "\n",
      "[ 0.83025701  0.16974299] there are plenty of scenes in frida that do work , but rarely do they involve the title character herself .\n",
      "\n",
      "[ 0.0116818  0.9883182] alternately hilarious and sad , aggravating and soulful , scathing and joyous . it's a masterpeice .\n",
      "\n",
      "[ 0.67567362  0.32432638] though writer/director bart freundlich's film ultimately becomes a simplistic story about a dysfunctional parent-child relationship , it has some special qualities and the soulful gravity of crudup's anchoring performance .\n",
      "\n",
      "[ 0.09522437  0.90477563] it's not a great monster movie . but if you've paid a matinee price and bought a big tub of popcorn , there's guilty fun to be had here . chomp chomp !\n",
      "\n",
      "[ 0.14124068  0.85875932] fuller would surely have called this gutsy and at times exhilarating movie a great yarn .\n",
      "\n"
     ]
    }
   ],
   "source": [
    "from sklearn.naive_bayes import BernoulliNB\n",
    "import random\n",
    "def do_NAIVE_BAYES(x,y,xt,yt):\n",
    "    model = BernoulliNB()\n",
    "    model = model.fit(x, y)\n",
    "    score_the_model(model,x,y,xt,yt,\"BernoulliNB\")\n",
    "    return model\n",
    "\n",
    "model=do_NAIVE_BAYES(features_train,labels_train,features_test,labels_test)\n",
    "test_pred = model.predict_proba(features_test)\n",
    "spl = random.sample(xrange(len(test_pred)), 15)\n",
    "for text, sentiment in zip(test_df.Text[spl], test_pred[spl]):\n",
    "    print sentiment, text"
   ]
  },
  {
   "cell_type": "markdown",
   "metadata": {},
   "source": [
    "Se aprecia que la calidad de las predicciones es bastante buena. Por ejemplo:\n",
    "* Los primeros cuatro ejemplos muestran más de 90% de probabilidad de ser positivo, y en efecto el texto entrega buenos comentarios sobre las películas.\n",
    "* El noveno ejemplo se predice negativo con 99%, correspondiendo claramente al texto que acusa al film en duros términos.\n",
    "* Algunos ejemplos no tienen una tan clara opinión, y se condice con el resultado que muestra el algoritmo con porcentajes \"neutrales\" o diferenciando muy levemente entre opiniones.\n",
    "\n",
    "En general notamos que el algoritmo se comporta adecuadamente."
   ]
  },
  {
   "cell_type": "markdown",
   "metadata": {},
   "source": [
    "(g) Construya una función que entrene/ajuste una *Máquina de Vectores de Soporte (SVM) Lineal* y mida el error de predicción obtenido sobre los datos de entrenamiento y pruebas. Incluya en su función la exploración de diferentes valores del parámetro de regularización $C$. Discuta el significado y efecto esperado de este parámetro. Utilice la función construida con los atributos extraídos en el punto (d). Mida el efecto de filtrar *stopwords* y de eliminar este paso de pre-procesamiento típico. Determine además, qué representaciṕn obtiene un mejor resultado: si aquella obtenida vía lematización o aquella obtenida vía stemming. Finalmente, tome un subconjunto aleatorio de los textos de prueba y analice las predicciones del modelo (explore las predicciones, así como las probabilidades que el clasificador asigna a cada clase)."
   ]
  },
  {
   "cell_type": "markdown",
   "metadata": {},
   "source": [
    "Se analiza en primer lugar la situación en la que no se usan Stopwords, es decir todos los términos permaneceran en el texto. Se utlizará Stemmer para la reducción de los términos.  "
   ]
  },
  {
   "cell_type": "code",
   "execution_count": 41,
   "metadata": {},
   "outputs": [],
   "source": [
    "import re, time\n",
    "from nltk.corpus import stopwords\n",
    "from nltk import WordNetLemmatizer, word_tokenize\n",
    "from nltk.stem.porter import PorterStemmer\n",
    "\n",
    "def word_extractor(text):\n",
    "    ps = PorterStemmer()\n",
    "    #commonwords = stopwords.words('english')\n",
    "    commonwords = []\n",
    "    #commonwords.remove(\"not\")\n",
    "    text = re.sub(r'([a-z])\\1+', r'\\1\\1',text)\n",
    "    words = \"\"\n",
    "    wordtokens = [ ps.stem(word.lower()) \\\n",
    "        for word in word_tokenize(text.decode('utf-8', 'ignore')) ]\n",
    "    \n",
    "    for word in wordtokens:\n",
    "        if word not in commonwords:\n",
    "            words+=\" \"+word\n",
    "            \n",
    "    return words"
   ]
  },
  {
   "cell_type": "code",
   "execution_count": 42,
   "metadata": {
    "collapsed": true
   },
   "outputs": [],
   "source": [
    "import numpy as np\n",
    "from sklearn.feature_extraction.text import CountVectorizer\n",
    "\n",
    "texts_train = [word_extractor(text) for text in train_df.Text]\n",
    "texts_test = [word_extractor(text) for text in test_df.Text]\n",
    "vectorizer = CountVectorizer(ngram_range=(1, 1), binary='False')\n",
    "vectorizer.fit(np.asarray(texts_train))\n",
    "features_train = vectorizer.transform(texts_train)\n",
    "features_test = vectorizer.transform(texts_test)\n",
    "labels_train = np.asarray((train_df.Sentiment.astype(float)+1)/2.0)\n",
    "labels_test = np.asarray((test_df.Sentiment.astype(float)+1)/2.0)\n",
    "vocab = vectorizer.get_feature_names()\n",
    "dist_train = list(np.array(features_train.sum(axis=0)).reshape(-1,))\n",
    "dist_test = list(np.array(features_test.sum(axis=0)).reshape(-1,))\n",
    "\n",
    "data_train = []\n",
    "data_test = []\n",
    "\n",
    "for tag, count in zip(vocab, dist_train):\n",
    "    data_train.append([count, str(tag)])\n",
    "    #print count, tag\n",
    "    \n",
    "for tag, count in zip(vocab, dist_test):\n",
    "    data_test.append([count, str(tag)])"
   ]
  },
  {
   "cell_type": "markdown",
   "metadata": {},
   "source": [
    "El parámetro de regularización C multiplica los errores obtenidos por el modelo, por lo que es una forma de castigar las observaciones mal clasificadas. Un parámetro alto hará que SVM busque un hiperplano de margen más estrecho, es decir con observaciones muy cernanas, en la medida que logre menor cantidad de observaciones mal clasificadas, respecto de un hiperplano de mayor márgen que entregue mayor cantidad de mal clasificados. Por lo mismo, un parámetro de regularización muy alto puede facilitar el sobreajuste del modelo.  "
   ]
  },
  {
   "cell_type": "code",
   "execution_count": 43,
   "metadata": {},
   "outputs": [
    {
     "name": "stdout",
     "output_type": "stream",
     "text": [
      "C Value: 0.010000\n",
      "Training Accuracy SVM: 0.869162\n",
      "Test Accuracy SVM: 0.731213\n",
      "Detailed Analysis Testing Results ...\n",
      "             precision    recall  f1-score   support\n",
      "\n",
      "          +       0.73      0.74      0.74      1803\n",
      "          -       0.73      0.72      0.72      1751\n",
      "\n",
      "avg / total       0.73      0.73      0.73      3554\n",
      "\n",
      "C Value: 0.100000\n",
      "Training Accuracy SVM: 0.983399\n",
      "Test Accuracy SVM: 0.740501\n",
      "Detailed Analysis Testing Results ...\n",
      "             precision    recall  f1-score   support\n",
      "\n",
      "          +       0.75      0.74      0.74      1803\n",
      "          -       0.73      0.74      0.74      1751\n",
      "\n",
      "avg / total       0.74      0.74      0.74      3554\n",
      "\n",
      "C Value: 10.000000\n",
      "Training Accuracy SVM: 1.000000\n",
      "Test Accuracy SVM: 0.717422\n",
      "Detailed Analysis Testing Results ...\n",
      "             precision    recall  f1-score   support\n",
      "\n",
      "          +       0.73      0.70      0.72      1803\n",
      "          -       0.70      0.73      0.72      1751\n",
      "\n",
      "avg / total       0.72      0.72      0.72      3554\n",
      "\n",
      "C Value: 100.000000\n",
      "Training Accuracy SVM: 1.000000\n",
      "Test Accuracy SVM: 0.715452\n",
      "Detailed Analysis Testing Results ...\n",
      "             precision    recall  f1-score   support\n",
      "\n",
      "          +       0.73      0.70      0.71      1803\n",
      "          -       0.70      0.73      0.72      1751\n",
      "\n",
      "avg / total       0.72      0.72      0.72      3554\n",
      "\n",
      "C Value: 1000.000000\n",
      "Training Accuracy SVM: 1.000000\n",
      "Test Accuracy SVM: 0.713763\n",
      "Detailed Analysis Testing Results ...\n",
      "             precision    recall  f1-score   support\n",
      "\n",
      "          +       0.73      0.70      0.71      1803\n",
      "          -       0.70      0.73      0.72      1751\n",
      "\n",
      "avg / total       0.71      0.71      0.71      3554\n",
      "\n"
     ]
    }
   ],
   "source": [
    "from sklearn.svm import LinearSVC\n",
    "\n",
    "def do_SVM(x,y,xt,yt):\n",
    "    Cs = [0.01,0.1,10,100,1000]\n",
    "    for C in Cs:\n",
    "        print \"C Value: %f\"%C\n",
    "        model = LinearSVC(C=C)\n",
    "        model = model.fit(x, y)\n",
    "        score_the_model(model,x,y,xt,yt,\"SVM\")\n",
    "        \n",
    "do_SVM(features_train,labels_train,features_test,labels_test)"
   ]
  },
  {
   "cell_type": "markdown",
   "metadata": {},
   "source": [
    "A continuación se repetirá el experimento, esta vez quitando los Stopwords. Se continua usando Stemmer."
   ]
  },
  {
   "cell_type": "code",
   "execution_count": 44,
   "metadata": {},
   "outputs": [],
   "source": [
    "import re, time\n",
    "from nltk.corpus import stopwords\n",
    "from nltk import WordNetLemmatizer, word_tokenize\n",
    "from nltk.stem.porter import PorterStemmer\n",
    "\n",
    "def word_extractor(text):\n",
    "    ps = PorterStemmer()\n",
    "    commonwords = stopwords.words('english')\n",
    "    commonwords.remove(\"not\")\n",
    "    text = re.sub(r'([a-z])\\1+', r'\\1\\1',text)\n",
    "    words = \"\"\n",
    "    wordtokens = [ ps.stem(word.lower()) \\\n",
    "        for word in word_tokenize(text.decode('utf-8', 'ignore')) ]\n",
    "    \n",
    "    for word in wordtokens:\n",
    "        if word not in commonwords:\n",
    "            words+=\" \"+word\n",
    "            \n",
    "    return words"
   ]
  },
  {
   "cell_type": "code",
   "execution_count": 45,
   "metadata": {
    "collapsed": true
   },
   "outputs": [],
   "source": [
    "import numpy as np\n",
    "from sklearn.feature_extraction.text import CountVectorizer\n",
    "\n",
    "texts_train = [word_extractor(text) for text in train_df.Text]\n",
    "texts_test = [word_extractor(text) for text in test_df.Text]\n",
    "vectorizer = CountVectorizer(ngram_range=(1, 1), binary='False')\n",
    "vectorizer.fit(np.asarray(texts_train))\n",
    "features_train = vectorizer.transform(texts_train)\n",
    "features_test = vectorizer.transform(texts_test)\n",
    "labels_train = np.asarray((train_df.Sentiment.astype(float)+1)/2.0)\n",
    "labels_test = np.asarray((test_df.Sentiment.astype(float)+1)/2.0)\n",
    "vocab = vectorizer.get_feature_names()\n",
    "dist_train = list(np.array(features_train.sum(axis=0)).reshape(-1,))\n",
    "dist_test = list(np.array(features_test.sum(axis=0)).reshape(-1,))\n",
    "\n",
    "data_train = []\n",
    "data_test = []\n",
    "\n",
    "for tag, count in zip(vocab, dist_train):\n",
    "    data_train.append([count, str(tag)])\n",
    "    #print count, tag\n",
    "    \n",
    "for tag, count in zip(vocab, dist_test):\n",
    "    data_test.append([count, str(tag)])"
   ]
  },
  {
   "cell_type": "code",
   "execution_count": 46,
   "metadata": {},
   "outputs": [
    {
     "name": "stdout",
     "output_type": "stream",
     "text": [
      "C Value: 0.001000\n",
      "Training Accuracy SVM: 0.775746\n",
      "Test Accuracy SVM: 0.687869\n",
      "Detailed Analysis Testing Results ...\n",
      "             precision    recall  f1-score   support\n",
      "\n",
      "          +       0.68      0.73      0.70      1803\n",
      "          -       0.70      0.65      0.67      1751\n",
      "\n",
      "avg / total       0.69      0.69      0.69      3554\n",
      "\n",
      "C Value: 0.010000\n",
      "Training Accuracy SVM: 0.872257\n",
      "Test Accuracy SVM: 0.729243\n",
      "Detailed Analysis Testing Results ...\n",
      "             precision    recall  f1-score   support\n",
      "\n",
      "          +       0.73      0.75      0.74      1803\n",
      "          -       0.73      0.71      0.72      1751\n",
      "\n",
      "avg / total       0.73      0.73      0.73      3554\n",
      "\n",
      "C Value: 0.100000\n",
      "Training Accuracy SVM: 0.981992\n",
      "Test Accuracy SVM: 0.731213\n",
      "Detailed Analysis Testing Results ...\n",
      "             precision    recall  f1-score   support\n",
      "\n",
      "          +       0.74      0.73      0.73      1803\n",
      "          -       0.73      0.73      0.73      1751\n",
      "\n",
      "avg / total       0.73      0.73      0.73      3554\n",
      "\n",
      "C Value: 10.000000\n",
      "Training Accuracy SVM: 1.000000\n",
      "Test Accuracy SVM: 0.704757\n",
      "Detailed Analysis Testing Results ...\n",
      "             precision    recall  f1-score   support\n",
      "\n",
      "          +       0.72      0.69      0.70      1803\n",
      "          -       0.69      0.72      0.71      1751\n",
      "\n",
      "avg / total       0.71      0.70      0.70      3554\n",
      "\n",
      "C Value: 100.000000\n",
      "Training Accuracy SVM: 1.000000\n",
      "Test Accuracy SVM: 0.702786\n",
      "Detailed Analysis Testing Results ...\n",
      "             precision    recall  f1-score   support\n",
      "\n",
      "          +       0.71      0.69      0.70      1803\n",
      "          -       0.69      0.71      0.70      1751\n",
      "\n",
      "avg / total       0.70      0.70      0.70      3554\n",
      "\n",
      "C Value: 1000.000000\n",
      "Training Accuracy SVM: 1.000000\n",
      "Test Accuracy SVM: 0.702505\n",
      "Detailed Analysis Testing Results ...\n",
      "             precision    recall  f1-score   support\n",
      "\n",
      "          +       0.71      0.69      0.70      1803\n",
      "          -       0.69      0.71      0.70      1751\n",
      "\n",
      "avg / total       0.70      0.70      0.70      3554\n",
      "\n"
     ]
    }
   ],
   "source": [
    "from sklearn.svm import LinearSVC\n",
    "\n",
    "def do_SVM(x,y,xt,yt):\n",
    "    Cs = [0.001, 0.01,0.1,10,100,1000 ]\n",
    "    for C in Cs:\n",
    "        print \"C Value: %f\"%C\n",
    "        model = LinearSVC(C=C)\n",
    "        model = model.fit(x, y)\n",
    "        score_the_model(model,x,y,xt,yt,\"SVM\")\n",
    "        \n",
    "do_SVM(features_train,labels_train,features_test,labels_test)"
   ]
  },
  {
   "cell_type": "markdown",
   "metadata": {},
   "source": [
    "En ambos experimentos, con Stopwords y sin ellas, SVM obtiene mejor resultado con parámetro de regularización C = 0.1, tanto respecto el Accuracy como F1-score. Se aprecia además que tiene un resultado levemente mejor cuando no se elimina los Stopwords, siempre sobre la muestra de testeo. La eliminación de los Stopword, si bien aportan eficiencia al aprendizaje, aparentemente restan capacidad predictiva al modelo. "
   ]
  },
  {
   "cell_type": "markdown",
   "metadata": {},
   "source": [
    "A continuación se reemplazará Stemmer por Lemmatizer, y se evaluará nuevamente el modelo, usando la versión del data set que sí contiene los Stopwords. "
   ]
  },
  {
   "cell_type": "code",
   "execution_count": 47,
   "metadata": {},
   "outputs": [],
   "source": [
    "import re, time\n",
    "from nltk.corpus import stopwords\n",
    "from nltk import WordNetLemmatizer, word_tokenize\n",
    "from nltk.stem.porter import PorterStemmer\n",
    "\n",
    "def word_extractor2(text):\n",
    "    wordlemmatizer = WordNetLemmatizer()\n",
    "    ps = PorterStemmer()\n",
    "    #commonwords = stopwords.words('english')\n",
    "    commonwords = []\n",
    "    #commonwords.remove(\"not\")\n",
    "    text = re.sub(r'([a-z])\\1+', r'\\1\\1',text)\n",
    "    words = \"\"\n",
    "    wordtokens = [ wordlemmatizer.lemmatize(word.lower()) \\\n",
    "        for word in word_tokenize(text.decode('utf-8','ignore')) ]\n",
    "    \n",
    "    for word in wordtokens:\n",
    "        if word not in commonwords:\n",
    "            words+=\" \"+word\n",
    "            \n",
    "    return words"
   ]
  },
  {
   "cell_type": "code",
   "execution_count": 48,
   "metadata": {
    "collapsed": true
   },
   "outputs": [],
   "source": [
    "import numpy as np\n",
    "from sklearn.feature_extraction.text import CountVectorizer\n",
    "\n",
    "texts_train = [word_extractor2(text) for text in train_df.Text]\n",
    "texts_test = [word_extractor2(text) for text in test_df.Text]\n",
    "vectorizer = CountVectorizer(ngram_range=(1, 1), binary='False')\n",
    "vectorizer.fit(np.asarray(texts_train))\n",
    "features_train = vectorizer.transform(texts_train)\n",
    "features_test = vectorizer.transform(texts_test)\n",
    "labels_train = np.asarray((train_df.Sentiment.astype(float)+1)/2.0)\n",
    "labels_test = np.asarray((test_df.Sentiment.astype(float)+1)/2.0)\n",
    "vocab = vectorizer.get_feature_names()\n",
    "dist_train = list(np.array(features_train.sum(axis=0)).reshape(-1,))\n",
    "dist_test = list(np.array(features_test.sum(axis=0)).reshape(-1,))\n",
    "\n",
    "data_train = []\n",
    "data_test = []\n",
    "\n",
    "for tag, count in zip(vocab, dist_train):\n",
    "    data_train.append([count, str(tag)])\n",
    "    #print count, tag\n",
    "    \n",
    "for tag, count in zip(vocab, dist_test):\n",
    "    data_test.append([count, str(tag)])"
   ]
  },
  {
   "cell_type": "code",
   "execution_count": 49,
   "metadata": {
    "scrolled": false
   },
   "outputs": [
    {
     "name": "stdout",
     "output_type": "stream",
     "text": [
      "C Value: 0.001000\n",
      "Training Accuracy SVM: 0.720034\n",
      "Test Accuracy SVM: 0.665072\n",
      "Detailed Analysis Testing Results ...\n",
      "             precision    recall  f1-score   support\n",
      "\n",
      "          +       0.67      0.68      0.67      1803\n",
      "          -       0.66      0.65      0.66      1751\n",
      "\n",
      "avg / total       0.67      0.67      0.67      3554\n",
      "\n",
      "C Value: 0.010000\n",
      "Training Accuracy SVM: 0.873382\n",
      "Test Accuracy SVM: 0.719111\n",
      "Detailed Analysis Testing Results ...\n",
      "             precision    recall  f1-score   support\n",
      "\n",
      "          +       0.72      0.72      0.72      1803\n",
      "          -       0.71      0.72      0.72      1751\n",
      "\n",
      "avg / total       0.72      0.72      0.72      3554\n",
      "\n",
      "C Value: 0.100000\n",
      "Training Accuracy SVM: 0.987901\n",
      "Test Accuracy SVM: 0.738249\n",
      "Detailed Analysis Testing Results ...\n",
      "             precision    recall  f1-score   support\n",
      "\n",
      "          +       0.75      0.73      0.74      1803\n",
      "          -       0.73      0.75      0.74      1751\n",
      "\n",
      "avg / total       0.74      0.74      0.74      3554\n",
      "\n",
      "C Value: 10.000000\n",
      "Training Accuracy SVM: 1.000000\n",
      "Test Accuracy SVM: 0.713763\n",
      "Detailed Analysis Testing Results ...\n",
      "             precision    recall  f1-score   support\n",
      "\n",
      "          +       0.73      0.69      0.71      1803\n",
      "          -       0.70      0.74      0.72      1751\n",
      "\n",
      "avg / total       0.71      0.71      0.71      3554\n",
      "\n",
      "C Value: 100.000000\n",
      "Training Accuracy SVM: 1.000000\n",
      "Test Accuracy SVM: 0.714889\n",
      "Detailed Analysis Testing Results ...\n",
      "             precision    recall  f1-score   support\n",
      "\n",
      "          +       0.73      0.69      0.71      1803\n",
      "          -       0.70      0.74      0.72      1751\n",
      "\n",
      "avg / total       0.72      0.71      0.71      3554\n",
      "\n",
      "C Value: 1000.000000\n",
      "Training Accuracy SVM: 1.000000\n",
      "Test Accuracy SVM: 0.714889\n",
      "Detailed Analysis Testing Results ...\n",
      "             precision    recall  f1-score   support\n",
      "\n",
      "          +       0.73      0.69      0.71      1803\n",
      "          -       0.70      0.74      0.72      1751\n",
      "\n",
      "avg / total       0.72      0.71      0.71      3554\n",
      "\n"
     ]
    }
   ],
   "source": [
    "from sklearn.svm import LinearSVC\n",
    "\n",
    "def do_SVM(x,y,xt,yt):\n",
    "    Cs = [0.001, 0.01,0.1,10,100,1000 ]\n",
    "    for C in Cs:\n",
    "        print \"C Value: %f\"%C\n",
    "        model = LinearSVC(C=C)\n",
    "        model = model.fit(x, y)\n",
    "        score_the_model(model,x,y,xt,yt,\"SVM\")\n",
    "        \n",
    "do_SVM(features_train,labels_train,features_test,labels_test)"
   ]
  },
  {
   "cell_type": "markdown",
   "metadata": {},
   "source": [
    "Nuevamente el mejor desempeño de SVM se produce con parámetro de regularizacion $C = 0.1$. El uso de Lemmatizer en lugar de Stemmer, sin embargo, perjudica la capacidad predictiva del modelo. "
   ]
  },
  {
   "cell_type": "markdown",
   "metadata": {},
   "source": [
    "## 3 Fraude en transacciones bancarias\n",
    "\n",
    "El mundo está más globalizado, servicios que antes solo se podían hacer de manera presencial hoy en día están disponibles de forma electrónica, el más claro ejemplo de esto son las transacciones bancarias. La ventaja de este cambio es que cualquier persona en el mundo puede enviar dinero de un lado a otro en cosa de segundos, por consecuencia, la cantidad de transacciones aumentó mucho. La desventaja es que es más fácil cometer fraudes, debido a que las únicas barreras de protección que tenemos ante estas malas prácticas son códigos de seguridad (Clave secreta, matriz de números, etc.) que si caen en manos de gente deshonesta lo más probable es que se comenta algún tipo fraude. \n",
    "\n",
    "En esta sección utilizaremos un dataset de *Kaggle* [3] que contiene transacciones bancarias, el desafío está en que sus clases están desbalanceadas, por lo tanto, utilizaremos 3 técnicas para hacer frente a este problema. El *dataset* contiene transacciones hechas por tarjetas de créditos europeas durante un periodo de 2 días, donde 492 de 284807 fueron fraudulentas. Cada dato tiene como atributo 28 componentes principales obtenidos por PCA (Esto se hace para enmascarar datos sensibles), una variable tiempo y el monto de la transacción."
   ]
  },
  {
   "cell_type": "markdown",
   "metadata": {},
   "source": [
    "(a) Descargue y cargue el archivo, genere un gráfico que compare la cantidad de elementos que hay por clase."
   ]
  },
  {
   "cell_type": "code",
   "execution_count": 50,
   "metadata": {},
   "outputs": [
    {
     "data": {
      "image/png": "[encoded data removed]",
      "text/plain": [
       "<matplotlib.figure.Figure at 0x7fdfb9a8d850>"
      ]
     },
     "metadata": {},
     "output_type": "display_data"
    }
   ],
   "source": [
    "import pandas as pd\n",
    "import seaborn as sns\n",
    "import matplotlib.pyplot as plt\n",
    "import numpy as np\n",
    "\n",
    "dt = pd.read_csv(\"data/creditcard.csv\",header = 0)\n",
    "sns.countplot(\"Class\",data=dt)\n",
    "plt.show()"
   ]
  },
  {
   "cell_type": "markdown",
   "metadata": {},
   "source": [
    "Del gráfico podemos notar claramente la diferencia en la cantidad de datos que presenta cada clase."
   ]
  },
  {
   "cell_type": "markdown",
   "metadata": {},
   "source": [
    "(b) Estandarice el monto de la transacción. ¿Por qué solo estandarizamos un atributo?"
   ]
  },
  {
   "cell_type": "code",
   "execution_count": 51,
   "metadata": {
    "scrolled": false
   },
   "outputs": [
    {
     "data": {
      "text/html": [
       "<div>\n",
       "<style>\n",
       "    .dataframe thead tr:only-child th {\n",
       "        text-align: right;\n",
       "    }\n",
       "\n",
       "    .dataframe thead th {\n",
       "        text-align: left;\n",
       "    }\n",
       "\n",
       "    .dataframe tbody tr th {\n",
       "        vertical-align: top;\n",
       "    }\n",
       "</style>\n",
       "<table border=\"1\" class=\"dataframe\">\n",
       "  <thead>\n",
       "    <tr style=\"text-align: right;\">\n",
       "      <th></th>\n",
       "      <th>V1</th>\n",
       "      <th>V2</th>\n",
       "      <th>V3</th>\n",
       "      <th>V4</th>\n",
       "      <th>V5</th>\n",
       "      <th>V6</th>\n",
       "      <th>V7</th>\n",
       "      <th>V8</th>\n",
       "      <th>V9</th>\n",
       "      <th>V10</th>\n",
       "      <th>...</th>\n",
       "      <th>V21</th>\n",
       "      <th>V22</th>\n",
       "      <th>V23</th>\n",
       "      <th>V24</th>\n",
       "      <th>V25</th>\n",
       "      <th>V26</th>\n",
       "      <th>V27</th>\n",
       "      <th>V28</th>\n",
       "      <th>Class</th>\n",
       "      <th>nAmount</th>\n",
       "    </tr>\n",
       "  </thead>\n",
       "  <tbody>\n",
       "    <tr>\n",
       "      <th>0</th>\n",
       "      <td>-1.359807</td>\n",
       "      <td>-0.072781</td>\n",
       "      <td>2.536347</td>\n",
       "      <td>1.378155</td>\n",
       "      <td>-0.338321</td>\n",
       "      <td>0.462388</td>\n",
       "      <td>0.239599</td>\n",
       "      <td>0.098698</td>\n",
       "      <td>0.363787</td>\n",
       "      <td>0.090794</td>\n",
       "      <td>...</td>\n",
       "      <td>-0.018307</td>\n",
       "      <td>0.277838</td>\n",
       "      <td>-0.110474</td>\n",
       "      <td>0.066928</td>\n",
       "      <td>0.128539</td>\n",
       "      <td>-0.189115</td>\n",
       "      <td>0.133558</td>\n",
       "      <td>-0.021053</td>\n",
       "      <td>0</td>\n",
       "      <td>0.244964</td>\n",
       "    </tr>\n",
       "    <tr>\n",
       "      <th>1</th>\n",
       "      <td>1.191857</td>\n",
       "      <td>0.266151</td>\n",
       "      <td>0.166480</td>\n",
       "      <td>0.448154</td>\n",
       "      <td>0.060018</td>\n",
       "      <td>-0.082361</td>\n",
       "      <td>-0.078803</td>\n",
       "      <td>0.085102</td>\n",
       "      <td>-0.255425</td>\n",
       "      <td>-0.166974</td>\n",
       "      <td>...</td>\n",
       "      <td>-0.225775</td>\n",
       "      <td>-0.638672</td>\n",
       "      <td>0.101288</td>\n",
       "      <td>-0.339846</td>\n",
       "      <td>0.167170</td>\n",
       "      <td>0.125895</td>\n",
       "      <td>-0.008983</td>\n",
       "      <td>0.014724</td>\n",
       "      <td>0</td>\n",
       "      <td>-0.342475</td>\n",
       "    </tr>\n",
       "    <tr>\n",
       "      <th>2</th>\n",
       "      <td>-1.358354</td>\n",
       "      <td>-1.340163</td>\n",
       "      <td>1.773209</td>\n",
       "      <td>0.379780</td>\n",
       "      <td>-0.503198</td>\n",
       "      <td>1.800499</td>\n",
       "      <td>0.791461</td>\n",
       "      <td>0.247676</td>\n",
       "      <td>-1.514654</td>\n",
       "      <td>0.207643</td>\n",
       "      <td>...</td>\n",
       "      <td>0.247998</td>\n",
       "      <td>0.771679</td>\n",
       "      <td>0.909412</td>\n",
       "      <td>-0.689281</td>\n",
       "      <td>-0.327642</td>\n",
       "      <td>-0.139097</td>\n",
       "      <td>-0.055353</td>\n",
       "      <td>-0.059752</td>\n",
       "      <td>0</td>\n",
       "      <td>1.160686</td>\n",
       "    </tr>\n",
       "    <tr>\n",
       "      <th>3</th>\n",
       "      <td>-0.966272</td>\n",
       "      <td>-0.185226</td>\n",
       "      <td>1.792993</td>\n",
       "      <td>-0.863291</td>\n",
       "      <td>-0.010309</td>\n",
       "      <td>1.247203</td>\n",
       "      <td>0.237609</td>\n",
       "      <td>0.377436</td>\n",
       "      <td>-1.387024</td>\n",
       "      <td>-0.054952</td>\n",
       "      <td>...</td>\n",
       "      <td>-0.108300</td>\n",
       "      <td>0.005274</td>\n",
       "      <td>-0.190321</td>\n",
       "      <td>-1.175575</td>\n",
       "      <td>0.647376</td>\n",
       "      <td>-0.221929</td>\n",
       "      <td>0.062723</td>\n",
       "      <td>0.061458</td>\n",
       "      <td>0</td>\n",
       "      <td>0.140534</td>\n",
       "    </tr>\n",
       "    <tr>\n",
       "      <th>4</th>\n",
       "      <td>-1.158233</td>\n",
       "      <td>0.877737</td>\n",
       "      <td>1.548718</td>\n",
       "      <td>0.403034</td>\n",
       "      <td>-0.407193</td>\n",
       "      <td>0.095921</td>\n",
       "      <td>0.592941</td>\n",
       "      <td>-0.270533</td>\n",
       "      <td>0.817739</td>\n",
       "      <td>0.753074</td>\n",
       "      <td>...</td>\n",
       "      <td>-0.009431</td>\n",
       "      <td>0.798278</td>\n",
       "      <td>-0.137458</td>\n",
       "      <td>0.141267</td>\n",
       "      <td>-0.206010</td>\n",
       "      <td>0.502292</td>\n",
       "      <td>0.219422</td>\n",
       "      <td>0.215153</td>\n",
       "      <td>0</td>\n",
       "      <td>-0.073403</td>\n",
       "    </tr>\n",
       "  </tbody>\n",
       "</table>\n",
       "<p>5 rows × 30 columns</p>\n",
       "</div>"
      ],
      "text/plain": [
       "         V1        V2        V3        V4        V5        V6        V7  \\\n",
       "0 -1.359807 -0.072781  2.536347  1.378155 -0.338321  0.462388  0.239599   \n",
       "1  1.191857  0.266151  0.166480  0.448154  0.060018 -0.082361 -0.078803   \n",
       "2 -1.358354 -1.340163  1.773209  0.379780 -0.503198  1.800499  0.791461   \n",
       "3 -0.966272 -0.185226  1.792993 -0.863291 -0.010309  1.247203  0.237609   \n",
       "4 -1.158233  0.877737  1.548718  0.403034 -0.407193  0.095921  0.592941   \n",
       "\n",
       "         V8        V9       V10    ...          V21       V22       V23  \\\n",
       "0  0.098698  0.363787  0.090794    ...    -0.018307  0.277838 -0.110474   \n",
       "1  0.085102 -0.255425 -0.166974    ...    -0.225775 -0.638672  0.101288   \n",
       "2  0.247676 -1.514654  0.207643    ...     0.247998  0.771679  0.909412   \n",
       "3  0.377436 -1.387024 -0.054952    ...    -0.108300  0.005274 -0.190321   \n",
       "4 -0.270533  0.817739  0.753074    ...    -0.009431  0.798278 -0.137458   \n",
       "\n",
       "        V24       V25       V26       V27       V28  Class   nAmount  \n",
       "0  0.066928  0.128539 -0.189115  0.133558 -0.021053      0  0.244964  \n",
       "1 -0.339846  0.167170  0.125895 -0.008983  0.014724      0 -0.342475  \n",
       "2 -0.689281 -0.327642 -0.139097 -0.055353 -0.059752      0  1.160686  \n",
       "3 -1.175575  0.647376 -0.221929  0.062723  0.061458      0  0.140534  \n",
       "4  0.141267 -0.206010  0.502292  0.219422  0.215153      0 -0.073403  \n",
       "\n",
       "[5 rows x 30 columns]"
      ]
     },
     "execution_count": 51,
     "metadata": {},
     "output_type": "execute_result"
    }
   ],
   "source": [
    "from sklearn.preprocessing import StandardScaler\n",
    "\n",
    "dt[\"nAmount\"] = StandardScaler().fit_transform(dt['Amount'].values.reshape(-1, 1))\n",
    "dt.drop([\"Time\",\"Amount\"],axis=1,inplace=True)\n",
    "dt.head()"
   ]
  },
  {
   "cell_type": "markdown",
   "metadata": {},
   "source": [
    "En este caso fue necesario estandarizar sólo el atributo \"monto\" debido a que los otros 28 atributos presentes en los datos son componentes principales obtenidos con PCA."
   ]
  },
  {
   "cell_type": "markdown",
   "metadata": {},
   "source": [
    "(c) Defina una función que reciba como *input* un modelo, los datos de entrenamiento y datos de testeo. Esta función deberá mostrar luego de generar el modelo y haber probado la data de testing una matriz de confusión, junto a sus respectivas métricas. Deberá además mostrar una curva ROC junto al valor del área bajo la curva de esta. Finalmente, responda las siguientes preguntas ¿Qué es una matriz de confusión? ¿Que métricas se pueden calcular de esta y cuales nos serán útiles en este experimento? ¿Que es una curva ROC y qué relación tiene con la matriz de confusión?"
   ]
  },
  {
   "cell_type": "code",
   "execution_count": 52,
   "metadata": {
    "collapsed": true
   },
   "outputs": [],
   "source": [
    "from sklearn.metrics import roc_curve\n",
    "import matplotlib.pyplot as plt\n",
    "import numpy as np\n",
    "\n",
    "def model(model,features_train,features_test,labels_train,labels_test):\n",
    "    clf = model\n",
    "    clf.fit(features_train,labels_train.values.ravel())\n",
    "    pred=clf.predict(features_test)\n",
    "    cnf_matrix=confusion_matrix(labels_test,pred)\n",
    "    print \"The recall for this model is: %f\"%(float(cnf_matrix[1,1])/(cnf_matrix[1,1]+\n",
    "    cnf_matrix[1,0]))\n",
    "    fig= plt.figure(figsize=(6,3))\n",
    "    print \"TP: %d\"%cnf_matrix[1,1,]\n",
    "    print \"TN: %d\"%cnf_matrix[0,0]\n",
    "    print \"FP: %d\"%cnf_matrix[0,1]\n",
    "    print \"FN: %d\"%cnf_matrix[1,0]\n",
    "    sns.heatmap(cnf_matrix,cmap=\"coolwarm_r\",annot=True,linewidths=0.5)\n",
    "    plt.title(\"Confusion_matrix\")\n",
    "    plt.xlabel(\"Predicted_class\")\n",
    "    plt.ylabel(\"Real class\")\n",
    "    plt.show()\n",
    "    print \"\\n----------Classification Report------------------------------------\"\n",
    "    print classification_report(labels_test,pred)\n",
    "    \n",
    "    fpr, tpr, thresholds = roc_curve(labels_test, pred)\n",
    "    auc_roc = auc(fpr,tpr)\n",
    "    \n",
    "    print \" ROC Curve: \"\n",
    "    plt.plot(fpr,tpr, color='darkorange', lw=2, label='ROC curve (area = %0.4f)' % auc_roc)\n",
    "    plt.xlim([0.0, 1.0])\n",
    "    plt.ylim([0.0, 1.0])\n",
    "    plt.legend(loc=\"lower right\")\n",
    "    plt.show()     "
   ]
  },
  {
   "cell_type": "markdown",
   "metadata": {},
   "source": [
    "Se conoce como Matriz de Confusión al conjunto de las siguientes cuatro métricas: true positive (TP), true negative (TN), false positive (FP), false negative (FN). Los falsos positivos son también lo que se suele denominar Error tipo I, es decir observaciones que el modelo predijo como positivas pero en realidad eran negativas. Los falsos negativos corresponden al error de tipo II, es decir observaciones que siendo positivas, fueron predichas como negativas. Estas cuatro métricas se suelen presentar como una matriz de cuatro cuadrantes, notación de la que proviene el nombre Matriz de Confusión. \n",
    "\n",
    "Algunas de las métricas más relevantes que se obtienen a partir de la Matriz de Confusión son:\n",
    "\n",
    "Accuracy, corresponde al volumen de obsrvaciones bien clasificadas, sobre la totalidad de observaciones predichas. Si bien es uno de los indicadores más básicos, tiene la desventaja de que frente a muestras muy desbalanceadas un modelo que se limite a privilegiar la clase dominante podrá fácilmente mejorar su Accuracy, sin ganar verdadero proder predictivo. \n",
    "\n",
    "Recall, es la proporción de observaciones positivas que son correctamente clasificadas como tal. Es una medida del éxito del modelo predictivo en rescatar la mayor cantidad de observaciones positivas posibles.\n",
    "\n",
    "Precision, es la proporción de observaciones correctamente clasificadas de entre todas las que fueron predichas como positivas. Es una medida de la confiabilidad que ofrece el modelo cuando predice como positiva una observación. \n",
    "\n",
    "Recall y Precisión suelen ser presentadas en conjunto ya que reflejan la transacción natural que un modelo predictivo hace entre privilegiar un mayor número de observaciones positivas detectadas versus la seguridad de las mismos predicciones. Un modelo puede fácilmente aumentar su Recall por la vía de declarar positivo mayor volumen de observaciones, pero sacrificará con esto su Precision. Analogamente, mejorar la Precision disminuyendo la cantidad de observaciones predichas como positivas perjudicará el Recall. \n",
    "\n",
    "F1-score, es la media armónica entre la Precision y Recall. Se utiliza como alternativa para obtener un indicador que recoja estos dos aspectos contrapuestos, en un único ratio. \n",
    "\n",
    "Una curva ROC (acrónimo de Receiver Operating Characteristic, o Característica Operativa del Receptor) es una representación gráfica de la sensibilidad frente a la especificidad para un sistema clasificador binario según se varía el umbral de discriminación. Otra interpretación de este gráfico es la representación de la razón o ratio de verdaderos positivos (VPR = Razón de Verdaderos Positivos) frente a la razón o ratio de falsos positivos (FPR = Razón de Falsos Positivos) también según se varía el umbral de discriminación (valor a partir del cual decidimos que un caso es un positivo).\n",
    "\n",
    "<img src=\"img/img3.png\">"
   ]
  },
  {
   "cell_type": "markdown",
   "metadata": {},
   "source": [
    "(d) Defina una función que genere un *Training* y *Testing Set* de un *Dataset* cualquiera. Indique que está\n",
    "haciendo la función."
   ]
  },
  {
   "cell_type": "code",
   "execution_count": 53,
   "metadata": {
    "collapsed": true
   },
   "outputs": [],
   "source": [
    "from sklearn.model_selection import train_test_split\n",
    "def data_prepration(x):\n",
    "    x_features= x.iloc[:,x.columns != \"Class\"] # Separacion de clases\n",
    "    x_labels=x.iloc[:,x.columns==\"Class\"] # Obtencion de etiquetas\n",
    "    x_train,x_test,y_train,y_test=train_test_split(x_features,x_labels,test_size=0.3) # Separacion de conjuntos\n",
    "    print \"Length of training data: %d\"%len(x_train)\n",
    "    print \"Length of test data: %d\"%len(x_test)\n",
    "    return(x_train,x_test,y_train,y_test)"
   ]
  },
  {
   "cell_type": "markdown",
   "metadata": {},
   "source": [
    "En primer lugar se separó los atributos de las clases, y a continuación se dividió dicha data en una muestra de entrenamiento y otra de testeo. "
   ]
  },
  {
   "cell_type": "markdown",
   "metadata": {},
   "source": [
    "(e) Defina una función que realice *Undersample* [8] . ¿Explique en que consiste esta técnica?"
   ]
  },
  {
   "cell_type": "code",
   "execution_count": 54,
   "metadata": {
    "collapsed": true
   },
   "outputs": [],
   "source": [
    "def undersample(data,times):\n",
    "    fraud_indices= np.array(data[data.Class==1].index)\n",
    "    normal_indices = np.array(data[data.Class==0].index)\n",
    "    Count_Normal_transacation = len(data[data[\"Class\"]==0])\n",
    "    Count_Fraud_transacation = len(data[data[\"Class\"]==1])\n",
    "    Normal_indices_undersample = np.array(np.random.choice(normal_indices,\n",
    "    (times*Count_Fraud_transacation),replace=False))\n",
    "    undersample_data= np.concatenate([fraud_indices,Normal_indices_undersample])\n",
    "    undersample_data = data.iloc[undersample_data,:]\n",
    "    normal = (float(len(undersample_data[undersample_data.Class==0]))/len(undersample_data[\"Class\"]))\n",
    "    print \"The normal transacation proportion is : %f\"%normal\n",
    "    fraud = (float(len(undersample_data[undersample_data.Class==1]))/len(undersample_data[\"Class\"]))\n",
    "    print \"The fraud transacation proportion is : %f\"%fraud\n",
    "    return(undersample_data)"
   ]
  },
  {
   "cell_type": "markdown",
   "metadata": {},
   "source": [
    "Dado que la muestra esta desbalanceada, lo cual generaría problemas de aprendizaje y modelos que probablemente priviligiarán a la clase dominante (esbirros del capitalismo), se recurre la técnica de \"Undersample\" que consiste en utilizar un subconjunto de la muestra de entrenamiento, sobrerepresentando la clase minotiraria (positivas). Esto significa que necesariamente se utilizará una fracción muy pequeña de las observaciones de clase dominante (negativas) disponibles.  \n",
    "\n",
    "La variable \"times\" permitirá seleccionar una cantidad de observaciones negativas de forma de obtener proporciones desde 1:1 a 3:1, respecto a las observaciones negativas. "
   ]
  },
  {
   "cell_type": "markdown",
   "metadata": {},
   "source": [
    "(f) Genere un modelo de *Logistic Regression* y otro a su elección utilizando *UnderSample* [8]. Concluya a partir de los resultados"
   ]
  },
  {
   "cell_type": "code",
   "execution_count": 55,
   "metadata": {
    "scrolled": false
   },
   "outputs": [
    {
     "name": "stdout",
     "output_type": "stream",
     "text": [
      "Length of training data: 199364\n",
      "Length of test data: 85443\n",
      "The undersample data for 1 proportion\n",
      "\n",
      "The normal transacation proportion is : 0.500000\n",
      "The fraud transacation proportion is : 0.500000\n",
      "\n",
      "----------------------Validation Set------------------------\n",
      "\n",
      "The model classification for 1 proportion\n",
      "\n",
      "Length of training data: 495\n",
      "Length of test data: 213\n",
      "The recall for this model is: 0.888889\n",
      "TP: 96\n",
      "TN: 103\n",
      "FP: 2\n",
      "FN: 12\n"
     ]
    },
    {
     "data": {
      "image/png": "[encoded data removed]",
      "text/plain": [
       "<matplotlib.figure.Figure at 0x7fdfdc058090>"
      ]
     },
     "metadata": {},
     "output_type": "display_data"
    },
    {
     "name": "stdout",
     "output_type": "stream",
     "text": [
      "\n",
      "----------Classification Report------------------------------------\n",
      "             precision    recall  f1-score   support\n",
      "\n",
      "          0       0.90      0.98      0.94       105\n",
      "          1       0.98      0.89      0.93       108\n",
      "\n",
      "avg / total       0.94      0.93      0.93       213\n",
      "\n",
      " ROC Curve: \n"
     ]
    },
    {
     "data": {
      "image/png": "[encoded data removed]",
      "text/plain": [
       "<matplotlib.figure.Figure at 0x7fdfad460990>"
      ]
     },
     "metadata": {},
     "output_type": "display_data"
    },
    {
     "name": "stdout",
     "output_type": "stream",
     "text": [
      "--------------------------Testing Set---------------------------\n",
      "The recall for this model is: 0.934783\n",
      "TP: 129\n",
      "TN: 80559\n",
      "FP: 4746\n",
      "FN: 9\n"
     ]
    },
    {
     "data": {
      "image/png": "[encoded data removed]",
      "text/plain": [
       "<matplotlib.figure.Figure at 0x7fdfba2f1990>"
      ]
     },
     "metadata": {},
     "output_type": "display_data"
    },
    {
     "name": "stdout",
     "output_type": "stream",
     "text": [
      "\n",
      "----------Classification Report------------------------------------\n",
      "             precision    recall  f1-score   support\n",
      "\n",
      "          0       1.00      0.94      0.97     85305\n",
      "          1       0.03      0.93      0.05       138\n",
      "\n",
      "avg / total       1.00      0.94      0.97     85443\n",
      "\n",
      " ROC Curve: \n"
     ]
    },
    {
     "data": {
      "image/png": "[encoded data removed]",
      "text/plain": [
       "<matplotlib.figure.Figure at 0x7fdfad1da7d0>"
      ]
     },
     "metadata": {},
     "output_type": "display_data"
    },
    {
     "name": "stdout",
     "output_type": "stream",
     "text": [
      "---------------------------------------------------------------\n",
      "The undersample data for 2 proportion\n",
      "\n",
      "The normal transacation proportion is : 0.666667\n",
      "The fraud transacation proportion is : 0.333333\n",
      "\n",
      "----------------------Validation Set------------------------\n",
      "\n",
      "The model classification for 2 proportion\n",
      "\n",
      "Length of training data: 743\n",
      "Length of test data: 319\n",
      "The recall for this model is: 0.867925\n",
      "TP: 92\n",
      "TN: 209\n",
      "FP: 4\n",
      "FN: 14\n"
     ]
    },
    {
     "data": {
      "image/png": "[encoded data removed]",
      "text/plain": [
       "<matplotlib.figure.Figure at 0x7fdfba2f1b90>"
      ]
     },
     "metadata": {},
     "output_type": "display_data"
    },
    {
     "name": "stdout",
     "output_type": "stream",
     "text": [
      "\n",
      "----------Classification Report------------------------------------\n",
      "             precision    recall  f1-score   support\n",
      "\n",
      "          0       0.94      0.98      0.96       213\n",
      "          1       0.96      0.87      0.91       106\n",
      "\n",
      "avg / total       0.94      0.94      0.94       319\n",
      "\n",
      " ROC Curve: \n"
     ]
    },
    {
     "data": {
      "image/png": "[encoded data removed]",
      "text/plain": [
       "<matplotlib.figure.Figure at 0x7fdfac7cc190>"
      ]
     },
     "metadata": {},
     "output_type": "display_data"
    },
    {
     "name": "stdout",
     "output_type": "stream",
     "text": [
      "--------------------------Testing Set---------------------------\n",
      "The recall for this model is: 0.913043\n",
      "TP: 126\n",
      "TN: 83633\n",
      "FP: 1672\n",
      "FN: 12\n"
     ]
    },
    {
     "data": {
      "image/png": "[encoded data removed]",
      "text/plain": [
       "<matplotlib.figure.Figure at 0x7fdfac876450>"
      ]
     },
     "metadata": {},
     "output_type": "display_data"
    },
    {
     "name": "stdout",
     "output_type": "stream",
     "text": [
      "\n",
      "----------Classification Report------------------------------------\n",
      "             precision    recall  f1-score   support\n",
      "\n",
      "          0       1.00      0.98      0.99     85305\n",
      "          1       0.07      0.91      0.13       138\n",
      "\n",
      "avg / total       1.00      0.98      0.99     85443\n",
      "\n",
      " ROC Curve: \n"
     ]
    },
    {
     "data": {
      "image/png": "[encoded data removed]",
      "text/plain": [
       "<matplotlib.figure.Figure at 0x7fdfac4a9c90>"
      ]
     },
     "metadata": {},
     "output_type": "display_data"
    },
    {
     "name": "stdout",
     "output_type": "stream",
     "text": [
      "---------------------------------------------------------------\n",
      "The undersample data for 3 proportion\n",
      "\n",
      "The normal transacation proportion is : 0.750000\n",
      "The fraud transacation proportion is : 0.250000\n",
      "\n",
      "----------------------Validation Set------------------------\n",
      "\n",
      "The model classification for 3 proportion\n",
      "\n",
      "Length of training data: 991\n",
      "Length of test data: 425\n",
      "The recall for this model is: 0.863636\n",
      "TP: 95\n",
      "TN: 310\n",
      "FP: 5\n",
      "FN: 15\n"
     ]
    },
    {
     "data": {
      "image/png": "[encoded data removed]",
      "text/plain": [
       "<matplotlib.figure.Figure at 0x7fdfba3e0a90>"
      ]
     },
     "metadata": {},
     "output_type": "display_data"
    },
    {
     "name": "stdout",
     "output_type": "stream",
     "text": [
      "\n",
      "----------Classification Report------------------------------------\n",
      "             precision    recall  f1-score   support\n",
      "\n",
      "          0       0.95      0.98      0.97       315\n",
      "          1       0.95      0.86      0.90       110\n",
      "\n",
      "avg / total       0.95      0.95      0.95       425\n",
      "\n",
      " ROC Curve: \n"
     ]
    },
    {
     "data": {
      "image/png": "[encoded data removed]",
      "text/plain": [
       "<matplotlib.figure.Figure at 0x7fdfa12ed850>"
      ]
     },
     "metadata": {},
     "output_type": "display_data"
    },
    {
     "name": "stdout",
     "output_type": "stream",
     "text": [
      "--------------------------Testing Set---------------------------\n",
      "The recall for this model is: 0.898551\n",
      "TP: 124\n",
      "TN: 84639\n",
      "FP: 666\n",
      "FN: 14\n"
     ]
    },
    {
     "data": {
      "image/png": "[encoded data removed]",
      "text/plain": [
       "<matplotlib.figure.Figure at 0x7fdfac4bf050>"
      ]
     },
     "metadata": {},
     "output_type": "display_data"
    },
    {
     "name": "stdout",
     "output_type": "stream",
     "text": [
      "\n",
      "----------Classification Report------------------------------------\n",
      "             precision    recall  f1-score   support\n",
      "\n",
      "          0       1.00      0.99      1.00     85305\n",
      "          1       0.16      0.90      0.27       138\n",
      "\n",
      "avg / total       1.00      0.99      0.99     85443\n",
      "\n",
      " ROC Curve: \n"
     ]
    },
    {
     "data": {
      "image/png": "[encoded data removed]",
      "text/plain": [
       "<matplotlib.figure.Figure at 0x7fdf7c57d2d0>"
      ]
     },
     "metadata": {},
     "output_type": "display_data"
    },
    {
     "name": "stdout",
     "output_type": "stream",
     "text": [
      "---------------------------------------------------------------\n"
     ]
    }
   ],
   "source": [
    "from sklearn.linear_model import LogisticRegression\n",
    "from sklearn.metrics import confusion_matrix,recall_score,precision_recall_curve,auc,roc_curve, roc_auc_score,classification_report\n",
    "x_tr,x_ts,y_tr,y_ts = data_prepration(dt)\n",
    "x_tr[\"Class\"] = y_tr[\"Class\"]\n",
    "x_tr = x_tr.reset_index(drop=True)\n",
    "for i in range(1,4):\n",
    "    print \"The undersample data for \" + str(i) + \" proportion\\n\"\n",
    "    Undersample_data = undersample(x_tr,i)\n",
    "    print \"\\n----------------------Validation Set------------------------\"\n",
    "    print \"\\nThe model classification for \" + str(i) + \" proportion\\n\"\n",
    "    under_x,under_xt,under_yx,under_yxt=data_prepration(Undersample_data)\n",
    "    clf=LogisticRegression()\n",
    "    model(clf,under_x,under_xt,under_yx,under_yxt)\n",
    "    print \"--------------------------Testing Set---------------------------\"\n",
    "    model(clf,under_x,x_ts,under_yx,y_ts)\n",
    "    print \"---------------------------------------------------------------\""
   ]
  },
  {
   "cell_type": "markdown",
   "metadata": {},
   "source": [
    "Se obtuvo predicciones utilizando Regresión Logística y Undersample, probando el modelo sobre una muestra de validación que se extrajo de la propia muestra a la que se aplicó undersample (que no se usó en alimentación del modelo), y luego se probó con la muestra de testeo, que conserva el desbalance original. Esta última muestra es más autenticamente representativa de la realidad, y por tanto se estima que los resultados sobre ella son más relevantes que sobre la muestra de validación. \n",
    "\n",
    "Además de Matriz de Confusión y métricas antes descritas, se obtiene la Curva ROC y la estadística de Área Bajo la Curva ROC. Esta curva es la gráfica entre los ratios de falsos positivos y verdaderos positivos para distintos criterios de clasificación aportados por el modelo. Representa la transacción entre Precision y Recall, puesto que grafica como para capturar mas observaciones positivas es necesario aceptar más falsos positivos. Un modelo que adivine con un 50% de probabilidad tendría una curva ROC diagonal, por lo que el área bajo la curva ROC se acota de forma natural entre 0.5 y 1.  Dado que se está evaluando modelos de clasificación binaria que devuelven dos valores posibles, las curvas ROC obtenidas presentan tres vértices, correspondientes de izquierda a derecha a: predecir todo negativo, la predicción del modelo y predecir todo positivo. \n",
    "\n",
    "Se observa que el mayor Recall se obtiene con la muestra en proporción 1:1, pero el mejor área bajo la curva ROC y Precision (respecto a observaciones positivas) se obtuvieron para la muestra en proporción 1:3, medido en la muestra de testeo. Este comportamiento se explica al observar que en la medida que se aumenta el desbalance, el modelo se hace más reticente a declarar positiva una observación, reduciento así fuertemente los falsos positivos pero castigando con ello, aunque en menor medida, a los verdaderos positivos. "
   ]
  },
  {
   "cell_type": "markdown",
   "metadata": {},
   "source": [
    "Como modelo alternativo se ha seleccionado Random Forest, que consiste en el ensamblado de un conjunto (en este caso 25) predictores débiles, cada uno de los cuales utiliza el coeficiente de Gini para discriminar sobre un atributo aleatorio. "
   ]
  },
  {
   "cell_type": "code",
   "execution_count": 56,
   "metadata": {
    "scrolled": false
   },
   "outputs": [
    {
     "name": "stdout",
     "output_type": "stream",
     "text": [
      "Length of training data: 199364\n",
      "Length of test data: 85443\n",
      "The undersample data for 1 proportion\n",
      "\n",
      "The normal transacation proportion is : 0.500000\n",
      "The fraud transacation proportion is : 0.500000\n",
      "\n",
      "----------------------Validation Set------------------------\n",
      "\n",
      "The model classification for 1 proportion\n",
      "\n",
      "Length of training data: 484\n",
      "Length of test data: 208\n",
      "The recall for this model is: 0.915888\n",
      "TP: 98\n",
      "TN: 96\n",
      "FP: 5\n",
      "FN: 9\n"
     ]
    },
    {
     "data": {
      "image/png": "[encoded data removed]",
      "text/plain": [
       "<matplotlib.figure.Figure at 0x7fdf7c2c6690>"
      ]
     },
     "metadata": {},
     "output_type": "display_data"
    },
    {
     "name": "stdout",
     "output_type": "stream",
     "text": [
      "\n",
      "----------Classification Report------------------------------------\n",
      "             precision    recall  f1-score   support\n",
      "\n",
      "          0       0.91      0.95      0.93       101\n",
      "          1       0.95      0.92      0.93       107\n",
      "\n",
      "avg / total       0.93      0.93      0.93       208\n",
      "\n",
      " ROC Curve: \n"
     ]
    },
    {
     "data": {
      "image/png": "[encoded data removed]",
      "text/plain": [
       "<matplotlib.figure.Figure at 0x7fdf7c270590>"
      ]
     },
     "metadata": {},
     "output_type": "display_data"
    },
    {
     "name": "stdout",
     "output_type": "stream",
     "text": [
      "--------------------------Testing Set---------------------------\n",
      "The recall for this model is: 0.904110\n",
      "TP: 132\n",
      "TN: 81475\n",
      "FP: 3822\n",
      "FN: 14\n"
     ]
    },
    {
     "data": {
      "image/png": "[encoded data removed]",
      "text/plain": [
       "<matplotlib.figure.Figure at 0x7fdfac54f950>"
      ]
     },
     "metadata": {},
     "output_type": "display_data"
    },
    {
     "name": "stdout",
     "output_type": "stream",
     "text": [
      "\n",
      "----------Classification Report------------------------------------\n",
      "             precision    recall  f1-score   support\n",
      "\n",
      "          0       1.00      0.96      0.98     85297\n",
      "          1       0.03      0.90      0.06       146\n",
      "\n",
      "avg / total       1.00      0.96      0.98     85443\n",
      "\n",
      " ROC Curve: \n"
     ]
    },
    {
     "data": {
      "image/png": "[encoded data removed]",
      "text/plain": [
       "<matplotlib.figure.Figure at 0x7fdfa1206f90>"
      ]
     },
     "metadata": {},
     "output_type": "display_data"
    },
    {
     "name": "stdout",
     "output_type": "stream",
     "text": [
      "The undersample data for 2 proportion\n",
      "\n",
      "The normal transacation proportion is : 0.666667\n",
      "The fraud transacation proportion is : 0.333333\n",
      "\n",
      "----------------------Validation Set------------------------\n",
      "\n",
      "The model classification for 2 proportion\n",
      "\n",
      "Length of training data: 726\n",
      "Length of test data: 312\n",
      "The recall for this model is: 0.900990\n",
      "TP: 91\n",
      "TN: 205\n",
      "FP: 6\n",
      "FN: 10\n"
     ]
    },
    {
     "data": {
      "image/png": "[encoded data removed]",
      "text/plain": [
       "<matplotlib.figure.Figure at 0x7fdf7c2c6590>"
      ]
     },
     "metadata": {},
     "output_type": "display_data"
    },
    {
     "name": "stdout",
     "output_type": "stream",
     "text": [
      "\n",
      "----------Classification Report------------------------------------\n",
      "             precision    recall  f1-score   support\n",
      "\n",
      "          0       0.95      0.97      0.96       211\n",
      "          1       0.94      0.90      0.92       101\n",
      "\n",
      "avg / total       0.95      0.95      0.95       312\n",
      "\n",
      " ROC Curve: \n"
     ]
    },
    {
     "data": {
      "image/png": "[encoded data removed]",
      "text/plain": [
       "<matplotlib.figure.Figure at 0x7fdf7c3459d0>"
      ]
     },
     "metadata": {},
     "output_type": "display_data"
    },
    {
     "name": "stdout",
     "output_type": "stream",
     "text": [
      "--------------------------Testing Set---------------------------\n",
      "The recall for this model is: 0.897260\n",
      "TP: 131\n",
      "TN: 84147\n",
      "FP: 1150\n",
      "FN: 15\n"
     ]
    },
    {
     "data": {
      "image/png": "[encoded data removed]",
      "text/plain": [
       "<matplotlib.figure.Figure at 0x7fdfba4d4a90>"
      ]
     },
     "metadata": {},
     "output_type": "display_data"
    },
    {
     "name": "stdout",
     "output_type": "stream",
     "text": [
      "\n",
      "----------Classification Report------------------------------------\n",
      "             precision    recall  f1-score   support\n",
      "\n",
      "          0       1.00      0.99      0.99     85297\n",
      "          1       0.10      0.90      0.18       146\n",
      "\n",
      "avg / total       1.00      0.99      0.99     85443\n",
      "\n",
      " ROC Curve: \n"
     ]
    },
    {
     "data": {
      "image/png": "[encoded data removed]",
      "text/plain": [
       "<matplotlib.figure.Figure at 0x7fdfad294290>"
      ]
     },
     "metadata": {},
     "output_type": "display_data"
    },
    {
     "name": "stdout",
     "output_type": "stream",
     "text": [
      "The undersample data for 3 proportion\n",
      "\n",
      "The normal transacation proportion is : 0.750000\n",
      "The fraud transacation proportion is : 0.250000\n",
      "\n",
      "----------------------Validation Set------------------------\n",
      "\n",
      "The model classification for 3 proportion\n",
      "\n",
      "Length of training data: 968\n",
      "Length of test data: 416\n",
      "The recall for this model is: 0.842105\n",
      "TP: 96\n",
      "TN: 300\n",
      "FP: 2\n",
      "FN: 18\n"
     ]
    },
    {
     "data": {
      "image/png": "[encoded data removed]",
      "text/plain": [
       "<matplotlib.figure.Figure at 0x7fdf7c3e4ed0>"
      ]
     },
     "metadata": {},
     "output_type": "display_data"
    },
    {
     "name": "stdout",
     "output_type": "stream",
     "text": [
      "\n",
      "----------Classification Report------------------------------------\n",
      "             precision    recall  f1-score   support\n",
      "\n",
      "          0       0.94      0.99      0.97       302\n",
      "          1       0.98      0.84      0.91       114\n",
      "\n",
      "avg / total       0.95      0.95      0.95       416\n",
      "\n",
      " ROC Curve: \n"
     ]
    },
    {
     "data": {
      "image/png": "[encoded data removed]",
      "text/plain": [
       "<matplotlib.figure.Figure at 0x7fdfac585590>"
      ]
     },
     "metadata": {},
     "output_type": "display_data"
    },
    {
     "name": "stdout",
     "output_type": "stream",
     "text": [
      "--------------------------Testing Set---------------------------\n",
      "The recall for this model is: 0.890411\n",
      "TP: 130\n",
      "TN: 84497\n",
      "FP: 800\n",
      "FN: 16\n"
     ]
    },
    {
     "data": {
      "image/png": "[encoded data removed]",
      "text/plain": [
       "<matplotlib.figure.Figure at 0x7fdfba44b8d0>"
      ]
     },
     "metadata": {},
     "output_type": "display_data"
    },
    {
     "name": "stdout",
     "output_type": "stream",
     "text": [
      "\n",
      "----------Classification Report------------------------------------\n",
      "             precision    recall  f1-score   support\n",
      "\n",
      "          0       1.00      0.99      1.00     85297\n",
      "          1       0.14      0.89      0.24       146\n",
      "\n",
      "avg / total       1.00      0.99      0.99     85443\n",
      "\n",
      " ROC Curve: \n"
     ]
    },
    {
     "data": {
      "image/png": "[encoded data removed]",
      "text/plain": [
       "<matplotlib.figure.Figure at 0x7fdfad1ba3d0>"
      ]
     },
     "metadata": {},
     "output_type": "display_data"
    }
   ],
   "source": [
    "from sklearn.ensemble import RandomForestClassifier\n",
    "\n",
    "from sklearn.metrics import confusion_matrix,recall_score,precision_recall_curve,auc,roc_curve, roc_auc_score,classification_report\n",
    "x_tr,x_ts,y_tr,y_ts = data_prepration(dt)\n",
    "x_tr[\"Class\"] = y_tr[\"Class\"]\n",
    "x_tr = x_tr.reset_index(drop=True)\n",
    "for i in range(1,4):\n",
    "    print \"The undersample data for \" + str(i) + \" proportion\\n\"\n",
    "    Undersample_data = undersample(x_tr,i)\n",
    "    print \"\\n----------------------Validation Set------------------------\"\n",
    "    print \"\\nThe model classification for \" + str(i) + \" proportion\\n\"\n",
    "    under_x,under_xt,under_yx,under_yxt=data_prepration(Undersample_data)\n",
    "    clf=RandomForestClassifier(n_estimators=25, random_state=0)\n",
    "    model(clf,under_x,under_xt,under_yx,under_yxt)\n",
    "    print \"--------------------------Testing Set---------------------------\"\n",
    "    model(clf,under_x,x_ts,under_yx,y_ts)"
   ]
  },
  {
   "cell_type": "markdown",
   "metadata": {},
   "source": [
    "Repetido el experimento usando Random Forest, se aprecia un comportamiento similar en cuanto a que a mayor debalance se decae el Recall y mejora la Precision (respecto a las observaciones positivas). El área bajo la curva ROC, sin embargo, no mejoró consistentemente al aumentar el desbalance en la muestra. Cabe señalar que al existir aleatoriedad, los resultados se modifican en cada ejecución. "
   ]
  },
  {
   "cell_type": "markdown",
   "metadata": {},
   "source": [
    "(g) Vuelva a realizar los puntos (e) y (f), esta vez utilizando *OverSampling* [7] y SMOTE [8] (Hint: Para\n",
    "SMOTE usted puede apoyarse de la libreria imblearn)"
   ]
  },
  {
   "cell_type": "code",
   "execution_count": 57,
   "metadata": {},
   "outputs": [
    {
     "name": "stdout",
     "output_type": "stream",
     "text": [
      "Length of training data: 199364\n",
      "Length of test data: 85443\n"
     ]
    },
    {
     "name": "stderr",
     "output_type": "stream",
     "text": [
      "/home/dsanmartin/anaconda3/envs/py27/lib/python2.7/site-packages/sklearn/utils/validation.py:547: DataConversionWarning: A column-vector y was passed when a 1d array was expected. Please change the shape of y to (n_samples, ), for example using ravel().\n",
      "  y = column_or_1d(y, warn=True)\n"
     ]
    }
   ],
   "source": [
    "from imblearn.over_sampling import SMOTE\n",
    "os = SMOTE(random_state=0)\n",
    "x_tr, x_ts, y_tr, y_ts = data_prepration(dt)\n",
    "os_data_X, os_data_y = os.fit_sample(x_tr, y_tr)\n",
    "os_data_X = pd.DataFrame(os_data_X)\n",
    "os_data_X.columns = x_tr.columns\n",
    "os_data_y = pd.DataFrame(os_data_y)\n",
    "os_data_y.columns = y_tr.columns"
   ]
  },
  {
   "cell_type": "code",
   "execution_count": 58,
   "metadata": {},
   "outputs": [
    {
     "name": "stdout",
     "output_type": "stream",
     "text": [
      "--------------------------Testing Set---------------------------\n",
      "The recall for this model is: 0.893617\n",
      "TP: 126\n",
      "TN: 83211\n",
      "FP: 2091\n",
      "FN: 15\n"
     ]
    },
    {
     "data": {
      "image/png": "[encoded data removed]",
      "text/plain": [
       "<matplotlib.figure.Figure at 0x7fdfa150fc90>"
      ]
     },
     "metadata": {},
     "output_type": "display_data"
    },
    {
     "name": "stdout",
     "output_type": "stream",
     "text": [
      "\n",
      "----------Classification Report------------------------------------\n",
      "             precision    recall  f1-score   support\n",
      "\n",
      "          0       1.00      0.98      0.99     85302\n",
      "          1       0.06      0.89      0.11       141\n",
      "\n",
      "avg / total       1.00      0.98      0.99     85443\n",
      "\n",
      " ROC Curve: \n"
     ]
    },
    {
     "data": {
      "image/png": "[encoded data removed]",
      "text/plain": [
       "<matplotlib.figure.Figure at 0x7fdf7b2879d0>"
      ]
     },
     "metadata": {},
     "output_type": "display_data"
    },
    {
     "name": "stdout",
     "output_type": "stream",
     "text": [
      "---------------------------------------------------------------\n"
     ]
    }
   ],
   "source": [
    "from sklearn.linear_model import LogisticRegression\n",
    "\n",
    "clf=LogisticRegression()\n",
    "print \"--------------------------Testing Set---------------------------\"\n",
    "model(clf,os_data_X,x_ts,os_data_y,y_ts)\n",
    "print \"---------------------------------------------------------------\""
   ]
  },
  {
   "cell_type": "markdown",
   "metadata": {},
   "source": [
    "En esta ocasión se utilizó Oversample, técnica que consiste en crear observaciones sintéticas de la clase minoritaria, hasta alcanzar una muestra balanceada. Es importante que esta operación se realice después de haber extraído la muestra de testeo, puesto que en caso contrario se contaminará esta muestra con datos creados con observaciones presentes en la muestra de entrenamiento, invalidando el test. En este caso no se uso muestra de validación. \n",
    "\n",
    "En el caso de Regresión Logística se obtuvo un Recall menor al que se observó con Undersample y muestra balanceada. Precision y área bajo la curva ROC fueron similares con las dos técnicas de resampleo. \n",
    "\n",
    "Con Random Forest se obtuvo un modelo bastante más conservador, en el sentido de que decreto menos positivos con lo que tiene un Recall desmejorado, aunque logra una alta Precision (recibe pocos falsos positivos) y curva ROC todavía decente."
   ]
  },
  {
   "cell_type": "markdown",
   "metadata": {},
   "source": [
    "## Referencias\n",
    "\n",
    "* [1] Hastie, T.; Tibshirani, R., Friedman, J. (2009), The Elements of Statistical Learning, Second Edition. Springer New York Inc.\n",
    "* [2] Joshi, M., Das, D., Gimpel, K., Smith, N. A. (2010). Movie reviews and revenues: An experiment in text regression. In the 2010 Annual Conference of the North American Chapter of the Association for Computational Linguistics (pp. 293-296). Association for Computational Linguistics.\n",
    "* [3] https://www.kaggle.com/dalpozz/creditcardfraud\n",
    "* [4] https://en.wikipedia.org/wiki/Stop_words\n",
    "* [5] https://en.wikipedia.org/wiki/Stemming\n",
    "* [6] https://en.wikipedia.org/wiki/Lemmatisation\n",
    "* [7] https://en.wikipedia.org/wiki/Oversampling and undersampling in data analysis\n",
    "* [8] https://www.irjet.net/archives/V4/i8/IRJET-V4I857.pd"
   ]
  },
  {
   "cell_type": "code",
   "execution_count": null,
   "metadata": {
    "collapsed": true
   },
   "outputs": [],
   "source": []
  }
 ],
 "metadata": {
  "kernelspec": {
   "display_name": "Python 2",
   "language": "python",
   "name": "python2"
  },
  "language_info": {
   "codemirror_mode": {
    "name": "ipython",
    "version": 2
   },
   "file_extension": ".py",
   "mimetype": "text/x-python",
   "name": "python",
   "nbconvert_exporter": "python",
   "pygments_lexer": "ipython2",
   "version": "2.7.13"
  }
 },
 "nbformat": 4,
 "nbformat_minor": 2
}
