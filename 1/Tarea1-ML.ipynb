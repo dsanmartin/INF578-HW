{
 "cells": [
  {
   "cell_type": "markdown",
   "metadata": {
    "collapsed": true
   },
   "source": [
    "## Tarea 1 - Máquinas de Aprendizaje\n",
    "\n",
    "### Integrantes: Gabriel Jara, Daniel San Martín"
   ]
  },
  {
   "cell_type": "markdown",
   "metadata": {},
   "source": [
    "# 1 Regresión Lineal Ordinaria (LSS)"
   ]
  },
  {
   "cell_type": "markdown",
   "metadata": {},
   "source": [
    "En esta sección trabajaremos con un dataset conocido como *House Sales in King County, USA*, este se encuentra en Kaggle [1] y contiene los precios en el que se vendieron distintas casas en los Estados Unidos entre Mayo del 2014 y Mayo del 2015. Las casas tienen distintas caracterı́sticas que vienen descritas en el dataset, como la cantidad de habitaciones, cantidad de baños, número de pisos, ubicación geográfica, etc. La variable que nos interesará predecir a partir de los demás atributos será el precio de las casas."
   ]
  },
  {
   "cell_type": "markdown",
   "metadata": {},
   "source": [
    "(a) Construya un dataframe con los datos a analizar descargando los datos desde la URL adjunta."
   ]
  },
  {
   "cell_type": "code",
   "execution_count": 1,
   "metadata": {
    "collapsed": true
   },
   "outputs": [],
   "source": [
    "import pandas as pd\n",
    "import numpy as np\n",
    "import matplotlib.pyplot as plt\n",
    "\n",
    "df = pd.read_csv(\"data/kc_house_data.csv\",sep = \",\",header = 0)\n",
    "df = df.drop(['id','date','zipcode'], axis=1)"
   ]
  },
  {
   "cell_type": "markdown",
   "metadata": {},
   "source": [
    "(b) Describa brevemente el dataset utilizar."
   ]
  },
  {
   "cell_type": "code",
   "execution_count": 2,
   "metadata": {},
   "outputs": [
    {
     "name": "stdout",
     "output_type": "stream",
     "text": [
      "<class 'pandas.core.frame.DataFrame'>\n",
      "RangeIndex: 21613 entries, 0 to 21612\n",
      "Data columns (total 18 columns):\n",
      "price            21613 non-null float64\n",
      "bedrooms         21613 non-null int64\n",
      "bathrooms        21613 non-null float64\n",
      "sqft_living      21613 non-null int64\n",
      "sqft_lot         21613 non-null int64\n",
      "floors           21613 non-null float64\n",
      "waterfront       21613 non-null int64\n",
      "view             21613 non-null int64\n",
      "condition        21613 non-null int64\n",
      "grade            21613 non-null int64\n",
      "sqft_above       21613 non-null int64\n",
      "sqft_basement    21613 non-null int64\n",
      "yr_built         21613 non-null int64\n",
      "yr_renovated     21613 non-null int64\n",
      "lat              21613 non-null float64\n",
      "long             21613 non-null float64\n",
      "sqft_living15    21613 non-null int64\n",
      "sqft_lot15       21613 non-null int64\n",
      "dtypes: float64(5), int64(13)\n",
      "memory usage: 3.0 MB\n"
     ]
    },
    {
     "data": {
      "text/html": [
       "<div>\n",
       "<style>\n",
       "    .dataframe thead tr:only-child th {\n",
       "        text-align: right;\n",
       "    }\n",
       "\n",
       "    .dataframe thead th {\n",
       "        text-align: left;\n",
       "    }\n",
       "\n",
       "    .dataframe tbody tr th {\n",
       "        vertical-align: top;\n",
       "    }\n",
       "</style>\n",
       "<table border=\"1\" class=\"dataframe\">\n",
       "  <thead>\n",
       "    <tr style=\"text-align: right;\">\n",
       "      <th></th>\n",
       "      <th>price</th>\n",
       "      <th>bedrooms</th>\n",
       "      <th>bathrooms</th>\n",
       "      <th>sqft_living</th>\n",
       "      <th>sqft_lot</th>\n",
       "      <th>floors</th>\n",
       "      <th>waterfront</th>\n",
       "      <th>view</th>\n",
       "      <th>condition</th>\n",
       "      <th>grade</th>\n",
       "      <th>sqft_above</th>\n",
       "      <th>sqft_basement</th>\n",
       "      <th>yr_built</th>\n",
       "      <th>yr_renovated</th>\n",
       "      <th>lat</th>\n",
       "      <th>long</th>\n",
       "      <th>sqft_living15</th>\n",
       "      <th>sqft_lot15</th>\n",
       "    </tr>\n",
       "  </thead>\n",
       "  <tbody>\n",
       "    <tr>\n",
       "      <th>count</th>\n",
       "      <td>2.161300e+04</td>\n",
       "      <td>21613.000000</td>\n",
       "      <td>21613.000000</td>\n",
       "      <td>21613.000000</td>\n",
       "      <td>2.161300e+04</td>\n",
       "      <td>21613.000000</td>\n",
       "      <td>21613.000000</td>\n",
       "      <td>21613.000000</td>\n",
       "      <td>21613.000000</td>\n",
       "      <td>21613.000000</td>\n",
       "      <td>21613.000000</td>\n",
       "      <td>21613.000000</td>\n",
       "      <td>21613.000000</td>\n",
       "      <td>21613.000000</td>\n",
       "      <td>21613.000000</td>\n",
       "      <td>21613.000000</td>\n",
       "      <td>21613.000000</td>\n",
       "      <td>21613.000000</td>\n",
       "    </tr>\n",
       "    <tr>\n",
       "      <th>mean</th>\n",
       "      <td>5.400881e+05</td>\n",
       "      <td>3.370842</td>\n",
       "      <td>2.114757</td>\n",
       "      <td>2079.899736</td>\n",
       "      <td>1.510697e+04</td>\n",
       "      <td>1.494309</td>\n",
       "      <td>0.007542</td>\n",
       "      <td>0.234303</td>\n",
       "      <td>3.409430</td>\n",
       "      <td>7.656873</td>\n",
       "      <td>1788.390691</td>\n",
       "      <td>291.509045</td>\n",
       "      <td>1971.005136</td>\n",
       "      <td>84.402258</td>\n",
       "      <td>47.560053</td>\n",
       "      <td>-122.213896</td>\n",
       "      <td>1986.552492</td>\n",
       "      <td>12768.455652</td>\n",
       "    </tr>\n",
       "    <tr>\n",
       "      <th>std</th>\n",
       "      <td>3.671272e+05</td>\n",
       "      <td>0.930062</td>\n",
       "      <td>0.770163</td>\n",
       "      <td>918.440897</td>\n",
       "      <td>4.142051e+04</td>\n",
       "      <td>0.539989</td>\n",
       "      <td>0.086517</td>\n",
       "      <td>0.766318</td>\n",
       "      <td>0.650743</td>\n",
       "      <td>1.175459</td>\n",
       "      <td>828.090978</td>\n",
       "      <td>442.575043</td>\n",
       "      <td>29.373411</td>\n",
       "      <td>401.679240</td>\n",
       "      <td>0.138564</td>\n",
       "      <td>0.140828</td>\n",
       "      <td>685.391304</td>\n",
       "      <td>27304.179631</td>\n",
       "    </tr>\n",
       "    <tr>\n",
       "      <th>min</th>\n",
       "      <td>7.500000e+04</td>\n",
       "      <td>0.000000</td>\n",
       "      <td>0.000000</td>\n",
       "      <td>290.000000</td>\n",
       "      <td>5.200000e+02</td>\n",
       "      <td>1.000000</td>\n",
       "      <td>0.000000</td>\n",
       "      <td>0.000000</td>\n",
       "      <td>1.000000</td>\n",
       "      <td>1.000000</td>\n",
       "      <td>290.000000</td>\n",
       "      <td>0.000000</td>\n",
       "      <td>1900.000000</td>\n",
       "      <td>0.000000</td>\n",
       "      <td>47.155900</td>\n",
       "      <td>-122.519000</td>\n",
       "      <td>399.000000</td>\n",
       "      <td>651.000000</td>\n",
       "    </tr>\n",
       "    <tr>\n",
       "      <th>25%</th>\n",
       "      <td>3.219500e+05</td>\n",
       "      <td>3.000000</td>\n",
       "      <td>1.750000</td>\n",
       "      <td>1427.000000</td>\n",
       "      <td>5.040000e+03</td>\n",
       "      <td>1.000000</td>\n",
       "      <td>0.000000</td>\n",
       "      <td>0.000000</td>\n",
       "      <td>3.000000</td>\n",
       "      <td>7.000000</td>\n",
       "      <td>1190.000000</td>\n",
       "      <td>0.000000</td>\n",
       "      <td>1951.000000</td>\n",
       "      <td>0.000000</td>\n",
       "      <td>47.471000</td>\n",
       "      <td>-122.328000</td>\n",
       "      <td>1490.000000</td>\n",
       "      <td>5100.000000</td>\n",
       "    </tr>\n",
       "    <tr>\n",
       "      <th>50%</th>\n",
       "      <td>4.500000e+05</td>\n",
       "      <td>3.000000</td>\n",
       "      <td>2.250000</td>\n",
       "      <td>1910.000000</td>\n",
       "      <td>7.618000e+03</td>\n",
       "      <td>1.500000</td>\n",
       "      <td>0.000000</td>\n",
       "      <td>0.000000</td>\n",
       "      <td>3.000000</td>\n",
       "      <td>7.000000</td>\n",
       "      <td>1560.000000</td>\n",
       "      <td>0.000000</td>\n",
       "      <td>1975.000000</td>\n",
       "      <td>0.000000</td>\n",
       "      <td>47.571800</td>\n",
       "      <td>-122.230000</td>\n",
       "      <td>1840.000000</td>\n",
       "      <td>7620.000000</td>\n",
       "    </tr>\n",
       "    <tr>\n",
       "      <th>75%</th>\n",
       "      <td>6.450000e+05</td>\n",
       "      <td>4.000000</td>\n",
       "      <td>2.500000</td>\n",
       "      <td>2550.000000</td>\n",
       "      <td>1.068800e+04</td>\n",
       "      <td>2.000000</td>\n",
       "      <td>0.000000</td>\n",
       "      <td>0.000000</td>\n",
       "      <td>4.000000</td>\n",
       "      <td>8.000000</td>\n",
       "      <td>2210.000000</td>\n",
       "      <td>560.000000</td>\n",
       "      <td>1997.000000</td>\n",
       "      <td>0.000000</td>\n",
       "      <td>47.678000</td>\n",
       "      <td>-122.125000</td>\n",
       "      <td>2360.000000</td>\n",
       "      <td>10083.000000</td>\n",
       "    </tr>\n",
       "    <tr>\n",
       "      <th>max</th>\n",
       "      <td>7.700000e+06</td>\n",
       "      <td>33.000000</td>\n",
       "      <td>8.000000</td>\n",
       "      <td>13540.000000</td>\n",
       "      <td>1.651359e+06</td>\n",
       "      <td>3.500000</td>\n",
       "      <td>1.000000</td>\n",
       "      <td>4.000000</td>\n",
       "      <td>5.000000</td>\n",
       "      <td>13.000000</td>\n",
       "      <td>9410.000000</td>\n",
       "      <td>4820.000000</td>\n",
       "      <td>2015.000000</td>\n",
       "      <td>2015.000000</td>\n",
       "      <td>47.777600</td>\n",
       "      <td>-121.315000</td>\n",
       "      <td>6210.000000</td>\n",
       "      <td>871200.000000</td>\n",
       "    </tr>\n",
       "  </tbody>\n",
       "</table>\n",
       "</div>"
      ],
      "text/plain": [
       "              price      bedrooms     bathrooms   sqft_living      sqft_lot  \\\n",
       "count  2.161300e+04  21613.000000  21613.000000  21613.000000  2.161300e+04   \n",
       "mean   5.400881e+05      3.370842      2.114757   2079.899736  1.510697e+04   \n",
       "std    3.671272e+05      0.930062      0.770163    918.440897  4.142051e+04   \n",
       "min    7.500000e+04      0.000000      0.000000    290.000000  5.200000e+02   \n",
       "25%    3.219500e+05      3.000000      1.750000   1427.000000  5.040000e+03   \n",
       "50%    4.500000e+05      3.000000      2.250000   1910.000000  7.618000e+03   \n",
       "75%    6.450000e+05      4.000000      2.500000   2550.000000  1.068800e+04   \n",
       "max    7.700000e+06     33.000000      8.000000  13540.000000  1.651359e+06   \n",
       "\n",
       "             floors    waterfront          view     condition         grade  \\\n",
       "count  21613.000000  21613.000000  21613.000000  21613.000000  21613.000000   \n",
       "mean       1.494309      0.007542      0.234303      3.409430      7.656873   \n",
       "std        0.539989      0.086517      0.766318      0.650743      1.175459   \n",
       "min        1.000000      0.000000      0.000000      1.000000      1.000000   \n",
       "25%        1.000000      0.000000      0.000000      3.000000      7.000000   \n",
       "50%        1.500000      0.000000      0.000000      3.000000      7.000000   \n",
       "75%        2.000000      0.000000      0.000000      4.000000      8.000000   \n",
       "max        3.500000      1.000000      4.000000      5.000000     13.000000   \n",
       "\n",
       "         sqft_above  sqft_basement      yr_built  yr_renovated           lat  \\\n",
       "count  21613.000000   21613.000000  21613.000000  21613.000000  21613.000000   \n",
       "mean    1788.390691     291.509045   1971.005136     84.402258     47.560053   \n",
       "std      828.090978     442.575043     29.373411    401.679240      0.138564   \n",
       "min      290.000000       0.000000   1900.000000      0.000000     47.155900   \n",
       "25%     1190.000000       0.000000   1951.000000      0.000000     47.471000   \n",
       "50%     1560.000000       0.000000   1975.000000      0.000000     47.571800   \n",
       "75%     2210.000000     560.000000   1997.000000      0.000000     47.678000   \n",
       "max     9410.000000    4820.000000   2015.000000   2015.000000     47.777600   \n",
       "\n",
       "               long  sqft_living15     sqft_lot15  \n",
       "count  21613.000000   21613.000000   21613.000000  \n",
       "mean    -122.213896    1986.552492   12768.455652  \n",
       "std        0.140828     685.391304   27304.179631  \n",
       "min     -122.519000     399.000000     651.000000  \n",
       "25%     -122.328000    1490.000000    5100.000000  \n",
       "50%     -122.230000    1840.000000    7620.000000  \n",
       "75%     -122.125000    2360.000000   10083.000000  \n",
       "max     -121.315000    6210.000000  871200.000000  "
      ]
     },
     "execution_count": 2,
     "metadata": {},
     "output_type": "execute_result"
    }
   ],
   "source": [
    "df.shape\n",
    "df.info()\n",
    "df.describe()"
   ]
  },
  {
   "cell_type": "markdown",
   "metadata": {},
   "source": [
    "Histogramas para cada variables del *dataset*"
   ]
  },
  {
   "cell_type": "code",
   "execution_count": 3,
   "metadata": {},
   "outputs": [
    {
     "data": {
      "image/png": "[encoded data removed]",
      "text/plain": [
       "<matplotlib.figure.Figure at 0x7fdfad825b90>"
      ]
     },
     "metadata": {},
     "output_type": "display_data"
    }
   ],
   "source": [
    "df.hist(figsize=(14, 10))\n",
    "plt.show()"
   ]
  },
  {
   "cell_type": "markdown",
   "metadata": {},
   "source": [
    "Los datos a utilizar consisten en 21,613 observaciones de 18 variables en total. La primera de estas, \"price\", corresponde a la variable dependiente, precio de las propiedades que se pretende pronosticar a partir de las variables independientes."
   ]
  },
  {
   "cell_type": "markdown",
   "metadata": {},
   "source": [
    "(c) Normalice los datos antes de trabajar. Explique la importancia/conveniencia de realizar esta operación."
   ]
  },
  {
   "cell_type": "code",
   "execution_count": 4,
   "metadata": {
    "collapsed": true
   },
   "outputs": [],
   "source": [
    "X = df\n",
    "y = np.log(df['price'])\n",
    "mask = np.zeros(len(X))\n",
    "limit = int(len(X)*0.7)\n",
    "mask[:limit] = 1\n",
    "istrain = (mask== 1)\n",
    "Xtrain = X[istrain]\n",
    "ytrain = y[istrain]\n",
    "Xtest = X[np.logical_not(istrain)]\n",
    "ytest = y[np.logical_not(istrain)]\n",
    "Xtrain = Xtrain.drop(['price'], axis=1)\n",
    "Xtest = Xtest.drop(['price'], axis=1)\n",
    "\n",
    "from sklearn.preprocessing import StandardScaler\n",
    "\n",
    "scaler = StandardScaler().fit(Xtrain)\n",
    "df_scaled_train = pd.DataFrame(scaler.transform(Xtrain), columns=Xtrain.columns)\n",
    "df_scaled_train.insert(df_scaled_train.shape[1], 'intercept', np.ones(df_scaled_train.shape[0]))"
   ]
  },
  {
   "cell_type": "markdown",
   "metadata": {},
   "source": [
    "Dado que los datos en las columnas se encuentran en distintas escalas, al momento de aplicar los algoritmos de aprendizaje existirán columnas que ponderarán mucho más y otros muchos menos dada esta diferencia de magnitud. Esta circunstancia perjudica el aprendizaje, puesto que el ajuste de coeficientes se da en magnitudes muy diferentes para cada variable independiente. Es por esta razón que se recomienda a lo menos normalizar la data (ajustar su intervalo), y para algunos modelos de aprendizaje idealmente estandarizar (ajustar la media y la varianza), que es lo que se está haciendo en este caso. \n",
    "\n",
    "Es importante mencionar, que el ajuste de la estandarización se realiza sobre los datos del entrenamiento y posteriormente se utilizarán los datos de media y varianza de este conjunto para estandarizar los datos de pruebas."
   ]
  },
  {
   "cell_type": "markdown",
   "metadata": {},
   "source": [
    "A continuación vemos el efecto de aplicar la función logaritmo a la variable dependiente, que para este caso nos ayuda a bajar la magnitud de los valores. La función logaritmo preserva orden por lo que el efecto es útil al además aplicar un estandarización a de nuestras variables independientes, evitando que el modelo tenga que caer en el uso de coeficientes grandes en magnitud generando un ajuste con malos resultados."
   ]
  },
  {
   "cell_type": "code",
   "execution_count": 5,
   "metadata": {},
   "outputs": [
    {
     "data": {
      "image/png": "[encoded data removed]",
      "text/plain": [
       "<matplotlib.figure.Figure at 0x7fdfa9a8abd0>"
      ]
     },
     "metadata": {},
     "output_type": "display_data"
    }
   ],
   "source": [
    "import matplotlib.pyplot as plt\n",
    "\n",
    "f, axarr = plt.subplots(2, sharex=True, figsize=(8, 6))\n",
    "axarr[0].plot(df['price'], 'b')\n",
    "axarr[0].set_title('Prices and ' + r\"$log($prices)\")\n",
    "axarr[1].plot(np.concatenate((ytrain.as_matrix(), ytest.as_matrix())), 'r')\n",
    "plt.show()"
   ]
  },
  {
   "cell_type": "markdown",
   "metadata": {},
   "source": [
    "(d) Realice una regresión lineal de mı́nimos cuadrados básica. Explique los argumentos que se deben entregar a la función que implementa la regresión lineal"
   ]
  },
  {
   "cell_type": "code",
   "execution_count": 6,
   "metadata": {},
   "outputs": [
    {
     "data": {
      "text/plain": [
       "LinearRegression(copy_X=True, fit_intercept=False, n_jobs=1, normalize=False)"
      ]
     },
     "execution_count": 6,
     "metadata": {},
     "output_type": "execute_result"
    }
   ],
   "source": [
    "import sklearn.linear_model as lm\n",
    "\n",
    "# Regresion lineal\n",
    "linreg = lm.LinearRegression(fit_intercept = False)\n",
    "linreg.fit(df_scaled_train, ytrain)"
   ]
  },
  {
   "cell_type": "markdown",
   "metadata": {},
   "source": [
    "Dado que se utilizaran datos estandarizados, y puesto que el modelo de regresión lineal provisto por ``sklearn`` realiza automáticamente normalización cuando está activo el parámetro ``fit_intercept``, para evitar normalizar datos que han sido previamente estandarizados se ha optado por una vía alternativa de tomar en cuenta el intercepto. De esta forma, al disponer de una columna constante e igual a uno (insertar el vector columna $\\vec{1}$ a $\\textbf{X}$), esta nueva variable independiente cumplirá la función del intercepto, correspondiente a los $\\beta_0$ en la regresión. Por lo anterior, se ingresa el parámetro ``fit_intercept = False``. "
   ]
  },
  {
   "cell_type": "markdown",
   "metadata": {},
   "source": [
    "(e) Construya una tabla con los pesos y Z-score correspondientes a cada predictor (variable). ¿Observa algún problema? Si es así, comente y proponga un metodo para eliminar dicho problema."
   ]
  },
  {
   "cell_type": "code",
   "execution_count": 7,
   "metadata": {
    "collapsed": true
   },
   "outputs": [],
   "source": [
    "# Estimador de sigma\n",
    "def sigmaHat(X, y, yhat):\n",
    "    M, I = X.shape\n",
    "    return np.sqrt(1./(M - I - 1) * np.sum((y - yhat)**2))"
   ]
  },
  {
   "cell_type": "code",
   "execution_count": 8,
   "metadata": {
    "collapsed": true
   },
   "outputs": [],
   "source": [
    "# Calculo de los Z-score\n",
    "def Zscore(X, y, yhat, beta):\n",
    "    V = np.linalg.inv(np.dot(X.T, X))\n",
    "    v = np.diag(V)\n",
    "    sigh = sigmaHat(X, y, yhat)\n",
    "    z = beta/(sigh * np.sqrt(v))\n",
    "    return z"
   ]
  },
  {
   "cell_type": "code",
   "execution_count": 9,
   "metadata": {
    "collapsed": true
   },
   "outputs": [],
   "source": [
    "# Prediccion de los datos de entrenamiento \n",
    "yhat_val = linreg.predict(df_scaled_train)"
   ]
  },
  {
   "cell_type": "code",
   "execution_count": 10,
   "metadata": {
    "collapsed": true,
    "scrolled": true
   },
   "outputs": [],
   "source": [
    "# Valores del Z-score\n",
    "zs = Zscore(df_scaled_train, ytrain, yhat_val, linreg.coef_)"
   ]
  },
  {
   "cell_type": "code",
   "execution_count": 11,
   "metadata": {
    "collapsed": true
   },
   "outputs": [],
   "source": [
    "# Se realiza un contraste de hipotesis para ver si algun \\beta_i = 0\n",
    "from scipy import stats\n",
    "\n",
    "M, I = df_scaled_train.shape\n",
    "\n",
    "# Valor critico de z_i ~ t_{M-I-1}\n",
    "vcrit = stats.t.ppf(1-0.025, M - I - 1)\n",
    "\n",
    "def test(z,vcr):\n",
    "    if abs(z) < vcrit:\n",
    "        return \"No Significativo\"\n",
    "    else:\n",
    "        return \"Significativo\"\n",
    "    \n",
    "cotest = []\n",
    "for z in zs:\n",
    "    cotest.append(test(z, vcrit))"
   ]
  },
  {
   "cell_type": "code",
   "execution_count": 12,
   "metadata": {
    "scrolled": true
   },
   "outputs": [
    {
     "data": {
      "text/html": [
       "<div>\n",
       "<style>\n",
       "    .dataframe thead tr:only-child th {\n",
       "        text-align: right;\n",
       "    }\n",
       "\n",
       "    .dataframe thead th {\n",
       "        text-align: left;\n",
       "    }\n",
       "\n",
       "    .dataframe tbody tr th {\n",
       "        vertical-align: top;\n",
       "    }\n",
       "</style>\n",
       "<table border=\"1\" class=\"dataframe\">\n",
       "  <thead>\n",
       "    <tr style=\"text-align: right;\">\n",
       "      <th></th>\n",
       "      <th>bedrooms</th>\n",
       "      <th>bathrooms</th>\n",
       "      <th>sqft_living</th>\n",
       "      <th>sqft_lot</th>\n",
       "      <th>floors</th>\n",
       "      <th>waterfront</th>\n",
       "      <th>view</th>\n",
       "      <th>condition</th>\n",
       "      <th>grade</th>\n",
       "      <th>sqft_above</th>\n",
       "      <th>sqft_basement</th>\n",
       "      <th>yr_built</th>\n",
       "      <th>yr_renovated</th>\n",
       "      <th>lat</th>\n",
       "      <th>long</th>\n",
       "      <th>sqft_living15</th>\n",
       "      <th>sqft_lot15</th>\n",
       "      <th>b0</th>\n",
       "    </tr>\n",
       "  </thead>\n",
       "  <tbody>\n",
       "    <tr>\n",
       "      <th>coef</th>\n",
       "      <td>-0.00808553</td>\n",
       "      <td>0.0551112</td>\n",
       "      <td>0.0569348</td>\n",
       "      <td>0.0228725</td>\n",
       "      <td>0.0355051</td>\n",
       "      <td>0.0333657</td>\n",
       "      <td>0.042595</td>\n",
       "      <td>0.0463595</td>\n",
       "      <td>0.184577</td>\n",
       "      <td>0.0459367</td>\n",
       "      <td>0.0322648</td>\n",
       "      <td>-0.104759</td>\n",
       "      <td>0.0152659</td>\n",
       "      <td>0.18788</td>\n",
       "      <td>-0.00403123</td>\n",
       "      <td>0.0844123</td>\n",
       "      <td>-0.0071488</td>\n",
       "      <td>13.0335</td>\n",
       "    </tr>\n",
       "    <tr>\n",
       "      <th>Z-score</th>\n",
       "      <td>-3.03408</td>\n",
       "      <td>14.656</td>\n",
       "      <td>7.53058e-07</td>\n",
       "      <td>7.59749</td>\n",
       "      <td>12.2699</td>\n",
       "      <td>14.7857</td>\n",
       "      <td>17.3907</td>\n",
       "      <td>20.5368</td>\n",
       "      <td>48.0682</td>\n",
       "      <td>6.82425e-07</td>\n",
       "      <td>8.58665e-07</td>\n",
       "      <td>-33.7906</td>\n",
       "      <td>6.88979</td>\n",
       "      <td>85.7951</td>\n",
       "      <td>-1.58988</td>\n",
       "      <td>23.5687</td>\n",
       "      <td>-2.34678</td>\n",
       "      <td>6307.52</td>\n",
       "    </tr>\n",
       "    <tr>\n",
       "      <th>test</th>\n",
       "      <td>Significativo</td>\n",
       "      <td>Significativo</td>\n",
       "      <td>No Significativo</td>\n",
       "      <td>Significativo</td>\n",
       "      <td>Significativo</td>\n",
       "      <td>Significativo</td>\n",
       "      <td>Significativo</td>\n",
       "      <td>Significativo</td>\n",
       "      <td>Significativo</td>\n",
       "      <td>No Significativo</td>\n",
       "      <td>No Significativo</td>\n",
       "      <td>Significativo</td>\n",
       "      <td>Significativo</td>\n",
       "      <td>Significativo</td>\n",
       "      <td>No Significativo</td>\n",
       "      <td>Significativo</td>\n",
       "      <td>Significativo</td>\n",
       "      <td>Significativo</td>\n",
       "    </tr>\n",
       "  </tbody>\n",
       "</table>\n",
       "</div>"
      ],
      "text/plain": [
       "              bedrooms      bathrooms       sqft_living       sqft_lot  \\\n",
       "coef       -0.00808553      0.0551112         0.0569348      0.0228725   \n",
       "Z-score       -3.03408         14.656       7.53058e-07        7.59749   \n",
       "test     Significativo  Significativo  No Significativo  Significativo   \n",
       "\n",
       "                floors     waterfront           view      condition  \\\n",
       "coef         0.0355051      0.0333657       0.042595      0.0463595   \n",
       "Z-score        12.2699        14.7857        17.3907        20.5368   \n",
       "test     Significativo  Significativo  Significativo  Significativo   \n",
       "\n",
       "                 grade        sqft_above     sqft_basement       yr_built  \\\n",
       "coef          0.184577         0.0459367         0.0322648      -0.104759   \n",
       "Z-score        48.0682       6.82425e-07       8.58665e-07       -33.7906   \n",
       "test     Significativo  No Significativo  No Significativo  Significativo   \n",
       "\n",
       "          yr_renovated            lat              long  sqft_living15  \\\n",
       "coef         0.0152659        0.18788       -0.00403123      0.0844123   \n",
       "Z-score        6.88979        85.7951          -1.58988        23.5687   \n",
       "test     Significativo  Significativo  No Significativo  Significativo   \n",
       "\n",
       "            sqft_lot15             b0  \n",
       "coef        -0.0071488        13.0335  \n",
       "Z-score       -2.34678        6307.52  \n",
       "test     Significativo  Significativo  "
      ]
     },
     "execution_count": 12,
     "metadata": {},
     "output_type": "execute_result"
    }
   ],
   "source": [
    "cols = [str(i) for i in Xtrain.columns] + ['b0']\n",
    "df_sp = pd.DataFrame([linreg.coef_, zs, cotest], index=['coef', 'Z-score', 'test'], columns=cols)\n",
    "\n",
    "df_sp"
   ]
  },
  {
   "cell_type": "markdown",
   "metadata": {},
   "source": [
    "Al analizar los valores de $Z$-score y realizar los contrastes de hipótesis correspondientes, notamos que hay algunos valores de coeficientes que no son significativos. Esto significa que no se puede rechazar la hipótesis nula según la cual el coeficiente correspondiente sería igual a cero, lo cual se puede dar cuando efectivamente el coeficiente es muy cercano a cero o cuando no siendo el valor β reportado cercano a cero, ocurre que tiene una alta varianza que hace que su valor no pueda ser atribuido a algo distinto que el azar. \n",
    "\n",
    "En el caso de los coeficientes analizados se observa que hay cuatro de ellos que resultan no significativos, los cuales podrían no estar aportando información relevante al modelo de regresión. En primera instancia se podría adoptar la decisión de prescindir de estos predictores, sin embargo esto podría ser un error en caso de que se esté en presencia de colinealidad. "
   ]
  },
  {
   "cell_type": "markdown",
   "metadata": {},
   "source": [
    "La eventual colinealidad entre atributos supuestamente independientes, afecta negativamente la convergencia del modelo regresivo, generando un comportamiento errático en los coeficientes que hace que hae inválidas las conclusiones respecto a qué atributos están aportando significativamente al modelo. Por lo anterior, antes de tomar la decisión de eliminar atributos, es recomendable analizar la presencia de correlación entre las variables independientes. Se presenta a continuación una matriz de correlaciones. \n"
   ]
  },
  {
   "cell_type": "code",
   "execution_count": 13,
   "metadata": {},
   "outputs": [
    {
     "data": {
      "text/html": [
       "<div>\n",
       "<style>\n",
       "    .dataframe thead tr:only-child th {\n",
       "        text-align: right;\n",
       "    }\n",
       "\n",
       "    .dataframe thead th {\n",
       "        text-align: left;\n",
       "    }\n",
       "\n",
       "    .dataframe tbody tr th {\n",
       "        vertical-align: top;\n",
       "    }\n",
       "</style>\n",
       "<table border=\"1\" class=\"dataframe\">\n",
       "  <thead>\n",
       "    <tr style=\"text-align: right;\">\n",
       "      <th></th>\n",
       "      <th>bedrooms</th>\n",
       "      <th>bathrooms</th>\n",
       "      <th>sqft_living</th>\n",
       "      <th>sqft_lot</th>\n",
       "      <th>floors</th>\n",
       "      <th>waterfront</th>\n",
       "      <th>view</th>\n",
       "      <th>condition</th>\n",
       "      <th>grade</th>\n",
       "      <th>sqft_above</th>\n",
       "      <th>sqft_basement</th>\n",
       "      <th>yr_built</th>\n",
       "      <th>yr_renovated</th>\n",
       "      <th>lat</th>\n",
       "      <th>long</th>\n",
       "      <th>sqft_living15</th>\n",
       "      <th>sqft_lot15</th>\n",
       "    </tr>\n",
       "  </thead>\n",
       "  <tbody>\n",
       "    <tr>\n",
       "      <th>bedrooms</th>\n",
       "      <td>1.000000</td>\n",
       "      <td>0.535904</td>\n",
       "      <td>0.578053</td>\n",
       "      <td>0.035067</td>\n",
       "      <td>0.210865</td>\n",
       "      <td>-0.003142</td>\n",
       "      <td>0.088809</td>\n",
       "      <td>0.028019</td>\n",
       "      <td>0.365333</td>\n",
       "      <td>0.467729</td>\n",
       "      <td>0.325182</td>\n",
       "      <td>0.170294</td>\n",
       "      <td>0.023393</td>\n",
       "      <td>-0.000963</td>\n",
       "      <td>0.116781</td>\n",
       "      <td>0.383421</td>\n",
       "      <td>0.030806</td>\n",
       "    </tr>\n",
       "    <tr>\n",
       "      <th>bathrooms</th>\n",
       "      <td>0.535904</td>\n",
       "      <td>1.000000</td>\n",
       "      <td>0.760464</td>\n",
       "      <td>0.098471</td>\n",
       "      <td>0.503189</td>\n",
       "      <td>0.082557</td>\n",
       "      <td>0.205159</td>\n",
       "      <td>-0.094606</td>\n",
       "      <td>0.657519</td>\n",
       "      <td>0.683966</td>\n",
       "      <td>0.304834</td>\n",
       "      <td>0.485022</td>\n",
       "      <td>0.068625</td>\n",
       "      <td>0.025228</td>\n",
       "      <td>0.225004</td>\n",
       "      <td>0.580070</td>\n",
       "      <td>0.099745</td>\n",
       "    </tr>\n",
       "    <tr>\n",
       "      <th>sqft_living</th>\n",
       "      <td>0.578053</td>\n",
       "      <td>0.760464</td>\n",
       "      <td>1.000000</td>\n",
       "      <td>0.178493</td>\n",
       "      <td>0.397948</td>\n",
       "      <td>0.116534</td>\n",
       "      <td>0.295564</td>\n",
       "      <td>-0.048055</td>\n",
       "      <td>0.766096</td>\n",
       "      <td>0.868037</td>\n",
       "      <td>0.457049</td>\n",
       "      <td>0.324213</td>\n",
       "      <td>0.067808</td>\n",
       "      <td>0.061234</td>\n",
       "      <td>0.220904</td>\n",
       "      <td>0.754939</td>\n",
       "      <td>0.188982</td>\n",
       "    </tr>\n",
       "    <tr>\n",
       "      <th>sqft_lot</th>\n",
       "      <td>0.035067</td>\n",
       "      <td>0.098471</td>\n",
       "      <td>0.178493</td>\n",
       "      <td>1.000000</td>\n",
       "      <td>0.025827</td>\n",
       "      <td>0.023224</td>\n",
       "      <td>0.072225</td>\n",
       "      <td>-0.019573</td>\n",
       "      <td>0.129979</td>\n",
       "      <td>0.196501</td>\n",
       "      <td>0.007123</td>\n",
       "      <td>0.090992</td>\n",
       "      <td>0.006080</td>\n",
       "      <td>-0.090548</td>\n",
       "      <td>0.224289</td>\n",
       "      <td>0.161865</td>\n",
       "      <td>0.722972</td>\n",
       "    </tr>\n",
       "    <tr>\n",
       "      <th>floors</th>\n",
       "      <td>0.210865</td>\n",
       "      <td>0.503189</td>\n",
       "      <td>0.397948</td>\n",
       "      <td>0.025827</td>\n",
       "      <td>1.000000</td>\n",
       "      <td>0.040110</td>\n",
       "      <td>0.060022</td>\n",
       "      <td>-0.220846</td>\n",
       "      <td>0.462251</td>\n",
       "      <td>0.577558</td>\n",
       "      <td>-0.233952</td>\n",
       "      <td>0.417424</td>\n",
       "      <td>0.036750</td>\n",
       "      <td>0.038094</td>\n",
       "      <td>0.162631</td>\n",
       "      <td>0.327623</td>\n",
       "      <td>0.022432</td>\n",
       "    </tr>\n",
       "    <tr>\n",
       "      <th>waterfront</th>\n",
       "      <td>-0.003142</td>\n",
       "      <td>0.082557</td>\n",
       "      <td>0.116534</td>\n",
       "      <td>0.023224</td>\n",
       "      <td>0.040110</td>\n",
       "      <td>1.000000</td>\n",
       "      <td>0.391764</td>\n",
       "      <td>0.017628</td>\n",
       "      <td>0.093717</td>\n",
       "      <td>0.086005</td>\n",
       "      <td>0.080403</td>\n",
       "      <td>-0.015090</td>\n",
       "      <td>0.088126</td>\n",
       "      <td>-0.015941</td>\n",
       "      <td>-0.040204</td>\n",
       "      <td>0.093989</td>\n",
       "      <td>0.033634</td>\n",
       "    </tr>\n",
       "    <tr>\n",
       "      <th>view</th>\n",
       "      <td>0.088809</td>\n",
       "      <td>0.205159</td>\n",
       "      <td>0.295564</td>\n",
       "      <td>0.072225</td>\n",
       "      <td>0.060022</td>\n",
       "      <td>0.391764</td>\n",
       "      <td>1.000000</td>\n",
       "      <td>0.040835</td>\n",
       "      <td>0.262132</td>\n",
       "      <td>0.180711</td>\n",
       "      <td>0.270965</td>\n",
       "      <td>-0.034804</td>\n",
       "      <td>0.102012</td>\n",
       "      <td>-0.000829</td>\n",
       "      <td>-0.082706</td>\n",
       "      <td>0.289162</td>\n",
       "      <td>0.065560</td>\n",
       "    </tr>\n",
       "    <tr>\n",
       "      <th>condition</th>\n",
       "      <td>0.028019</td>\n",
       "      <td>-0.094606</td>\n",
       "      <td>-0.048055</td>\n",
       "      <td>-0.019573</td>\n",
       "      <td>-0.220846</td>\n",
       "      <td>0.017628</td>\n",
       "      <td>0.040835</td>\n",
       "      <td>1.000000</td>\n",
       "      <td>-0.126500</td>\n",
       "      <td>-0.147964</td>\n",
       "      <td>0.168377</td>\n",
       "      <td>-0.316423</td>\n",
       "      <td>-0.075268</td>\n",
       "      <td>-0.020326</td>\n",
       "      <td>-0.110188</td>\n",
       "      <td>-0.087904</td>\n",
       "      <td>-0.018792</td>\n",
       "    </tr>\n",
       "    <tr>\n",
       "      <th>grade</th>\n",
       "      <td>0.365333</td>\n",
       "      <td>0.657519</td>\n",
       "      <td>0.766096</td>\n",
       "      <td>0.129979</td>\n",
       "      <td>0.462251</td>\n",
       "      <td>0.093717</td>\n",
       "      <td>0.262132</td>\n",
       "      <td>-0.126500</td>\n",
       "      <td>1.000000</td>\n",
       "      <td>0.762282</td>\n",
       "      <td>0.175869</td>\n",
       "      <td>0.434888</td>\n",
       "      <td>0.026252</td>\n",
       "      <td>0.112334</td>\n",
       "      <td>0.209230</td>\n",
       "      <td>0.736976</td>\n",
       "      <td>0.136042</td>\n",
       "    </tr>\n",
       "    <tr>\n",
       "      <th>sqft_above</th>\n",
       "      <td>0.467729</td>\n",
       "      <td>0.683966</td>\n",
       "      <td>0.868037</td>\n",
       "      <td>0.196501</td>\n",
       "      <td>0.577558</td>\n",
       "      <td>0.086005</td>\n",
       "      <td>0.180711</td>\n",
       "      <td>-0.147964</td>\n",
       "      <td>0.762282</td>\n",
       "      <td>1.000000</td>\n",
       "      <td>-0.044872</td>\n",
       "      <td>0.427164</td>\n",
       "      <td>0.037031</td>\n",
       "      <td>0.009976</td>\n",
       "      <td>0.330376</td>\n",
       "      <td>0.730918</td>\n",
       "      <td>0.207778</td>\n",
       "    </tr>\n",
       "    <tr>\n",
       "      <th>sqft_basement</th>\n",
       "      <td>0.325182</td>\n",
       "      <td>0.304834</td>\n",
       "      <td>0.457049</td>\n",
       "      <td>0.007123</td>\n",
       "      <td>-0.233952</td>\n",
       "      <td>0.080403</td>\n",
       "      <td>0.270965</td>\n",
       "      <td>0.168377</td>\n",
       "      <td>0.175869</td>\n",
       "      <td>-0.044872</td>\n",
       "      <td>1.000000</td>\n",
       "      <td>-0.112892</td>\n",
       "      <td>0.070096</td>\n",
       "      <td>0.105335</td>\n",
       "      <td>-0.147368</td>\n",
       "      <td>0.209607</td>\n",
       "      <td>0.008027</td>\n",
       "    </tr>\n",
       "    <tr>\n",
       "      <th>yr_built</th>\n",
       "      <td>0.170294</td>\n",
       "      <td>0.485022</td>\n",
       "      <td>0.324213</td>\n",
       "      <td>0.090992</td>\n",
       "      <td>0.417424</td>\n",
       "      <td>-0.015090</td>\n",
       "      <td>-0.034804</td>\n",
       "      <td>-0.316423</td>\n",
       "      <td>0.434888</td>\n",
       "      <td>0.427164</td>\n",
       "      <td>-0.112892</td>\n",
       "      <td>1.000000</td>\n",
       "      <td>-0.217956</td>\n",
       "      <td>-0.166473</td>\n",
       "      <td>0.463052</td>\n",
       "      <td>0.349459</td>\n",
       "      <td>0.114194</td>\n",
       "    </tr>\n",
       "    <tr>\n",
       "      <th>yr_renovated</th>\n",
       "      <td>0.023393</td>\n",
       "      <td>0.068625</td>\n",
       "      <td>0.067808</td>\n",
       "      <td>0.006080</td>\n",
       "      <td>0.036750</td>\n",
       "      <td>0.088126</td>\n",
       "      <td>0.102012</td>\n",
       "      <td>-0.075268</td>\n",
       "      <td>0.026252</td>\n",
       "      <td>0.037031</td>\n",
       "      <td>0.070096</td>\n",
       "      <td>-0.217956</td>\n",
       "      <td>1.000000</td>\n",
       "      <td>0.031769</td>\n",
       "      <td>-0.073246</td>\n",
       "      <td>0.003175</td>\n",
       "      <td>0.006992</td>\n",
       "    </tr>\n",
       "    <tr>\n",
       "      <th>lat</th>\n",
       "      <td>-0.000963</td>\n",
       "      <td>0.025228</td>\n",
       "      <td>0.061234</td>\n",
       "      <td>-0.090548</td>\n",
       "      <td>0.038094</td>\n",
       "      <td>-0.015941</td>\n",
       "      <td>-0.000829</td>\n",
       "      <td>-0.020326</td>\n",
       "      <td>0.112334</td>\n",
       "      <td>0.009976</td>\n",
       "      <td>0.105335</td>\n",
       "      <td>-0.166473</td>\n",
       "      <td>0.031769</td>\n",
       "      <td>1.000000</td>\n",
       "      <td>-0.125403</td>\n",
       "      <td>0.064907</td>\n",
       "      <td>-0.090897</td>\n",
       "    </tr>\n",
       "    <tr>\n",
       "      <th>long</th>\n",
       "      <td>0.116781</td>\n",
       "      <td>0.225004</td>\n",
       "      <td>0.220904</td>\n",
       "      <td>0.224289</td>\n",
       "      <td>0.162631</td>\n",
       "      <td>-0.040204</td>\n",
       "      <td>-0.082706</td>\n",
       "      <td>-0.110188</td>\n",
       "      <td>0.209230</td>\n",
       "      <td>0.330376</td>\n",
       "      <td>-0.147368</td>\n",
       "      <td>0.463052</td>\n",
       "      <td>-0.073246</td>\n",
       "      <td>-0.125403</td>\n",
       "      <td>1.000000</td>\n",
       "      <td>0.311608</td>\n",
       "      <td>0.260524</td>\n",
       "    </tr>\n",
       "    <tr>\n",
       "      <th>sqft_living15</th>\n",
       "      <td>0.383421</td>\n",
       "      <td>0.580070</td>\n",
       "      <td>0.754939</td>\n",
       "      <td>0.161865</td>\n",
       "      <td>0.327623</td>\n",
       "      <td>0.093989</td>\n",
       "      <td>0.289162</td>\n",
       "      <td>-0.087904</td>\n",
       "      <td>0.736976</td>\n",
       "      <td>0.730918</td>\n",
       "      <td>0.209607</td>\n",
       "      <td>0.349459</td>\n",
       "      <td>0.003175</td>\n",
       "      <td>0.064907</td>\n",
       "      <td>0.311608</td>\n",
       "      <td>1.000000</td>\n",
       "      <td>0.196651</td>\n",
       "    </tr>\n",
       "    <tr>\n",
       "      <th>sqft_lot15</th>\n",
       "      <td>0.030806</td>\n",
       "      <td>0.099745</td>\n",
       "      <td>0.188982</td>\n",
       "      <td>0.722972</td>\n",
       "      <td>0.022432</td>\n",
       "      <td>0.033634</td>\n",
       "      <td>0.065560</td>\n",
       "      <td>-0.018792</td>\n",
       "      <td>0.136042</td>\n",
       "      <td>0.207778</td>\n",
       "      <td>0.008027</td>\n",
       "      <td>0.114194</td>\n",
       "      <td>0.006992</td>\n",
       "      <td>-0.090897</td>\n",
       "      <td>0.260524</td>\n",
       "      <td>0.196651</td>\n",
       "      <td>1.000000</td>\n",
       "    </tr>\n",
       "  </tbody>\n",
       "</table>\n",
       "</div>"
      ],
      "text/plain": [
       "               bedrooms  bathrooms  sqft_living  sqft_lot    floors  \\\n",
       "bedrooms       1.000000   0.535904     0.578053  0.035067  0.210865   \n",
       "bathrooms      0.535904   1.000000     0.760464  0.098471  0.503189   \n",
       "sqft_living    0.578053   0.760464     1.000000  0.178493  0.397948   \n",
       "sqft_lot       0.035067   0.098471     0.178493  1.000000  0.025827   \n",
       "floors         0.210865   0.503189     0.397948  0.025827  1.000000   \n",
       "waterfront    -0.003142   0.082557     0.116534  0.023224  0.040110   \n",
       "view           0.088809   0.205159     0.295564  0.072225  0.060022   \n",
       "condition      0.028019  -0.094606    -0.048055 -0.019573 -0.220846   \n",
       "grade          0.365333   0.657519     0.766096  0.129979  0.462251   \n",
       "sqft_above     0.467729   0.683966     0.868037  0.196501  0.577558   \n",
       "sqft_basement  0.325182   0.304834     0.457049  0.007123 -0.233952   \n",
       "yr_built       0.170294   0.485022     0.324213  0.090992  0.417424   \n",
       "yr_renovated   0.023393   0.068625     0.067808  0.006080  0.036750   \n",
       "lat           -0.000963   0.025228     0.061234 -0.090548  0.038094   \n",
       "long           0.116781   0.225004     0.220904  0.224289  0.162631   \n",
       "sqft_living15  0.383421   0.580070     0.754939  0.161865  0.327623   \n",
       "sqft_lot15     0.030806   0.099745     0.188982  0.722972  0.022432   \n",
       "\n",
       "               waterfront      view  condition     grade  sqft_above  \\\n",
       "bedrooms        -0.003142  0.088809   0.028019  0.365333    0.467729   \n",
       "bathrooms        0.082557  0.205159  -0.094606  0.657519    0.683966   \n",
       "sqft_living      0.116534  0.295564  -0.048055  0.766096    0.868037   \n",
       "sqft_lot         0.023224  0.072225  -0.019573  0.129979    0.196501   \n",
       "floors           0.040110  0.060022  -0.220846  0.462251    0.577558   \n",
       "waterfront       1.000000  0.391764   0.017628  0.093717    0.086005   \n",
       "view             0.391764  1.000000   0.040835  0.262132    0.180711   \n",
       "condition        0.017628  0.040835   1.000000 -0.126500   -0.147964   \n",
       "grade            0.093717  0.262132  -0.126500  1.000000    0.762282   \n",
       "sqft_above       0.086005  0.180711  -0.147964  0.762282    1.000000   \n",
       "sqft_basement    0.080403  0.270965   0.168377  0.175869   -0.044872   \n",
       "yr_built        -0.015090 -0.034804  -0.316423  0.434888    0.427164   \n",
       "yr_renovated     0.088126  0.102012  -0.075268  0.026252    0.037031   \n",
       "lat             -0.015941 -0.000829  -0.020326  0.112334    0.009976   \n",
       "long            -0.040204 -0.082706  -0.110188  0.209230    0.330376   \n",
       "sqft_living15    0.093989  0.289162  -0.087904  0.736976    0.730918   \n",
       "sqft_lot15       0.033634  0.065560  -0.018792  0.136042    0.207778   \n",
       "\n",
       "               sqft_basement  yr_built  yr_renovated       lat      long  \\\n",
       "bedrooms            0.325182  0.170294      0.023393 -0.000963  0.116781   \n",
       "bathrooms           0.304834  0.485022      0.068625  0.025228  0.225004   \n",
       "sqft_living         0.457049  0.324213      0.067808  0.061234  0.220904   \n",
       "sqft_lot            0.007123  0.090992      0.006080 -0.090548  0.224289   \n",
       "floors             -0.233952  0.417424      0.036750  0.038094  0.162631   \n",
       "waterfront          0.080403 -0.015090      0.088126 -0.015941 -0.040204   \n",
       "view                0.270965 -0.034804      0.102012 -0.000829 -0.082706   \n",
       "condition           0.168377 -0.316423     -0.075268 -0.020326 -0.110188   \n",
       "grade               0.175869  0.434888      0.026252  0.112334  0.209230   \n",
       "sqft_above         -0.044872  0.427164      0.037031  0.009976  0.330376   \n",
       "sqft_basement       1.000000 -0.112892      0.070096  0.105335 -0.147368   \n",
       "yr_built           -0.112892  1.000000     -0.217956 -0.166473  0.463052   \n",
       "yr_renovated        0.070096 -0.217956      1.000000  0.031769 -0.073246   \n",
       "lat                 0.105335 -0.166473      0.031769  1.000000 -0.125403   \n",
       "long               -0.147368  0.463052     -0.073246 -0.125403  1.000000   \n",
       "sqft_living15       0.209607  0.349459      0.003175  0.064907  0.311608   \n",
       "sqft_lot15          0.008027  0.114194      0.006992 -0.090897  0.260524   \n",
       "\n",
       "               sqft_living15  sqft_lot15  \n",
       "bedrooms            0.383421    0.030806  \n",
       "bathrooms           0.580070    0.099745  \n",
       "sqft_living         0.754939    0.188982  \n",
       "sqft_lot            0.161865    0.722972  \n",
       "floors              0.327623    0.022432  \n",
       "waterfront          0.093989    0.033634  \n",
       "view                0.289162    0.065560  \n",
       "condition          -0.087904   -0.018792  \n",
       "grade               0.736976    0.136042  \n",
       "sqft_above          0.730918    0.207778  \n",
       "sqft_basement       0.209607    0.008027  \n",
       "yr_built            0.349459    0.114194  \n",
       "yr_renovated        0.003175    0.006992  \n",
       "lat                 0.064907   -0.090897  \n",
       "long                0.311608    0.260524  \n",
       "sqft_living15       1.000000    0.196651  \n",
       "sqft_lot15          0.196651    1.000000  "
      ]
     },
     "execution_count": 13,
     "metadata": {},
     "output_type": "execute_result"
    }
   ],
   "source": [
    "df_scaled_train.iloc[:,:-1].corr()"
   ]
  },
  {
   "cell_type": "markdown",
   "metadata": {},
   "source": [
    "Del cuadro anterior podemos ver que existen algunas características que tienen altos valores de correlación, por lo que no sería recomendable eliminar atributos previamente declarados no significativos. Se hace necesario por tanto explorar otras técnicas de selección de atributos, lo cual será abordado en la siguiente seccion de la presente tarea, utilizando Ridge y Lasso. "
   ]
  },
  {
   "cell_type": "markdown",
   "metadata": {},
   "source": [
    "(f) Estime el error de predicción del modelo usando validación cruzada con un número de \"folds\" igual a $K = 5$ y $K = 10$. Recuerde que para que la estimación sea razonable debe ajustar los pesos del modelo de nuevo, cada vez que trabaja sobre un determinado \"fold\". Mida el error real del modelo sobre el conjunto de pruebas, compare y concluya."
   ]
  },
  {
   "cell_type": "code",
   "execution_count": 14,
   "metadata": {
    "collapsed": true
   },
   "outputs": [],
   "source": [
    "x_test = pd.DataFrame(scaler.transform(Xtest),columns=Xtest.columns)\n",
    "x_test.insert(x_test.shape[1], 'intercept', np.ones(x_test.shape[0]))\n",
    "\n",
    "yhat_test = linreg.predict(x_test)\n",
    "mse_test = np.mean(np.power(yhat_test - ytest, 2))\n",
    "\n",
    "from sklearn.model_selection import KFold\n",
    "\n",
    "Xm = Xtrain.as_matrix()\n",
    "ym = ytrain.as_matrix()"
   ]
  },
  {
   "cell_type": "code",
   "execution_count": 15,
   "metadata": {},
   "outputs": [
    {
     "name": "stdout",
     "output_type": "stream",
     "text": [
      "MSE K=5: 0.064701633522\n",
      "R2=0.766837\n",
      "\n"
     ]
    }
   ],
   "source": [
    "kf = KFold(n_splits=5)\n",
    "mse_cv = 0\n",
    "score = 0\n",
    "\n",
    "for train, val in kf.split(Xm):\n",
    "    cross_scaler = StandardScaler().fit(Xm[train])\n",
    "    df_cross_train = pd.DataFrame(cross_scaler.transform(Xm[train]),\n",
    "    columns=Xtrain.columns)\n",
    "    df_cross_train.insert(df_cross_train.shape[1], 'intercept',\n",
    "        np.ones(df_cross_train.shape[0]))\n",
    "    linreg = lm.LinearRegression(fit_intercept = False)\n",
    "    linreg.fit(df_cross_train, ym[train])\n",
    "    df_cross_val = pd.DataFrame(cross_scaler.transform(Xm[val]),columns=Xtrain.columns)\n",
    "    df_cross_val.insert(df_cross_val.shape[1], 'intercept', np.ones(df_cross_val.shape[0]))\n",
    "    yhat_val = linreg.predict(df_cross_val)\n",
    "    y_val = ym[val]\n",
    "    mse_fold = np.mean(np.power(yhat_val - y_val, 2))\n",
    "    score_fold = linreg.score(df_cross_val, y_val)\n",
    "    mse_cv += mse_fold\n",
    "    score += score_fold\n",
    "\n",
    "mse_cv = mse_cv / 5\n",
    "score = score / 5\n",
    "print \"MSE K=5:\", mse_cv\n",
    "print \"R2=%f\"%score\n",
    "print \"\""
   ]
  },
  {
   "cell_type": "code",
   "execution_count": 16,
   "metadata": {},
   "outputs": [
    {
     "name": "stdout",
     "output_type": "stream",
     "text": [
      "MSE K=10: 0.0646829054256\n",
      "R2=0.766611\n",
      "\n"
     ]
    }
   ],
   "source": [
    "kf = KFold(n_splits=10)\n",
    "mse_cv = 0\n",
    "score = 0\n",
    "\n",
    "for train, val in kf.split(Xm):\n",
    "    cross_scaler = StandardScaler().fit(Xm[train])\n",
    "    df_cross_train = pd.DataFrame(cross_scaler.transform(Xm[train]),\n",
    "    columns=Xtrain.columns)\n",
    "    df_cross_train.insert(df_cross_train.shape[1], 'intercept',\n",
    "        np.ones(df_cross_train.shape[0]))\n",
    "    linreg = lm.LinearRegression(fit_intercept = False)\n",
    "    linreg.fit(df_cross_train, ym[train])\n",
    "    df_cross_val = pd.DataFrame(cross_scaler.transform(Xm[val]),columns=Xtrain.columns)\n",
    "    df_cross_val.insert(df_cross_val.shape[1], 'intercept', np.ones(df_cross_val.shape[0]))\n",
    "    yhat_val = linreg.predict(df_cross_val)\n",
    "    y_val = ym[val]\n",
    "    mse_fold = np.mean(np.power(yhat_val - y_val, 2))\n",
    "    score_fold = linreg.score(df_cross_val, y_val)\n",
    "    mse_cv += mse_fold\n",
    "    score += score_fold\n",
    "\n",
    "mse_cv = mse_cv / 10\n",
    "score = score / 10\n",
    "print \"MSE K=10:\", mse_cv\n",
    "print \"R2=%f\"%score\n",
    "print \"\""
   ]
  },
  {
   "cell_type": "code",
   "execution_count": 17,
   "metadata": {},
   "outputs": [
    {
     "name": "stdout",
     "output_type": "stream",
     "text": [
      "Testing MSE:  0.0651691603876\n",
      "R2=0.763561 \n",
      "\n"
     ]
    }
   ],
   "source": [
    "x_test = pd.DataFrame(scaler.transform(Xtest),columns=Xtest.columns)\n",
    "x_test.insert(x_test.shape[1], 'intercept', np.ones(x_test.shape[0]))\n",
    "\n",
    "\n",
    "yhat_test = linreg.predict(x_test)\n",
    "mse_test = np.mean(np.power(yhat_test - ytest, 2))\n",
    "score = linreg.score(x_test, ytest)\n",
    "\n",
    "print \"Testing MSE: \", mse_test\n",
    "print \"R2=%f \"%score\n",
    "print \"\""
   ]
  },
  {
   "cell_type": "markdown",
   "metadata": {},
   "source": [
    "Usando validación cruzada fue posible obtiener una estimación adecuada del error real del modelo, en torno a 0.065. También permitió estimar el coeficente $R^2$ que fue de 0.76. Podemos concluir que el modelo tuvo problemas con el sobreajuste y estimó de buena forma el error del modelo."
   ]
  },
  {
   "cell_type": "markdown",
   "metadata": {},
   "source": [
    "(j) Mida los errores de predicción para cada dato de entrenamiento. Utilizando un \"quantile-quantile plot\" determine si es razonable la hipótesis de normalidad sobre los residuos del modelo."
   ]
  },
  {
   "cell_type": "code",
   "execution_count": 18,
   "metadata": {},
   "outputs": [
    {
     "data": {
      "image/png": "[encoded data removed]",
      "text/plain": [
       "<matplotlib.figure.Figure at 0x7fdfa05829d0>"
      ]
     },
     "metadata": {},
     "output_type": "display_data"
    }
   ],
   "source": [
    "import pylab \n",
    "import scipy.stats as stats\n",
    "\n",
    "# Prediccion datos de entrenamiento\n",
    "yhat = linreg.predict(df_scaled_train)\n",
    "\n",
    "# Calculo de error\n",
    "error = yhat - ytrain\n",
    "\n",
    "# Grafico\n",
    "stats.probplot(error, dist=\"norm\", plot=pylab)\n",
    "pylab.show()"
   ]
  },
  {
   "cell_type": "markdown",
   "metadata": {},
   "source": [
    "A partir del análisis sobre la gráfica *\"quantile-quantile plot\"* se observa que, para la mayor parte del dominio de las observaciones, la distribución del valor residual se comporta similar a la distribución normal. Esto no se cumple, sin embargo, para los valores extremos de residuo, siendo el error mayor al esperado (de acuerdo a la distribución normal) en los casos extremos. Esto se infiere por el supuesto de que el modelo se conforma por la predicción más un error que sigue una distribución normal. El problema de las esquinas es generado por la presencia de datos *outliers*."
   ]
  },
  {
   "cell_type": "markdown",
   "metadata": {},
   "source": [
    "(h) Se generan dos muestreos de datos donde el valor de sus etiqueta siguen distribuciones distintas: Genere dos modelos, evalue y compare sus comportamientos."
   ]
  },
  {
   "cell_type": "code",
   "execution_count": 19,
   "metadata": {
    "collapsed": true
   },
   "outputs": [],
   "source": [
    "df_A = df.sample(3000)\n",
    "frames = []\n",
    "valor = np.log(df.price)\n",
    "\n",
    "for z in np.arange(int(np.min(valor)),int(np.max(valor))+1,0.5):\n",
    "    frames.append(df[(valor >= z) & (valor < z+0.5)].head(500))\n",
    "    \n",
    "df_B = pd.concat(frames).sample(3000)\n",
    "X_A = df_A.iloc[:,1:].values\n",
    "y_A = np.log(df_A.price)\n",
    "X_B = df_B.iloc[:,1:].values\n",
    "y_B = np.log(df_B.price)\n",
    "\n",
    "from sklearn.model_selection import train_test_split\n",
    "Xtrain_A, Xval_A, ytrain_A, yval_A = train_test_split(X_A, y_A, test_size=0.3, random_state=42)\n",
    "Xtrain_B, Xval_B, ytrain_B, yval_B = train_test_split(X_B, y_B, test_size=0.3, random_state=42)"
   ]
  },
  {
   "cell_type": "code",
   "execution_count": 20,
   "metadata": {
    "collapsed": true
   },
   "outputs": [],
   "source": [
    "from sklearn.preprocessing import StandardScaler\n",
    "\n",
    "Xtrain_A = pd.DataFrame(Xtrain_A)\n",
    "Xval_A = pd.DataFrame(Xval_A)\n",
    "\n",
    "scaler = StandardScaler()\n",
    "df_scaled_train_A = pd.DataFrame(scaler.fit_transform(Xtrain_A), columns=Xtrain_A.columns)\n",
    "df_scaled_train_A.insert(df_scaled_train_A.shape[1], 'intercept', np.ones(df_scaled_train_A.shape[0]))\n",
    "\n",
    "df_scaled_test_A = pd.DataFrame(scaler.fit_transform(Xval_A),columns=Xval_A.columns)\n",
    "df_scaled_test_A.insert(df_scaled_test_A.shape[1], 'intercept', np.ones(df_scaled_test_A.shape[0]))"
   ]
  },
  {
   "cell_type": "code",
   "execution_count": 21,
   "metadata": {},
   "outputs": [
    {
     "name": "stdout",
     "output_type": "stream",
     "text": [
      "MSE A: 0.0654636317445\n",
      "R2=0.756941 \n",
      "\n"
     ]
    }
   ],
   "source": [
    "linregA = lm.LinearRegression(fit_intercept = False)\n",
    "linregA.fit(df_scaled_train_A, ytrain_A)\n",
    "yhatA = linreg.predict(df_scaled_test_A)\n",
    "mseA = np.mean(np.power(yhatA - yval_A, 2))\n",
    "score = linreg.score(df_scaled_test_A, yval_A)\n",
    "\n",
    "print \"MSE A:\", mseA\n",
    "print \"R2=%f \"%score\n",
    "print \"\""
   ]
  },
  {
   "cell_type": "code",
   "execution_count": 22,
   "metadata": {
    "collapsed": true
   },
   "outputs": [],
   "source": [
    "from sklearn.preprocessing import StandardScaler\n",
    "\n",
    "Xtrain_B = pd.DataFrame(Xtrain_B)\n",
    "Xval_B = pd.DataFrame(Xval_B)\n",
    "\n",
    "scaler = StandardScaler()\n",
    "df_scaled_train_B = pd.DataFrame(scaler.fit_transform(Xtrain_B), columns=Xtrain_B.columns)\n",
    "df_scaled_train_B.insert(df_scaled_train_B.shape[1], 'intercept', np.ones(df_scaled_train_B.shape[0]))\n",
    "\n",
    "df_scaled_test_B = pd.DataFrame(scaler.fit_transform(Xval_B),columns=Xval_B.columns)\n",
    "df_scaled_test_B.insert(df_scaled_test_B.shape[1], 'intercept', np.ones(df_scaled_test_B.shape[0]))"
   ]
  },
  {
   "cell_type": "code",
   "execution_count": 23,
   "metadata": {},
   "outputs": [
    {
     "name": "stdout",
     "output_type": "stream",
     "text": [
      "MSE B: 0.230386547896\n",
      "R2=0.707983 \n",
      "\n"
     ]
    }
   ],
   "source": [
    "linregB = lm.LinearRegression(fit_intercept = False)\n",
    "linregB.fit(df_scaled_train_B, ytrain_B)\n",
    "yhatB = linreg.predict(df_scaled_test_B)\n",
    "mseB = np.mean(np.power(yhatB - yval_B, 2))\n",
    "score = linreg.score(df_scaled_test_B, yval_B)\n",
    "\n",
    "print \"MSE B:\", mseB\n",
    "print \"R2=%f \"%score\n",
    "print \"\""
   ]
  },
  {
   "cell_type": "markdown",
   "metadata": {},
   "source": [
    "Se observa que de las dos muestras, la que fue construida aleatoriamente permitió generar un modelo de comportamiento similar al que se habría obtenido con toda la data de entrenamiento. Por otra parte, al forzar un muestreo homogéneamene distribuido sobre el dominio de la variable dependiente se produce un claro deterioro del error real del modelo y del coeficiente $R^2$ medido sobre los datos de prueba. Esto es reflejo de que la nueva muestra no representa realmente el comportamiento de la mayoría de las observaciones, dando lugar a que registros poco frecuentes sean tratados con la misma ponderación que aquellos más comunes. "
   ]
  },
  {
   "cell_type": "code",
   "execution_count": 24,
   "metadata": {},
   "outputs": [
    {
     "data": {
      "image/png": "[encoded data removed]",
      "text/plain": [
       "<matplotlib.figure.Figure at 0x7fdfa9deddd0>"
      ]
     },
     "metadata": {},
     "output_type": "display_data"
    }
   ],
   "source": [
    "import matplotlib.pyplot as plt\n",
    "\n",
    "plt.hist(y_A)\n",
    "plt.title(\"Histograma \" + r\"$y_A$\")\n",
    "plt.show()"
   ]
  },
  {
   "cell_type": "code",
   "execution_count": 25,
   "metadata": {},
   "outputs": [
    {
     "data": {
      "image/png": "[encoded data removed]",
      "text/plain": [
       "<matplotlib.figure.Figure at 0x7fdfa9dfba50>"
      ]
     },
     "metadata": {},
     "output_type": "display_data"
    }
   ],
   "source": [
    "import matplotlib.pyplot as plt\n",
    "\n",
    "plt.hist(y_B)\n",
    "plt.title(\"Histograma \" + r\"$y_B$\")\n",
    "plt.show()"
   ]
  },
  {
   "cell_type": "markdown",
   "metadata": {},
   "source": [
    "De los histogramas notamos que el muestreo realizado para B, crea un efecto de \"cambio de distribución\" y en concreto se le está entregando más credibilidad a los valores *outliers* lo que dificultaría el ajuste del modelo entregando errores considerablemente mayores a los que se entregan para la muestra A."
   ]
  },
  {
   "cell_type": "markdown",
   "metadata": {},
   "source": [
    "---"
   ]
  },
  {
   "cell_type": "markdown",
   "metadata": {},
   "source": [
    "# 2 Selección de Atributos"
   ]
  },
  {
   "cell_type": "markdown",
   "metadata": {},
   "source": [
    "Utilizando el dataframe de la actividad anterior,"
   ]
  },
  {
   "cell_type": "markdown",
   "metadata": {},
   "source": [
    "(a) Construya una función que implemente Forward Step-wise Selection (FSS). Es decir, partiendo con un modelo sin predictores (variables), agregue un predictor a la vez, re-ajustando el modelo de regresión en cada paso. Para seleccionar localmente una variable, proponga/implemente un criterio distinto al utilizado en el código de ejemplo. Construya un gráfico que muestre el error de entrenamiento y el error de pruebas como función del número de variables en el modelo. Ordene el eje $x$ de menor a mayor."
   ]
  },
  {
   "cell_type": "code",
   "execution_count": 26,
   "metadata": {
    "collapsed": true
   },
   "outputs": [],
   "source": [
    "import matplotlib.pyplot as plt\n",
    "\n",
    "def plot_error(x, error_training, error_testing, crit):\n",
    "    plt.figure(figsize=(10, 6))\n",
    "    plt.plot(x, error_training, label=\"Training Error\")\n",
    "    plt.plot(x, error_testing, label=\"Testing Error\")\n",
    "    plt.grid(True)\n",
    "    plt.legend()\n",
    "    plt.xlabel(\"N de variables\")\n",
    "    plt.ylabel(crit)\n",
    "    plt.show()"
   ]
  },
  {
   "cell_type": "code",
   "execution_count": 27,
   "metadata": {
    "scrolled": false
   },
   "outputs": [],
   "source": [
    "def fss(x, y, xt, yt, names_x, k = 10000, crit = \"mse\"):\n",
    "    p = x.shape[1]-1\n",
    "    k = min(p, k)\n",
    "    names_x = np.array(names_x)\n",
    "    remaining = range(0, p)\n",
    "    selected = [p]\n",
    "    current_score = 0.0\n",
    "    best_new_score = 0.0\n",
    "    \n",
    "    # Variables para el grafico\n",
    "    er_tr = []\n",
    "    er_te = []\n",
    "    \n",
    "    while remaining and len(selected)<=k :\n",
    "        score_candidates = []\n",
    "        tmp_test = []\n",
    "\n",
    "        for candidate in remaining:\n",
    "            model = lm.LinearRegression(fit_intercept=False)\n",
    "            indexes = selected + [candidate]\n",
    "            x_train = x[:,indexes]            \n",
    "            predictions_train = model.fit(x_train, y).predict(x_train)\n",
    "            residuals_train = predictions_train - y\n",
    "            if crit == \"mse\":\n",
    "                er_train_candidate = np.mean(np.power(residuals_train, 2))\n",
    "            elif crit == \"mae\":\n",
    "                er_train_candidate = np.sum(np.abs(residuals_train))/len(residuals_train)\n",
    "            \n",
    "            # Testing error\n",
    "            prediction_test = model.predict(xt[:,indexes])\n",
    "            residuals_test = prediction_test - yt            \n",
    "            if crit == \"mse\":\n",
    "                er_test_candidate = np.mean(np.power(residuals_test, 2))\n",
    "            elif crit == \"mae\":\n",
    "                er_test_candidate = np.sum(np.abs(residuals_test))/len(residuals_test)\n",
    "            \n",
    "            score_candidates.append((er_train_candidate, candidate, er_test_candidate))\n",
    "            \n",
    "        score_candidates.sort()\n",
    "        score_candidates[:] = score_candidates[::-1]\n",
    "        best_new_score, best_candidate, test_score = score_candidates.pop()\n",
    "        remaining.remove(best_candidate)\n",
    "        selected.append(best_candidate)\n",
    "        print \"selected = %s ...\"%names_x[best_candidate]\n",
    "        print \"totalvars=%d, %s = %f\"%(len(indexes), crit, best_new_score)\n",
    "        \n",
    "        # Guardar errores de training y testing\n",
    "        er_tr.append(best_new_score)\n",
    "        er_te.append(test_score)\n",
    "        \n",
    "    # Grafico de errores\n",
    "    plot_error(np.arange(1, 1 + len(er_tr)), er_tr, er_te, crit)\n",
    "    \n",
    "    return selected"
   ]
  },
  {
   "cell_type": "code",
   "execution_count": 28,
   "metadata": {
    "scrolled": false
   },
   "outputs": [
    {
     "name": "stdout",
     "output_type": "stream",
     "text": [
      "selected = grade ...\n",
      "totalvars=2, mse = 0.143260\n",
      "selected = lat ...\n",
      "totalvars=3, mse = 0.103340\n",
      "selected = sqft_living ...\n",
      "totalvars=4, mse = 0.084960\n",
      "selected = yr_built ...\n",
      "totalvars=5, mse = 0.075447\n",
      "selected = view ...\n",
      "totalvars=6, mse = 0.071782\n",
      "selected = sqft_living15 ...\n",
      "totalvars=7, mse = 0.069979\n",
      "selected = bathrooms ...\n",
      "totalvars=8, mse = 0.068251\n",
      "selected = condition ...\n",
      "totalvars=9, mse = 0.066864\n",
      "selected = waterfront ...\n",
      "totalvars=10, mse = 0.065836\n",
      "selected = floors ...\n",
      "totalvars=11, mse = 0.065107\n",
      "selected = sqft_lot ...\n",
      "totalvars=12, mse = 0.064820\n",
      "selected = yr_renovated ...\n",
      "totalvars=13, mse = 0.064619\n",
      "selected = bedrooms ...\n",
      "totalvars=14, mse = 0.064583\n",
      "selected = sqft_basement ...\n",
      "totalvars=15, mse = 0.064554\n",
      "selected = sqft_lot15 ...\n",
      "totalvars=16, mse = 0.064527\n",
      "selected = long ...\n",
      "totalvars=17, mse = 0.064516\n",
      "selected = sqft_above ...\n",
      "totalvars=18, mse = 0.064516\n"
     ]
    },
    {
     "data": {
      "image/png": "[encoded data removed]",
      "text/plain": [
       "<matplotlib.figure.Figure at 0x7fdfa92f4c90>"
      ]
     },
     "metadata": {},
     "output_type": "display_data"
    },
    {
     "name": "stdout",
     "output_type": "stream",
     "text": [
      "Selected [17, 8, 13, 2, 11, 6, 15, 1, 7, 5, 4, 3, 12, 0, 10, 16, 14, 9]\n"
     ]
    }
   ],
   "source": [
    "# Training data\n",
    "Xm = df_scaled_train.as_matrix()\n",
    "Ym = ytrain.as_matrix()\n",
    "\n",
    "# Testing data\n",
    "Xt = x_test.as_matrix()\n",
    "yt = ytest.as_matrix()\n",
    "\n",
    "names_regressors = df_scaled_train.columns\n",
    "\n",
    "sel = fss(Xm, Ym, Xt, yt, names_regressors)\n",
    "print \"Selected\", sel"
   ]
  },
  {
   "cell_type": "markdown",
   "metadata": {},
   "source": [
    "Luego de ejecutar el FSS, se obtiene que el mejor modelo es el que posee todas las variables. Aún así, como análisis cualitativo, notamos que desde las 10 variables hacia arriba el error es comparable, por lo que en el caso que no busquemos la centésima de precisión ya obtendríamos un modelo lo suficientemente competente.\n",
    "\n",
    "Llama la atención que se observe un error de entrenamiento mayor que el error de testeo cuando se entrena con pocos atributos. Es posible que esta situación se deba a un problema de convergencia del modelo, aunque no está clara una explicación. "
   ]
  },
  {
   "cell_type": "markdown",
   "metadata": {},
   "source": [
    "Una posible modificación es usar como criterio el $MAE$"
   ]
  },
  {
   "cell_type": "code",
   "execution_count": 29,
   "metadata": {},
   "outputs": [
    {
     "name": "stdout",
     "output_type": "stream",
     "text": [
      "selected = grade ...\n",
      "totalvars=2, mae = 0.302697\n",
      "selected = lat ...\n",
      "totalvars=3, mae = 0.249518\n",
      "selected = sqft_living ...\n",
      "totalvars=4, mae = 0.225651\n",
      "selected = yr_built ...\n",
      "totalvars=5, mae = 0.211753\n",
      "selected = view ...\n",
      "totalvars=6, mae = 0.206941\n",
      "selected = bathrooms ...\n",
      "totalvars=7, mae = 0.204301\n",
      "selected = sqft_living15 ...\n",
      "totalvars=8, mae = 0.202069\n",
      "selected = condition ...\n",
      "totalvars=9, mae = 0.200426\n",
      "selected = floors ...\n",
      "totalvars=10, mae = 0.198749\n",
      "selected = waterfront ...\n",
      "totalvars=11, mae = 0.197509\n",
      "selected = sqft_lot ...\n",
      "totalvars=12, mae = 0.197028\n",
      "selected = bedrooms ...\n",
      "totalvars=13, mae = 0.196811\n",
      "selected = yr_renovated ...\n",
      "totalvars=14, mae = 0.196634\n",
      "selected = sqft_above ...\n",
      "totalvars=15, mae = 0.196472\n",
      "selected = sqft_lot15 ...\n",
      "totalvars=16, mae = 0.196463\n",
      "selected = sqft_basement ...\n",
      "totalvars=17, mae = 0.196463\n",
      "selected = long ...\n",
      "totalvars=18, mae = 0.196594\n"
     ]
    },
    {
     "data": {
      "image/png": "[encoded data removed]",
      "text/plain": [
       "<matplotlib.figure.Figure at 0x7fdfa987a810>"
      ]
     },
     "metadata": {},
     "output_type": "display_data"
    },
    {
     "name": "stdout",
     "output_type": "stream",
     "text": [
      "Selected [17, 8, 13, 2, 11, 6, 1, 15, 7, 4, 5, 3, 0, 12, 9, 16, 10, 14]\n"
     ]
    }
   ],
   "source": [
    "sel = fss(Xm, Ym, Xt, yt, names_regressors, crit=\"mae\")\n",
    "print \"Selected\", sel"
   ]
  },
  {
   "cell_type": "markdown",
   "metadata": {},
   "source": [
    "Notamos que si bien el gráfico muestra comportamientos similares, el modelo cambia la forma de seleccionar las variables."
   ]
  },
  {
   "cell_type": "markdown",
   "metadata": {},
   "source": [
    "Otra propuesta podría ser el uso de Kfold cross validation y el ajuste $R^2$ como criterio de selección de modelo/variables."
   ]
  },
  {
   "cell_type": "code",
   "execution_count": 30,
   "metadata": {},
   "outputs": [
    {
     "name": "stdout",
     "output_type": "stream",
     "text": [
      "Numero optimo de features : 18\n",
      "Scores:  [ -4.29662288e-04   4.74027093e-01   6.45319084e-01   6.93728531e-01\n",
      "   7.28060065e-01   7.36463080e-01   7.43117174e-01   7.53746990e-01\n",
      "   7.58712623e-01   7.61709056e-01   7.65012985e-01   7.65001823e-01\n",
      "   7.65001823e-01   7.66041194e-01   7.66714770e-01   7.66757685e-01\n",
      "   7.66747844e-01   7.66879405e-01]\n"
     ]
    },
    {
     "data": {
      "image/png": "[encoded data removed]",
      "text/plain": [
       "<matplotlib.figure.Figure at 0x7fdfa92eac90>"
      ]
     },
     "metadata": {},
     "output_type": "display_data"
    }
   ],
   "source": [
    "from sklearn.model_selection import KFold\n",
    "from sklearn.feature_selection import RFECV\n",
    "\n",
    "# Linear regression\n",
    "linreg = lm.LinearRegression(fit_intercept=False)\n",
    "\n",
    "# Uso de seleccion de caracteristicas de sklearn\n",
    "rfecv = RFECV(estimator=linreg, step=1, cv=KFold(5), scoring='r2')\n",
    "rfecv.fit(Xm, ym)\n",
    "\n",
    "print(\"Numero optimo de features : %d\" % rfecv.n_features_)\n",
    "print \"Scores: \", rfecv.grid_scores_ # Puntaje de ajuste\n",
    "\n",
    "# Plot number of features VS. cross-validation scores\n",
    "plt.figure(figsize=(10, 6))\n",
    "plt.xlabel(\"Number of features selected\")\n",
    "plt.ylabel(\"Cross validation score\")\n",
    "plt.plot(np.arange(1, 1 + len(rfecv.grid_scores_)), rfecv.grid_scores_)\n",
    "plt.grid(True)\n",
    "plt.show()"
   ]
  },
  {
   "cell_type": "markdown",
   "metadata": {},
   "source": [
    "Con esta propuesta, notamos que el algoritmo indica que con todas las variables el modelo obtiene el mejor rendimiento. Al igual que en el caso anterior, cualitativamente podemos ver que con 10 variables el modelo tiene resultados considerablemente buenos."
   ]
  },
  {
   "cell_type": "markdown",
   "metadata": {},
   "source": [
    "Finalmente podemos concluir que para distintos procedimientos para la selección de atributos los resultados son comparables y obligándonos de esta forma a introducir nuevas técnicas para cumplir el objetivo. Esto se verá en el siguiente punto."
   ]
  },
  {
   "cell_type": "markdown",
   "metadata": {},
   "source": [
    "---"
   ]
  },
  {
   "cell_type": "markdown",
   "metadata": {},
   "source": [
    "# 3 Regularización"
   ]
  },
  {
   "cell_type": "markdown",
   "metadata": {},
   "source": [
    "Utilizando el dataframe de la actividad anterior,"
   ]
  },
  {
   "cell_type": "markdown",
   "metadata": {},
   "source": [
    "(a) Ajuste un modelo lineal utilizando \"Ridge Regression\", es decir, regularizando con la norma $\\ell_2$. Utilice\n",
    "valores del parámetro de regularización $\\lambda^{‡}$ en el rango $[10^4 , 10^{−1}]$. Construya un gráfico que muestre los\n",
    "coeficientes obtenidos como función del parámetro de regularización. Describa lo que observa. (**Hint**:\n",
    "Note que la lı́nea 4 y el primer argumento en la lı́nea 12 son crı́ticos)."
   ]
  },
  {
   "cell_type": "code",
   "execution_count": 31,
   "metadata": {},
   "outputs": [
    {
     "data": {
      "image/png": "[encoded data removed]",
      "text/plain": [
       "<matplotlib.figure.Figure at 0x7fdfa9a76890>"
      ]
     },
     "metadata": {},
     "output_type": "display_data"
    }
   ],
   "source": [
    "from sklearn.linear_model import Ridge\n",
    "import matplotlib.pylab as plt\n",
    "\n",
    "ax = plt.figure(figsize=(10, 8))\n",
    "\n",
    "Dtrain = df_scaled_train.copy()\n",
    "Dtrain = Dtrain.drop('intercept', axis=1)\n",
    "names_regressors = df_scaled_train.columns\n",
    "\n",
    "alphas_ = np.logspace(8,-1,base=10)\n",
    "coefs = []\n",
    "model = Ridge(fit_intercept=True, solver='svd')\n",
    "for a in alphas_:\n",
    "    model.set_params(alpha=a)\n",
    "    model.fit(Dtrain, ytrain)\n",
    "    coefs.append(model.coef_)\n",
    "    ax = plt.gca()\n",
    "    \n",
    "for y_arr, label in zip(np.squeeze(coefs).T, names_regressors):\n",
    "    #print alphas_.shape\n",
    "    #print y_arr.shape\n",
    "    plt.plot(alphas_, y_arr, label=label)\n",
    "    \n",
    "#plt.legend()\n",
    "ax.set_xscale('log')\n",
    "ax.set_xlim(ax.get_xlim()[::-1]) # reverse axis\n",
    "plt.xlabel('alpha')\n",
    "plt.ylabel('weights')\n",
    "plt.title('Regularization Path RIDGE')\n",
    "plt.axis('tight')\n",
    "#plt.legend(loc=1)\n",
    "plt.legend(bbox_to_anchor=(1.1, 1.05))\n",
    "plt.show()"
   ]
  },
  {
   "cell_type": "markdown",
   "metadata": {},
   "source": [
    "$^{‡}$ Se asume la siguiente formulación: $\\min_w ||\\textbf{Y} - \\textbf{Xw}||^2 + \\lambda ||\\textbf{w}||^2$."
   ]
  },
  {
   "cell_type": "markdown",
   "metadata": {},
   "source": [
    "Lo que se aprecia en el gráfico, es el efecto de la regularización. Según la teoría a medida que el valor del parámetro $\\lambda$ crece, los pesos de los coeficientes deberían comenzar a \"*contraerse*\", hasta que con un parámetro de regularización suficientemente alto todos los coeficientes convergen a cero. "
   ]
  },
  {
   "cell_type": "markdown",
   "metadata": {},
   "source": [
    "(b) Ajuste un modelo lineal utilizando el método \"Lasso\", es decir, regularizando con la norma $\\ell_1$. Utilice valores del parámetro de regularización $\\lambda^{§}$ en el rango $[10^1 ,10^{−2}]$. Para obtener el código, modifique las lı́neas 7 y 9 del ejemplo anterior. Construya un gráfico que muestre los coeficientes obtenidos como función del parámetro de regularización. Describa lo que observa. ¿Es más efectivo Lasso para seleccionar atributos?"
   ]
  },
  {
   "cell_type": "code",
   "execution_count": 32,
   "metadata": {},
   "outputs": [
    {
     "data": {
      "image/png": "[encoded data removed]",
      "text/plain": [
       "<matplotlib.figure.Figure at 0x7fdfa9805710>"
      ]
     },
     "metadata": {},
     "output_type": "display_data"
    }
   ],
   "source": [
    "from sklearn.linear_model import Lasso\n",
    "import matplotlib.pylab as plt\n",
    "\n",
    "ax = plt.figure(figsize=(10, 8))\n",
    "\n",
    "Dtrain = df_scaled_train.copy()\n",
    "Dtrain = Dtrain.drop('intercept', axis=1)\n",
    "names_regressors = df_scaled_train.columns\n",
    "\n",
    "alphas_ = np.logspace(0,-3,base=10)\n",
    "coefs = []\n",
    "clf = Lasso(fit_intercept=True)\n",
    "\n",
    "for a in alphas_:\n",
    "    clf.set_params(alpha=a)\n",
    "    clf.fit(Dtrain, ytrain)\n",
    "    coefs.append(clf.coef_)\n",
    "    ax = plt.gca()\n",
    "    \n",
    "for y_arr, label in zip(np.squeeze(coefs).T, names_regressors):\n",
    "    #print alphas_.shape\n",
    "    #print y_arr.shape\n",
    "    plt.plot(alphas_, y_arr, label=label)\n",
    "    \n",
    "#plt.legend()\n",
    "ax.set_xscale('log')\n",
    "ax.set_xlim(ax.get_xlim()[::-1]) # reverse axis\n",
    "plt.xlabel('alpha')\n",
    "plt.ylabel('weights')\n",
    "plt.title('Regularization Path LASSO')\n",
    "plt.axis('tight')\n",
    "plt.legend(bbox_to_anchor=(1.1, 1.05))\n",
    "plt.show()"
   ]
  },
  {
   "cell_type": "markdown",
   "metadata": {},
   "source": [
    "$^{§}$ Se asume la siguiente formulación: $\\min_w \\frac12 ||\\textbf{Y} - \\textbf{Xw}||^2 + \\lambda ||\\textbf{w}||_{\\ell_1}$."
   ]
  },
  {
   "cell_type": "markdown",
   "metadata": {},
   "source": [
    "Al igual que en el ejercicio anterior, lo que vemos en el gráfico es el efecto de la regularización para distintos valores de $\\lambda$. La ventaja de usar Lasso es que genera modelos más pequeños dado que reduce el tamaño de atributos, facilitando la intepretación del modelo. Lasso además de \"*encoger*\" los pesos realiza una selección de atributos automática, puesto que no todos los coeficientes se hacen cero para un mismo parámetro de regularización, sino que se van desactivando secuencialmente, según su grado de significancia respecto a la variable dependiente. "
   ]
  },
  {
   "cell_type": "markdown",
   "metadata": {},
   "source": [
    "(c) Utilizando \"Ridge Regression\", construya un gráfico que muestre el error de entrenamiento y el error de pruebas como función del parámetro de regularización. Discuta lo que observa."
   ]
  },
  {
   "cell_type": "code",
   "execution_count": 33,
   "metadata": {},
   "outputs": [
    {
     "data": {
      "image/png": "[encoded data removed]",
      "text/plain": [
       "<matplotlib.figure.Figure at 0x7fdfa93e7390>"
      ]
     },
     "metadata": {},
     "output_type": "display_data"
    }
   ],
   "source": [
    "Xtest = x_test.copy()\n",
    "ytest = ytest.copy()\n",
    "Xtest = Xtest.drop('intercept', axis=1)\n",
    "alphas_ = np.logspace(4,-2,base=10)\n",
    "coefs = []\n",
    "model = Ridge(fit_intercept=True)\n",
    "mse_test = []\n",
    "mse_train = []\n",
    "\n",
    "for a in alphas_:\n",
    "    model.set_params(alpha=a)\n",
    "    model.fit(Dtrain, ytrain)\n",
    "    yhat_train = model.predict(Dtrain)\n",
    "    yhat_test = model.predict(Xtest)\n",
    "    mse_train.append(np.mean(np.power(yhat_train - ytrain, 2)))\n",
    "    mse_test.append(np.mean(np.power(yhat_test - ytest, 2)))\n",
    "    \n",
    "ax = plt.figure(figsize=(8, 5))\n",
    "ax = plt.gca()\n",
    "ax.plot(alphas_,mse_train,label='train error ridge')\n",
    "ax.plot(alphas_,mse_test,label='test error ridge')\n",
    "plt.legend()\n",
    "plt.grid(True)\n",
    "ax.set_xscale('log')\n",
    "ax.set_xlim(ax.get_xlim()[::-1])\n",
    "plt.xlabel(\"alpha\")\n",
    "plt.ylabel(\"MSE\")\n",
    "plt.show()"
   ]
  },
  {
   "cell_type": "markdown",
   "metadata": {},
   "source": [
    "Gráficamente notamos el efecto de la regularización sobre los errores de entrenamiento y pruebas. Esta herramienta nos ayudaría a crear modelos que puedan generalizar de mejor forma al permitir agregar este parámetro, ya que podemos \"penalizar\" los resultados de entrenamiento.\n",
    "\n",
    "Nuevamente se observa que el error de entrenamiento puede ser mayor que el de prueba, en este caso cuando el parámetro $\\lambda$ es alto, lo cual se podría atribuir a que se ha acotado demasiado los parámetros $\\beta$ por lo que el atributo que predomina es el intercepto (que no está acotado). Es posible que la muestra de prueba responda a un intercepto levemente menor, que la de entrenamiento, generando el efecto que se observa. "
   ]
  },
  {
   "cell_type": "markdown",
   "metadata": {},
   "source": [
    "(d) Utilizando \"Lasso\", construya un gráfico que muestre el error de entrenamiento y el error de pruebas como función del parámetro de regularización. Discuta lo que observa."
   ]
  },
  {
   "cell_type": "code",
   "execution_count": 34,
   "metadata": {},
   "outputs": [
    {
     "data": {
      "image/png": "[encoded data removed]",
      "text/plain": [
       "<matplotlib.figure.Figure at 0x7fdfaa450d90>"
      ]
     },
     "metadata": {},
     "output_type": "display_data"
    }
   ],
   "source": [
    "Xtest = x_test.copy()\n",
    "ytest = ytest.copy()\n",
    "Xtest = Xtest.drop('intercept', axis=1)\n",
    "alphas_ = np.logspace(0.5,-2,base=10)\n",
    "coefs = []\n",
    "model = Lasso(fit_intercept=True)\n",
    "mse_test = []\n",
    "mse_train = []\n",
    "\n",
    "for a in alphas_:\n",
    "    model.set_params(alpha=a)\n",
    "    model.fit(Dtrain, ytrain)\n",
    "    yhat_train = model.predict(Dtrain)\n",
    "    yhat_test = model.predict(Xtest)\n",
    "    mse_train.append(np.mean(np.power(yhat_train - ytrain, 2)))\n",
    "    mse_test.append(np.mean(np.power(yhat_test - ytest, 2)))\n",
    "    \n",
    "ax = plt.figure(figsize=(8, 5))\n",
    "ax = plt.gca()\n",
    "ax.plot(alphas_,mse_train,label='train error ridge')\n",
    "ax.plot(alphas_,mse_test,label='test error ridge')\n",
    "plt.legend()\n",
    "plt.grid(True)\n",
    "ax.set_xscale('log')\n",
    "ax.set_xlim(ax.get_xlim()[::-1])\n",
    "plt.xlabel(\"alpha\")\n",
    "plt.ylabel(\"MSE\")\n",
    "plt.show()"
   ]
  },
  {
   "cell_type": "markdown",
   "metadata": {},
   "source": [
    "Se aprecia que con $\\lambda$ suficientemente alto el error de training y de testing se equiparan en un máximo, lo cual responde a que a partir de ese punto todos los coeficientes se hacen cero. Esta ves el error de testeo es consistentemente más bajo que el de entrenamiento, como era esperable. "
   ]
  },
  {
   "cell_type": "markdown",
   "metadata": {},
   "source": [
    "(e) Estime el valor del parámetro de regularización en los métodos anteriores usando validación cruzada."
   ]
  },
  {
   "cell_type": "code",
   "execution_count": 35,
   "metadata": {
    "scrolled": false
   },
   "outputs": [
    {
     "name": "stderr",
     "output_type": "stream",
     "text": [
      "/home/dsanmartin/anaconda3/envs/py27/lib/python2.7/site-packages/sklearn/cross_validation.py:41: DeprecationWarning: This module was deprecated in version 0.18 in favor of the model_selection module into which all the refactored classes and functions are moved. Also note that the interface of the new CV iterators are different from that of this module. This module will be removed in 0.20.\n",
      "  \"This module will be removed in 0.20.\", DeprecationWarning)\n"
     ]
    },
    {
     "name": "stdout",
     "output_type": "stream",
     "text": [
      "BEST PARAMETER=3.162278, MSE(CV)=0.277498\n",
      "BEST PARAMETER=1.976598, MSE(CV)=0.277498\n",
      "BEST PARAMETER=0.339322, MSE(CV)=0.276496\n",
      "BEST PARAMETER=0.301711, MSE(CV)=0.274288\n",
      "BEST PARAMETER=0.268270, MSE(CV)=0.271299\n",
      "BEST PARAMETER=0.238534, MSE(CV)=0.267827\n",
      "BEST PARAMETER=0.212095, MSE(CV)=0.263880\n",
      "BEST PARAMETER=0.188586, MSE(CV)=0.259511\n",
      "BEST PARAMETER=0.167683, MSE(CV)=0.254916\n",
      "BEST PARAMETER=0.149097, MSE(CV)=0.250227\n",
      "BEST PARAMETER=0.132571, MSE(CV)=0.245535\n",
      "BEST PARAMETER=0.117877, MSE(CV)=0.240909\n",
      "BEST PARAMETER=0.104811, MSE(CV)=0.236395\n",
      "BEST PARAMETER=0.093194, MSE(CV)=0.231992\n",
      "BEST PARAMETER=0.082864, MSE(CV)=0.227719\n",
      "BEST PARAMETER=0.073680, MSE(CV)=0.223595\n",
      "BEST PARAMETER=0.065513, MSE(CV)=0.219619\n",
      "BEST PARAMETER=0.058251, MSE(CV)=0.215761\n",
      "BEST PARAMETER=0.051795, MSE(CV)=0.212029\n",
      "BEST PARAMETER=0.046054, MSE(CV)=0.208425\n",
      "BEST PARAMETER=0.040949, MSE(CV)=0.204945\n",
      "BEST PARAMETER=0.036410, MSE(CV)=0.201587\n",
      "BEST PARAMETER=0.032375, MSE(CV)=0.198355\n",
      "BEST PARAMETER=0.028786, MSE(CV)=0.195249\n",
      "BEST PARAMETER=0.025595, MSE(CV)=0.192261\n",
      "BEST PARAMETER=0.022758, MSE(CV)=0.189390\n",
      "BEST PARAMETER=0.020236, MSE(CV)=0.186631\n",
      "BEST PARAMETER=0.017993, MSE(CV)=0.183980\n",
      "BEST PARAMETER=0.015999, MSE(CV)=0.181434\n",
      "BEST PARAMETER=0.014225, MSE(CV)=0.178988\n",
      "BEST PARAMETER=0.012649, MSE(CV)=0.176635\n",
      "BEST PARAMETER=0.011247, MSE(CV)=0.174373\n",
      "BEST PARAMETER=0.010000, MSE(CV)=0.172197\n"
     ]
    }
   ],
   "source": [
    "from sklearn.linear_model import Lasso\n",
    "\n",
    "MSE = lambda y,yhat: np.mean(np.power(y-yhat,2))\n",
    "Xm = Xtrain.as_matrix()\n",
    "ym = ytrain.as_matrix()\n",
    "\n",
    "from sklearn import cross_validation\n",
    "\n",
    "k_fold = cross_validation.KFold(len(Xm),10)\n",
    "best_cv_mse = float(\"inf\")\n",
    "model = Lasso(fit_intercept=True)\n",
    "mse_list_k10 = []\n",
    "\n",
    "for a in alphas_:\n",
    "    model.set_params(alpha=a)\n",
    "    for train,vald in k_fold:\n",
    "        cross_scaler = StandardScaler().fit(Xm[train])\n",
    "        df_cross_train = pd.DataFrame(cross_scaler.transform(Xm[train]), columns=Xtrain.columns)\n",
    "        df_cross_train.insert(df_cross_train.shape[1], 'intercept', np.ones(df_cross_train.shape[0]))\n",
    "        df_cross_test = pd.DataFrame(cross_scaler.transform(Xm[vald]), columns=Xtrain.columns)\n",
    "        df_cross_test.insert(df_cross_test.shape[1], 'intercept', np.ones(df_cross_test.shape[0]))\n",
    "        mse_list_k10.append(MSE(model.fit(df_cross_train, ym[train]).predict(df_cross_test),ym[vald]))\n",
    "        \n",
    "    if np.mean(mse_list_k10) < best_cv_mse:\n",
    "        best_cv_mse = np.mean(mse_list_k10)\n",
    "        best_alpha = a\n",
    "        print \"BEST PARAMETER=%f, MSE(CV)=%f\"%(best_alpha,best_cv_mse)"
   ]
  },
  {
   "cell_type": "markdown",
   "metadata": {},
   "source": [
    "Luego de aplicar el *Cross Validation* para estimar el parámetro de *Lasso* se obtiene que el mejor valor se obtiene $\\alpha=0.01$ con un $MSE\\approx 0.1722$ "
   ]
  },
  {
   "cell_type": "code",
   "execution_count": 36,
   "metadata": {},
   "outputs": [
    {
     "name": "stdout",
     "output_type": "stream",
     "text": [
      "BEST PARAMETER=10000.000000, MSE(CV)=0.079556\n",
      "BEST PARAMETER=7906.043211, MSE(CV)=0.077658\n",
      "BEST PARAMETER=6250.551925, MSE(CV)=0.076038\n",
      "BEST PARAMETER=4941.713361, MSE(CV)=0.074663\n",
      "BEST PARAMETER=3906.939937, MSE(CV)=0.073501\n",
      "BEST PARAMETER=3088.843596, MSE(CV)=0.072518\n",
      "BEST PARAMETER=2442.053095, MSE(CV)=0.071688\n",
      "BEST PARAMETER=1930.697729, MSE(CV)=0.070986\n",
      "BEST PARAMETER=1526.417967, MSE(CV)=0.070389\n",
      "BEST PARAMETER=1206.792641, MSE(CV)=0.069881\n",
      "BEST PARAMETER=954.095476, MSE(CV)=0.069446\n",
      "BEST PARAMETER=754.312006, MSE(CV)=0.069071\n",
      "BEST PARAMETER=596.362332, MSE(CV)=0.068747\n",
      "BEST PARAMETER=471.486636, MSE(CV)=0.068464\n",
      "BEST PARAMETER=372.759372, MSE(CV)=0.068217\n",
      "BEST PARAMETER=294.705170, MSE(CV)=0.067999\n",
      "BEST PARAMETER=232.995181, MSE(CV)=0.067805\n",
      "BEST PARAMETER=184.206997, MSE(CV)=0.067632\n",
      "BEST PARAMETER=145.634848, MSE(CV)=0.067477\n",
      "BEST PARAMETER=115.139540, MSE(CV)=0.067338\n",
      "BEST PARAMETER=91.029818, MSE(CV)=0.067212\n",
      "BEST PARAMETER=71.968567, MSE(CV)=0.067097\n",
      "BEST PARAMETER=56.898660, MSE(CV)=0.066992\n",
      "BEST PARAMETER=44.984327, MSE(CV)=0.066896\n",
      "BEST PARAMETER=35.564803, MSE(CV)=0.066807\n",
      "BEST PARAMETER=28.117687, MSE(CV)=0.066725\n",
      "BEST PARAMETER=22.229965, MSE(CV)=0.066650\n",
      "BEST PARAMETER=17.575106, MSE(CV)=0.066579\n",
      "BEST PARAMETER=13.894955, MSE(CV)=0.066514\n",
      "BEST PARAMETER=10.985411, MSE(CV)=0.066453\n",
      "BEST PARAMETER=8.685114, MSE(CV)=0.066396\n",
      "BEST PARAMETER=6.866488, MSE(CV)=0.066342\n",
      "BEST PARAMETER=5.428675, MSE(CV)=0.066292\n",
      "BEST PARAMETER=4.291934, MSE(CV)=0.066245\n",
      "BEST PARAMETER=3.393222, MSE(CV)=0.066200\n",
      "BEST PARAMETER=2.682696, MSE(CV)=0.066158\n",
      "BEST PARAMETER=2.120951, MSE(CV)=0.066118\n",
      "BEST PARAMETER=1.676833, MSE(CV)=0.066080\n",
      "BEST PARAMETER=1.325711, MSE(CV)=0.066044\n",
      "BEST PARAMETER=1.048113, MSE(CV)=0.066010\n",
      "BEST PARAMETER=0.828643, MSE(CV)=0.065978\n",
      "BEST PARAMETER=0.655129, MSE(CV)=0.065947\n",
      "BEST PARAMETER=0.517947, MSE(CV)=0.065918\n",
      "BEST PARAMETER=0.409492, MSE(CV)=0.065890\n",
      "BEST PARAMETER=0.323746, MSE(CV)=0.065863\n",
      "BEST PARAMETER=0.255955, MSE(CV)=0.065837\n",
      "BEST PARAMETER=0.202359, MSE(CV)=0.065813\n",
      "BEST PARAMETER=0.159986, MSE(CV)=0.065789\n",
      "BEST PARAMETER=0.126486, MSE(CV)=0.065767\n",
      "BEST PARAMETER=0.100000, MSE(CV)=0.065745\n"
     ]
    }
   ],
   "source": [
    "from sklearn.linear_model import Ridge\n",
    "\n",
    "MSE = lambda y,yhat: np.mean(np.power(y-yhat,2))\n",
    "Xm = Xtrain.as_matrix()\n",
    "ym = ytrain.as_matrix()\n",
    "\n",
    "from sklearn import cross_validation\n",
    "\n",
    "alphas_ = np.logspace(4,-1,base=10)\n",
    "\n",
    "k_fold = cross_validation.KFold(len(Xm),10)\n",
    "best_cv_mse = float(\"inf\")\n",
    "model = Ridge(fit_intercept=True)\n",
    "mse_list_k10 = []\n",
    "\n",
    "for a in alphas_:\n",
    "    model.set_params(alpha=a)\n",
    "    for train, vald in k_fold:\n",
    "        cross_scaler = StandardScaler().fit(Xm[train])\n",
    "        df_cross_train = pd.DataFrame(cross_scaler.transform(Xm[train]), columns=Xtrain.columns)\n",
    "        df_cross_train.insert(df_cross_train.shape[1], 'intercept', np.ones(df_cross_train.shape[0]))\n",
    "        df_cross_test = pd.DataFrame(cross_scaler.transform(Xm[vald]), columns=Xtrain.columns)\n",
    "        df_cross_test.insert(df_cross_test.shape[1], 'intercept', np.ones(df_cross_test.shape[0]))\n",
    "        mse_list_k10.append(MSE(model.fit(df_cross_train, ym[train]).predict(df_cross_test),ym[vald]))\n",
    "        \n",
    "    if np.mean(mse_list_k10) < best_cv_mse:\n",
    "        best_cv_mse = np.mean(mse_list_k10)\n",
    "        best_alpha = a\n",
    "        print \"BEST PARAMETER=%f, MSE(CV)=%f\"%(best_alpha,best_cv_mse)"
   ]
  },
  {
   "cell_type": "markdown",
   "metadata": {},
   "source": [
    "Luego de aplicar el *Cross Validation* para estimar el parámetro de *Ridge* se obtiene que el mejor valor se obtiene $\\alpha=0.1$ con un $MSE\\approx 0.066$ "
   ]
  },
  {
   "cell_type": "markdown",
   "metadata": {},
   "source": [
    "# 4 Predicción de Utilidades de Películas"
   ]
  },
  {
   "cell_type": "markdown",
   "metadata": {},
   "source": [
    "El problema a resolver en esta sección consiste en predecir el volumen de utilidades (en dólares) obtenidas por el estreno (al público, en USA) de una pelı́cula. Específicamente consideraremos dos posibles respuestas: el volumen total de utilidades (total revenue) obtenido durante el fin de semana del estreno y el volumen de utilidades por lugar de proyección (per screen revenue). Los datos a utilizar fueron recolectados en un estudio publicado recientemente por M. Joshi y colegas de la universidad de Carnegie Mellon [3], y corresponden a 1718 pelı́culas realizadas entre 2005 y 2009. Cada pelı́cula, se representa utilizando diversos tipos de atributos\n",
    "\n",
    "1. Texto: A partir de las crı́ticas publicadas para cada pelı́cula (en diversos sitios y antes del estreno), se construyen características que corresponden a la frecuencia de palabras, parejas de palabras y trı́os de palabras obtenidas de un vocabulario.\n",
    "2. Metadata: (1) Variable binaria que indica si el lugar de origen de la pelı́cula es USA, (2) logaritmo del presupuesto, (3) número de puntos de proyección, (4) género (acción, drama, comedia, etc), (5) Calificación de la MPAA (mayores de catorce, todo espectador, etc), (6) Variable binaria que indica si el estreno se produjo durante un feriado/vacaciones y (7) Número de actores con OSCAR.\n",
    "\n",
    "Los datos pueden ser descargados ejecutando los siguientes comandos en un terminal (sistemas UNIX)\n",
    "\n",
    "```\n",
    "wget http://www.inf.utfsm.cl/~cvalle/movies.tar.gz\n",
    "tar -xzvf movies.tar.gz\n",
    "rm movies.tar.gz\n",
    "```\n",
    "\n",
    "Para facilitar el trabajo, los datos han sido ya preparados en formato matricial. Concretamente usted dispondrá de tres parejas de archivos ($\\textbf{X}$ e $y$): un conjunto de datos de entrenamiento (```train.x.nm``` y ```train.y.dat```), un conjunto de datos de validación para evitar tener que hacer validación cruzada (```dev.x.nm``` y ```dev.y.dat```) y un conjunto de datos de pruebas (```test.x.nm``` y ```test.y.dat```) que, naturalmente, no puede utilizar para construir el modelo. Se incluirán además, dos versiones de los datos. Una de ellas consiste en remover la variable que indica la presencia de actores con OSCAR del conjunto de atributos.\n",
    "\n",
    "El archivo de respuestas ($y$) contiene un dato por fila en el orden correspondiente a las $x$. El archivo con\n",
    "los atributos ($x$) está codificado en formato sparse de matrix market [5] como sigue. La cabecera del archivo\n",
    "pueden aparecer 0, 1 o más comentarios (filas que inician con %). La linea siguiente indica el número de filas,\n",
    "columnas y entradas no nulas de la matriz. Las lı́neas que siguen tienen la estructura ($i, j, \\textbf{X}_{ij}$), es decir indican la fila y columna de la matriz que contiene el tercer elemento. Por ejemplo:\n",
    "\n",
    "```\n",
    "%%MatrixMarket matrix coordinate real general\n",
    "317 145256 658516\n",
    "1 9 14.0\n",
    "1 12 1.0\n",
    "```"
   ]
  },
  {
   "cell_type": "markdown",
   "metadata": {},
   "source": [
    "(a) Lea los archivos de datos y cárguelos en dos dataframe o matrices $\\textbf{X}$, $y$. En el caso de $\\textbf{X}$ es extremadamente importante que mantenga el formato disperso (sparse) (¿porqué?). Si trabaja con matrices use matrices dispersas del tipo ```csr matrix``` o ```csc matrix```. Si prefiere operar sobre un dataframe, puede utilizar los (recientemente introducidos) dataframe dispersos de pandas: *SparseDataFrame*, aunque todavı́a no se tiene una operabilidad completa."
   ]
  },
  {
   "cell_type": "markdown",
   "metadata": {},
   "source": [
    "Se necesita conservar un formato disperso que resulte adecuado a la representación vectorial de n-gramas provenientes de texto natural, que recoje la presencia de palabras o conjuntos de palabras en un documento. Este tipo de datos da origen a gran cantidad de dimensiones donde son muy pocas las observaciones que originan valores distintos de cero. Si trataramos estas matrices como se realiza normalmente, caeríamos en problemas de memoria, por lo que el formato disperso nos ayuda a evitar este problema."
   ]
  },
  {
   "cell_type": "code",
   "execution_count": 37,
   "metadata": {
    "collapsed": true
   },
   "outputs": [],
   "source": [
    "import pandas as pd\n",
    "import numpy as np\n",
    "from scipy.sparse import csr_matrix\n",
    "from scipy.io import mmread\n",
    "\n",
    "X_train = csr_matrix(mmread('data/train.x.mm'))\n",
    "y_train = np.loadtxt('data/train.y.dat')\n",
    "\n",
    "X_val = csr_matrix(mmread('data/dev.x.mm'))\n",
    "y_val = np.loadtxt('data/dev.y.dat')\n",
    "\n",
    "X_test = csr_matrix(mmread('data/test.x.mm'))\n",
    "y_test = np.loadtxt('data/test.y.dat')"
   ]
  },
  {
   "cell_type": "markdown",
   "metadata": {},
   "source": [
    "(b) Construya un modelo lineal que obtenga un coeficiente de determinación (sobre el conjunto de pruebas) de al menos 0.75. A partir de un modelo lineal de *sklearn*, el coeficiente de determinación se obtiene fácilmente"
   ]
  },
  {
   "cell_type": "code",
   "execution_count": 38,
   "metadata": {},
   "outputs": [
    {
     "name": "stdout",
     "output_type": "stream",
     "text": [
      "R2=0.590314\n",
      "Testing MSE:  1.95097770142e+14\n"
     ]
    }
   ],
   "source": [
    "import sklearn.linear_model as lm\n",
    "\n",
    "model = lm.LinearRegression(fit_intercept = False)\n",
    "model.fit(X_train, y_train)\n",
    "\n",
    "print \"R2=%f\"%model.score(X_test, y_test)\n",
    "\n",
    "y_hat = model.predict(X_test)\n",
    "mse = np.mean(np.power(y_hat - y_test, 2))\n",
    "print \"Testing MSE: \", mse"
   ]
  },
  {
   "cell_type": "markdown",
   "metadata": {},
   "source": [
    "Se obtiene en primera instancia, utiliando regresión lineal, un modelo predictivo que logra ajustar con coeficiente $R^2$ de 0.59, medido en la muestra de validación. "
   ]
  },
  {
   "cell_type": "markdown",
   "metadata": {},
   "source": [
    "Se procederá a continuación a estandarizar la data. Sin embargo, no es posible centrar a media cero matrices dispersas como las que se está trabajando, por lo que solamente se escalará la varianza de las variables independientes, y se tomará el logaritmo de la variable dependiente. Esta transformación debiera ser suficiente para hacer comparables las dimensiones, lo cual es muy necesario si se va a utilizar algoritmos que incorporan parámetro de regularización. Pero antes de eso se probará el efecto de haber estandarizado la varianza con regresión linea.  "
   ]
  },
  {
   "cell_type": "code",
   "execution_count": 39,
   "metadata": {
    "collapsed": true
   },
   "outputs": [],
   "source": [
    "import sklearn.preprocessing as sp\n",
    "\n",
    "X_train_scaled = sp.scale(X_train, with_mean=False)\n",
    "y_train_log = np.log(y_train)\n",
    "\n",
    "X_test_scaled = sp.scale(X_test, with_mean=False)\n",
    "y_test_log = np.log(y_test)\n",
    "\n",
    "X_val_scaled = sp.scale(X_val, with_mean=False)\n",
    "y_val_log = np.log(y_val)"
   ]
  },
  {
   "cell_type": "code",
   "execution_count": 40,
   "metadata": {},
   "outputs": [
    {
     "name": "stdout",
     "output_type": "stream",
     "text": [
      "R2=-0.794362\n",
      "Testing MSE:  19.9592487625\n"
     ]
    }
   ],
   "source": [
    "import sklearn.linear_model as lm\n",
    "import sklearn.preprocessing as sp\n",
    "\n",
    "model = lm.LinearRegression(fit_intercept = False)\n",
    "model.fit(X_train_scaled, y_train_log)\n",
    "\n",
    "print \"R2=%f\"%model.score(X_test_scaled, y_test_log)\n",
    "\n",
    "y_hat = model.predict(X_test_scaled)\n",
    "mse = np.mean(np.power(y_hat - y_test_log, 2))\n",
    "print \"Testing MSE: \", mse"
   ]
  },
  {
   "cell_type": "markdown",
   "metadata": {},
   "source": [
    "El resultado de la estandarización fue malo para el modelo de regresión lineal. Cabe notar que el error se redujo producto de la transformación logaritmica, no por un mejor desempeño del modelo de hecho el coeficiente R2 observado es incluso negativo. \n",
    "\n",
    "Siendo el problema de naturaleza *sparse*, se estima que el algoritmo que debiera ser más adecuado es Lasso, debido a que propende a tener pocos coeficientes iguales cero, lo cual hace que el modelo resultante se pueda concentrar en menos dimensiones. A continuación se prueba Lasso para diversos valores de $\\alpha$, cuyos resultados se mediran para utilizando la muestra de validación (no de testing).  "
   ]
  },
  {
   "cell_type": "code",
   "execution_count": 41,
   "metadata": {},
   "outputs": [
    {
     "name": "stdout",
     "output_type": "stream",
     "text": [
      "Alpha: 0.1\n",
      "R2=0.854932\n",
      "\n",
      "Alpha: 0.2\n",
      "R2=0.848952\n",
      "\n",
      "Alpha: 0.3\n",
      "R2=0.835352\n",
      "\n",
      "Alpha: 0.4\n",
      "R2=0.819484\n",
      "\n",
      "Alpha: 0.5\n",
      "R2=0.803083\n",
      "\n",
      "Alpha: 0.6\n",
      "R2=0.783578\n",
      "\n",
      "Alpha: 0.7\n",
      "R2=0.764874\n",
      "\n",
      "Alpha: 0.8\n",
      "R2=0.746571\n",
      "\n",
      "Alpha: 0.9\n",
      "R2=0.726266\n",
      "\n"
     ]
    }
   ],
   "source": [
    "from sklearn.linear_model import Lasso\n",
    "\n",
    "alpha = np.arange(0.1,1, 0.1)\n",
    "\n",
    "for a in alpha: \n",
    "    model = Lasso(alpha=a)\n",
    "    m = model.fit(X_train_scaled, y_train_log)\n",
    "    print \"Alpha: \" + str(a)\n",
    "    print \"R2=%f\\n\"%model.score(X_val_scaled, y_val_log)"
   ]
  },
  {
   "cell_type": "markdown",
   "metadata": {},
   "source": [
    "Dado que se encontró el mejor desempeño para $\\alpha = 0.1$, se buscará en la vecindad de dicho valor un mejor resultado. "
   ]
  },
  {
   "cell_type": "code",
   "execution_count": 42,
   "metadata": {},
   "outputs": [
    {
     "name": "stdout",
     "output_type": "stream",
     "text": [
      "Alpha: 0.05\n",
      "R2=0.852465\n",
      "\n",
      "Alpha: 0.06\n",
      "R2=0.852799\n",
      "\n",
      "Alpha: 0.07\n",
      "R2=0.853543\n",
      "\n",
      "Alpha: 0.08\n",
      "R2=0.854480\n",
      "\n",
      "Alpha: 0.09\n",
      "R2=0.855038\n",
      "\n",
      "Alpha: 0.1\n",
      "R2=0.854932\n",
      "\n",
      "Alpha: 0.11\n",
      "R2=0.855043\n",
      "\n",
      "Alpha: 0.12\n",
      "R2=0.855012\n",
      "\n",
      "Alpha: 0.13\n",
      "R2=0.854960\n",
      "\n",
      "Alpha: 0.14\n",
      "R2=0.854563\n",
      "\n"
     ]
    }
   ],
   "source": [
    "alpha = np.arange(0.05,0.15, 0.01)\n",
    "\n",
    "for a in alpha: \n",
    "    model = Lasso(alpha=a)\n",
    "    m = model.fit(X_train_scaled, y_train_log)\n",
    "    print \"Alpha: \" + str(a)\n",
    "    print \"R2=%f\\n\"%model.score(X_val_scaled, y_val_log)"
   ]
  },
  {
   "cell_type": "markdown",
   "metadata": {},
   "source": [
    "Se observa que el mejor coeficiente $R^2$ se obtiene con $\\alpha = 0.11$, por lo que se procede a continuación a evaluar el desempeño de dicho modelo en el conjunto de prueba. "
   ]
  },
  {
   "cell_type": "code",
   "execution_count": 43,
   "metadata": {},
   "outputs": [
    {
     "name": "stdout",
     "output_type": "stream",
     "text": [
      "Lasso(alpha=0.11, copy_X=True, fit_intercept=True, max_iter=1000,\n",
      "   normalize=False, positive=False, precompute=False, random_state=None,\n",
      "   selection='cyclic', tol=0.0001, warm_start=False)\n",
      "Testing R2=0.849869\n",
      "Testing MSE:  1.66995406871\n"
     ]
    }
   ],
   "source": [
    "from sklearn.linear_model import Lasso\n",
    "\n",
    "alpha = 0.11\n",
    "model = Lasso(alpha=alpha)\n",
    "\n",
    "y_hat = model.fit(X_train_scaled, y_train_log).predict(X_test_scaled)\n",
    "print(model)\n",
    "print \"Testing R2=%f\"%model.score(X_test_scaled, y_test_log)\n",
    "\n",
    "y_hat = model.predict(X_test_scaled)\n",
    "mse = np.mean(np.power(y_hat - y_test_log, 2))\n",
    "print \"Testing MSE: \", mse"
   ]
  },
  {
   "cell_type": "markdown",
   "metadata": {},
   "source": [
    "De esta forma, utilizando Lasso, se llega finalmente a un ajuste observado del coeficiente $R^2$ de 0.85. "
   ]
  },
  {
   "cell_type": "markdown",
   "metadata": {},
   "source": [
    "# References\n",
    "\n",
    "* [1] https://www.kaggle.com/harlfoxem/housesalesprediction\n",
    "* [2] Hastie, T.; Tibshirani, R., Friedman, J. (2009), The Elements of Statistical Learning, Second Edition. Springer New York Inc.\n",
    "* [3] Joshi, M., Das, D., Gimpel, K., Smith, N. A. (2010). Movie reviews and revenues: An experiment in text regression. In the 2010 Annual Conference of the North American Chapter of the Association for Computational Linguistics (pp. 293-296). Association for Computational Linguistics.\n",
    "* [4] https://www.dropbox.com/sh/8r1wrblyfokwuq0/AABUEvgcuMxyZht2-KYyBptUa?dl=0\n",
    "* [5] http://math.nist.gov/MatrixMarket/formats.html"
   ]
  }
 ],
 "metadata": {
  "anaconda-cloud": {},
  "kernelspec": {
   "display_name": "Python 2",
   "language": "python",
   "name": "python2"
  },
  "language_info": {
   "codemirror_mode": {
    "name": "ipython",
    "version": 2
   },
   "file_extension": ".py",
   "mimetype": "text/x-python",
   "name": "python",
   "nbconvert_exporter": "python",
   "pygments_lexer": "ipython2",
   "version": "2.7.13"
  }
 },
 "nbformat": 4,
 "nbformat_minor": 2
}
