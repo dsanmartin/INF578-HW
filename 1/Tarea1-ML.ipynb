{
 "cells": [
  {
   "cell_type": "markdown",
   "metadata": {
    "collapsed": true
   },
   "source": [
    "## Tarea 1 - Máquinas de Aprendizaje\n",
    "\n",
    "### Integrantes: Gabriel Jara, Daniel San Martín"
   ]
  },
  {
   "cell_type": "markdown",
   "metadata": {},
   "source": [
    "# 1 Regresión Lineal Ordinaria (LSS)"
   ]
  },
  {
   "cell_type": "markdown",
   "metadata": {},
   "source": [
    "En esta sección trabajaremos con un dataset conocido como *House Sales in King County*, USA, este se encuentra en Kaggle [1] y contiene los precios en el que se vendieron distintas casas en los Estados Unidos entre Mayo del 2014 y Mayo del 2015. Las casas tienen distintas caracterı́sticas que vienen descritas en el dataset, como la cantidad de habitaciones, cantidad de baños, número de pisos, ubicación geográfica, etc. La variable que nos interesará predecir a partir de los demás atributos será el precio de las casas."
   ]
  },
  {
   "cell_type": "markdown",
   "metadata": {},
   "source": [
    "(a) Construya un dataframe con los datos a analizar descargando los datos desde la URL adjunta."
   ]
  },
  {
   "cell_type": "code",
   "execution_count": 1,
   "metadata": {
    "collapsed": true
   },
   "outputs": [],
   "source": [
    "import pandas as pd\n",
    "import numpy as np\n",
    "\n",
    "df = pd.read_csv(\"data/kc_house_data.csv\",sep = \",\",header = 0)\n",
    "df = df.drop(['id','date','zipcode'], axis=1)"
   ]
  },
  {
   "cell_type": "markdown",
   "metadata": {},
   "source": [
    "(b) Describa brevemente el dataset utilizar."
   ]
  },
  {
   "cell_type": "code",
   "execution_count": 2,
   "metadata": {},
   "outputs": [
    {
     "name": "stdout",
     "output_type": "stream",
     "text": [
      "<class 'pandas.core.frame.DataFrame'>\n",
      "RangeIndex: 21613 entries, 0 to 21612\n",
      "Data columns (total 18 columns):\n",
      "price            21613 non-null float64\n",
      "bedrooms         21613 non-null int64\n",
      "bathrooms        21613 non-null float64\n",
      "sqft_living      21613 non-null int64\n",
      "sqft_lot         21613 non-null int64\n",
      "floors           21613 non-null float64\n",
      "waterfront       21613 non-null int64\n",
      "view             21613 non-null int64\n",
      "condition        21613 non-null int64\n",
      "grade            21613 non-null int64\n",
      "sqft_above       21613 non-null int64\n",
      "sqft_basement    21613 non-null int64\n",
      "yr_built         21613 non-null int64\n",
      "yr_renovated     21613 non-null int64\n",
      "lat              21613 non-null float64\n",
      "long             21613 non-null float64\n",
      "sqft_living15    21613 non-null int64\n",
      "sqft_lot15       21613 non-null int64\n",
      "dtypes: float64(5), int64(13)\n",
      "memory usage: 3.0 MB\n"
     ]
    },
    {
     "data": {
      "text/html": [
       "<div>\n",
       "<style>\n",
       "    .dataframe thead tr:only-child th {\n",
       "        text-align: right;\n",
       "    }\n",
       "\n",
       "    .dataframe thead th {\n",
       "        text-align: left;\n",
       "    }\n",
       "\n",
       "    .dataframe tbody tr th {\n",
       "        vertical-align: top;\n",
       "    }\n",
       "</style>\n",
       "<table border=\"1\" class=\"dataframe\">\n",
       "  <thead>\n",
       "    <tr style=\"text-align: right;\">\n",
       "      <th></th>\n",
       "      <th>price</th>\n",
       "      <th>bedrooms</th>\n",
       "      <th>bathrooms</th>\n",
       "      <th>sqft_living</th>\n",
       "      <th>sqft_lot</th>\n",
       "      <th>floors</th>\n",
       "      <th>waterfront</th>\n",
       "      <th>view</th>\n",
       "      <th>condition</th>\n",
       "      <th>grade</th>\n",
       "      <th>sqft_above</th>\n",
       "      <th>sqft_basement</th>\n",
       "      <th>yr_built</th>\n",
       "      <th>yr_renovated</th>\n",
       "      <th>lat</th>\n",
       "      <th>long</th>\n",
       "      <th>sqft_living15</th>\n",
       "      <th>sqft_lot15</th>\n",
       "    </tr>\n",
       "  </thead>\n",
       "  <tbody>\n",
       "    <tr>\n",
       "      <th>count</th>\n",
       "      <td>2.161300e+04</td>\n",
       "      <td>21613.000000</td>\n",
       "      <td>21613.000000</td>\n",
       "      <td>21613.000000</td>\n",
       "      <td>2.161300e+04</td>\n",
       "      <td>21613.000000</td>\n",
       "      <td>21613.000000</td>\n",
       "      <td>21613.000000</td>\n",
       "      <td>21613.000000</td>\n",
       "      <td>21613.000000</td>\n",
       "      <td>21613.000000</td>\n",
       "      <td>21613.000000</td>\n",
       "      <td>21613.000000</td>\n",
       "      <td>21613.000000</td>\n",
       "      <td>21613.000000</td>\n",
       "      <td>21613.000000</td>\n",
       "      <td>21613.000000</td>\n",
       "      <td>21613.000000</td>\n",
       "    </tr>\n",
       "    <tr>\n",
       "      <th>mean</th>\n",
       "      <td>5.400881e+05</td>\n",
       "      <td>3.370842</td>\n",
       "      <td>2.114757</td>\n",
       "      <td>2079.899736</td>\n",
       "      <td>1.510697e+04</td>\n",
       "      <td>1.494309</td>\n",
       "      <td>0.007542</td>\n",
       "      <td>0.234303</td>\n",
       "      <td>3.409430</td>\n",
       "      <td>7.656873</td>\n",
       "      <td>1788.390691</td>\n",
       "      <td>291.509045</td>\n",
       "      <td>1971.005136</td>\n",
       "      <td>84.402258</td>\n",
       "      <td>47.560053</td>\n",
       "      <td>-122.213896</td>\n",
       "      <td>1986.552492</td>\n",
       "      <td>12768.455652</td>\n",
       "    </tr>\n",
       "    <tr>\n",
       "      <th>std</th>\n",
       "      <td>3.671272e+05</td>\n",
       "      <td>0.930062</td>\n",
       "      <td>0.770163</td>\n",
       "      <td>918.440897</td>\n",
       "      <td>4.142051e+04</td>\n",
       "      <td>0.539989</td>\n",
       "      <td>0.086517</td>\n",
       "      <td>0.766318</td>\n",
       "      <td>0.650743</td>\n",
       "      <td>1.175459</td>\n",
       "      <td>828.090978</td>\n",
       "      <td>442.575043</td>\n",
       "      <td>29.373411</td>\n",
       "      <td>401.679240</td>\n",
       "      <td>0.138564</td>\n",
       "      <td>0.140828</td>\n",
       "      <td>685.391304</td>\n",
       "      <td>27304.179631</td>\n",
       "    </tr>\n",
       "    <tr>\n",
       "      <th>min</th>\n",
       "      <td>7.500000e+04</td>\n",
       "      <td>0.000000</td>\n",
       "      <td>0.000000</td>\n",
       "      <td>290.000000</td>\n",
       "      <td>5.200000e+02</td>\n",
       "      <td>1.000000</td>\n",
       "      <td>0.000000</td>\n",
       "      <td>0.000000</td>\n",
       "      <td>1.000000</td>\n",
       "      <td>1.000000</td>\n",
       "      <td>290.000000</td>\n",
       "      <td>0.000000</td>\n",
       "      <td>1900.000000</td>\n",
       "      <td>0.000000</td>\n",
       "      <td>47.155900</td>\n",
       "      <td>-122.519000</td>\n",
       "      <td>399.000000</td>\n",
       "      <td>651.000000</td>\n",
       "    </tr>\n",
       "    <tr>\n",
       "      <th>25%</th>\n",
       "      <td>3.219500e+05</td>\n",
       "      <td>3.000000</td>\n",
       "      <td>1.750000</td>\n",
       "      <td>1427.000000</td>\n",
       "      <td>5.040000e+03</td>\n",
       "      <td>1.000000</td>\n",
       "      <td>0.000000</td>\n",
       "      <td>0.000000</td>\n",
       "      <td>3.000000</td>\n",
       "      <td>7.000000</td>\n",
       "      <td>1190.000000</td>\n",
       "      <td>0.000000</td>\n",
       "      <td>1951.000000</td>\n",
       "      <td>0.000000</td>\n",
       "      <td>47.471000</td>\n",
       "      <td>-122.328000</td>\n",
       "      <td>1490.000000</td>\n",
       "      <td>5100.000000</td>\n",
       "    </tr>\n",
       "    <tr>\n",
       "      <th>50%</th>\n",
       "      <td>4.500000e+05</td>\n",
       "      <td>3.000000</td>\n",
       "      <td>2.250000</td>\n",
       "      <td>1910.000000</td>\n",
       "      <td>7.618000e+03</td>\n",
       "      <td>1.500000</td>\n",
       "      <td>0.000000</td>\n",
       "      <td>0.000000</td>\n",
       "      <td>3.000000</td>\n",
       "      <td>7.000000</td>\n",
       "      <td>1560.000000</td>\n",
       "      <td>0.000000</td>\n",
       "      <td>1975.000000</td>\n",
       "      <td>0.000000</td>\n",
       "      <td>47.571800</td>\n",
       "      <td>-122.230000</td>\n",
       "      <td>1840.000000</td>\n",
       "      <td>7620.000000</td>\n",
       "    </tr>\n",
       "    <tr>\n",
       "      <th>75%</th>\n",
       "      <td>6.450000e+05</td>\n",
       "      <td>4.000000</td>\n",
       "      <td>2.500000</td>\n",
       "      <td>2550.000000</td>\n",
       "      <td>1.068800e+04</td>\n",
       "      <td>2.000000</td>\n",
       "      <td>0.000000</td>\n",
       "      <td>0.000000</td>\n",
       "      <td>4.000000</td>\n",
       "      <td>8.000000</td>\n",
       "      <td>2210.000000</td>\n",
       "      <td>560.000000</td>\n",
       "      <td>1997.000000</td>\n",
       "      <td>0.000000</td>\n",
       "      <td>47.678000</td>\n",
       "      <td>-122.125000</td>\n",
       "      <td>2360.000000</td>\n",
       "      <td>10083.000000</td>\n",
       "    </tr>\n",
       "    <tr>\n",
       "      <th>max</th>\n",
       "      <td>7.700000e+06</td>\n",
       "      <td>33.000000</td>\n",
       "      <td>8.000000</td>\n",
       "      <td>13540.000000</td>\n",
       "      <td>1.651359e+06</td>\n",
       "      <td>3.500000</td>\n",
       "      <td>1.000000</td>\n",
       "      <td>4.000000</td>\n",
       "      <td>5.000000</td>\n",
       "      <td>13.000000</td>\n",
       "      <td>9410.000000</td>\n",
       "      <td>4820.000000</td>\n",
       "      <td>2015.000000</td>\n",
       "      <td>2015.000000</td>\n",
       "      <td>47.777600</td>\n",
       "      <td>-121.315000</td>\n",
       "      <td>6210.000000</td>\n",
       "      <td>871200.000000</td>\n",
       "    </tr>\n",
       "  </tbody>\n",
       "</table>\n",
       "</div>"
      ],
      "text/plain": [
       "              price      bedrooms     bathrooms   sqft_living      sqft_lot  \\\n",
       "count  2.161300e+04  21613.000000  21613.000000  21613.000000  2.161300e+04   \n",
       "mean   5.400881e+05      3.370842      2.114757   2079.899736  1.510697e+04   \n",
       "std    3.671272e+05      0.930062      0.770163    918.440897  4.142051e+04   \n",
       "min    7.500000e+04      0.000000      0.000000    290.000000  5.200000e+02   \n",
       "25%    3.219500e+05      3.000000      1.750000   1427.000000  5.040000e+03   \n",
       "50%    4.500000e+05      3.000000      2.250000   1910.000000  7.618000e+03   \n",
       "75%    6.450000e+05      4.000000      2.500000   2550.000000  1.068800e+04   \n",
       "max    7.700000e+06     33.000000      8.000000  13540.000000  1.651359e+06   \n",
       "\n",
       "             floors    waterfront          view     condition         grade  \\\n",
       "count  21613.000000  21613.000000  21613.000000  21613.000000  21613.000000   \n",
       "mean       1.494309      0.007542      0.234303      3.409430      7.656873   \n",
       "std        0.539989      0.086517      0.766318      0.650743      1.175459   \n",
       "min        1.000000      0.000000      0.000000      1.000000      1.000000   \n",
       "25%        1.000000      0.000000      0.000000      3.000000      7.000000   \n",
       "50%        1.500000      0.000000      0.000000      3.000000      7.000000   \n",
       "75%        2.000000      0.000000      0.000000      4.000000      8.000000   \n",
       "max        3.500000      1.000000      4.000000      5.000000     13.000000   \n",
       "\n",
       "         sqft_above  sqft_basement      yr_built  yr_renovated           lat  \\\n",
       "count  21613.000000   21613.000000  21613.000000  21613.000000  21613.000000   \n",
       "mean    1788.390691     291.509045   1971.005136     84.402258     47.560053   \n",
       "std      828.090978     442.575043     29.373411    401.679240      0.138564   \n",
       "min      290.000000       0.000000   1900.000000      0.000000     47.155900   \n",
       "25%     1190.000000       0.000000   1951.000000      0.000000     47.471000   \n",
       "50%     1560.000000       0.000000   1975.000000      0.000000     47.571800   \n",
       "75%     2210.000000     560.000000   1997.000000      0.000000     47.678000   \n",
       "max     9410.000000    4820.000000   2015.000000   2015.000000     47.777600   \n",
       "\n",
       "               long  sqft_living15     sqft_lot15  \n",
       "count  21613.000000   21613.000000   21613.000000  \n",
       "mean    -122.213896    1986.552492   12768.455652  \n",
       "std        0.140828     685.391304   27304.179631  \n",
       "min     -122.519000     399.000000     651.000000  \n",
       "25%     -122.328000    1490.000000    5100.000000  \n",
       "50%     -122.230000    1840.000000    7620.000000  \n",
       "75%     -122.125000    2360.000000   10083.000000  \n",
       "max     -121.315000    6210.000000  871200.000000  "
      ]
     },
     "execution_count": 2,
     "metadata": {},
     "output_type": "execute_result"
    }
   ],
   "source": [
    "df.shape\n",
    "df.info()\n",
    "df.describe()"
   ]
  },
  {
   "cell_type": "markdown",
   "metadata": {},
   "source": [
    "(c) Normalice los datos antes de trabajar. Explique la importancia/conveniencia de realizar esta operación."
   ]
  },
  {
   "cell_type": "code",
   "execution_count": 3,
   "metadata": {
    "collapsed": true
   },
   "outputs": [],
   "source": [
    "X = df\n",
    "y = np.log(df['price'])\n",
    "mask = np.zeros(len(X))\n",
    "limit = int(len(X)*0.7)\n",
    "mask[:limit] = 1\n",
    "istrain = (mask== 1)\n",
    "Xtrain = X[istrain]\n",
    "ytrain = y[istrain]\n",
    "Xtest = X[np.logical_not(istrain)]\n",
    "ytest = y[np.logical_not(istrain)]\n",
    "Xtrain = Xtrain.drop(['price'], axis=1)\n",
    "Xtest = Xtest.drop(['price'], axis=1)\n",
    "\n",
    "from sklearn.preprocessing import StandardScaler\n",
    "\n",
    "scaler = StandardScaler().fit(Xtrain)\n",
    "df_scaled_train = pd.DataFrame(scaler.transform(Xtrain), columns=Xtrain.columns)\n",
    "df_scaled_train.insert(df_scaled_train.shape[1], 'intercept', np.ones(df_scaled_train.shape[0]))"
   ]
  },
  {
   "cell_type": "markdown",
   "metadata": {},
   "source": [
    "Dado que los datos en las columnas se encuentran en distintas escalas, al momento de aplicar los algoritmos de aprendizaje existirán columnas que ponderarán mucho más y otros muchos menos dada esta diferencia de magnitud."
   ]
  },
  {
   "cell_type": "markdown",
   "metadata": {},
   "source": [
    "(d) Realice una regresión lineal de mı́nimos cuadrados básica. Explique la importancia/conveniencia del paso 4 y los argumentos que se deben entregar a la función que implementa la regresión lineal."
   ]
  },
  {
   "cell_type": "code",
   "execution_count": 4,
   "metadata": {},
   "outputs": [
    {
     "data": {
      "text/plain": [
       "LinearRegression(copy_X=True, fit_intercept=False, n_jobs=1, normalize=False)"
      ]
     },
     "execution_count": 4,
     "metadata": {},
     "output_type": "execute_result"
    }
   ],
   "source": [
    "import sklearn.linear_model as lm\n",
    "\n",
    "# Regresion lineal\n",
    "linreg = lm.LinearRegression(fit_intercept = False)\n",
    "linreg.fit(df_scaled_train, ytrain)"
   ]
  },
  {
   "cell_type": "markdown",
   "metadata": {},
   "source": [
    "El *paso 4* se utiliza para agregar la columna de 1 a los datos $\\textbf{X}$ correspondiente a los $\\beta_0$ (intercepto) en la regresión."
   ]
  },
  {
   "cell_type": "markdown",
   "metadata": {},
   "source": [
    "(e) Construya una tabla con los pesos y Z-score correspondientes a cada predictor (variable). ¿Observa algún problema? Si es ası́, comente y proponga un metodo para eliminar dicho problema."
   ]
  },
  {
   "cell_type": "code",
   "execution_count": 5,
   "metadata": {
    "collapsed": true
   },
   "outputs": [],
   "source": [
    "def sigmaHat(X, y, yhat):\n",
    "    M, I = X.shape\n",
    "    return np.sqrt(1./(M - I - 1) * np.sum((y - yhat)**2))"
   ]
  },
  {
   "cell_type": "code",
   "execution_count": 6,
   "metadata": {
    "collapsed": true
   },
   "outputs": [],
   "source": [
    "def Zscore(X, y, yhat, beta):\n",
    "    V = np.linalg.inv(np.dot(X.T, X))\n",
    "    v = np.diag(V)\n",
    "    sigh = sigmaHat(X, y, yhat)\n",
    "    z = beta/(sigh * np.sqrt(v))\n",
    "    return z"
   ]
  },
  {
   "cell_type": "code",
   "execution_count": 7,
   "metadata": {
    "collapsed": true
   },
   "outputs": [],
   "source": [
    "yhat_val = linreg.predict(df_scaled_train)"
   ]
  },
  {
   "cell_type": "code",
   "execution_count": 8,
   "metadata": {
    "collapsed": true,
    "scrolled": true
   },
   "outputs": [],
   "source": [
    "zs = Zscore(df_scaled_train, ytrain, yhat_val, linreg.coef_)"
   ]
  },
  {
   "cell_type": "code",
   "execution_count": 9,
   "metadata": {},
   "outputs": [
    {
     "data": {
      "text/html": [
       "<div>\n",
       "<style>\n",
       "    .dataframe thead tr:only-child th {\n",
       "        text-align: right;\n",
       "    }\n",
       "\n",
       "    .dataframe thead th {\n",
       "        text-align: left;\n",
       "    }\n",
       "\n",
       "    .dataframe tbody tr th {\n",
       "        vertical-align: top;\n",
       "    }\n",
       "</style>\n",
       "<table border=\"1\" class=\"dataframe\">\n",
       "  <thead>\n",
       "    <tr style=\"text-align: right;\">\n",
       "      <th></th>\n",
       "      <th>b0</th>\n",
       "      <th>b1</th>\n",
       "      <th>b2</th>\n",
       "      <th>b3</th>\n",
       "      <th>b4</th>\n",
       "      <th>b5</th>\n",
       "      <th>b6</th>\n",
       "      <th>b7</th>\n",
       "      <th>b8</th>\n",
       "      <th>b9</th>\n",
       "      <th>b10</th>\n",
       "      <th>b11</th>\n",
       "      <th>b12</th>\n",
       "      <th>b13</th>\n",
       "      <th>b14</th>\n",
       "      <th>b15</th>\n",
       "      <th>b16</th>\n",
       "      <th>b17</th>\n",
       "    </tr>\n",
       "  </thead>\n",
       "  <tbody>\n",
       "    <tr>\n",
       "      <th>coef</th>\n",
       "      <td>-0.008086</td>\n",
       "      <td>0.055111</td>\n",
       "      <td>5.693485e-02</td>\n",
       "      <td>0.022873</td>\n",
       "      <td>0.035505</td>\n",
       "      <td>0.033366</td>\n",
       "      <td>0.042595</td>\n",
       "      <td>0.046360</td>\n",
       "      <td>0.184577</td>\n",
       "      <td>4.593672e-02</td>\n",
       "      <td>3.226485e-02</td>\n",
       "      <td>-0.104759</td>\n",
       "      <td>0.015266</td>\n",
       "      <td>0.187880</td>\n",
       "      <td>-0.004031</td>\n",
       "      <td>0.084412</td>\n",
       "      <td>-0.007149</td>\n",
       "      <td>13.033501</td>\n",
       "    </tr>\n",
       "    <tr>\n",
       "      <th>Z-score</th>\n",
       "      <td>-3.034080</td>\n",
       "      <td>14.656026</td>\n",
       "      <td>7.530578e-07</td>\n",
       "      <td>7.597490</td>\n",
       "      <td>12.269887</td>\n",
       "      <td>14.785692</td>\n",
       "      <td>17.390702</td>\n",
       "      <td>20.536815</td>\n",
       "      <td>48.068186</td>\n",
       "      <td>6.824251e-07</td>\n",
       "      <td>8.586649e-07</td>\n",
       "      <td>-33.790551</td>\n",
       "      <td>6.889786</td>\n",
       "      <td>85.795087</td>\n",
       "      <td>-1.589882</td>\n",
       "      <td>23.568652</td>\n",
       "      <td>-2.346780</td>\n",
       "      <td>6307.518371</td>\n",
       "    </tr>\n",
       "  </tbody>\n",
       "</table>\n",
       "</div>"
      ],
      "text/plain": [
       "               b0         b1            b2        b3         b4         b5  \\\n",
       "coef    -0.008086   0.055111  5.693485e-02  0.022873   0.035505   0.033366   \n",
       "Z-score -3.034080  14.656026  7.530578e-07  7.597490  12.269887  14.785692   \n",
       "\n",
       "                b6         b7         b8            b9           b10  \\\n",
       "coef      0.042595   0.046360   0.184577  4.593672e-02  3.226485e-02   \n",
       "Z-score  17.390702  20.536815  48.068186  6.824251e-07  8.586649e-07   \n",
       "\n",
       "               b11       b12        b13       b14        b15       b16  \\\n",
       "coef     -0.104759  0.015266   0.187880 -0.004031   0.084412 -0.007149   \n",
       "Z-score -33.790551  6.889786  85.795087 -1.589882  23.568652 -2.346780   \n",
       "\n",
       "                 b17  \n",
       "coef       13.033501  \n",
       "Z-score  6307.518371  "
      ]
     },
     "execution_count": 9,
     "metadata": {},
     "output_type": "execute_result"
    }
   ],
   "source": [
    "cols = ['b' + str(i) for i in range(18)]\n",
    "df_sp = pd.DataFrame([linreg.coef_, zs], index=['coef', 'Z-score'], columns=cols)\n",
    "df_sp"
   ]
  },
  {
   "cell_type": "markdown",
   "metadata": {},
   "source": [
    "(f) Estime el error de predicción del modelo usando validación cruzada con un número de \"folds\" igual a $K = 5$ y $K = 10$. Recuerde que para que la estimación sea razonable debe ajustar los pesos del modelo de nuevo, cada vez que trabaja sobre un determinado \"fold\". Mida el error real del modelo sobre el conjunto de pruebas, compare y concluya."
   ]
  },
  {
   "cell_type": "code",
   "execution_count": 10,
   "metadata": {
    "collapsed": true
   },
   "outputs": [],
   "source": [
    "x_test = pd.DataFrame(scaler.transform(Xtest),columns=Xtest.columns)\n",
    "x_test.insert(x_test.shape[1], 'intercept', np.ones(x_test.shape[0]))\n",
    "\n",
    "yhat_test = linreg.predict(x_test)\n",
    "mse_test = np.mean(np.power(yhat_test - ytest, 2))\n",
    "\n",
    "from sklearn.model_selection import KFold\n",
    "\n",
    "Xm = Xtrain.as_matrix()\n",
    "ym = ytrain.as_matrix()"
   ]
  },
  {
   "cell_type": "code",
   "execution_count": 11,
   "metadata": {},
   "outputs": [
    {
     "name": "stdout",
     "output_type": "stream",
     "text": [
      "Training MSE K=5: 0.064701633522\n"
     ]
    }
   ],
   "source": [
    "kf = KFold(n_splits=5)\n",
    "mse_cv = 0\n",
    "\n",
    "for train, val in kf.split(Xm):\n",
    "    cross_scaler = StandardScaler().fit(Xm[train])\n",
    "    df_cross_train = pd.DataFrame(cross_scaler.transform(Xm[train]),\n",
    "    columns=Xtrain.columns)\n",
    "    df_cross_train.insert(df_cross_train.shape[1], 'intercept',\n",
    "        np.ones(df_cross_train.shape[0]))\n",
    "    linreg = lm.LinearRegression(fit_intercept = False)\n",
    "    linreg.fit(df_cross_train, ym[train])\n",
    "    df_cross_test = pd.DataFrame(cross_scaler.transform(Xm[val]),columns=Xtrain.columns)\n",
    "    df_cross_test.insert(df_cross_test.shape[1], 'intercept', np.ones(df_cross_test.shape[0]))\n",
    "    yhat_val = linreg.predict(df_cross_test)\n",
    "    mse_fold = np.mean(np.power(yhat_val - ym[val], 2))\n",
    "    mse_cv += mse_fold\n",
    "\n",
    "mse_cv = mse_cv / 5\n",
    "print \"Training MSE K=5:\", mse_cv"
   ]
  },
  {
   "cell_type": "code",
   "execution_count": 12,
   "metadata": {},
   "outputs": [
    {
     "name": "stdout",
     "output_type": "stream",
     "text": [
      "MSE K=10: 0.0646829054256\n"
     ]
    }
   ],
   "source": [
    "kf = KFold(n_splits=10)\n",
    "mse_cv = 0\n",
    "\n",
    "for train, val in kf.split(Xm):\n",
    "    cross_scaler = StandardScaler().fit(Xm[train])\n",
    "    df_cross_train = pd.DataFrame(cross_scaler.transform(Xm[train]),\n",
    "    columns=Xtrain.columns)\n",
    "    df_cross_train.insert(df_cross_train.shape[1], 'intercept',\n",
    "        np.ones(df_cross_train.shape[0]))\n",
    "    linreg = lm.LinearRegression(fit_intercept = False)\n",
    "    linreg.fit(df_cross_train, ym[train])\n",
    "    df_cross_test = pd.DataFrame(cross_scaler.transform(Xm[val]),columns=Xtrain.columns)\n",
    "    df_cross_test.insert(df_cross_test.shape[1], 'intercept', np.ones(df_cross_test.shape[0]))\n",
    "    yhat_val = linreg.predict(df_cross_test)\n",
    "    mse_fold = np.mean(np.power(yhat_val - ym[val], 2))\n",
    "    mse_cv += mse_fold\n",
    "\n",
    "mse_cv = mse_cv / 10\n",
    "print \"MSE K=10:\", mse_cv"
   ]
  },
  {
   "cell_type": "code",
   "execution_count": 13,
   "metadata": {},
   "outputs": [
    {
     "name": "stdout",
     "output_type": "stream",
     "text": [
      "Testing MSE:  0.0652592512373\n"
     ]
    }
   ],
   "source": [
    "print \"Testing MSE: \", mse_test"
   ]
  },
  {
   "cell_type": "markdown",
   "metadata": {},
   "source": [
    "(j) Mida los errores de predicción para cada dato de entrenamiento. Utilizando un \"quantile-quantile plot\" determine si es razonable la hipótesis de normalidad sobre los residuos del modelo."
   ]
  },
  {
   "cell_type": "code",
   "execution_count": 14,
   "metadata": {},
   "outputs": [
    {
     "data": {
      "image/png": "[encoded data removed]",
      "text/plain": [
       "<matplotlib.figure.Figure at 0x7fcd985cef50>"
      ]
     },
     "metadata": {},
     "output_type": "display_data"
    }
   ],
   "source": [
    "import pylab \n",
    "import scipy.stats as stats\n",
    "\n",
    "# Prediccion datos de entrenamiento\n",
    "yhat = linreg.predict(df_scaled_train)\n",
    "\n",
    "# Calculo de error\n",
    "error = yhat - ytrain\n",
    "\n",
    "# Grafico\n",
    "stats.probplot(error, dist=\"norm\", plot=pylab)\n",
    "pylab.show()"
   ]
  },
  {
   "cell_type": "markdown",
   "metadata": {},
   "source": [
    "(h) Se generan dos muestreos de datos donde el valor de sus etiqueta siguen distribuciones distintas: Genere dos modelos, evalue y compare sus comportamientos."
   ]
  },
  {
   "cell_type": "code",
   "execution_count": 15,
   "metadata": {
    "collapsed": true
   },
   "outputs": [],
   "source": [
    "df_A = df.sample(3000)\n",
    "frames = []\n",
    "valor = np.log(df.price)\n",
    "\n",
    "for z in np.arange(int(np.min(valor)),int(np.max(valor))+1,0.5):\n",
    "    #frames.append(df[(np.log(df.price) >= z) & (np.log(df.price) < z+0.5)].head(500))\n",
    "    frames.append(df[(valor >= z) & (valor < z+0.5)].head(500))\n",
    "    \n",
    "df_B = pd.concat(frames).sample(3000)\n",
    "X_A = df_A.iloc[:,1:].values\n",
    "y_A = np.log(df_A.price)\n",
    "X_B = df_B.iloc[:,1:].values\n",
    "y_B = np.log(df_B.price)\n",
    "\n",
    "from sklearn.model_selection import train_test_split\n",
    "Xtrain_A, Xval_A, ytrain_A, yval_A = train_test_split(X_A, y_A, test_size=0.3, random_state=42)\n",
    "Xtrain_B, Xval_B, ytrain_B, yval_B = train_test_split(X_B, y_B, test_size=0.3, random_state=42)"
   ]
  },
  {
   "cell_type": "code",
   "execution_count": 16,
   "metadata": {
    "collapsed": true
   },
   "outputs": [],
   "source": [
    "from sklearn.preprocessing import StandardScaler\n",
    "\n",
    "Xtrain_A = pd.DataFrame(Xtrain_A)\n",
    "Xval_A = pd.DataFrame(Xval_A)\n",
    "\n",
    "scaler = StandardScaler()\n",
    "df_scaled_train_A = pd.DataFrame(scaler.fit_transform(Xtrain_A), columns=Xtrain_A.columns)\n",
    "df_scaled_train_A.insert(df_scaled_train_A.shape[1], 'intercept', np.ones(df_scaled_train_A.shape[0]))\n",
    "\n",
    "df_scaled_test_A = pd.DataFrame(scaler.fit_transform(Xval_A),columns=Xval_A.columns)\n",
    "df_scaled_test_A.insert(df_scaled_test_A.shape[1], 'intercept', np.ones(df_scaled_test_A.shape[0]))"
   ]
  },
  {
   "cell_type": "code",
   "execution_count": 17,
   "metadata": {},
   "outputs": [
    {
     "name": "stdout",
     "output_type": "stream",
     "text": [
      "MSE A: 0.0607828613898\n"
     ]
    }
   ],
   "source": [
    "linregA = lm.LinearRegression(fit_intercept = False)\n",
    "linregA.fit(df_scaled_train_A, ytrain_A)\n",
    "yhatA = linreg.predict(df_scaled_test_A)\n",
    "mseA = np.mean(np.power(yhatA - yval_A, 2))\n",
    "print \"MSE A:\", mseA"
   ]
  },
  {
   "cell_type": "code",
   "execution_count": 18,
   "metadata": {
    "collapsed": true
   },
   "outputs": [],
   "source": [
    "from sklearn.preprocessing import StandardScaler\n",
    "\n",
    "Xtrain_B = pd.DataFrame(Xtrain_B)\n",
    "Xval_B = pd.DataFrame(Xval_B)\n",
    "\n",
    "scaler = StandardScaler()\n",
    "df_scaled_train_B = pd.DataFrame(scaler.fit_transform(Xtrain_B), columns=Xtrain_B.columns)\n",
    "df_scaled_train_B.insert(df_scaled_train_B.shape[1], 'intercept', np.ones(df_scaled_train_B.shape[0]))\n",
    "\n",
    "df_scaled_test_B = pd.DataFrame(scaler.fit_transform(Xval_B),columns=Xval_B.columns)\n",
    "df_scaled_test_B.insert(df_scaled_test_B.shape[1], 'intercept', np.ones(df_scaled_test_B.shape[0]))"
   ]
  },
  {
   "cell_type": "code",
   "execution_count": 19,
   "metadata": {},
   "outputs": [
    {
     "name": "stdout",
     "output_type": "stream",
     "text": [
      "MSE B: 0.207740380209\n"
     ]
    }
   ],
   "source": [
    "linregB = lm.LinearRegression(fit_intercept = False)\n",
    "linregB.fit(df_scaled_train_B, ytrain_B)\n",
    "yhatB = linreg.predict(df_scaled_test_B)\n",
    "mseB = np.mean(np.power(yhatB - yval_B, 2))\n",
    "print \"MSE B:\", mseB"
   ]
  },
  {
   "cell_type": "markdown",
   "metadata": {},
   "source": [
    "---"
   ]
  },
  {
   "cell_type": "markdown",
   "metadata": {},
   "source": [
    "# 2 Selección de Atributos"
   ]
  },
  {
   "cell_type": "markdown",
   "metadata": {},
   "source": [
    "Utilizando el dataframe de la actividad anterior,"
   ]
  },
  {
   "cell_type": "markdown",
   "metadata": {},
   "source": [
    "(a) Construya una función que implemente Forward Step-wise Selection (FSS). Es decir, partiendo con un modelo sin predictores (variables), agregue un predictor a la vez, re-ajustando el modelo de regresión en cada paso. Para seleccionar localmente una variable, proponga/implemente un criterio distinto al utilizado en el código de ejemplo. Construya un gráfico que muestre el error de entrenamiento y el error de pruebas como función del número de variables en el modelo. Ordene el eje $x$ de menor a mayor."
   ]
  },
  {
   "cell_type": "code",
   "execution_count": 39,
   "metadata": {
    "collapsed": true
   },
   "outputs": [],
   "source": [
    "import matplotlib.pyplot as plt\n",
    "\n",
    "def plot_error(x, error_training, error_testing):\n",
    "    plt.figure(figsize=(10, 6))\n",
    "    plt.plot(x, error_training, label=\"Training Error\")\n",
    "    plt.plot(x, error_testing, label=\"Testing Error\")\n",
    "    plt.grid(True)\n",
    "    plt.legend()\n",
    "    plt.xlabel(\"N de variables\")\n",
    "    plt.ylabel(\"MSE\")\n",
    "    plt.show()"
   ]
  },
  {
   "cell_type": "code",
   "execution_count": 44,
   "metadata": {
    "scrolled": false
   },
   "outputs": [],
   "source": [
    "def fss(x, y, xt, yt, names_x, k = 10000):\n",
    "    p = x.shape[1]-1\n",
    "    k = min(p, k)\n",
    "    names_x = np.array(names_x)\n",
    "    remaining = range(0, p)\n",
    "    selected = [p]\n",
    "    current_score = 0.0\n",
    "    best_new_score = 0.0\n",
    "    \n",
    "    # Variables ara el grafico\n",
    "    mse_tr = []\n",
    "    mse_te = []\n",
    "    \n",
    "    while remaining and len(selected)<=k :\n",
    "        score_candidates = []\n",
    "        tmp_test = []\n",
    "\n",
    "        for candidate in remaining:\n",
    "            model = lm.LinearRegression(fit_intercept=False)\n",
    "            indexes = selected + [candidate]\n",
    "            x_train = x[:,indexes]            \n",
    "            predictions_train = model.fit(x_train, y).predict(x_train)\n",
    "            residuals_train = predictions_train - y\n",
    "            mse_candidate = np.mean(np.power(residuals_train, 2))\n",
    "            #score_candidates.append((mse_candidate, candidate))\n",
    "            \n",
    "            # Testing error\n",
    "            prediction_test = model.predict(xt[:,indexes])\n",
    "            residuals_test = prediction_test - yt\n",
    "            mse_test_candidates = np.mean(np.power(residuals_test, 2))\n",
    "            score_candidates.append((mse_candidate, candidate, mse_test_candidates))\n",
    "            \n",
    "            \n",
    "        score_candidates.sort()\n",
    "        score_candidates[:] = score_candidates[::-1]\n",
    "        best_new_score, best_candidate, test_score = score_candidates.pop()\n",
    "        remaining.remove(best_candidate)\n",
    "        selected.append(best_candidate)\n",
    "        print \"selected = %s ...\"%names_x[best_candidate]\n",
    "        print \"totalvars=%d, mse = %f\"%(len(indexes),best_new_score)\n",
    "        \n",
    "        # Guardar errores de training y testing\n",
    "        mse_tr.append(best_new_score)\n",
    "        mse_te.append(test_score)\n",
    "        \n",
    "    # Grafico de errores\n",
    "    plot_error(np.arange(len(mse_tr)), mse_tr, mse_te)\n",
    "    \n",
    "    return selected\n"
   ]
  },
  {
   "cell_type": "code",
   "execution_count": 45,
   "metadata": {},
   "outputs": [
    {
     "name": "stdout",
     "output_type": "stream",
     "text": [
      "selected = grade ...\n",
      "totalvars=2, mse = 0.143260\n",
      "selected = lat-long ...\n",
      "totalvars=3, mse = 0.103340\n",
      "selected = sqft_living ...\n",
      "totalvars=4, mse = 0.084960\n",
      "selected = yr_built ...\n",
      "totalvars=5, mse = 0.075447\n",
      "selected = view ...\n",
      "totalvars=6, mse = 0.071782\n",
      "selected = sqft_lot15 ...\n",
      "totalvars=7, mse = 0.069979\n",
      "selected = bathrooms ...\n",
      "totalvars=8, mse = 0.068251\n",
      "selected = condition ...\n",
      "totalvars=9, mse = 0.066864\n",
      "selected = waterfront ...\n",
      "totalvars=10, mse = 0.065836\n",
      "selected = floors ...\n",
      "totalvars=11, mse = 0.065107\n",
      "selected = sqft_lot ...\n",
      "totalvars=12, mse = 0.064820\n",
      "selected = yr_renovated ...\n",
      "totalvars=13, mse = 0.064619\n",
      "selected = bedrooms ...\n",
      "totalvars=14, mse = 0.064583\n",
      "selected = sqft_basement ...\n",
      "totalvars=15, mse = 0.064554\n",
      "selected = intercept ...\n",
      "totalvars=16, mse = 0.064527\n",
      "selected = sqft_living15 ...\n",
      "totalvars=17, mse = 0.064516\n",
      "selected = sqft_above ...\n",
      "totalvars=18, mse = 0.064516\n"
     ]
    },
    {
     "data": {
      "image/png": "[encoded data removed]",
      "text/plain": [
       "<matplotlib.figure.Figure at 0x7fcd920fa710>"
      ]
     },
     "metadata": {},
     "output_type": "display_data"
    },
    {
     "name": "stdout",
     "output_type": "stream",
     "text": [
      "Selected [17, 8, 13, 2, 11, 6, 15, 1, 7, 5, 4, 3, 12, 0, 10, 16, 14, 9]\n"
     ]
    }
   ],
   "source": [
    "# Training data\n",
    "Xm = df_scaled_train.as_matrix()\n",
    "Ym = ytrain.as_matrix()\n",
    "\n",
    "# Testing data\n",
    "Xt = x_test.as_matrix()\n",
    "yt = ytest.as_matrix()\n",
    "\n",
    "names_regressors = [\"bedrooms\",\"bathrooms\",\"sqft_living\",\"sqft_lot\",\"floors\",\"waterfront\",\"view\",                     \n",
    "    \"condition\",\"grade\",\"sqft_above\",\"sqft_basement\",\"yr_built\",\"yr_renovated\",\"lat-long\", \n",
    "    \"sqft_living15\",\"sqft_lot15\",\"intercept\"]\n",
    "\n",
    "sel = fss(Xm, Ym, Xt, yt, names_regressors)\n",
    "print \"Selected\", sel"
   ]
  },
  {
   "cell_type": "markdown",
   "metadata": {},
   "source": [
    "---"
   ]
  },
  {
   "cell_type": "markdown",
   "metadata": {},
   "source": [
    "# 3 Regularización"
   ]
  },
  {
   "cell_type": "markdown",
   "metadata": {},
   "source": [
    "Utilizando el dataframe de la actividad anterior,"
   ]
  },
  {
   "cell_type": "markdown",
   "metadata": {},
   "source": [
    "(a) Ajuste un modelo lineal utilizando \"Ridge Regression\", es decir, regularizando con la norma $\\ell_2$. Utilice\n",
    "valores del parámetro de regularización $\\lambda^{‡}$ en el rango $[10^4 , 10^{−1}]$. Construya un gráfico que muestre los\n",
    "coeficientes obtenidos como función del parámetro de regularización. Describa lo que observa. (**Hint**:\n",
    "Note que la lı́nea 4 y el primer argumento en la lı́nea 12 son crı́ticos)."
   ]
  },
  {
   "cell_type": "code",
   "execution_count": null,
   "metadata": {},
   "outputs": [],
   "source": [
    "from sklearn.linear_model import Ridge\n",
    "import matplotlib.pylab as plt\n",
    "\n",
    "X_c = X.copy()\n",
    "X_c = X_c.drop('intercept', axis=1)\n",
    "Xtrain = X_c[istrain]\n",
    "ytrain = y[istrain]\n",
    "names_regressors = [\"bedrooms\",\"bathrooms\",\"sqft_living\",\"sqft_lot\",\"floors\",\"waterfront\",\"view\",\n",
    "\"condition\",\"grade\",\"sqft_above\",\"sqft_basement\",\"yr_built\",\"yr_renovated\",\"lat-long\",\n",
    "\"sqft_living15\",\"sqft_lot15\"]\n",
    "alphas_ = np.logspace(4,-1,base=10)\n",
    "coefs = []\n",
    "model = Ridge(fit_intercept=True,solver='svd')\n",
    "\n",
    "for a in alphas_:\n",
    "    model.set_params(alpha=a)\n",
    "    model.fit(Xtrain, ytrain)\n",
    "    coefs.append(model.coef_)\n",
    "    ax = plt.gca()\n",
    "\n",
    "for y_arr, label in zip(np.squeeze(coefs).T, names_regressors):\n",
    "    print alphas_.shape\n",
    "    print y_arr.shape\n",
    "    plt.plot(alphas_, y_arr, label=label)\n",
    "    \n",
    "plt.legend()\n",
    "ax.set_xscale('log')\n",
    "ax.set_xlim(ax.get_xlim()[::-1]) # reverse axis\n",
    "plt.xlabel('alpha')\n",
    "plt.ylabel('weights')\n",
    "plt.title('Regularization Path RIDGE')\n",
    "plt.axis('tight')\n",
    "plt.legend(loc=2)\n",
    "plt.show()"
   ]
  },
  {
   "cell_type": "markdown",
   "metadata": {},
   "source": [
    "$^{‡}$ Se asume la siguiente formulación: $\\min_w ||\\textbf{Y} - \\textbf{Xw}||^2 + \\lambda ||\\textbf{w}||^2$."
   ]
  },
  {
   "cell_type": "markdown",
   "metadata": {},
   "source": [
    "(b) Ajuste un modelo lineal utilizando el método \"Lasso\", es decir, regularizando con la norma $\\ell_1$. Utilice valores del parámetro de regularización $\\lambda^{§}$ en el rango $[10^1 ,10^{−2}]$. Para obtener el código, modifique las lı́neas 7 y 9 del ejemplo anterior. Construya un gráfico que muestre los coeficientes obtenidos como función del parámetro de regularización. Describa lo que observa. ¿Es más efectivo Lasso para seleccionar atributos?"
   ]
  },
  {
   "cell_type": "code",
   "execution_count": null,
   "metadata": {
    "collapsed": true
   },
   "outputs": [],
   "source": [
    "from sklearn.linear_model import Lasso\n",
    "\n",
    "alphas_ = np.logspace(0,-3,base=10)\n",
    "clf = Lasso(fit_intercept=True)"
   ]
  },
  {
   "cell_type": "markdown",
   "metadata": {},
   "source": [
    "$^{§}$ Se asume la siguiente formulación: $\\min_w \\frac12 ||\\textbf{Y} - \\textbf{Xw}||^2 + \\lambda ||\\textbf{w}||_{\\ell_1}$."
   ]
  },
  {
   "cell_type": "markdown",
   "metadata": {},
   "source": [
    "(c) Utilizando \"Ridge Regression\", construya un gráfico que muestre el error de entrenamiento y el error de pruebas como función del parámetro de regularización. Discuta lo que observa."
   ]
  },
  {
   "cell_type": "code",
   "execution_count": null,
   "metadata": {
    "collapsed": true
   },
   "outputs": [],
   "source": [
    "Xtest = X[np.logical_not(istrain)]\n",
    "ytest = y[np.logical_not(istrain)]\n",
    "Xtest = Xtest.drop('intercept', axis=1)\n",
    "alphas_ = np.logspace(4,-2,base=10)\n",
    "coefs = []\n",
    "model = Ridge(fit_intercept=True)\n",
    "mse_test = []\n",
    "mse_train = []\n",
    "\n",
    "for a in alphas_:\n",
    "    model.set_params(alpha=a)\n",
    "    model.fit(Xtrain, ytrain)\n",
    "    yhat_train = model.predict(Xtrain)\n",
    "    yhat_test = model.predict(Xtest)\n",
    "    mse_train.append(np.mean(np.power(yhat_train - ytrain, 2)))\n",
    "    mse_test.append(np.mean(np.power(yhat_test - ytest, 2)))\n",
    "    \n",
    "ax = plt.gca()\n",
    "ax.plot(alphas_,mse_train,label='train error ridge')\n",
    "ax.plot(alphas_,mse_test,label='test error ridge')\n",
    "plt.legend(loc=2)\n",
    "ax.set_xscale('log')\n",
    "ax.set_xlim(ax.get_xlim()[::-1])\n",
    "plt.show()"
   ]
  },
  {
   "cell_type": "markdown",
   "metadata": {},
   "source": [
    "(d) Utilizando \"Lasso\", construya un gráfico que muestre el error de entrenamiento y el error de pruebas como función del parámetro de regularización. Discuta lo que observa."
   ]
  },
  {
   "cell_type": "code",
   "execution_count": null,
   "metadata": {
    "collapsed": true
   },
   "outputs": [],
   "source": [
    "alphas_ = np.logspace(0.5,-2,base=10)"
   ]
  },
  {
   "cell_type": "markdown",
   "metadata": {},
   "source": [
    "(e) Estime el valor del parámetro de regularización en los métodos anteriores usando validación cruzada."
   ]
  },
  {
   "cell_type": "code",
   "execution_count": null,
   "metadata": {
    "collapsed": true
   },
   "outputs": [],
   "source": [
    "MSE = lambda y,yhat: np.mean(np.power(y-yhat,2))\n",
    "Xm = Xtrain.as_matrix()\n",
    "ym = ytrain.as_matrix()\n",
    "\n",
    "from sklearn import cross_validation\n",
    "\n",
    "k_fold = cross_validation.KFold(len(Xm),10)\n",
    "best_cv_mse = float(\"inf\")\n",
    "model = Lasso(fit_intercept=True)\n",
    "\n",
    "for a in alphas_:\n",
    "    model.set_params(alpha=a)\n",
    "    mse_list_k10 = [MSE(model.fit(Xm[train], ym[train]).predict(Xm[val]), ym[val]) \\\n",
    "        for train, val in k_fold]\n",
    "    \n",
    "    if np.mean(mse_list_k10) < best_cv_mse:\n",
    "        best_cv_mse = np.mean(mse_list_k10)\n",
    "        best_alpha = a\n",
    "        print \"BEST PARAMETER=%f, MSE(CV)=%f\"%(best_alpha,best_cv_mse)"
   ]
  },
  {
   "cell_type": "markdown",
   "metadata": {},
   "source": [
    "# 4 Predicción de Utilidades de Películas"
   ]
  },
  {
   "cell_type": "markdown",
   "metadata": {},
   "source": [
    "El problema a resolver en esta sección consiste en predecir el volumen de utilidades (en dólares) obtenidas por el estreno (al público, en USA) de una pelı́cula. Especı́ficamente consideraremos dos posibles respuestas: el volumen total de utilidades (total revenue) obtenido durante el fin de semana del estreno y el volumen de utilidades por lugar de proyección (per screen revenue). Los datos a utilizar fueron recolectados en un estudio publicado recientemente por M. Joshi y colegas de la universidad de Carnegie Mellon [3], y corresponden a 1718 pelı́culas realizadas entre 2005 y 2009. Cada pelı́cula, se representa utilizando diversos tipos de atributos\n",
    "\n",
    "1. Texto: A partir de las crı́ticas publicadas para cada pelı́cula (en diversos sitios y antes del estreno), se construyen caracterı́sticas que corresponden a la frecuencia de palabras, parejas de palabras y trı́os de palabras obtenidas de un vocabulario.\n",
    "2. Metadata: (1) Variable binaria que indica si el lugar de origen de la pelı́cula es USA, (2) logaritmo del presupuesto, (3) número de puntos de proyección, (4) género (acción, drama, comedia, etc), (5) Calificación de la MPAA (mayores de catorce, todo espectador, etc), (6) Variable binaria que indica si el estreno se produjo durante un feriado/vacaciones y (7) Número de actores con OSCAR.\n",
    "\n",
    "Los datos pueden ser descargados ejecutando los siguientes comandos en un terminal (sistemas UNIX)\n",
    "\n",
    "```\n",
    "wget http://www.inf.utfsm.cl/~cvalle/movies.tar.gz\n",
    "tar -xzvf movies.tar.gz\n",
    "rm movies.tar.gz\n",
    "```\n",
    "\n",
    "Para facilitar el trabajo, los datos han sido ya preparados en formato matricial. Concretamente usted dispondrá de tres parejas de archivos ($\\textbf{X}$ e $y$): un conjunto de datos de entrenamiento (```train.x.nm``` y ```train.y.dat```), un conjunto de datos de validación para evitar tener que hacer validación cruzada (```dev.x.nm``` y ```dev.y.dat```) y un conjunto de datos de pruebas (```test.x.nm``` y ```test.y.dat```) que, naturalmente, no puede utilizar para construir el modelo. Se incluirán además, dos versiones de los datos. Una de ellas consiste en remover la variable que indica la presencia de actores con OSCAR del conjunto de atributos.\n",
    "\n",
    "El archivo de respuestas ($y$) contiene un dato por fila en el orden correspondiente a las $x$. El archivo con\n",
    "los atributos ($x$) está codificado en formato sparse de matrix market [5] como sigue. La cabecera del archivo\n",
    "pueden aparecer 0, 1 o más comentarios (filas que inician con %). La linea siguiente indica el número de filas,\n",
    "columnas y entradas no nulas de la matriz. Las lı́neas que siguen tienen la estructura ($i, j, \\textbf{X}_{ij}$), es decir indican la fila y columna de la matriz que contiene el tercer elemento. Por ejemplo:\n",
    "\n",
    "```\n",
    "%%MatrixMarket matrix coordinate real general\n",
    "317 145256 658516\n",
    "1 9 14.0\n",
    "1 12 1.0\n",
    "```"
   ]
  },
  {
   "cell_type": "markdown",
   "metadata": {},
   "source": [
    "(a) Lea los archivos de datos y cárguelos en dos dataframe o matrices $\\textbf{X}$, $y$. En el caso de $\\textbf{X}$ es extremadamente importante que mantenga el formato disperso (sparse) (¿porqué?). Si trabaja con matrices use matrices dispersas del tipo ```csr matrix``` o ```csc matrix```. Si prefiere operar sobre un dataframe, puede utilizar los (recientemente introducidos) dataframe dispersos de pandas: *SparseDataFrame*, aunque todavı́a no se tiene una operabilidad completa."
   ]
  },
  {
   "cell_type": "code",
   "execution_count": null,
   "metadata": {
    "collapsed": true
   },
   "outputs": [],
   "source": [
    "import pandas as pd\n",
    "import numpy as np\n",
    "from scipy.sparse import csr_matrix\n",
    "from scipy.io import mmread\n",
    "\n",
    "X = csr_matrix(mmread('test.x.nm'))\n",
    "y = np.loadtxt('test.y.dat')"
   ]
  },
  {
   "cell_type": "markdown",
   "metadata": {},
   "source": [
    "(b) Construya un modelo lineal que obtenga un coeficiente de determinación (sobre el conjunto de pruebas) de al menos 0.75. A partir de un modelo lineal de *sklearn*, el coeficiente de determinación se obtiene fácilmente"
   ]
  },
  {
   "cell_type": "code",
   "execution_count": null,
   "metadata": {
    "collapsed": true
   },
   "outputs": [],
   "source": [
    "import sklearn.linear_model as lm\n",
    "\n",
    "model = lm.LinearRegression(fit_intercept = False)\n",
    "\n",
    "print \"R2=%f\"%model.score(X, y)"
   ]
  },
  {
   "cell_type": "markdown",
   "metadata": {},
   "source": [
    "# References\n",
    "\n",
    "* [1] https://www.kaggle.com/harlfoxem/housesalesprediction\n",
    "* [2] Hastie, T.; Tibshirani, R., Friedman, J. (2009), The Elements of Statistical Learning, Second Edition. Springer New York Inc.\n",
    "* [3] Joshi, M., Das, D., Gimpel, K., Smith, N. A. (2010). Movie reviews and revenues: An experiment in text regression. In the 2010 Annual Conference of the North American Chapter of the Association for Computational Linguistics (pp. 293-296). Association for Computational Linguistics.\n",
    "* [4] https://www.dropbox.com/sh/8r1wrblyfokwuq0/AABUEvgcuMxyZht2-KYyBptUa?dl=0\n",
    "* [5] http://math.nist.gov/MatrixMarket/formats.html"
   ]
  }
 ],
 "metadata": {
  "kernelspec": {
   "display_name": "Python 2",
   "language": "python",
   "name": "python2"
  },
  "language_info": {
   "codemirror_mode": {
    "name": "ipython",
    "version": 2
   },
   "file_extension": ".py",
   "mimetype": "text/x-python",
   "name": "python",
   "nbconvert_exporter": "python",
   "pygments_lexer": "ipython2",
   "version": "2.7.13"
  }
 },
 "nbformat": 4,
 "nbformat_minor": 2
}
