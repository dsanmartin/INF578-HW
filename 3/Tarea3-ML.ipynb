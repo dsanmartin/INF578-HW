{
 "cells": [
  {
   "cell_type": "markdown",
   "metadata": {},
   "source": [
    "# Tarea 3 - Máquinas de Aprendizaje\n",
    "## Métodos No-Lineales\n",
    "### Integrantes: Gabriel Jara, Daniel San Martín"
   ]
  },
  {
   "cell_type": "markdown",
   "metadata": {},
   "source": [
    "## 1. Small Circle inside Large Circle\n",
    "\n",
    "El objetivo de esta sección es experimentar con algunos modelos no-lineales sobre un problema de juguete\n",
    "generado para visualizar algoritmos de *clustering*. Se trata de un problema de clasificación a todas luces\n",
    "linealmente inseparable, en el sentido que, si denotamos por $\\textbf{x}\\in\\mathbb{R}^2$ un patrón de entrada y por $y\\in\\{0, 1\\}$ su correspondiente etiqueta, no existen $\\textbf{w}\\in\\mathbb{R}^2$ , $b\\in\\mathbb{R}$ tal que $y(\\textbf{w}^T\\textbf{x} + b) \\geq \\rho > 0$. El problema nos permite\n",
    "hacer un recorrido rápido por las grandes ideas en la búsqueda de la no-linealidad.\n",
    "\n",
    "<img src=\"img/1.png\">\n",
    "<center>Figura 1: Distribución deseada para la actividad 1. Los 2 colores representan 2 clases distintas.</center>"
   ]
  },
  {
   "cell_type": "markdown",
   "metadata": {},
   "source": [
    "(a) Escriba una función que genere (aleatoriamente) $n$ datos etiquetados de la forma $\\{(\\textbf{x}_1, y_1), ..., (\\textbf{x}_n, y_n)\\}$, $\\textbf{x}_i \\in \\mathbb{R}^2, ~ y_i \\in \\{0, 1\\}$, con una distribución de probabilidad que refleje la configuración linealmente inseparable que muestra la Fig. 1$^3$. Utilice esta función para crear $1000$ datos de entrenamiento y $1000$ datos de pruebas. Para medir la tendencia de los modelos a sobre-ajuste, agregue un $5\\%$ de ruido al dataset, generando $\\textbf{x}$’s cercanos a la frontera. Genere un gráfico que muestre datos de entrenamiento y pruebas, identificando cada clase con un color diferente (como lo muestra la Fig. 1).\n",
    "\n",
    "$^3$Puede generar datos aleatorios distribuidos de manera circular para luego etiquetar aquellos ubicados en el cı́rculo interior como $1$ y en el cı́rculo exterior $0$."
   ]
  },
  {
   "cell_type": "code",
   "execution_count": null,
   "metadata": {
    "collapsed": true,
    "scrolled": false
   },
   "outputs": [],
   "source": [
    "import numpy as np\n",
    "from sklearn.utils import check_random_state\n",
    "from sklearn.model_selection import train_test_split\n",
    "\n",
    "def do_circles(n=2000, noisy_n=0.05):\n",
    "    generator = check_random_state(10)\n",
    "    \n",
    "    # Creacion de circulos\n",
    "    linspace = np.linspace(0, 2 * np.pi, n // 2 + 1)[:-1]\n",
    "    outer_circ_x = np.cos(linspace)\n",
    "    outer_circ_y = np.sin(linspace)\n",
    "    inner_circ_x = outer_circ_x * .3\n",
    "    inner_circ_y = outer_circ_y * .3\n",
    "    \n",
    "    # Creacion de Dataset artificial\n",
    "    X = np.vstack((np.append(outer_circ_x, inner_circ_x), np.append(outer_circ_y, inner_circ_y))).T\n",
    "    y = np.hstack([np.zeros(n // 2, dtype=np.intp), np.ones(n // 2, dtype=np.intp)]) # Etiquetas\n",
    "    X += generator.normal(scale=noisy_n, size=X.shape) # Se agrega ruido\n",
    "    X_train, X_test, y_train, y_test = train_test_split(X, y, test_size=0.5, random_state=42) # Split data\n",
    "    \n",
    "    return X_train, y_train, X_test, y_test"
   ]
  },
  {
   "cell_type": "markdown",
   "metadata": {},
   "source": [
    "Para lo que sigue de la actividad utilice la siguiente función para graficar las fronteras de clasificación\n",
    "en base a la probabilidad que asigna cada algoritmo a la clase de un ejemplo."
   ]
  },
  {
   "cell_type": "code",
   "execution_count": null,
   "metadata": {
    "collapsed": true,
    "scrolled": false
   },
   "outputs": [],
   "source": [
    "%matplotlib inline\n",
    "import matplotlib.pyplot as plt\n",
    "\n",
    "def plot_classifier(clf, X_train, Y_train, X_test, Y_test, model_type):\n",
    "    f, axis = plt.subplots(1, 1, sharex='col', sharey='row', figsize=(12, 8))\n",
    "    axis.scatter(X_train[:,0], X_train[:,1], s=30, c=Y_train, zorder=10, cmap='cool')\n",
    "    axis.scatter(X_test[:,0], X_test[:,1], s=20, c=Y_test, zorder=10, cmap='Greys')\n",
    "    XX, YY = np.mgrid[-2:2:200j, -2:2:200j]\n",
    "    \n",
    "    # Se diferencia la clasificacion segun si es arbol o rna\n",
    "    if model_type == 'tree':\n",
    "        Z = clf.predict_proba(np.c_[XX.ravel(), YY.ravel()])[:,0]\n",
    "    elif model_type == 'ann':\n",
    "        Z = clf.predict(np.c_[XX.ravel(), YY.ravel()])\n",
    "    else: raise ValueError('model type not supported')        \n",
    "        \n",
    "    Z = Z.reshape(XX.shape)\n",
    "    Zplot = Z > 0.5\n",
    "    axis.pcolormesh(XX, YY, Zplot ,cmap='YlGn')\n",
    "    axis.contour(XX, YY, Z, alpha=1, colors=[\"k\", \"k\", \"k\"], linestyles=[\"--\", \"-\", \"--\"], levels=[-2, 0, 2])\n",
    "    plt.show()"
   ]
  },
  {
   "cell_type": "markdown",
   "metadata": {},
   "source": [
    "(b) Demuestre <u>experimentalmente</u> que una red neuronal artificial correspondiente a $1$ sola neurona (i.e. sin capas escondidas) no puede resolver satisfactoriamente el problema. Puede utilizar la función de activación y el método de entrenamiento que prefiera. Sea convincente: por ejemplo, intente modificar los parámetros de la máquina de aprendizaje, reportando métricas que permitan evaluar el desempeño\n",
    "del modelo en el problema con cada cambio efectuado. Adapte también la función ```plot_classifier``` para que represente gráficamente la solución encontrada por la red neuronal. Describa y explique lo que observa, reportando gráficos de la solución sólo para algunos casos representativos."
   ]
  },
  {
   "cell_type": "code",
   "execution_count": null,
   "metadata": {
    "collapsed": true
   },
   "outputs": [],
   "source": [
    "# Funcion utilizada para graficar y evaluar experimentos\n",
    "def plotExperiment(lr, hists, scores):\n",
    "    plt.figure(figsize=(16, 4))\n",
    "    for i in range(len(lr)):\n",
    "        plt.plot(hists[i].epoch, hists[i].history['loss'], label=lr[i]) # Plot para cada lr\n",
    "        test_acc = scores[i][1] # Evaluacion\n",
    "        print \"Learning Rate: %.4f, Testing Accuracy: %.4f\" % (lr[i], test_acc)\n",
    "    plt.title(\"Training Loss vs epochs\")\n",
    "    plt.xlabel(\"Epochs\")\n",
    "    plt.ylabel(\"Loss\")\n",
    "    plt.legend()\n",
    "    plt.grid(True)     \n",
    "    plt.show()"
   ]
  },
  {
   "cell_type": "code",
   "execution_count": null,
   "metadata": {
    "collapsed": true
   },
   "outputs": [],
   "source": [
    "def plotExperiment1(lr, train_e, test_e):\n",
    "    plt.figure(figsize=(16, 4))\n",
    "    plt.plot(lr, train_e, label=\"Train\") # Train error\n",
    "    plt.plot(lr, test_e, label=\"Test\") # Train error\n",
    "    plt.title(\"Error vs Learning rate\")\n",
    "    plt.xlabel(\"Learning rate\")\n",
    "    plt.ylabel(\"Error\")\n",
    "    plt.legend()\n",
    "    plt.grid(True)     \n",
    "    plt.show()"
   ]
  },
  {
   "cell_type": "code",
   "execution_count": null,
   "metadata": {
    "collapsed": true
   },
   "outputs": [],
   "source": [
    "# Bibliotecas\n",
    "from keras.models import Sequential\n",
    "from keras.layers import Dense\n",
    "from keras.optimizers import SGD"
   ]
  },
  {
   "cell_type": "code",
   "execution_count": null,
   "metadata": {
    "collapsed": true,
    "scrolled": false
   },
   "outputs": [],
   "source": [
    "# Generar data\n",
    "X_train, Y_train, X_test, Y_test = do_circles()"
   ]
  },
  {
   "cell_type": "code",
   "execution_count": null,
   "metadata": {
    "collapsed": true,
    "scrolled": false
   },
   "outputs": [],
   "source": [
    "# Se prueban 5 learning rates distintos\n",
    "N = 5\n",
    "lrate = np.linspace(0, 1, N)\n",
    "models = [None] * N\n",
    "hists = [None] * N\n",
    "scores = [None] * N\n",
    "train_scores = np.zeros(N)\n",
    "test_scores = np.zeros(N)\n",
    "n_h = 1\n",
    "\n",
    "for i in range(N):\n",
    "    models[i] = Sequential()\n",
    "    models[i].add(Dense(1, input_dim=X_train.shape[1], \n",
    "                       kernel_initializer='uniform', activation='relu')) # Input layer\n",
    "    models[i].add(Dense(n_h, activation='sigmoid', kernel_initializer='uniform')) # Output layer\n",
    "    models[i].compile(optimizer=SGD(lr=lrate[i]), loss='binary_crossentropy', metrics=['accuracy'])\n",
    "    hists[i] =  models[i].fit(X_train, Y_train, epochs=50, batch_size=100, verbose=0)\n",
    "    scores[i] = models[i].evaluate(X_test, Y_test)\n",
    "    train_scores[i] = 1 - models[i].evaluate(X_train, Y_train)[1]\n",
    "    test_scores[i] = 1 - scores[i][1]"
   ]
  },
  {
   "cell_type": "code",
   "execution_count": null,
   "metadata": {
    "collapsed": true
   },
   "outputs": [],
   "source": [
    "plotExperiment(lrate, hists, scores)"
   ]
  },
  {
   "cell_type": "code",
   "execution_count": null,
   "metadata": {
    "collapsed": true
   },
   "outputs": [],
   "source": [
    "plotExperiment1(lrate, train_scores, test_scores)"
   ]
  },
  {
   "cell_type": "code",
   "execution_count": null,
   "metadata": {
    "collapsed": true,
    "scrolled": false
   },
   "outputs": [],
   "source": [
    "plot_classifier(models[-1], X_train, Y_train, X_test, Y_test, 'ann')"
   ]
  },
  {
   "cell_type": "markdown",
   "metadata": {},
   "source": [
    "La Red neuronal de un único nodo no ha logrado generar una frontera que separe efectvamente ambas clases. Se observa que la función de pérdida, en este caso Entropia Cruzada Binaria, alcanza un mínimo de entrenamiento por sobre 0.56. La Exactitud (Accuracy) de clasificación sobre el set de testeo es de casi 0.7, o sea un 70% de las observaciones logra ser bien clasificadas. \n",
    "\n",
    "Se repite el experimento utizando Mínimos Cuadrados como función de pérdida, para comprobar si mejora el anterior resultado. "
   ]
  },
  {
   "cell_type": "code",
   "execution_count": null,
   "metadata": {
    "collapsed": true
   },
   "outputs": [],
   "source": [
    "# Se prueban 5 learning rates distintos\n",
    "N = 5\n",
    "lrate = np.linspace(0, 1, N)\n",
    "models = [None] * N\n",
    "hists = [None] * N\n",
    "scores = [None] * N\n",
    "train_scores = np.zeros(N)\n",
    "test_scores = np.zeros(N)\n",
    "n_h = 1\n",
    "\n",
    "for i in range(N):\n",
    "    models[i] = Sequential()\n",
    "    models[i].add(Dense(1, input_dim=X_train.shape[1], \n",
    "                       kernel_initializer='uniform', activation='relu')) # Input layer\n",
    "    models[i].add(Dense(n_h, activation='sigmoid', kernel_initializer='uniform')) # Output layer\n",
    "    models[i].compile(optimizer=SGD(lr=lrate[i]), loss='mean_squared_error', metrics=['accuracy'])\n",
    "    hists[i] =  models[i].fit(X_train, Y_train, epochs=50, batch_size=100, verbose=0)\n",
    "    scores[i] = models[i].evaluate(X_test, Y_test)\n",
    "    train_scores[i] = 1 - models[i].evaluate(X_train, Y_train)[1]\n",
    "    test_scores[i] = 1 - scores[i][1]"
   ]
  },
  {
   "cell_type": "code",
   "execution_count": null,
   "metadata": {
    "collapsed": true,
    "scrolled": false
   },
   "outputs": [],
   "source": [
    "plotExperiment(lrate, hists, scores)"
   ]
  },
  {
   "cell_type": "code",
   "execution_count": null,
   "metadata": {
    "collapsed": true
   },
   "outputs": [],
   "source": [
    "plotExperiment1(lrate, train_scores, test_scores)"
   ]
  },
  {
   "cell_type": "code",
   "execution_count": null,
   "metadata": {
    "collapsed": true,
    "scrolled": false
   },
   "outputs": [],
   "source": [
    "plot_classifier(models[-1], X_train, Y_train, X_test, Y_test, 'ann')"
   ]
  },
  {
   "cell_type": "markdown",
   "metadata": {},
   "source": [
    "Mínimos Cuadrados no mejora significativamente el resultado anterior. La función de perdida disminuye su valor, pero no es comparable dado que es una métrica diferente. La efectividad del clasificador sobre el set de testeo es similar a la anterior. Se observa que el problema del clasificador no está en la función de pérdida, sino en su limitada arquitectura que sólo le permite trazar fronteras de clasificación lineales, siendo el problema no linealmente separable.  "
   ]
  },
  {
   "cell_type": "markdown",
   "metadata": {},
   "source": [
    "(c) Demuestre <u>experimentalmente</u> que una red neuronal artificial con $1$ capa escondida puede resolver satisfactoriamente el problema obtenido en (a). Puede utilizar la arquitectura y el método de entrenamiento que prefiera, pero en esta actividad puede optar tranquilamente por usar los hiper-parámetros que se entregan como referencia en el código de ejemplo. Cambie el número de neuronas $N_h$ en la red entre $2$ y $32$ en potencias de $2$, graficando el error de entrenamiento y pruebas como función de $N_h$. Describa y explique lo que observa. Utilice la función plot classifier, diseñada anteriormente, para construir gráficos de la solución en algunos casos representativos."
   ]
  },
  {
   "cell_type": "code",
   "execution_count": null,
   "metadata": {
    "collapsed": true
   },
   "outputs": [],
   "source": [
    "def plotExperiment2(Nh, train_e, test_e):\n",
    "    plt.figure(figsize=(16, 4))\n",
    "    plt.plot(Nh, train_e, label=\"Train\") # Train error\n",
    "    plt.plot(Nh, test_e, label=\"Test\") # Train error\n",
    "    plt.title(\"Error vs \" + r\"$N_h$\")\n",
    "    plt.xlabel(r\"$N_h$\")\n",
    "    plt.ylabel(\"Error\")\n",
    "    plt.legend()\n",
    "    plt.grid(True)     \n",
    "    plt.show()"
   ]
  },
  {
   "cell_type": "code",
   "execution_count": null,
   "metadata": {
    "collapsed": true
   },
   "outputs": [],
   "source": [
    "N = 5\n",
    "n_h = [2**i for i in range(1, N+1)]\n",
    "models = [None] * N\n",
    "#hists = [None] * N\n",
    "#scores = [None] * N\n",
    "train_scores = np.zeros(N)\n",
    "test_scores = np.zeros(N)"
   ]
  },
  {
   "cell_type": "code",
   "execution_count": null,
   "metadata": {
    "collapsed": true,
    "scrolled": true
   },
   "outputs": [],
   "source": [
    "for i in range(N):\n",
    "    models[i] = Sequential()\n",
    "    models[i].add(Dense(n_h[i], input_dim=X_train.shape[1], \n",
    "                       kernel_initializer='uniform', activation='relu')) # Input layer\n",
    "    models[i].add(Dense(1, activation='sigmoid', kernel_initializer='uniform')) # Output layer\n",
    "    models[i].compile(optimizer=SGD(lr=1), loss='binary_crossentropy', metrics=['accuracy'])\n",
    "    hist =  models[i].fit(X_train, Y_train, epochs=50, batch_size=100, verbose=0)\n",
    "    train_scores[i] = 1 - hist.history['acc'][-1] # Ultimo error de training\n",
    "    scores = models[i].evaluate(X_test, Y_test)\n",
    "    test_scores[i] = 1 - scores[1]\n",
    "    print \" Nh: %d, Testing Accuracy: %.4f\" % (n_h[i], scores[1])"
   ]
  },
  {
   "cell_type": "code",
   "execution_count": null,
   "metadata": {
    "collapsed": true
   },
   "outputs": [],
   "source": [
    "plotExperiment2(n_h, train_scores, test_scores)"
   ]
  },
  {
   "cell_type": "code",
   "execution_count": null,
   "metadata": {
    "collapsed": true,
    "scrolled": false
   },
   "outputs": [],
   "source": [
    "plot_classifier(models[0], X_train, Y_train, X_test, Y_test, 'ann')"
   ]
  },
  {
   "cell_type": "markdown",
   "metadata": {},
   "source": [
    "Se aprecia una mejora significativa respecto a la situación anterior, puesto que la efectividad del modelo se incrementa a sobre 0.85. La gráfica de la frontera de clasificación permite apreciar que al incorporar un nodo adicional la frontera puede representar una clasificación lineal en dos tramos, lo que explica la mejora. "
   ]
  },
  {
   "cell_type": "code",
   "execution_count": null,
   "metadata": {
    "collapsed": true,
    "scrolled": false
   },
   "outputs": [],
   "source": [
    "plot_classifier(models[1], X_train, Y_train, X_test, Y_test, 'ann')"
   ]
  },
  {
   "cell_type": "markdown",
   "metadata": {},
   "source": [
    "Se constata que con cuatro nodos en la capa oculta, la Red Neuronal logra efectivamente generar una frontera de clasificación que separa ambas clases. En consecuencia, la función de perdida logra decaer a cero, y la efectividad del predictor sobre la muestra de testeo llega a uno, denotando que todas las observaciones fueron bien clasificadas. \n",
    "\n",
    "Seguir aumentando los nodos en la capa oculta permitirá suavizar la frontera de clasificación, pero ya no podrá mejorar la clasificación, puesto que ya es 100% correcta. "
   ]
  },
  {
   "cell_type": "code",
   "execution_count": null,
   "metadata": {
    "collapsed": true
   },
   "outputs": [],
   "source": [
    "plot_classifier(models[-1], X_train, Y_train, X_test, Y_test, 'ann')"
   ]
  },
  {
   "cell_type": "markdown",
   "metadata": {},
   "source": [
    "(d) Demuestre <u>experimentalmente</u> que stump (árbol de clasificación de $1$ nivel) no puede resolver satisfactoriamente el problema anterior. Puede utilizar el criterio y la función de partición que prefiera. Sea\n",
    "convincente: por ejemplo, intente modificar los parámetros de la máquina, reportando métricas que permitan evaluar el desempeño del modelo en el problema con cada cambio efectuado. Adapte también la función ```plot_classifier``` para que represente gráficamente la solución encontrada por el árbol. Describa y explique lo que observa, reportando gráficos de la solución sólo para algunos casos representativos."
   ]
  },
  {
   "cell_type": "code",
   "execution_count": null,
   "metadata": {
    "collapsed": true,
    "scrolled": false
   },
   "outputs": [],
   "source": [
    "from sklearn.tree import DecisionTreeClassifier as Tree\n",
    "\n",
    "clf=Tree(criterion='gini', splitter='best', random_state=0, max_depth=1)\n",
    "clf.fit(X_train,Y_train)\n",
    "acc_test = clf.score(X_test,Y_test)\n",
    "print \"Test Accuracy = %f\"%acc_test\n",
    "print clf.tree_.max_depth\n",
    "plot_classifier(clf,X_train,Y_train,X_test,Y_test,'tree')"
   ]
  },
  {
   "cell_type": "markdown",
   "metadata": {},
   "source": [
    "Se aprecia que un árbol con sólo un nivel de profundidad no puede establecer una frontera de clasificación efectiva en este caso. El clasificador es incluso más limitado que la Red Neuronal con un nodo, al quedar limitado a trazados ortogonales a una de las dimensiones de las variables independientes. \n",
    "\n",
    "Se prueba a continuación cambiar el criterio de clasificación, originalmete coeficiente de Gino, para probar con entropía y confirmar si esto permite mejorar los resultados. "
   ]
  },
  {
   "cell_type": "code",
   "execution_count": null,
   "metadata": {
    "collapsed": true,
    "scrolled": false
   },
   "outputs": [],
   "source": [
    "from sklearn.tree import DecisionTreeClassifier as Tree\n",
    "\n",
    "clf=Tree(criterion='entropy', splitter='best', random_state=0, max_depth=1)\n",
    "clf.fit(X_train,Y_train)\n",
    "acc_test = clf.score(X_test,Y_test)\n",
    "print \"Test Accuracy = %f\"%acc_test\n",
    "print clf.tree_.max_depth\n",
    "plot_classifier(clf,X_train,Y_train,X_test,Y_test,'tree')"
   ]
  },
  {
   "cell_type": "markdown",
   "metadata": {},
   "source": [
    "Como era predecible, el resultado no mejora con el cambio de criterio. Nuevamente, el problema está en la limitada arquitectura del modelo, que no permite resolver un problema no linealmente separable. "
   ]
  },
  {
   "cell_type": "markdown",
   "metadata": {},
   "source": [
    "(e) Demuestre experimentalmente que un árbol de clasificación de múltiples niveles puede resolver satisfactoriamente el problema estudiado. Puede utilizar el criterio y la función de partición que prefiera, pero puede optar tranquilamente por usar los hiper-parámetros que se entregan como referencia en el código de ejemplo. Cambie el número de niveles admitidos en el árbol $N_t$ entre $2$ y $20$, graficando el error de entrenamiento y pruebas como función de $N_t$. Describa y explique lo que observa. Utilice la función ```plot_classifier```, diseñada anteriormente, para construir gráficos de la solución en algunos casos representativos."
   ]
  },
  {
   "cell_type": "code",
   "execution_count": null,
   "metadata": {
    "collapsed": true
   },
   "outputs": [],
   "source": [
    "def plotExperiment3(Nt, train_e, test_e):\n",
    "    plt.figure(figsize=(16, 4))\n",
    "    plt.plot(Nt, train_e, label=\"Train\") # Train error\n",
    "    plt.plot(Nt, test_e, label=\"Test\") # Train error\n",
    "    plt.title(\"Error vs \" + r\"$N_t$\")\n",
    "    plt.xlabel(r\"$N_t$\")\n",
    "    plt.ylabel(\"Error\")\n",
    "    plt.legend()\n",
    "    plt.grid(True)     \n",
    "    plt.show()"
   ]
  },
  {
   "cell_type": "code",
   "execution_count": null,
   "metadata": {
    "collapsed": true
   },
   "outputs": [],
   "source": [
    "n_t = np.arange(2, 21)\n",
    "N = len(n_t)\n",
    "clfs = [None] * N\n",
    "#hists = [None] * N\n",
    "#scores = [None] * N\n",
    "train_scores = np.zeros(N)\n",
    "test_scores = np.zeros(N)"
   ]
  },
  {
   "cell_type": "code",
   "execution_count": null,
   "metadata": {
    "collapsed": true
   },
   "outputs": [],
   "source": [
    "for i in range(N):\n",
    "    print(n_t[i])\n",
    "    clfs[i] = Tree(criterion='gini', splitter='best', random_state=0, max_depth=n_t[i])\n",
    "    clfs[i].fit(X_train, Y_train)\n",
    "    train_scores[i] = 1 - clfs[i].score(X_train, Y_train)\n",
    "    acc_test = clfs[i].score(X_test, Y_test)\n",
    "    test_scores[i] = 1 - acc_test\n",
    "    print \"Test Accuracy = %f \" % acc_test\n",
    "    #print clf.tree_.max_depth\n",
    "    #plot_classifier(clf,X_train,Y_train,X_test,Y_test,'tree')\n",
    "    #models[i] = Sequential()\n",
    "    #models[i].add(Dense(1, input_dim=X_train.shape[1], \n",
    "    #                   kernel_initializer='uniform', activation='relu')) # Input layer\n",
    "    #models[i].add(Dense(n_h, activation='sigmoid', kernel_initializer='uniform')) # Output layer\n",
    "    #models[i].compile(optimizer=SGD(lr=lrate[i]), loss='mean_squared_error', metrics=['accuracy'])\n",
    "    #hists[i] =  models[i].fit(X_train, Y_train, epochs=50, batch_size=100, verbose=0)\n",
    "    #scores[i] = models[i].evaluate(X_test, Y_test)"
   ]
  },
  {
   "cell_type": "code",
   "execution_count": null,
   "metadata": {
    "collapsed": true
   },
   "outputs": [],
   "source": [
    "plotExperiment3(n_t, train_scores, test_scores)"
   ]
  },
  {
   "cell_type": "code",
   "execution_count": null,
   "metadata": {
    "collapsed": true
   },
   "outputs": [],
   "source": [
    "plot_classifier(clfs[0], X_train, Y_train, X_test,Y_test, 'tree')"
   ]
  },
  {
   "cell_type": "markdown",
   "metadata": {},
   "source": [
    "Al configurar el árbol con dos niveles, inmediatamente se percibe una mejora significativa, gracias a que ahora puede establecer una fronteras de clasificación con dos secciones, las que tendrán que ser paralelos u ortogonales. En este caso se aprecia de a gráfica que resultaron paralelas. "
   ]
  },
  {
   "cell_type": "code",
   "execution_count": null,
   "metadata": {
    "collapsed": true,
    "scrolled": false
   },
   "outputs": [],
   "source": [
    "plot_classifier(clfs[1], X_train, Y_train, X_test,Y_test, 'tree')"
   ]
  },
  {
   "cell_type": "markdown",
   "metadata": {},
   "source": [
    "Un tercer nivel permitió que una nueva mejora, ahora la frontera tiene tres segmentos. "
   ]
  },
  {
   "cell_type": "code",
   "execution_count": null,
   "metadata": {
    "collapsed": true,
    "scrolled": false
   },
   "outputs": [],
   "source": [
    "plot_classifier(clfs[2], X_train, Y_train, X_test,Y_test, 'tree')"
   ]
  },
  {
   "cell_type": "markdown",
   "metadata": {},
   "source": [
    "Con cuatro niveles se logra una fronetera de clasificación adecuada a la naturaleza del problema, alcanzando en este caso una efectividad en la clasificación del set de testeo de 0.994. "
   ]
  },
  {
   "cell_type": "code",
   "execution_count": null,
   "metadata": {
    "collapsed": true,
    "scrolled": false
   },
   "outputs": [],
   "source": [
    "plot_classifier(clfs[4], X_train, Y_train, X_test,Y_test, 'tree')"
   ]
  },
  {
   "cell_type": "markdown",
   "metadata": {},
   "source": [
    "Agregar un quinto nivel no mejoró la clasificación, puesto que si bien el árbol mejora algo en el set de entrenamiento, empeora su efectividad en el set de testeo, lo que evidencia sobreajuste. "
   ]
  },
  {
   "cell_type": "code",
   "execution_count": null,
   "metadata": {
    "collapsed": true,
    "scrolled": false
   },
   "outputs": [],
   "source": [
    "plot_classifier(clfs[5], X_train, Y_train, X_test,Y_test, 'tree')"
   ]
  },
  {
   "cell_type": "markdown",
   "metadata": {},
   "source": [
    "De 5 niveles en adelante el árbol resultante ya no varía, puesto que los niveles adicionales no permiten mejorar la clasificación durante el entrenamiento. "
   ]
  },
  {
   "cell_type": "code",
   "execution_count": null,
   "metadata": {
    "collapsed": true
   },
   "outputs": [],
   "source": [
    "plot_classifier(clfs[-1], X_train, Y_train, X_test,Y_test, 'tree')"
   ]
  },
  {
   "cell_type": "markdown",
   "metadata": {},
   "source": [
    "Se probará a continuación nuevamente el modelo de árbol con 4 niveles, pero esta vez con entropia como criterio de clasificación, para ver si se mejora los resultados anteriores. "
   ]
  },
  {
   "cell_type": "code",
   "execution_count": null,
   "metadata": {
    "collapsed": true,
    "scrolled": false
   },
   "outputs": [],
   "source": [
    "clf = Tree(criterion='entropy', splitter='best', random_state=0, max_depth=4)\n",
    "clf.fit(X_train,Y_train)\n",
    "acc_test = clf.score(X_test,Y_test)\n",
    "print \"Test Accuracy = %f\"%acc_test\n",
    "print clf.tree_.max_depth\n",
    "plot_classifier(clf, X_train, Y_train, X_test, Y_test, 'tree')"
   ]
  },
  {
   "cell_type": "markdown",
   "metadata": {},
   "source": [
    "En este caso el clasificador resultante con entropía fue levemente mejor que el obtenido con gini, de acuerdo a la precisión con que clasificó el set de testeo. "
   ]
  },
  {
   "cell_type": "markdown",
   "metadata": {},
   "source": [
    "(f) Como ya se demostró experimentalmente que este problema es linealmente inseperable, ahora se pide experimentar otra alternativa. Para ello deberá realizar una proyección de los datos a un nuevo espacio dimensional (manifold) en el cual se reconozcan sus patrones no lineales, para poder trabajarlos con fronteras lineales. Utilice la técnica de PCA con la ayuda de un Kernel Gaussiano ([2]) para extraer sus vectores con dimensión infinita de mayor varianza."
   ]
  },
  {
   "cell_type": "code",
   "execution_count": null,
   "metadata": {
    "collapsed": true,
    "scrolled": false
   },
   "outputs": [],
   "source": [
    "from sklearn.decomposition import KernelPCA\n",
    "\n",
    "kpca = KernelPCA(n_components=2, kernel=\"rbf\", gamma=5)\n",
    "kpca = kpca.fit(X_train)\n",
    "Xkpca_train = kpca.transform(X_train)\n",
    "Xkpca_test = kpca.transform(X_test)"
   ]
  },
  {
   "cell_type": "markdown",
   "metadata": {},
   "source": [
    "(g) Ajuste un algoritmo de aprendizaje con fronteras lineal para los datos proyectados en este nuevo espacio que captura sus componentes no lineales, muestre graficamente que el problema ahora puede ser resulto con estos métodos. Reporte métricas para evaluar el desempeño, comente y concluya."
   ]
  },
  {
   "cell_type": "code",
   "execution_count": null,
   "metadata": {
    "collapsed": true,
    "scrolled": false
   },
   "outputs": [],
   "source": [
    "clf = Tree(criterion='gini', splitter='best', random_state=42, max_depth=1)\n",
    "clf.fit(Xkpca_train, Y_train)\n",
    "acc_test = clf.score(Xkpca_test, Y_test)\n",
    "print \"Test Accuracy = %f\"%acc_test\n",
    "print clf.tree_.max_depth\n",
    "plot_classifier(clf, Xkpca_train, Y_train, Xkpca_test,Y_test,'tree')"
   ]
  },
  {
   "cell_type": "markdown",
   "metadata": {},
   "source": [
    "Luego de realizada la descomposición con Kernel PCA, el problema pasa a ser linealmente separable. Utilizando un árbol de decisión con un nivel de profundidad, se pudo sin problema generar un clasificador que presenta 100% de éxito en la clasificación sobre el set de testeo. "
   ]
  },
  {
   "cell_type": "markdown",
   "metadata": {},
   "source": [
    "## 2. Bike Sharing: Predicción de Demanda Horaria\n",
    "\n",
    "En esta sección simularemos nuestra participación en el desafı́o Bike Sharing Demand de Kaggle [3]. El objetivo es predecir la demanda de bicicletas sobre la red Capital Bikeshare de la ciudad de Washington, D.C., en función de la hora del dı́a y otras variables descritas en la tabla 1. En principio, y como muestra la figura, la función es altamente no lineal y no determinista como función de la hora del dı́a. Su objetivo será entrenar un modelo para obtener un puntaje correspondiente al top-100 del \"leaderboard\" final, es decir superior o igual a $0.37748$. La función utilizada para evaluar este concurso Kaggle se proporciona en la siguiente ecuación:\n",
    "\n",
    "\\begin{equation}\n",
    "    E_{bikes}(\\textbf{y},\\hat{\\textbf{y}}) = \\frac1n \\sum_i (\\ln(y_i + 1) - \\ln(\\hat{y}_i + 1))^2,\n",
    "\\end{equation}\n",
    "\n",
    "donde $\\textbf{y},\\hat{\\textbf{y}} \\in \\mathbb{R}^n$ denotan los vectores de observaciones y predicciones respectivamente. Como el dataset de pruebas original no está disponible se fabricará uno, correspondiente al $20\\%$ de los datos de entrenamiento. Además, se pondrá a su disposición un subconjunto independiente de datos con propósitos de validación. Usted podrá descargar los archivos correspondientes al subconjunto de entrenamiento y pruebas a utilizar ejecutando los siguientes comandos:\n",
    "\n",
    "```wget http://octopus.inf.utfsm.cl/~ricky/bike_sharing_train.csv```\n",
    "\n",
    "```wget http://octopus.inf.utfsm.cl/~ricky/bike_sharing_val.csv```\n",
    "\n",
    "```wget http://octopus.inf.utfsm.cl/~ricky/bike_sharing_test.csv```\n",
    "\n",
    "<img src=\"img/2.png\">\n",
    "<center>Tabla 1: Atributos para el Problema 2 (*Bike Sharing*).</center>"
   ]
  },
  {
   "cell_type": "markdown",
   "metadata": {},
   "source": [
    "(a) Cargue los datos de entrenamiento y pruebas como dataframes de *pandas*. Describa las variables involucradas en el problema, explorando el tipo de datos de que se trata, el número de valores distintos y, si corresponde, un gráfico (e.g. un histograma) que resuma su comportamiento. Su primera operación de pre-procesamiento de datos será obtener la hora del dı́a desde el campo fecha (que en este momento es de tipo string), creando una nueva columna denominada *hour* y de tipo *int*. Para hacer esta operación se concatenarán los dataframes de entrenamiento y pruebas y luego se volverán a separar manteniendo la separación original."
   ]
  },
  {
   "cell_type": "code",
   "execution_count": 2,
   "metadata": {
    "collapsed": true,
    "scrolled": false
   },
   "outputs": [],
   "source": [
    "import pandas as pd\n",
    "import numpy as np\n",
    "\n",
    "# Cargar datos \n",
    "dftrain = pd.read_csv('data/bike_sharing_train.csv')\n",
    "dfval = pd.read_csv('data/bike_sharing_val.csv')\n",
    "dftest = pd.read_csv('data/bike_sharing_test.csv')\n",
    "ntrain = len(dftrain)\n",
    "nval = len(dftrain) + len(dfval)\n",
    "df = pd.concat([dftrain, dfval, dftest])\n",
    "\n",
    "df['hour'] = pd.to_datetime(df['datetime']).apply(lambda x: x.strftime('%H'))\n",
    "df['hour'] = pd.to_numeric(df['hour'])"
   ]
  },
  {
   "cell_type": "code",
   "execution_count": 3,
   "metadata": {},
   "outputs": [
    {
     "name": "stdout",
     "output_type": "stream",
     "text": [
      "\n",
      "Summary - dataframe completo:\n",
      "\n"
     ]
    },
    {
     "data": {
      "text/html": [
       "<div>\n",
       "<style>\n",
       "    .dataframe thead tr:only-child th {\n",
       "        text-align: right;\n",
       "    }\n",
       "\n",
       "    .dataframe thead th {\n",
       "        text-align: left;\n",
       "    }\n",
       "\n",
       "    .dataframe tbody tr th {\n",
       "        vertical-align: top;\n",
       "    }\n",
       "</style>\n",
       "<table border=\"1\" class=\"dataframe\">\n",
       "  <thead>\n",
       "    <tr style=\"text-align: right;\">\n",
       "      <th></th>\n",
       "      <th>season</th>\n",
       "      <th>holiday</th>\n",
       "      <th>workingday</th>\n",
       "      <th>weather</th>\n",
       "      <th>temp</th>\n",
       "      <th>atemp</th>\n",
       "      <th>humidity</th>\n",
       "      <th>windspeed</th>\n",
       "      <th>casual</th>\n",
       "      <th>registered</th>\n",
       "      <th>count</th>\n",
       "    </tr>\n",
       "  </thead>\n",
       "  <tbody>\n",
       "    <tr>\n",
       "      <th>count</th>\n",
       "      <td>10886.000000</td>\n",
       "      <td>10886.000000</td>\n",
       "      <td>10886.000000</td>\n",
       "      <td>10886.000000</td>\n",
       "      <td>10886.00000</td>\n",
       "      <td>10886.000000</td>\n",
       "      <td>10886.000000</td>\n",
       "      <td>10886.000000</td>\n",
       "      <td>10886.000000</td>\n",
       "      <td>10886.000000</td>\n",
       "      <td>10886.000000</td>\n",
       "    </tr>\n",
       "    <tr>\n",
       "      <th>mean</th>\n",
       "      <td>2.506614</td>\n",
       "      <td>0.028569</td>\n",
       "      <td>0.680875</td>\n",
       "      <td>1.418427</td>\n",
       "      <td>20.23086</td>\n",
       "      <td>23.655084</td>\n",
       "      <td>61.886460</td>\n",
       "      <td>12.799395</td>\n",
       "      <td>36.021955</td>\n",
       "      <td>155.552177</td>\n",
       "      <td>191.574132</td>\n",
       "    </tr>\n",
       "    <tr>\n",
       "      <th>std</th>\n",
       "      <td>1.116174</td>\n",
       "      <td>0.166599</td>\n",
       "      <td>0.466159</td>\n",
       "      <td>0.633839</td>\n",
       "      <td>7.79159</td>\n",
       "      <td>8.474601</td>\n",
       "      <td>19.245033</td>\n",
       "      <td>8.164537</td>\n",
       "      <td>49.960477</td>\n",
       "      <td>151.039033</td>\n",
       "      <td>181.144454</td>\n",
       "    </tr>\n",
       "    <tr>\n",
       "      <th>min</th>\n",
       "      <td>1.000000</td>\n",
       "      <td>0.000000</td>\n",
       "      <td>0.000000</td>\n",
       "      <td>1.000000</td>\n",
       "      <td>0.82000</td>\n",
       "      <td>0.760000</td>\n",
       "      <td>0.000000</td>\n",
       "      <td>0.000000</td>\n",
       "      <td>0.000000</td>\n",
       "      <td>0.000000</td>\n",
       "      <td>1.000000</td>\n",
       "    </tr>\n",
       "    <tr>\n",
       "      <th>25%</th>\n",
       "      <td>2.000000</td>\n",
       "      <td>0.000000</td>\n",
       "      <td>0.000000</td>\n",
       "      <td>1.000000</td>\n",
       "      <td>13.94000</td>\n",
       "      <td>16.665000</td>\n",
       "      <td>47.000000</td>\n",
       "      <td>7.001500</td>\n",
       "      <td>4.000000</td>\n",
       "      <td>36.000000</td>\n",
       "      <td>42.000000</td>\n",
       "    </tr>\n",
       "    <tr>\n",
       "      <th>50%</th>\n",
       "      <td>3.000000</td>\n",
       "      <td>0.000000</td>\n",
       "      <td>1.000000</td>\n",
       "      <td>1.000000</td>\n",
       "      <td>20.50000</td>\n",
       "      <td>24.240000</td>\n",
       "      <td>62.000000</td>\n",
       "      <td>12.998000</td>\n",
       "      <td>17.000000</td>\n",
       "      <td>118.000000</td>\n",
       "      <td>145.000000</td>\n",
       "    </tr>\n",
       "    <tr>\n",
       "      <th>75%</th>\n",
       "      <td>4.000000</td>\n",
       "      <td>0.000000</td>\n",
       "      <td>1.000000</td>\n",
       "      <td>2.000000</td>\n",
       "      <td>26.24000</td>\n",
       "      <td>31.060000</td>\n",
       "      <td>77.000000</td>\n",
       "      <td>16.997900</td>\n",
       "      <td>49.000000</td>\n",
       "      <td>222.000000</td>\n",
       "      <td>284.000000</td>\n",
       "    </tr>\n",
       "    <tr>\n",
       "      <th>max</th>\n",
       "      <td>4.000000</td>\n",
       "      <td>1.000000</td>\n",
       "      <td>1.000000</td>\n",
       "      <td>4.000000</td>\n",
       "      <td>41.00000</td>\n",
       "      <td>45.455000</td>\n",
       "      <td>100.000000</td>\n",
       "      <td>56.996900</td>\n",
       "      <td>367.000000</td>\n",
       "      <td>886.000000</td>\n",
       "      <td>977.000000</td>\n",
       "    </tr>\n",
       "  </tbody>\n",
       "</table>\n",
       "</div>"
      ],
      "text/plain": [
       "             season       holiday    workingday       weather         temp  \\\n",
       "count  10886.000000  10886.000000  10886.000000  10886.000000  10886.00000   \n",
       "mean       2.506614      0.028569      0.680875      1.418427     20.23086   \n",
       "std        1.116174      0.166599      0.466159      0.633839      7.79159   \n",
       "min        1.000000      0.000000      0.000000      1.000000      0.82000   \n",
       "25%        2.000000      0.000000      0.000000      1.000000     13.94000   \n",
       "50%        3.000000      0.000000      1.000000      1.000000     20.50000   \n",
       "75%        4.000000      0.000000      1.000000      2.000000     26.24000   \n",
       "max        4.000000      1.000000      1.000000      4.000000     41.00000   \n",
       "\n",
       "              atemp      humidity     windspeed        casual    registered  \\\n",
       "count  10886.000000  10886.000000  10886.000000  10886.000000  10886.000000   \n",
       "mean      23.655084     61.886460     12.799395     36.021955    155.552177   \n",
       "std        8.474601     19.245033      8.164537     49.960477    151.039033   \n",
       "min        0.760000      0.000000      0.000000      0.000000      0.000000   \n",
       "25%       16.665000     47.000000      7.001500      4.000000     36.000000   \n",
       "50%       24.240000     62.000000     12.998000     17.000000    118.000000   \n",
       "75%       31.060000     77.000000     16.997900     49.000000    222.000000   \n",
       "max       45.455000    100.000000     56.996900    367.000000    886.000000   \n",
       "\n",
       "              count  \n",
       "count  10886.000000  \n",
       "mean     191.574132  \n",
       "std      181.144454  \n",
       "min        1.000000  \n",
       "25%       42.000000  \n",
       "50%      145.000000  \n",
       "75%      284.000000  \n",
       "max      977.000000  "
      ]
     },
     "execution_count": 3,
     "metadata": {},
     "output_type": "execute_result"
    }
   ],
   "source": [
    "print '\\nSummary - dataframe completo:\\n'\n",
    "df.iloc[:,1:-1].describe()"
   ]
  },
  {
   "cell_type": "code",
   "execution_count": 5,
   "metadata": {},
   "outputs": [
    {
     "data": {
      "image/png": "[encoded data removed]",
      "text/plain": [
       "<matplotlib.figure.Figure at 0x7fdead9444d0>"
      ]
     },
     "metadata": {},
     "output_type": "display_data"
    },
    {
     "data": {
      "image/png": "[encoded data removed]",
      "text/plain": [
       "<matplotlib.figure.Figure at 0x7fdea89ab790>"
      ]
     },
     "metadata": {},
     "output_type": "display_data"
    }
   ],
   "source": [
    "import matplotlib.pyplot as plt\n",
    "\n",
    "df.iloc[:,1:-1].hist(figsize=(16, 10))\n",
    "plt.show()"
   ]
  },
  {
   "cell_type": "markdown",
   "metadata": {},
   "source": [
    "(b) Entrene un árbol de regresión para resolver el problema usando parámetros por defecto. Con este\n",
    "fin, construya una matriz $\\textbf{X}_{train}$ de forma $n_{train} \\times d_1$ que contenga los datos de entrenamiento en sus filas, seleccionando las columnas que desee/pueda utilizar para el entrenamiento. Implemente además, la función de evaluación que hemos definido anteriormente para este problema. Evalúe el árbol de regresión ajustado a los datos de entrenamiento sobre el conjunto de entrenamiento y pruebas. Construya un gráfico que compare las predicciones con los valores reales. En este punto usted debiese tener un modelo con puntaje del orden de $0.59$, lo que lo dejará más o menos en la posición $2140$ de la competencia."
   ]
  },
  {
   "cell_type": "code",
   "execution_count": 6,
   "metadata": {
    "collapsed": true
   },
   "outputs": [],
   "source": [
    "from sklearn.tree import DecisionTreeRegressor as Tree\n",
    "import matplotlib.pyplot as plt\n",
    "\n",
    "def eval_bikemodel(y_predict,y_true):\n",
    "    diff = np.log(y_predict+1.0) - np.log(y_true+1.0)\n",
    "    return np.sqrt(np.sum(np.square(diff))/len(y_predict))"
   ]
  },
  {
   "cell_type": "code",
   "execution_count": 7,
   "metadata": {
    "scrolled": false
   },
   "outputs": [
    {
     "name": "stderr",
     "output_type": "stream",
     "text": [
      "/home/dsanmartin/anaconda3/envs/py27/lib/python2.7/site-packages/ipykernel_launcher.py:2: DeprecationWarning: \n",
      ".ix is deprecated. Please use\n",
      ".loc for label based indexing or\n",
      ".iloc for positional indexing\n",
      "\n",
      "See the documentation here:\n",
      "http://pandas.pydata.org/pandas-docs/stable/indexing.html#ix-indexer-is-deprecated\n",
      "  \n"
     ]
    },
    {
     "name": "stdout",
     "output_type": "stream",
     "text": [
      "SCORE TEST=0.703388\n",
      "KAGG EVAL TRAIN =0.028516\n",
      "KAGG EVAL VALIDATION =0.554511\n",
      "KAGG EVAL TEST =0.574239\n",
      "Max Depth: 28\n"
     ]
    },
    {
     "data": {
      "image/png": "[encoded data removed]",
      "text/plain": [
       "<matplotlib.figure.Figure at 0x7fdea7b90e10>"
      ]
     },
     "metadata": {},
     "output_type": "display_data"
    }
   ],
   "source": [
    "# Select columns \n",
    "Xdf = df.ix[:,['season','holiday','workingday','weather','temp','atemp','humidity','windspeed','hour']]\n",
    "Ydf = df.ix[:,'count']\n",
    "\n",
    "# Split dataset \n",
    "X_train = Xdf[0:ntrain].values\n",
    "X_val = Xdf[ntrain:nval].values\n",
    "X_test = Xdf[nval:].values\n",
    "Y_train = Ydf[0:ntrain].values\n",
    "Y_val = Ydf[ntrain:nval].values\n",
    "Y_test = Ydf[nval:].values\n",
    "\n",
    "# Model training\n",
    "model = Tree(random_state=0)\n",
    "model.fit(X_train, Y_train)\n",
    "score_test = model.score(X_test,Y_test)\n",
    "print \"SCORE TEST=%f\"%score_test\n",
    "\n",
    "# Predict model - score \n",
    "Y_pred_train = model.predict(X_train)\n",
    "Y_pred_val = model.predict(X_val)\n",
    "Y_pred_test = model.predict(X_test)\n",
    "kagg_train = eval_bikemodel(Y_pred_train, Y_train)\n",
    "kagg_val = eval_bikemodel(Y_pred_val, Y_val)\n",
    "kagg_test = eval_bikemodel(Y_pred_test, Y_test)\n",
    "print \"KAGG EVAL TRAIN =%f\"%kagg_train\n",
    "print \"KAGG EVAL VALIDATION =%f\"%kagg_val\n",
    "print \"KAGG EVAL TEST =%f\"%kagg_test\n",
    "print \"Max Depth: \"+ str(model.tree_.max_depth)\n",
    "\n",
    "# Plot\n",
    "plt.plot(Y_test,Y_pred_test,'.')\n",
    "plt.show()"
   ]
  },
  {
   "cell_type": "markdown",
   "metadata": {},
   "source": [
    "(c) Mejore el árbol de regresión definido en el punto anterior haciendo modificaciones a los hiper-parámetros del modelo. Por ejemplo, como estos modelos tienden a sobre-ajustar, podrı́a intentar limitar la profundidad del árbol (¿Por qué esto debiese ayudar?). Naturalmente, está absolutamente prohibido tomar este tipo de decisiones en función del resultado de pruebas. Debe realizar estas elecciones evaluando sobre el conjunto de validación. Si no desea utilizarlo, y prefiere implementar validación cruzada u otra técnica automática, tiene la ventaja de poder usar el conjunto de validación como parte del entrenamiento. Con estas modificaciones debiese poder mejorar su ranking en unas $300$ posiciones.\n",
    "\n",
    "Al \"podar\" el árbol, estamos evitando darle mayor poder de aprendizaje al árbol lo que permite que este no sobreajuste."
   ]
  },
  {
   "cell_type": "code",
   "execution_count": 8,
   "metadata": {
    "scrolled": false
   },
   "outputs": [
    {
     "name": "stdout",
     "output_type": "stream",
     "text": [
      "KAGG EVAL VAL =0.979204\n",
      "Max Depth: 1\n",
      "\n",
      "KAGG EVAL VAL =0.896665\n",
      "Max Depth: 2\n",
      "\n",
      "KAGG EVAL VAL =0.801210\n",
      "Max Depth: 3\n",
      "\n",
      "KAGG EVAL VAL =0.728483\n",
      "Max Depth: 4\n",
      "\n",
      "KAGG EVAL VAL =0.631234\n",
      "Max Depth: 5\n",
      "\n",
      "KAGG EVAL VAL =0.572753\n",
      "Max Depth: 6\n",
      "\n",
      "KAGG EVAL VAL =0.550529\n",
      "Max Depth: 7\n",
      "\n",
      "KAGG EVAL VAL =0.486956\n",
      "Max Depth: 8\n",
      "\n",
      "KAGG EVAL VAL =0.480482\n",
      "Max Depth: 9\n",
      "\n",
      "KAGG EVAL VAL =0.476274\n",
      "Max Depth: 10\n",
      "\n",
      "KAGG EVAL VAL =0.480193\n",
      "Max Depth: 11\n",
      "\n",
      "KAGG EVAL VAL =0.489915\n",
      "Max Depth: 12\n",
      "\n",
      "KAGG EVAL VAL =0.503234\n",
      "Max Depth: 13\n",
      "\n",
      "KAGG EVAL VAL =0.513617\n",
      "Max Depth: 14\n",
      "\n",
      "KAGG EVAL VAL =0.530887\n",
      "Max Depth: 15\n",
      "\n",
      "KAGG EVAL VAL =0.535001\n",
      "Max Depth: 16\n",
      "\n",
      "KAGG EVAL VAL =0.541478\n",
      "Max Depth: 17\n",
      "\n",
      "KAGG EVAL VAL =0.550662\n",
      "Max Depth: 18\n",
      "\n",
      "KAGG EVAL VAL =0.552593\n",
      "Max Depth: 19\n",
      "\n",
      "KAGG EVAL VAL =0.546219\n",
      "Max Depth: 20\n",
      "\n",
      "KAGG EVAL VAL =0.551071\n",
      "Max Depth: 21\n",
      "\n",
      "KAGG EVAL VAL =0.553346\n",
      "Max Depth: 22\n",
      "\n",
      "KAGG EVAL VAL =0.556618\n",
      "Max Depth: 23\n",
      "\n",
      "KAGG EVAL VAL =0.548437\n",
      "Max Depth: 24\n",
      "\n",
      "KAGG EVAL VAL =0.553190\n",
      "Max Depth: 25\n",
      "\n",
      "KAGG EVAL VAL =0.551141\n",
      "Max Depth: 26\n",
      "\n",
      "KAGG EVAL VAL =0.551834\n",
      "Max Depth: 27\n",
      "\n",
      "KAGG EVAL VAL =0.554511\n",
      "Max Depth: 28\n",
      "\n",
      "\n",
      "BEST TREE MODEL:\n",
      "KAGG EVAL VAL =0.476274\n",
      "Max Depth: 10\n"
     ]
    }
   ],
   "source": [
    "best_depth = 0\n",
    "kagg_validated = 1\n",
    "\n",
    "for d in range(1,29):\n",
    "    model = Tree(random_state=0, max_depth=d)\n",
    "    model.fit(X_train, Y_train)\n",
    "    Y_pred_val = model.predict(X_val)\n",
    "    kagg_val = eval_bikemodel(Y_pred_val, Y_val)\n",
    "    print \"KAGG EVAL VAL =%f\"%kagg_val\n",
    "    print \"Max Depth: \"+ str(model.tree_.max_depth)\n",
    "    print ''\n",
    "    if kagg_val < kagg_validated:\n",
    "        best_depth = d\n",
    "        kagg_validated = kagg_val\n",
    "print ''\n",
    "print 'BEST TREE MODEL:'\n",
    "print \"KAGG EVAL VAL =%f\"%kagg_validated\n",
    "print \"Max Depth: \"+ str(best_depth)"
   ]
  },
  {
   "cell_type": "markdown",
   "metadata": {},
   "source": [
    "(d) Mejore el árbol de regresión definido en el punto anterior haciendo modificaciones sobre la representación utilizada para aprender desde los datos. Por ejemplo, los histogramas que construyó en el punto (a) ası́ como la forma especial de la función de evaluación, sugieren una cierta transformación de la variable respuesta. Podrı́a intentar también normalizando los datos o normalizando la respuesta. Otra opción es intentar rescatar algo más acerca de la fecha (anteriormente sólo se extrajo la hora), como por ejemplo el año o el dı́a de la semana (’lunes’,’martes’, etc) que corresponde. Sea creativo, este paso le debiese reportar un salto de calidad muy significativo. Una observación importante es que si hace una transformación a la variable respuesta (por ejemplo raı́z cuadrada), debe invertir esta transformación antes de evaluar el desempeño con ``eval_bikemodel`` (por ejemplo, elevar al cuadrado si tomó raı́z cuadrada). Con modificaciones de este tipo, podrı́a mejorar su ranking en unas $1000$ posiciones, entrando ya al top-$1000$ con un score del orden de $0.45$."
   ]
  },
  {
   "cell_type": "markdown",
   "metadata": {},
   "source": [
    "Primero se agrega la información del día y del año."
   ]
  },
  {
   "cell_type": "code",
   "execution_count": 9,
   "metadata": {
    "scrolled": false
   },
   "outputs": [
    {
     "data": {
      "text/html": [
       "<div>\n",
       "<style>\n",
       "    .dataframe thead tr:only-child th {\n",
       "        text-align: right;\n",
       "    }\n",
       "\n",
       "    .dataframe thead th {\n",
       "        text-align: left;\n",
       "    }\n",
       "\n",
       "    .dataframe tbody tr th {\n",
       "        vertical-align: top;\n",
       "    }\n",
       "</style>\n",
       "<table border=\"1\" class=\"dataframe\">\n",
       "  <thead>\n",
       "    <tr style=\"text-align: right;\">\n",
       "      <th></th>\n",
       "      <th>season</th>\n",
       "      <th>holiday</th>\n",
       "      <th>workingday</th>\n",
       "      <th>weather</th>\n",
       "      <th>temp</th>\n",
       "      <th>atemp</th>\n",
       "      <th>humidity</th>\n",
       "      <th>windspeed</th>\n",
       "      <th>hour</th>\n",
       "      <th>cday</th>\n",
       "      <th>year</th>\n",
       "    </tr>\n",
       "  </thead>\n",
       "  <tbody>\n",
       "    <tr>\n",
       "      <th>count</th>\n",
       "      <td>10886.000000</td>\n",
       "      <td>10886.000000</td>\n",
       "      <td>10886.000000</td>\n",
       "      <td>10886.000000</td>\n",
       "      <td>10886.00000</td>\n",
       "      <td>10886.000000</td>\n",
       "      <td>10886.000000</td>\n",
       "      <td>10886.000000</td>\n",
       "      <td>10886.000000</td>\n",
       "      <td>10886.000000</td>\n",
       "      <td>10886.000000</td>\n",
       "    </tr>\n",
       "    <tr>\n",
       "      <th>mean</th>\n",
       "      <td>2.506614</td>\n",
       "      <td>0.028569</td>\n",
       "      <td>0.680875</td>\n",
       "      <td>1.418427</td>\n",
       "      <td>20.23086</td>\n",
       "      <td>23.655084</td>\n",
       "      <td>61.886460</td>\n",
       "      <td>12.799395</td>\n",
       "      <td>11.541613</td>\n",
       "      <td>3.013963</td>\n",
       "      <td>2011.501929</td>\n",
       "    </tr>\n",
       "    <tr>\n",
       "      <th>std</th>\n",
       "      <td>1.116174</td>\n",
       "      <td>0.166599</td>\n",
       "      <td>0.466159</td>\n",
       "      <td>0.633839</td>\n",
       "      <td>7.79159</td>\n",
       "      <td>8.474601</td>\n",
       "      <td>19.245033</td>\n",
       "      <td>8.164537</td>\n",
       "      <td>6.915838</td>\n",
       "      <td>2.004585</td>\n",
       "      <td>0.500019</td>\n",
       "    </tr>\n",
       "    <tr>\n",
       "      <th>min</th>\n",
       "      <td>1.000000</td>\n",
       "      <td>0.000000</td>\n",
       "      <td>0.000000</td>\n",
       "      <td>1.000000</td>\n",
       "      <td>0.82000</td>\n",
       "      <td>0.760000</td>\n",
       "      <td>0.000000</td>\n",
       "      <td>0.000000</td>\n",
       "      <td>0.000000</td>\n",
       "      <td>0.000000</td>\n",
       "      <td>2011.000000</td>\n",
       "    </tr>\n",
       "    <tr>\n",
       "      <th>25%</th>\n",
       "      <td>2.000000</td>\n",
       "      <td>0.000000</td>\n",
       "      <td>0.000000</td>\n",
       "      <td>1.000000</td>\n",
       "      <td>13.94000</td>\n",
       "      <td>16.665000</td>\n",
       "      <td>47.000000</td>\n",
       "      <td>7.001500</td>\n",
       "      <td>6.000000</td>\n",
       "      <td>1.000000</td>\n",
       "      <td>2011.000000</td>\n",
       "    </tr>\n",
       "    <tr>\n",
       "      <th>50%</th>\n",
       "      <td>3.000000</td>\n",
       "      <td>0.000000</td>\n",
       "      <td>1.000000</td>\n",
       "      <td>1.000000</td>\n",
       "      <td>20.50000</td>\n",
       "      <td>24.240000</td>\n",
       "      <td>62.000000</td>\n",
       "      <td>12.998000</td>\n",
       "      <td>12.000000</td>\n",
       "      <td>3.000000</td>\n",
       "      <td>2012.000000</td>\n",
       "    </tr>\n",
       "    <tr>\n",
       "      <th>75%</th>\n",
       "      <td>4.000000</td>\n",
       "      <td>0.000000</td>\n",
       "      <td>1.000000</td>\n",
       "      <td>2.000000</td>\n",
       "      <td>26.24000</td>\n",
       "      <td>31.060000</td>\n",
       "      <td>77.000000</td>\n",
       "      <td>16.997900</td>\n",
       "      <td>18.000000</td>\n",
       "      <td>5.000000</td>\n",
       "      <td>2012.000000</td>\n",
       "    </tr>\n",
       "    <tr>\n",
       "      <th>max</th>\n",
       "      <td>4.000000</td>\n",
       "      <td>1.000000</td>\n",
       "      <td>1.000000</td>\n",
       "      <td>4.000000</td>\n",
       "      <td>41.00000</td>\n",
       "      <td>45.455000</td>\n",
       "      <td>100.000000</td>\n",
       "      <td>56.996900</td>\n",
       "      <td>23.000000</td>\n",
       "      <td>6.000000</td>\n",
       "      <td>2012.000000</td>\n",
       "    </tr>\n",
       "  </tbody>\n",
       "</table>\n",
       "</div>"
      ],
      "text/plain": [
       "             season       holiday    workingday       weather         temp  \\\n",
       "count  10886.000000  10886.000000  10886.000000  10886.000000  10886.00000   \n",
       "mean       2.506614      0.028569      0.680875      1.418427     20.23086   \n",
       "std        1.116174      0.166599      0.466159      0.633839      7.79159   \n",
       "min        1.000000      0.000000      0.000000      1.000000      0.82000   \n",
       "25%        2.000000      0.000000      0.000000      1.000000     13.94000   \n",
       "50%        3.000000      0.000000      1.000000      1.000000     20.50000   \n",
       "75%        4.000000      0.000000      1.000000      2.000000     26.24000   \n",
       "max        4.000000      1.000000      1.000000      4.000000     41.00000   \n",
       "\n",
       "              atemp      humidity     windspeed          hour          cday  \\\n",
       "count  10886.000000  10886.000000  10886.000000  10886.000000  10886.000000   \n",
       "mean      23.655084     61.886460     12.799395     11.541613      3.013963   \n",
       "std        8.474601     19.245033      8.164537      6.915838      2.004585   \n",
       "min        0.760000      0.000000      0.000000      0.000000      0.000000   \n",
       "25%       16.665000     47.000000      7.001500      6.000000      1.000000   \n",
       "50%       24.240000     62.000000     12.998000     12.000000      3.000000   \n",
       "75%       31.060000     77.000000     16.997900     18.000000      5.000000   \n",
       "max       45.455000    100.000000     56.996900     23.000000      6.000000   \n",
       "\n",
       "               year  \n",
       "count  10886.000000  \n",
       "mean    2011.501929  \n",
       "std        0.500019  \n",
       "min     2011.000000  \n",
       "25%     2011.000000  \n",
       "50%     2012.000000  \n",
       "75%     2012.000000  \n",
       "max     2012.000000  "
      ]
     },
     "execution_count": 9,
     "metadata": {},
     "output_type": "execute_result"
    }
   ],
   "source": [
    "df['cday'] = pd.to_datetime(df['datetime']).dt.dayofweek#0:lunes,6:domingo\n",
    "#df['cday'] = pd.to_numeric(df['cday'])\n",
    "df['year'] = pd.to_datetime(df['datetime']).dt.year\n",
    "#df['year'] = pd.to_numeric(df['year'])\n",
    "\n",
    "Xdf = df.ix[:,['season','holiday','workingday','weather','temp','atemp','humidity','windspeed','hour','cday', 'year']]\n",
    "\n",
    "#print '\\nSummary - dataframe completo:\\n'\n",
    "Xdf.describe()"
   ]
  },
  {
   "cell_type": "code",
   "execution_count": 10,
   "metadata": {
    "collapsed": true,
    "scrolled": true
   },
   "outputs": [],
   "source": [
    "# Split data\n",
    "X_train = Xdf[0:ntrain].values\n",
    "X_val = Xdf[ntrain:nval].values\n",
    "X_test = Xdf[nval:].values\n",
    "Y_train = Ydf[0:ntrain].values\n",
    "Y_val = Ydf[ntrain:nval].values\n",
    "Y_test = Ydf[nval:].values"
   ]
  },
  {
   "cell_type": "markdown",
   "metadata": {},
   "source": [
    "Probamos con la misma estrategia anterior."
   ]
  },
  {
   "cell_type": "code",
   "execution_count": 11,
   "metadata": {},
   "outputs": [
    {
     "name": "stdout",
     "output_type": "stream",
     "text": [
      "KAGG EVAL VAL =0.979204\n",
      "Max Depth: 1\n",
      "\n",
      "KAGG EVAL VAL =0.903080\n",
      "Max Depth: 2\n",
      "\n",
      "KAGG EVAL VAL =0.794052\n",
      "Max Depth: 3\n",
      "\n",
      "KAGG EVAL VAL =0.711080\n",
      "Max Depth: 4\n",
      "\n",
      "KAGG EVAL VAL =0.602915\n",
      "Max Depth: 5\n",
      "\n",
      "KAGG EVAL VAL =0.553608\n",
      "Max Depth: 6\n",
      "\n",
      "KAGG EVAL VAL =0.501804\n",
      "Max Depth: 7\n",
      "\n",
      "KAGG EVAL VAL =0.464298\n",
      "Max Depth: 8\n",
      "\n",
      "KAGG EVAL VAL =0.410504\n",
      "Max Depth: 9\n",
      "\n",
      "KAGG EVAL VAL =0.405092\n",
      "Max Depth: 10\n",
      "\n",
      "KAGG EVAL VAL =0.394671\n",
      "Max Depth: 11\n",
      "\n",
      "KAGG EVAL VAL =0.400415\n",
      "Max Depth: 12\n",
      "\n",
      "KAGG EVAL VAL =0.406072\n",
      "Max Depth: 13\n",
      "\n",
      "KAGG EVAL VAL =0.411179\n",
      "Max Depth: 14\n",
      "\n",
      "KAGG EVAL VAL =0.414860\n",
      "Max Depth: 15\n",
      "\n",
      "KAGG EVAL VAL =0.416660\n",
      "Max Depth: 16\n",
      "\n",
      "KAGG EVAL VAL =0.423026\n",
      "Max Depth: 17\n",
      "\n",
      "KAGG EVAL VAL =0.425225\n",
      "Max Depth: 18\n",
      "\n",
      "KAGG EVAL VAL =0.427340\n",
      "Max Depth: 19\n",
      "\n",
      "KAGG EVAL VAL =0.424861\n",
      "Max Depth: 20\n",
      "\n",
      "KAGG EVAL VAL =0.426174\n",
      "Max Depth: 21\n",
      "\n",
      "KAGG EVAL VAL =0.423736\n",
      "Max Depth: 22\n",
      "\n",
      "KAGG EVAL VAL =0.423946\n",
      "Max Depth: 23\n",
      "\n",
      "KAGG EVAL VAL =0.426938\n",
      "Max Depth: 24\n",
      "\n",
      "KAGG EVAL VAL =0.423991\n",
      "Max Depth: 25\n",
      "\n",
      "KAGG EVAL VAL =0.425673\n",
      "Max Depth: 26\n",
      "\n",
      "KAGG EVAL VAL =0.428431\n",
      "Max Depth: 27\n",
      "\n",
      "KAGG EVAL VAL =0.425902\n",
      "Max Depth: 28\n",
      "\n",
      "\n",
      "BEST TREE MODEL:\n",
      "KAGG EVAL VAL =0.394671\n",
      "Max Depth: 11\n",
      "\n",
      "OUR TEST EVAL =0.467429\n"
     ]
    }
   ],
   "source": [
    "best_depth = 0\n",
    "kagg_validated = 1\n",
    "\n",
    "for d in range(1,29):\n",
    "    model = Tree(random_state=0, max_depth=d)\n",
    "    model.fit(X_train, Y_train)\n",
    "    Y_pred_val = model.predict(X_val)\n",
    "    kagg_val = eval_bikemodel(Y_pred_val, Y_val)\n",
    "    print \"KAGG EVAL VAL =%f\"%kagg_val\n",
    "    print \"Max Depth: \"+ str(model.tree_.max_depth)\n",
    "    print ''\n",
    "    if kagg_val < kagg_validated:\n",
    "        best_depth = d\n",
    "        kagg_validated = kagg_val\n",
    "print ''\n",
    "print 'BEST TREE MODEL:'\n",
    "print \"KAGG EVAL VAL =%f\"%kagg_validated\n",
    "print \"Max Depth: \"+ str(best_depth)\n",
    "\n",
    "# Testing score\n",
    "Y_pred_test = model.predict(X_test)\n",
    "our_val = eval_bikemodel(Y_pred_test, Y_test)\n",
    "print \"\"\n",
    "print \"OUR TEST EVAL =%f\"%our_val"
   ]
  },
  {
   "cell_type": "code",
   "execution_count": 12,
   "metadata": {},
   "outputs": [
    {
     "name": "stdout",
     "output_type": "stream",
     "text": [
      "KAGG EVAL VAL =0.979204\n",
      "Max Depth: 1\n",
      "\n",
      "KAGG EVAL VAL =0.903080\n",
      "Max Depth: 2\n",
      "\n",
      "KAGG EVAL VAL =0.794052\n",
      "Max Depth: 3\n",
      "\n",
      "KAGG EVAL VAL =0.711080\n",
      "Max Depth: 4\n",
      "\n",
      "KAGG EVAL VAL =0.602915\n",
      "Max Depth: 5\n",
      "\n",
      "KAGG EVAL VAL =0.553608\n",
      "Max Depth: 6\n",
      "\n",
      "KAGG EVAL VAL =0.501804\n",
      "Max Depth: 7\n",
      "\n",
      "KAGG EVAL VAL =0.464298\n",
      "Max Depth: 8\n",
      "\n",
      "KAGG EVAL VAL =0.410504\n",
      "Max Depth: 9\n",
      "\n",
      "KAGG EVAL VAL =0.405092\n",
      "Max Depth: 10\n",
      "\n",
      "KAGG EVAL VAL =0.394676\n",
      "Max Depth: 11\n",
      "\n",
      "KAGG EVAL VAL =0.400414\n",
      "Max Depth: 12\n",
      "\n",
      "KAGG EVAL VAL =0.406305\n",
      "Max Depth: 13\n",
      "\n",
      "KAGG EVAL VAL =0.411274\n",
      "Max Depth: 14\n",
      "\n",
      "KAGG EVAL VAL =0.414766\n",
      "Max Depth: 15\n",
      "\n",
      "KAGG EVAL VAL =0.416691\n",
      "Max Depth: 16\n",
      "\n",
      "KAGG EVAL VAL =0.423096\n",
      "Max Depth: 17\n",
      "\n",
      "KAGG EVAL VAL =0.425317\n",
      "Max Depth: 18\n",
      "\n",
      "KAGG EVAL VAL =0.427372\n",
      "Max Depth: 19\n",
      "\n",
      "KAGG EVAL VAL =0.424909\n",
      "Max Depth: 20\n",
      "\n",
      "KAGG EVAL VAL =0.427007\n",
      "Max Depth: 21\n",
      "\n",
      "KAGG EVAL VAL =0.423723\n",
      "Max Depth: 22\n",
      "\n",
      "KAGG EVAL VAL =0.424403\n",
      "Max Depth: 23\n",
      "\n",
      "KAGG EVAL VAL =0.427056\n",
      "Max Depth: 24\n",
      "\n",
      "KAGG EVAL VAL =0.424123\n",
      "Max Depth: 25\n",
      "\n",
      "KAGG EVAL VAL =0.425782\n",
      "Max Depth: 26\n",
      "\n",
      "KAGG EVAL VAL =0.428316\n",
      "Max Depth: 27\n",
      "\n",
      "KAGG EVAL VAL =0.425879\n",
      "Max Depth: 28\n",
      "\n",
      "\n",
      "BEST TREE MODEL:\n",
      "KAGG EVAL VAL =0.394676\n",
      "Max Depth: 11\n"
     ]
    }
   ],
   "source": [
    "from sklearn.preprocessing import StandardScaler\n",
    "\n",
    "scaler_x = StandardScaler().fit(X_train)\n",
    "X_train_sc = scaler_x.transform(X_train)\n",
    "\n",
    "best_depth = 0\n",
    "kagg_validated = 1\n",
    "\n",
    "for d in range(1,29):\n",
    "    \n",
    "    model = Tree(random_state=0, max_depth=d)\n",
    "    model.fit(X_train_sc, Y_train)\n",
    "    Y_pred_val = model.predict(scaler_x.transform(X_val))\n",
    "    kagg_val = eval_bikemodel(Y_pred_val, Y_val)\n",
    "    print \"KAGG EVAL VAL =%f\"%kagg_val\n",
    "    print \"Max Depth: \"+ str(model.tree_.max_depth)\n",
    "    print ''\n",
    "    \n",
    "    if kagg_val < kagg_validated:\n",
    "        best_depth = d\n",
    "        kagg_validated = kagg_val\n",
    "print ''\n",
    "print 'BEST TREE MODEL:'\n",
    "print \"KAGG EVAL VAL =%f\"%kagg_validated\n",
    "print \"Max Depth: \"+ str(best_depth)\n",
    "\n",
    "# Testing score\n",
    "#Y_pred_test = model.predict(X_test)\n",
    "#our_val = eval_bikemodel(Y_pred_test, Y_test)\n",
    "#print \"\"\n",
    "#print \"OUR TEST EVAL =%f\"%our_val"
   ]
  },
  {
   "cell_type": "code",
   "execution_count": 13,
   "metadata": {},
   "outputs": [
    {
     "name": "stdout",
     "output_type": "stream",
     "text": [
      "KAGG EVAL VAL =0.394676\n",
      "Max Depth: 11\n",
      "\n"
     ]
    }
   ],
   "source": [
    "from sklearn.preprocessing import StandardScaler\n",
    "\n",
    "scaler_x = StandardScaler().fit(X_train)\n",
    "X_train_sc = scaler_x.transform(X_train)\n",
    "\n",
    "model = Tree(random_state=0, max_depth=11)\n",
    "model.fit(X_train_sc,Y_train)\n",
    "Y_pred_val = model.predict(scaler_x.transform(X_val))\n",
    "kagg_val = eval_bikemodel(Y_pred_val,Y_val)\n",
    "print \"KAGG EVAL VAL =%f\"%kagg_val\n",
    "print \"Max Depth: \"+ str(model.tree_.max_depth)\n",
    "print ''"
   ]
  },
  {
   "cell_type": "markdown",
   "metadata": {},
   "source": [
    "Probamos con una transformacion a los datos."
   ]
  },
  {
   "cell_type": "code",
   "execution_count": 14,
   "metadata": {},
   "outputs": [
    {
     "name": "stdout",
     "output_type": "stream",
     "text": [
      "KAGG EVAL VAL =0.979204\n",
      "Max Depth: 1\n",
      "\n",
      "KAGG EVAL VAL =0.903080\n",
      "Max Depth: 2\n",
      "\n",
      "KAGG EVAL VAL =0.794052\n",
      "Max Depth: 3\n",
      "\n",
      "KAGG EVAL VAL =0.711080\n",
      "Max Depth: 4\n",
      "\n",
      "KAGG EVAL VAL =0.602915\n",
      "Max Depth: 5\n",
      "\n",
      "KAGG EVAL VAL =0.553608\n",
      "Max Depth: 6\n",
      "\n",
      "KAGG EVAL VAL =0.501396\n",
      "Max Depth: 7\n",
      "\n",
      "KAGG EVAL VAL =0.462677\n",
      "Max Depth: 8\n",
      "\n",
      "KAGG EVAL VAL =0.409891\n",
      "Max Depth: 9\n",
      "\n",
      "KAGG EVAL VAL =0.403844\n",
      "Max Depth: 10\n",
      "\n",
      "KAGG EVAL VAL =0.393531\n",
      "Max Depth: 11\n",
      "\n",
      "KAGG EVAL VAL =0.397293\n",
      "Max Depth: 12\n",
      "\n",
      "KAGG EVAL VAL =0.404172\n",
      "Max Depth: 13\n",
      "\n",
      "KAGG EVAL VAL =0.410172\n",
      "Max Depth: 14\n",
      "\n",
      "KAGG EVAL VAL =0.414668\n",
      "Max Depth: 15\n",
      "\n",
      "KAGG EVAL VAL =0.416955\n",
      "Max Depth: 16\n",
      "\n",
      "KAGG EVAL VAL =0.419419\n",
      "Max Depth: 17\n",
      "\n",
      "KAGG EVAL VAL =0.423211\n",
      "Max Depth: 18\n",
      "\n",
      "KAGG EVAL VAL =0.424719\n",
      "Max Depth: 19\n",
      "\n",
      "KAGG EVAL VAL =0.423605\n",
      "Max Depth: 20\n",
      "\n",
      "KAGG EVAL VAL =0.423476\n",
      "Max Depth: 21\n",
      "\n",
      "KAGG EVAL VAL =0.418857\n",
      "Max Depth: 22\n",
      "\n",
      "KAGG EVAL VAL =0.420947\n",
      "Max Depth: 23\n",
      "\n",
      "KAGG EVAL VAL =0.423117\n",
      "Max Depth: 24\n",
      "\n",
      "KAGG EVAL VAL =0.420085\n",
      "Max Depth: 25\n",
      "\n",
      "KAGG EVAL VAL =0.422423\n",
      "Max Depth: 26\n",
      "\n",
      "KAGG EVAL VAL =0.424694\n",
      "Max Depth: 27\n",
      "\n",
      "KAGG EVAL VAL =0.422154\n",
      "Max Depth: 28\n",
      "\n",
      "\n",
      "BEST TREE MODEL:\n",
      "KAGG EVAL VAL =0.393531\n",
      "Max Depth: 11\n"
     ]
    }
   ],
   "source": [
    "X_train_ln = np.log(X_train+1)**2\n",
    "X_val_ln = np.log(X_val+1)**2\n",
    "best_depth = 0\n",
    "kagg_validated = 1\n",
    "\n",
    "for d in range(1,29):\n",
    "    \n",
    "    model = Tree(random_state=0, max_depth=d)\n",
    "    model.fit(X_train_ln, Y_train)\n",
    "    Y_pred_val = model.predict(X_val_ln)\n",
    "    kagg_val = eval_bikemodel(Y_pred_val, Y_val)\n",
    "    print \"KAGG EVAL VAL =%f\"%kagg_val\n",
    "    print \"Max Depth: \"+ str(model.tree_.max_depth)\n",
    "    print ''\n",
    "    \n",
    "    if kagg_val < kagg_validated:\n",
    "        best_depth = d\n",
    "        kagg_validated = kagg_val\n",
    "print ''\n",
    "print 'BEST TREE MODEL:'\n",
    "print \"KAGG EVAL VAL =%f\"%kagg_validated\n",
    "print \"Max Depth: \"+ str(best_depth)"
   ]
  },
  {
   "cell_type": "code",
   "execution_count": 15,
   "metadata": {},
   "outputs": [
    {
     "name": "stdout",
     "output_type": "stream",
     "text": [
      "KAGG EVAL VAL =0.393531\n",
      "Max Depth: 11\n",
      "\n"
     ]
    }
   ],
   "source": [
    "X_train_ln = np.log(X_train+1)**2\n",
    "X_val_ln = np.log(X_val+1)**2\n",
    "\n",
    "model = Tree(random_state=0, max_depth=11)\n",
    "model.fit(X_train_ln,Y_train)\n",
    "Y_pred_val = model.predict(X_val_ln)\n",
    "kagg_val = eval_bikemodel(Y_pred_val,Y_val)\n",
    "print \"KAGG EVAL VAL =%f\"%kagg_val\n",
    "print \"Max Depth: \"+ str(model.tree_.max_depth)\n",
    "print ''"
   ]
  },
  {
   "cell_type": "code",
   "execution_count": 16,
   "metadata": {},
   "outputs": [
    {
     "data": {
      "image/png": "[encoded data removed]",
      "text/plain": [
       "<matplotlib.figure.Figure at 0x7fdea8435810>"
      ]
     },
     "metadata": {},
     "output_type": "display_data"
    }
   ],
   "source": [
    "plt.plot(Y_train)\n",
    "plt.show()"
   ]
  },
  {
   "cell_type": "code",
   "execution_count": 17,
   "metadata": {},
   "outputs": [
    {
     "data": {
      "image/png": "[encoded data removed]",
      "text/plain": [
       "<matplotlib.figure.Figure at 0x7fdea8bf5710>"
      ]
     },
     "metadata": {},
     "output_type": "display_data"
    },
    {
     "data": {
      "image/png": "[encoded data removed]",
      "text/plain": [
       "<matplotlib.figure.Figure at 0x7fdea8855910>"
      ]
     },
     "metadata": {},
     "output_type": "display_data"
    }
   ],
   "source": [
    "plt.plot(np.log(Y_train))\n",
    "plt.show()\n",
    "plt.hist(np.log(Y_train))\n",
    "plt.show()"
   ]
  },
  {
   "cell_type": "code",
   "execution_count": 19,
   "metadata": {},
   "outputs": [
    {
     "name": "stdout",
     "output_type": "stream",
     "text": [
      "KAGG EVAL VAL =0.890014\n",
      "Max Depth: 1\n",
      "\n",
      "KAGG EVAL VAL =0.822379\n",
      "Max Depth: 2\n",
      "\n",
      "KAGG EVAL VAL =0.745329\n",
      "Max Depth: 3\n",
      "\n",
      "KAGG EVAL VAL =0.676591\n",
      "Max Depth: 4\n",
      "\n",
      "KAGG EVAL VAL =0.583411\n",
      "Max Depth: 5\n",
      "\n",
      "KAGG EVAL VAL =0.540156\n",
      "Max Depth: 6\n",
      "\n",
      "KAGG EVAL VAL =0.497986\n",
      "Max Depth: 7\n",
      "\n",
      "KAGG EVAL VAL =0.463442\n",
      "Max Depth: 8\n",
      "\n",
      "KAGG EVAL VAL =0.432688\n",
      "Max Depth: 9\n",
      "\n",
      "KAGG EVAL VAL =0.424700\n",
      "Max Depth: 10\n",
      "\n",
      "KAGG EVAL VAL =0.403120\n",
      "Max Depth: 11\n",
      "\n",
      "KAGG EVAL VAL =0.411375\n",
      "Max Depth: 12\n",
      "\n",
      "KAGG EVAL VAL =0.416494\n",
      "Max Depth: 13\n",
      "\n",
      "KAGG EVAL VAL =0.424566\n",
      "Max Depth: 14\n",
      "\n",
      "KAGG EVAL VAL =0.432848\n",
      "Max Depth: 15\n",
      "\n",
      "KAGG EVAL VAL =0.442618\n",
      "Max Depth: 16\n",
      "\n",
      "KAGG EVAL VAL =0.430201\n",
      "Max Depth: 17\n",
      "\n",
      "KAGG EVAL VAL =0.427964\n",
      "Max Depth: 18\n",
      "\n",
      "KAGG EVAL VAL =0.436953\n",
      "Max Depth: 19\n",
      "\n",
      "KAGG EVAL VAL =0.435308\n",
      "Max Depth: 20\n",
      "\n",
      "KAGG EVAL VAL =0.439510\n",
      "Max Depth: 21\n",
      "\n",
      "KAGG EVAL VAL =0.438254\n",
      "Max Depth: 22\n",
      "\n",
      "KAGG EVAL VAL =0.437304\n",
      "Max Depth: 23\n",
      "\n",
      "KAGG EVAL VAL =0.445170\n",
      "Max Depth: 24\n",
      "\n",
      "KAGG EVAL VAL =0.437644\n",
      "Max Depth: 25\n",
      "\n",
      "KAGG EVAL VAL =0.441904\n",
      "Max Depth: 26\n",
      "\n",
      "KAGG EVAL VAL =0.443092\n",
      "Max Depth: 27\n",
      "\n",
      "KAGG EVAL VAL =0.444226\n",
      "Max Depth: 28\n",
      "\n",
      "\n",
      "BEST TREE MODEL:\n",
      "KAGG EVAL VAL =0.403120\n",
      "Max Depth: 11\n"
     ]
    }
   ],
   "source": [
    "best_depth = 0\n",
    "kagg_validated = 1\n",
    "Y_train_log = np.log(Y_train)\n",
    "#Y_val_log = np.log(Y_val)\n",
    "\n",
    "for d in range(1,29):\n",
    "    \n",
    "    model = Tree(random_state=0, max_depth=d)\n",
    "    model.fit(X_train, Y_train_log)\n",
    "    Y_pred_val = model.predict(X_val)\n",
    "    kagg_val = eval_bikemodel(np.exp(Y_pred_val), Y_val)\n",
    "    print \"KAGG EVAL VAL =%f\"%kagg_val\n",
    "    print \"Max Depth: \"+ str(model.tree_.max_depth)\n",
    "    print ''\n",
    "    \n",
    "    if kagg_val < kagg_validated:\n",
    "        best_depth = d\n",
    "        kagg_validated = kagg_val\n",
    "print ''\n",
    "print 'BEST TREE MODEL:'\n",
    "print \"KAGG EVAL VAL =%f\"%kagg_validated\n",
    "print \"Max Depth: \"+ str(best_depth)"
   ]
  },
  {
   "cell_type": "markdown",
   "metadata": {},
   "source": [
    "(e) Entrene una SVM no lineal para resolver el problema midiendo el efecto de las distintas representaciones\n",
    "que haya descubierto hasta este punto. Un detalle importante es que antes de entrenar la SVM serı́a\n",
    "aconsejable hacer dos tipos de pre-procesamiento adicional de los datos: (i) codificar las variables\n",
    "categóricas en un modo apropiado - por ejemplo como vector binario con un 1 en la posición del\n",
    "valor adoptado-, (ii) escalar los atributos de modo que queden centrados y con rangos comparables.\n",
    "Usando parámetros por defecto para la SVM debiese obtener un score del orden de $0.344$, quedando\n",
    "definitivamente en el top-$10$ de la competencia."
   ]
  },
  {
   "cell_type": "code",
   "execution_count": 20,
   "metadata": {
    "scrolled": false
   },
   "outputs": [
    {
     "name": "stderr",
     "output_type": "stream",
     "text": [
      "/home/dsanmartin/anaconda3/envs/py27/lib/python2.7/site-packages/ipykernel_launcher.py:21: DeprecationWarning: \n",
      ".ix is deprecated. Please use\n",
      ".loc for label based indexing or\n",
      ".iloc for positional indexing\n",
      "\n",
      "See the documentation here:\n",
      "http://pandas.pydata.org/pandas-docs/stable/indexing.html#ix-indexer-is-deprecated\n"
     ]
    },
    {
     "data": {
      "text/html": [
       "<div>\n",
       "<style>\n",
       "    .dataframe thead tr:only-child th {\n",
       "        text-align: right;\n",
       "    }\n",
       "\n",
       "    .dataframe thead th {\n",
       "        text-align: left;\n",
       "    }\n",
       "\n",
       "    .dataframe tbody tr th {\n",
       "        vertical-align: top;\n",
       "    }\n",
       "</style>\n",
       "<table border=\"1\" class=\"dataframe\">\n",
       "  <thead>\n",
       "    <tr style=\"text-align: right;\">\n",
       "      <th></th>\n",
       "      <th>holiday</th>\n",
       "      <th>workingday</th>\n",
       "      <th>temp</th>\n",
       "      <th>atemp</th>\n",
       "      <th>humidity</th>\n",
       "      <th>windspeed</th>\n",
       "      <th>season_1</th>\n",
       "      <th>season_2</th>\n",
       "      <th>season_3</th>\n",
       "      <th>season_4</th>\n",
       "      <th>...</th>\n",
       "      <th>hour_21</th>\n",
       "      <th>hour_22</th>\n",
       "      <th>hour_23</th>\n",
       "      <th>cday_0</th>\n",
       "      <th>cday_1</th>\n",
       "      <th>cday_2</th>\n",
       "      <th>cday_3</th>\n",
       "      <th>cday_4</th>\n",
       "      <th>cday_5</th>\n",
       "      <th>cday_6</th>\n",
       "    </tr>\n",
       "  </thead>\n",
       "  <tbody>\n",
       "    <tr>\n",
       "      <th>count</th>\n",
       "      <td>10886.000000</td>\n",
       "      <td>10886.000000</td>\n",
       "      <td>10886.00000</td>\n",
       "      <td>10886.000000</td>\n",
       "      <td>10886.000000</td>\n",
       "      <td>10886.000000</td>\n",
       "      <td>10886.000000</td>\n",
       "      <td>10886.000000</td>\n",
       "      <td>10886.000000</td>\n",
       "      <td>10886.000000</td>\n",
       "      <td>...</td>\n",
       "      <td>10886.000000</td>\n",
       "      <td>10886.000000</td>\n",
       "      <td>10886.000000</td>\n",
       "      <td>10886.000000</td>\n",
       "      <td>10886.000000</td>\n",
       "      <td>10886.000000</td>\n",
       "      <td>10886.000000</td>\n",
       "      <td>10886.000000</td>\n",
       "      <td>10886.000000</td>\n",
       "      <td>10886.000000</td>\n",
       "    </tr>\n",
       "    <tr>\n",
       "      <th>mean</th>\n",
       "      <td>0.028569</td>\n",
       "      <td>0.680875</td>\n",
       "      <td>20.23086</td>\n",
       "      <td>23.655084</td>\n",
       "      <td>61.886460</td>\n",
       "      <td>12.799395</td>\n",
       "      <td>0.246739</td>\n",
       "      <td>0.251056</td>\n",
       "      <td>0.251056</td>\n",
       "      <td>0.251148</td>\n",
       "      <td>...</td>\n",
       "      <td>0.041889</td>\n",
       "      <td>0.041889</td>\n",
       "      <td>0.041889</td>\n",
       "      <td>0.142477</td>\n",
       "      <td>0.141374</td>\n",
       "      <td>0.142477</td>\n",
       "      <td>0.142660</td>\n",
       "      <td>0.140456</td>\n",
       "      <td>0.145508</td>\n",
       "      <td>0.145049</td>\n",
       "    </tr>\n",
       "    <tr>\n",
       "      <th>std</th>\n",
       "      <td>0.166599</td>\n",
       "      <td>0.466159</td>\n",
       "      <td>7.79159</td>\n",
       "      <td>8.474601</td>\n",
       "      <td>19.245033</td>\n",
       "      <td>8.164537</td>\n",
       "      <td>0.431133</td>\n",
       "      <td>0.433641</td>\n",
       "      <td>0.433641</td>\n",
       "      <td>0.433694</td>\n",
       "      <td>...</td>\n",
       "      <td>0.200344</td>\n",
       "      <td>0.200344</td>\n",
       "      <td>0.200344</td>\n",
       "      <td>0.349554</td>\n",
       "      <td>0.348423</td>\n",
       "      <td>0.349554</td>\n",
       "      <td>0.349742</td>\n",
       "      <td>0.347475</td>\n",
       "      <td>0.352628</td>\n",
       "      <td>0.352166</td>\n",
       "    </tr>\n",
       "    <tr>\n",
       "      <th>min</th>\n",
       "      <td>0.000000</td>\n",
       "      <td>0.000000</td>\n",
       "      <td>0.82000</td>\n",
       "      <td>0.760000</td>\n",
       "      <td>0.000000</td>\n",
       "      <td>0.000000</td>\n",
       "      <td>0.000000</td>\n",
       "      <td>0.000000</td>\n",
       "      <td>0.000000</td>\n",
       "      <td>0.000000</td>\n",
       "      <td>...</td>\n",
       "      <td>0.000000</td>\n",
       "      <td>0.000000</td>\n",
       "      <td>0.000000</td>\n",
       "      <td>0.000000</td>\n",
       "      <td>0.000000</td>\n",
       "      <td>0.000000</td>\n",
       "      <td>0.000000</td>\n",
       "      <td>0.000000</td>\n",
       "      <td>0.000000</td>\n",
       "      <td>0.000000</td>\n",
       "    </tr>\n",
       "    <tr>\n",
       "      <th>25%</th>\n",
       "      <td>0.000000</td>\n",
       "      <td>0.000000</td>\n",
       "      <td>13.94000</td>\n",
       "      <td>16.665000</td>\n",
       "      <td>47.000000</td>\n",
       "      <td>7.001500</td>\n",
       "      <td>0.000000</td>\n",
       "      <td>0.000000</td>\n",
       "      <td>0.000000</td>\n",
       "      <td>0.000000</td>\n",
       "      <td>...</td>\n",
       "      <td>0.000000</td>\n",
       "      <td>0.000000</td>\n",
       "      <td>0.000000</td>\n",
       "      <td>0.000000</td>\n",
       "      <td>0.000000</td>\n",
       "      <td>0.000000</td>\n",
       "      <td>0.000000</td>\n",
       "      <td>0.000000</td>\n",
       "      <td>0.000000</td>\n",
       "      <td>0.000000</td>\n",
       "    </tr>\n",
       "    <tr>\n",
       "      <th>50%</th>\n",
       "      <td>0.000000</td>\n",
       "      <td>1.000000</td>\n",
       "      <td>20.50000</td>\n",
       "      <td>24.240000</td>\n",
       "      <td>62.000000</td>\n",
       "      <td>12.998000</td>\n",
       "      <td>0.000000</td>\n",
       "      <td>0.000000</td>\n",
       "      <td>0.000000</td>\n",
       "      <td>0.000000</td>\n",
       "      <td>...</td>\n",
       "      <td>0.000000</td>\n",
       "      <td>0.000000</td>\n",
       "      <td>0.000000</td>\n",
       "      <td>0.000000</td>\n",
       "      <td>0.000000</td>\n",
       "      <td>0.000000</td>\n",
       "      <td>0.000000</td>\n",
       "      <td>0.000000</td>\n",
       "      <td>0.000000</td>\n",
       "      <td>0.000000</td>\n",
       "    </tr>\n",
       "    <tr>\n",
       "      <th>75%</th>\n",
       "      <td>0.000000</td>\n",
       "      <td>1.000000</td>\n",
       "      <td>26.24000</td>\n",
       "      <td>31.060000</td>\n",
       "      <td>77.000000</td>\n",
       "      <td>16.997900</td>\n",
       "      <td>0.000000</td>\n",
       "      <td>1.000000</td>\n",
       "      <td>1.000000</td>\n",
       "      <td>1.000000</td>\n",
       "      <td>...</td>\n",
       "      <td>0.000000</td>\n",
       "      <td>0.000000</td>\n",
       "      <td>0.000000</td>\n",
       "      <td>0.000000</td>\n",
       "      <td>0.000000</td>\n",
       "      <td>0.000000</td>\n",
       "      <td>0.000000</td>\n",
       "      <td>0.000000</td>\n",
       "      <td>0.000000</td>\n",
       "      <td>0.000000</td>\n",
       "    </tr>\n",
       "    <tr>\n",
       "      <th>max</th>\n",
       "      <td>1.000000</td>\n",
       "      <td>1.000000</td>\n",
       "      <td>41.00000</td>\n",
       "      <td>45.455000</td>\n",
       "      <td>100.000000</td>\n",
       "      <td>56.996900</td>\n",
       "      <td>1.000000</td>\n",
       "      <td>1.000000</td>\n",
       "      <td>1.000000</td>\n",
       "      <td>1.000000</td>\n",
       "      <td>...</td>\n",
       "      <td>1.000000</td>\n",
       "      <td>1.000000</td>\n",
       "      <td>1.000000</td>\n",
       "      <td>1.000000</td>\n",
       "      <td>1.000000</td>\n",
       "      <td>1.000000</td>\n",
       "      <td>1.000000</td>\n",
       "      <td>1.000000</td>\n",
       "      <td>1.000000</td>\n",
       "      <td>1.000000</td>\n",
       "    </tr>\n",
       "  </tbody>\n",
       "</table>\n",
       "<p>8 rows × 45 columns</p>\n",
       "</div>"
      ],
      "text/plain": [
       "            holiday    workingday         temp         atemp      humidity  \\\n",
       "count  10886.000000  10886.000000  10886.00000  10886.000000  10886.000000   \n",
       "mean       0.028569      0.680875     20.23086     23.655084     61.886460   \n",
       "std        0.166599      0.466159      7.79159      8.474601     19.245033   \n",
       "min        0.000000      0.000000      0.82000      0.760000      0.000000   \n",
       "25%        0.000000      0.000000     13.94000     16.665000     47.000000   \n",
       "50%        0.000000      1.000000     20.50000     24.240000     62.000000   \n",
       "75%        0.000000      1.000000     26.24000     31.060000     77.000000   \n",
       "max        1.000000      1.000000     41.00000     45.455000    100.000000   \n",
       "\n",
       "          windspeed      season_1      season_2      season_3      season_4  \\\n",
       "count  10886.000000  10886.000000  10886.000000  10886.000000  10886.000000   \n",
       "mean      12.799395      0.246739      0.251056      0.251056      0.251148   \n",
       "std        8.164537      0.431133      0.433641      0.433641      0.433694   \n",
       "min        0.000000      0.000000      0.000000      0.000000      0.000000   \n",
       "25%        7.001500      0.000000      0.000000      0.000000      0.000000   \n",
       "50%       12.998000      0.000000      0.000000      0.000000      0.000000   \n",
       "75%       16.997900      0.000000      1.000000      1.000000      1.000000   \n",
       "max       56.996900      1.000000      1.000000      1.000000      1.000000   \n",
       "\n",
       "           ...            hour_21       hour_22       hour_23        cday_0  \\\n",
       "count      ...       10886.000000  10886.000000  10886.000000  10886.000000   \n",
       "mean       ...           0.041889      0.041889      0.041889      0.142477   \n",
       "std        ...           0.200344      0.200344      0.200344      0.349554   \n",
       "min        ...           0.000000      0.000000      0.000000      0.000000   \n",
       "25%        ...           0.000000      0.000000      0.000000      0.000000   \n",
       "50%        ...           0.000000      0.000000      0.000000      0.000000   \n",
       "75%        ...           0.000000      0.000000      0.000000      0.000000   \n",
       "max        ...           1.000000      1.000000      1.000000      1.000000   \n",
       "\n",
       "             cday_1        cday_2        cday_3        cday_4        cday_5  \\\n",
       "count  10886.000000  10886.000000  10886.000000  10886.000000  10886.000000   \n",
       "mean       0.141374      0.142477      0.142660      0.140456      0.145508   \n",
       "std        0.348423      0.349554      0.349742      0.347475      0.352628   \n",
       "min        0.000000      0.000000      0.000000      0.000000      0.000000   \n",
       "25%        0.000000      0.000000      0.000000      0.000000      0.000000   \n",
       "50%        0.000000      0.000000      0.000000      0.000000      0.000000   \n",
       "75%        0.000000      0.000000      0.000000      0.000000      0.000000   \n",
       "max        1.000000      1.000000      1.000000      1.000000      1.000000   \n",
       "\n",
       "             cday_6  \n",
       "count  10886.000000  \n",
       "mean       0.145049  \n",
       "std        0.352166  \n",
       "min        0.000000  \n",
       "25%        0.000000  \n",
       "50%        0.000000  \n",
       "75%        0.000000  \n",
       "max        1.000000  \n",
       "\n",
       "[8 rows x 45 columns]"
      ]
     },
     "execution_count": 20,
     "metadata": {},
     "output_type": "execute_result"
    }
   ],
   "source": [
    "#import pandas as pd\n",
    "#import numpy as np\n",
    "\n",
    "#def eval_bikemodel(y_predict,y_true):\n",
    "#    diff = np.log(y_predict+1.0) - np.log(y_true+1.0)\n",
    "#    return np.sqrt(np.sum(np.square(diff))/len(y_predict))\n",
    "\n",
    "dftrain = pd.read_csv('data/bike_sharing_train.csv')\n",
    "dfval = pd.read_csv('data/bike_sharing_val.csv')\n",
    "dftest = pd.read_csv('data/bike_sharing_test.csv')\n",
    "ntrain = len(dftrain)\n",
    "nval = len(dftrain) + len(dfval)\n",
    "\n",
    "df = pd.concat([dftrain, dfval, dftest])\n",
    "df['hour'] = pd.to_datetime(df['datetime']).apply(lambda x: x.strftime('%H'))\n",
    "df['cday'] = pd.to_datetime(df['datetime']).dt.dayofweek\n",
    "df['hour'] = pd.to_numeric(df['hour'])\n",
    "df['cday'] = pd.to_numeric(df['cday'])\n",
    "#df['year'] = pd.to_datetime(df['datetime']).dt.year\n",
    "#df['year'] = pd.to_numeric(df['year'])\n",
    "Xdf = df.ix[:,['season','holiday','workingday','weather','temp','atemp','humidity',\n",
    "             'windspeed','hour','cday']]\n",
    "\n",
    "Xdf = pd.get_dummies(Xdf, columns=['season', 'weather','hour','cday'])\n",
    "\n",
    "Ydf = df.ix[:,'count']\n",
    "\n",
    "#print '\\nSummary - Xdataframe dummies:\\n'\n",
    "Xdf.describe()"
   ]
  },
  {
   "cell_type": "code",
   "execution_count": 21,
   "metadata": {
    "collapsed": true
   },
   "outputs": [],
   "source": [
    "# Split data\n",
    "X_train = Xdf[0:ntrain].values\n",
    "X_val = Xdf[ntrain:nval].values\n",
    "X_test = Xdf[nval:].values\n",
    "Y_train = Ydf[0:ntrain].values\n",
    "Y_val = Ydf[ntrain:nval].values\n",
    "Y_test = Ydf[nval:].values"
   ]
  },
  {
   "cell_type": "code",
   "execution_count": 22,
   "metadata": {
    "collapsed": true
   },
   "outputs": [],
   "source": [
    "from sklearn.preprocessing import StandardScaler\n",
    "\n",
    "scalerX = StandardScaler()\n",
    "X_train = scalerX.fit_transform(X_train)\n",
    "X_val = scalerX.fit_transform(X_val)\n",
    "X_test = scalerX.transform(X_test)\n",
    "\n",
    "Y_train = np.log(Y_train)\n",
    "#Y_val = np.log(Y_val)\n",
    "#Y_test = np.log(Y_test)"
   ]
  },
  {
   "cell_type": "code",
   "execution_count": 23,
   "metadata": {},
   "outputs": [
    {
     "name": "stdout",
     "output_type": "stream",
     "text": [
      "KAGG EVAL VAL =0.401265\n",
      "\n"
     ]
    }
   ],
   "source": [
    "from sklearn.svm import SVR\n",
    "\n",
    "model = SVR()\n",
    "model.fit(X_train, Y_train)\n",
    "Y_pred_train = model.predict(X_train)\n",
    "Y_pred_val = model.predict(X_val)\n",
    "Y_pred_test = model.predict(X_test)\n",
    "#kagg_val = eval_bikemodel(Y_pred_val, Y_val)\n",
    "kagg_val = eval_bikemodel(np.exp(Y_pred_val), Y_val)\n",
    "print \"KAGG EVAL VAL =%f\"%kagg_val\n",
    "print ''\n",
    "#print eval_bikemodel(np.exp(Y_pred_test), Y_test)"
   ]
  },
  {
   "cell_type": "markdown",
   "metadata": {},
   "source": [
    "(f) Mejore la SVM definida en el punto anterior haciendo modificaciones a los hiper-parámetros de la máquina ($C$, $\\epsilon$ o la misma función de kernel). Naturalmente, está absolutamente prohibido tomar este tipo de decisiones de diseño mirando el resultado de pruebas. Debe realizar estas elecciones evaluando sobre el conjunto de validación. Si no desea utilizarlo, y prefiere implementar validación cruzada u otra técnica automática, tiene la ventaja de poder usar el conjunto de validación como parte del entrenamiento."
   ]
  },
  {
   "cell_type": "code",
   "execution_count": 24,
   "metadata": {
    "scrolled": true
   },
   "outputs": [
    {
     "name": "stdout",
     "output_type": "stream",
     "text": [
      "KAGG EVAL VAL =nan\n"
     ]
    },
    {
     "name": "stderr",
     "output_type": "stream",
     "text": [
      "/home/dsanmartin/anaconda3/envs/py27/lib/python2.7/site-packages/ipykernel_launcher.py:5: RuntimeWarning: invalid value encountered in log\n",
      "  \"\"\"\n"
     ]
    }
   ],
   "source": [
    "model = SVR(kernel='sigmoid', C=1,epsilon=0.01)\n",
    "\n",
    "model.fit(X_train,Y_train)\n",
    "Y_pred_val = model.predict(X_val)\n",
    "kagg_val = eval_bikemodel(Y_pred_val,Y_val)\n",
    "print \"KAGG EVAL VAL =%f\"%kagg_val"
   ]
  },
  {
   "cell_type": "code",
   "execution_count": 25,
   "metadata": {},
   "outputs": [
    {
     "name": "stdout",
     "output_type": "stream",
     "text": [
      "C = 0.01 epsilon = 0.01\n",
      "KAGG EVAL VAL =0.975937\n",
      "\n",
      "C = 0.01 epsilon = 1.0\n",
      "KAGG EVAL VAL =1.078501\n",
      "\n",
      "C = 0.01 epsilon = 100.0\n",
      "KAGG EVAL VAL =1.849204\n",
      "\n",
      "C = 1.0 epsilon = 0.01\n",
      "KAGG EVAL VAL =0.407923\n",
      "\n",
      "C = 1.0 epsilon = 1.0\n",
      "KAGG EVAL VAL =0.579811\n",
      "\n",
      "C = 1.0 epsilon = 100.0\n",
      "KAGG EVAL VAL =1.849204\n",
      "\n",
      "C = 100.0 epsilon = 0.01\n",
      "KAGG EVAL VAL =0.510035\n",
      "\n",
      "C = 100.0 epsilon = 1.0\n",
      "KAGG EVAL VAL =0.557338\n",
      "\n",
      "C = 100.0 epsilon = 100.0\n",
      "KAGG EVAL VAL =1.849204\n",
      "\n",
      "\n",
      "Best C = 1.0 Best epsilon = 0.01\n",
      "KAGG EVAL VAL =0.407923\n"
     ]
    }
   ],
   "source": [
    "C_range = np.logspace(-2,2,3)#10. ** np.arange(-5, 3)\n",
    "epsilon_range = np.logspace(-2,2,3) #10. ** np.arange(-8, 1)\n",
    "\n",
    "best_C = \"none\"\n",
    "best_epsilon = \"none\"\n",
    "kagg_validated = 2\n",
    "\n",
    "for c in C_range:\n",
    "    for e in epsilon_range:\n",
    "        model = SVR(C=c,epsilon=e)\n",
    "        model.fit(X_train,Y_train)\n",
    "        Y_pred_val = model.predict(X_val)\n",
    "        kagg_val = eval_bikemodel(np.exp(Y_pred_val), Y_val)\n",
    "        print \"C = \" +str(c)+ \" epsilon = \" + str(e)\n",
    "        print \"KAGG EVAL VAL =%f\"%kagg_val\n",
    "        print \"\"\n",
    "        if kagg_val < kagg_validated:\n",
    "            best_C = c\n",
    "            best_epsilon = e\n",
    "            kagg_validated = kagg_val\n",
    "\n",
    "print \"\"\n",
    "print \"Best C = \" +str(best_C)+ \" Best epsilon = \" + str(best_epsilon)\n",
    "print \"KAGG EVAL VAL =%f\"%kagg_validated"
   ]
  },
  {
   "cell_type": "markdown",
   "metadata": {},
   "source": [
    "(g) Evalúe el efecto de utilizar el dataset de validación para entrenamiento y seleccionar los parámetros estructurales del árbol de clasificación y la SVM usando validación cruzada. El código de ejemplo para esto ha sido proporcionado en las tareas $1$ y $2$, pero se adjunta de nuevo a continuación"
   ]
  },
  {
   "cell_type": "code",
   "execution_count": 27,
   "metadata": {
    "scrolled": false
   },
   "outputs": [
    {
     "name": "stdout",
     "output_type": "stream",
     "text": [
      "d: 5, MSE_CV: 3.0006\n",
      "d: 6, MSE_CV: 3.0636\n",
      "d: 7, MSE_CV: 3.0727\n",
      "d: 8, MSE_CV: 3.0882\n",
      "d: 9, MSE_CV: 3.0856\n",
      "d: 10, MSE_CV: 3.0952\n",
      "d: 11, MSE_CV: 3.0815\n",
      "d: 12, MSE_CV: 3.0707\n",
      "d: 13, MSE_CV: 3.0895\n",
      "d: 14, MSE_CV: 3.0867\n"
     ]
    }
   ],
   "source": [
    "# Para arboles\n",
    "from sklearn.model_selection import KFold\n",
    "\n",
    "kf = KFold(n_splits=10)\n",
    "Xm = X_train\n",
    "ym = Y_train\n",
    "\n",
    "for d in range(5, 15):\n",
    "    mse_cv = 0    \n",
    "    for train, val in kf.split(Xm):        \n",
    "        model = Tree(random_state=0, max_depth=d)\n",
    "        model.fit(Xm[train], ym[train])\n",
    "        yhat_val = model.predict(Xm[val])\n",
    "        ytrue_val = ym[val]\n",
    "        score_fold = eval_bikemodel(np.exp(yhat_val), ytrue_val)\n",
    "        mse_cv += score_fold\n",
    "    mse_cv = mse_cv / 10\n",
    "    print \"d: %d, MSE_CV: %.4f\" % (d, mse_cv)"
   ]
  },
  {
   "cell_type": "code",
   "execution_count": 28,
   "metadata": {},
   "outputs": [
    {
     "name": "stdout",
     "output_type": "stream",
     "text": [
      "C: 0.01, eps: 0.01, MSE_CV: 0.2981\n",
      "C: 0.01, eps: 1.00, MSE_CV: 0.3283\n",
      "C: 0.01, eps: 100.00, MSE_CV: 0.4278\n",
      "C: 1.00, eps: 0.01, MSE_CV: 0.1878\n",
      "C: 1.00, eps: 1.00, MSE_CV: 0.1789\n",
      "C: 1.00, eps: 100.00, MSE_CV: 0.4129\n"
     ]
    },
    {
     "name": "stderr",
     "output_type": "stream",
     "text": [
      "/home/dsanmartin/anaconda3/envs/py27/lib/python2.7/site-packages/ipykernel_launcher.py:5: RuntimeWarning: invalid value encountered in log\n",
      "  \"\"\"\n"
     ]
    },
    {
     "name": "stdout",
     "output_type": "stream",
     "text": [
      "C: 100.00, eps: 0.01, MSE_CV: nan\n",
      "C: 100.00, eps: 1.00, MSE_CV: nan\n",
      "C: 100.00, eps: 100.00, MSE_CV: nan\n"
     ]
    }
   ],
   "source": [
    "# Para SVM\n",
    "from sklearn.model_selection import KFold\n",
    "\n",
    "C_range = np.logspace(-2,2,3)\n",
    "epsilon_range = np.logspace(-2,2,3)\n",
    "best_C = \"none\"\n",
    "best_epsilon = \"none\"\n",
    "kagg_validated = 2\n",
    "\n",
    "kf = KFold(n_splits=10)\n",
    "mse_cv = 0\n",
    "\n",
    "for c in C_range:\n",
    "    for e in epsilon_range:\n",
    "        for train, val in kf.split(Xm):\n",
    "            model = SVR(C=c, epsilon=e)\n",
    "            model.fit(Xm[train], ym[train])\n",
    "            yhat_val = model.predict(Xm[val])\n",
    "            ytrue_val = ym[val]\n",
    "            score_fold = eval_bikemodel(yhat_val,ytrue_val)\n",
    "            mse_cv += score_fold\n",
    "        mse_cv = mse_cv / 10\n",
    "        print \"C: %.2f, eps: %.2f, MSE_CV: %.4f\" % (c, e, mse_cv)"
   ]
  },
  {
   "cell_type": "markdown",
   "metadata": {},
   "source": [
    "(h) Evalúe el efecto de utilizar un ensamblado de $2$ máquinas de aprendizaje para predecir la demanda\n",
    "total de bicicletas. Un modelo se especializará en la predicción de la demanda de bicicletas de parte\n",
    "de usuarios registrados y otra en la predicción de la demanda de usuarios casuales. Hay razones claras\n",
    "para pensar que los patrones son distintos."
   ]
  },
  {
   "cell_type": "code",
   "execution_count": null,
   "metadata": {
    "collapsed": true,
    "scrolled": false
   },
   "outputs": [],
   "source": [
    "Ydf=df.ix[:,'count'] #demanda total\n",
    "Ydf=df.ix[:,'registered'] #demanda registrada\n",
    "Ydf=df.ix[:,'casual'] #demanda casual"
   ]
  },
  {
   "cell_type": "markdown",
   "metadata": {},
   "source": [
    "(i) Evalúe el efecto de utilizar un algoritmo genérico para ensamblar máquinas de aprendizaje para predecir\n",
    "la demanda total de bicicletas. Puede experimentar con una sola técnica (e.g. Random Forest), discuta\n",
    "la evolución a medida que aumenta el número de máquinas."
   ]
  },
  {
   "cell_type": "code",
   "execution_count": 71,
   "metadata": {
    "collapsed": true
   },
   "outputs": [],
   "source": [
    "def plotRFEval(N, evals):\n",
    "    plt.figure(figsize=(16, 4))\n",
    "    plt.plot(N, evals, label=\"Eval\") # Train error\n",
    "    plt.title(\"Eval vs N\")\n",
    "    plt.xlabel(\"N\")\n",
    "    plt.ylabel(\"Eval\")\n",
    "    plt.legend()\n",
    "    plt.grid(True)     \n",
    "    plt.show()"
   ]
  },
  {
   "cell_type": "code",
   "execution_count": 56,
   "metadata": {
    "collapsed": true
   },
   "outputs": [],
   "source": [
    "dftrain = pd.read_csv('data/bike_sharing_train.csv')\n",
    "dfval = pd.read_csv('data/bike_sharing_val.csv')\n",
    "dftest = pd.read_csv('data/bike_sharing_test.csv')\n",
    "ntrain = len(dftrain)\n",
    "nval = len(dftrain) + len(dfval)\n",
    "\n",
    "df = pd.concat([dftrain, dfval, dftest])\n",
    "df['hour'] = pd.to_datetime(df['datetime']).apply(lambda x: x.strftime('%H'))\n",
    "df['cday'] = pd.to_datetime(df['datetime']).dt.dayofweek\n",
    "df['hour'] = pd.to_numeric(df['hour'])\n",
    "df['cday'] = pd.to_numeric(df['cday'])\n",
    "#df['year'] = pd.to_datetime(df['datetime']).dt.year\n",
    "#df['year'] = pd.to_numeric(df['year'])\n",
    "Xdf = df.loc[:,['season','holiday','workingday','weather','temp','atemp','humidity',\n",
    "             'windspeed','hour','cday']]\n",
    "\n",
    "Xdf = pd.get_dummies(Xdf, columns=['season', 'weather','hour','cday'])\n",
    "\n",
    "Ydf = df.loc[:,'count']"
   ]
  },
  {
   "cell_type": "code",
   "execution_count": 57,
   "metadata": {
    "collapsed": true
   },
   "outputs": [],
   "source": [
    "# Split data\n",
    "X_train = Xdf[0:ntrain].values\n",
    "X_val = Xdf[ntrain:nval].values\n",
    "X_test = Xdf[nval:].values\n",
    "Y_train = Ydf[0:ntrain].values\n",
    "Y_val = Ydf[ntrain:nval].values\n",
    "Y_test = Ydf[nval:].values"
   ]
  },
  {
   "cell_type": "code",
   "execution_count": 63,
   "metadata": {
    "collapsed": true
   },
   "outputs": [],
   "source": [
    "from sklearn.preprocessing import StandardScaler\n",
    "\n",
    "scalerX = StandardScaler()\n",
    "X_train = scalerX.fit_transform(X_train)\n",
    "X_val = scalerX.fit_transform(X_val)\n",
    "X_test = scalerX.transform(X_test)\n",
    "\n",
    "Y_train = np.log(Y_train)"
   ]
  },
  {
   "cell_type": "code",
   "execution_count": 59,
   "metadata": {
    "collapsed": true,
    "scrolled": true
   },
   "outputs": [],
   "source": [
    "from sklearn.ensemble import RandomForestRegressor\n",
    "\n",
    "#modelRFR = RandomForestRegressor(n_estimators=10, max_depth=max_depth,random_state=0)"
   ]
  },
  {
   "cell_type": "code",
   "execution_count": 81,
   "metadata": {
    "collapsed": true
   },
   "outputs": [],
   "source": [
    "N = 50\n",
    "NE = np.arange(1, N + 1)\n",
    "modelRFRs = [None] * N\n",
    "kagg_vals = np.zeros(N)"
   ]
  },
  {
   "cell_type": "code",
   "execution_count": 82,
   "metadata": {
    "collapsed": true
   },
   "outputs": [],
   "source": [
    "for i in range(N):\n",
    "    modelRFRs[i] = RandomForestRegressor(n_estimators=NE[i], max_depth=50, random_state=0)\n",
    "    modelRFRs[i].fit(X_train, Y_train)\n",
    "    Y_pred_val = modelRFRs[i].predict(X_val)\n",
    "    kagg_vals[i] = eval_bikemodel(np.exp(Y_pred_val), Y_val)"
   ]
  },
  {
   "cell_type": "code",
   "execution_count": 83,
   "metadata": {
    "scrolled": true
   },
   "outputs": [
    {
     "data": {
      "image/png": "[encoded data removed]",
      "text/plain": [
       "<matplotlib.figure.Figure at 0x7fdea7b69ed0>"
      ]
     },
     "metadata": {},
     "output_type": "display_data"
    }
   ],
   "source": [
    "plotRFEval(NE, kagg_vals)"
   ]
  },
  {
   "cell_type": "code",
   "execution_count": 84,
   "metadata": {},
   "outputs": [
    {
     "name": "stdout",
     "output_type": "stream",
     "text": [
      "0.405460267092\n"
     ]
    }
   ],
   "source": [
    "print (kagg_vals[-1])"
   ]
  },
  {
   "cell_type": "code",
   "execution_count": 87,
   "metadata": {},
   "outputs": [
    {
     "name": "stdout",
     "output_type": "stream",
     "text": [
      "0.431283158129\n"
     ]
    }
   ],
   "source": [
    "Y_pred_test = modelRFRs[-1].predict(X_test)\n",
    "score_RFR = eval_bikemodel(np.exp(Y_pred_test), Y_test)\n",
    "print score_RFR"
   ]
  },
  {
   "cell_type": "markdown",
   "metadata": {},
   "source": [
    "## 3. Calidad de un Vino\n",
    "\n",
    "Dentro de las variedades del vino, existen distintas calidades de este, donde algunos gustan mas a algunas personas que otras, esto depende de la gran cantidad de quı́micos y procesos que se aplican a la producción de vino. Para el área de negocios el estimar cuál es la calidad del vino en base a la apreciación de la gente es una tarea bastante difı́cil.\n",
    "Para esta actividad se trabajará con dos datasets asociados a variantes tinto y blanco del vino Portugués \"Vinho Verde\" [4]. Debido a temas privados solo se cuenta atributos fisioquímicos asociados a un vino en particular, los cuales corresponden a $11$ atributos numéricos descritos en el siguiente link. Este problema puede ser abordado como clasificación de $11$ clases o de regresión, ya que el atributo a estimar, la calidad quality, es un valor entero entre $0$ y $10$"
   ]
  },
  {
   "cell_type": "markdown",
   "metadata": {},
   "source": [
    "(a) Carge los dos dataset en un único dataframe de pandas, además de agregar una columna indicando si es vino tinto o blanco. Describa el dataset a trabajar."
   ]
  },
  {
   "cell_type": "code",
   "execution_count": 143,
   "metadata": {
    "collapsed": true,
    "scrolled": false
   },
   "outputs": [],
   "source": [
    "import pandas as pd\n",
    "\n",
    "df_red = pd.read_csv(\"data/winequality-red.csv\",sep=\";\")\n",
    "df_white = pd.read_csv(\"data/winequality-white.csv\",sep=\";\")\n",
    "\n",
    "#genere atributo ’tipo’\n",
    "df_red['is_red'] = 1 \n",
    "df_white['is_red'] = 0\n",
    "\n",
    "# Union de datos\n",
    "df = pd.concat([df_red,df_white], axis=0)"
   ]
  },
  {
   "cell_type": "code",
   "execution_count": 144,
   "metadata": {
    "scrolled": false
   },
   "outputs": [
    {
     "data": {
      "text/html": [
       "<div>\n",
       "<style>\n",
       "    .dataframe thead tr:only-child th {\n",
       "        text-align: right;\n",
       "    }\n",
       "\n",
       "    .dataframe thead th {\n",
       "        text-align: left;\n",
       "    }\n",
       "\n",
       "    .dataframe tbody tr th {\n",
       "        vertical-align: top;\n",
       "    }\n",
       "</style>\n",
       "<table border=\"1\" class=\"dataframe\">\n",
       "  <thead>\n",
       "    <tr style=\"text-align: right;\">\n",
       "      <th></th>\n",
       "      <th>fixed acidity</th>\n",
       "      <th>volatile acidity</th>\n",
       "      <th>citric acid</th>\n",
       "      <th>residual sugar</th>\n",
       "      <th>chlorides</th>\n",
       "      <th>free sulfur dioxide</th>\n",
       "      <th>total sulfur dioxide</th>\n",
       "      <th>density</th>\n",
       "      <th>pH</th>\n",
       "      <th>sulphates</th>\n",
       "      <th>alcohol</th>\n",
       "      <th>quality</th>\n",
       "      <th>is_red</th>\n",
       "    </tr>\n",
       "  </thead>\n",
       "  <tbody>\n",
       "    <tr>\n",
       "      <th>count</th>\n",
       "      <td>6497.000000</td>\n",
       "      <td>6497.000000</td>\n",
       "      <td>6497.000000</td>\n",
       "      <td>6497.000000</td>\n",
       "      <td>6497.000000</td>\n",
       "      <td>6497.000000</td>\n",
       "      <td>6497.000000</td>\n",
       "      <td>6497.000000</td>\n",
       "      <td>6497.000000</td>\n",
       "      <td>6497.000000</td>\n",
       "      <td>6497.000000</td>\n",
       "      <td>6497.000000</td>\n",
       "      <td>6497.000000</td>\n",
       "    </tr>\n",
       "    <tr>\n",
       "      <th>mean</th>\n",
       "      <td>7.215307</td>\n",
       "      <td>0.339666</td>\n",
       "      <td>0.318633</td>\n",
       "      <td>5.443235</td>\n",
       "      <td>0.056034</td>\n",
       "      <td>30.525319</td>\n",
       "      <td>115.744574</td>\n",
       "      <td>0.994697</td>\n",
       "      <td>3.218501</td>\n",
       "      <td>0.531268</td>\n",
       "      <td>10.491801</td>\n",
       "      <td>5.818378</td>\n",
       "      <td>0.246114</td>\n",
       "    </tr>\n",
       "    <tr>\n",
       "      <th>std</th>\n",
       "      <td>1.296434</td>\n",
       "      <td>0.164636</td>\n",
       "      <td>0.145318</td>\n",
       "      <td>4.757804</td>\n",
       "      <td>0.035034</td>\n",
       "      <td>17.749400</td>\n",
       "      <td>56.521855</td>\n",
       "      <td>0.002999</td>\n",
       "      <td>0.160787</td>\n",
       "      <td>0.148806</td>\n",
       "      <td>1.192712</td>\n",
       "      <td>0.873255</td>\n",
       "      <td>0.430779</td>\n",
       "    </tr>\n",
       "    <tr>\n",
       "      <th>min</th>\n",
       "      <td>3.800000</td>\n",
       "      <td>0.080000</td>\n",
       "      <td>0.000000</td>\n",
       "      <td>0.600000</td>\n",
       "      <td>0.009000</td>\n",
       "      <td>1.000000</td>\n",
       "      <td>6.000000</td>\n",
       "      <td>0.987110</td>\n",
       "      <td>2.720000</td>\n",
       "      <td>0.220000</td>\n",
       "      <td>8.000000</td>\n",
       "      <td>3.000000</td>\n",
       "      <td>0.000000</td>\n",
       "    </tr>\n",
       "    <tr>\n",
       "      <th>25%</th>\n",
       "      <td>6.400000</td>\n",
       "      <td>0.230000</td>\n",
       "      <td>0.250000</td>\n",
       "      <td>1.800000</td>\n",
       "      <td>0.038000</td>\n",
       "      <td>17.000000</td>\n",
       "      <td>77.000000</td>\n",
       "      <td>0.992340</td>\n",
       "      <td>3.110000</td>\n",
       "      <td>0.430000</td>\n",
       "      <td>9.500000</td>\n",
       "      <td>5.000000</td>\n",
       "      <td>0.000000</td>\n",
       "    </tr>\n",
       "    <tr>\n",
       "      <th>50%</th>\n",
       "      <td>7.000000</td>\n",
       "      <td>0.290000</td>\n",
       "      <td>0.310000</td>\n",
       "      <td>3.000000</td>\n",
       "      <td>0.047000</td>\n",
       "      <td>29.000000</td>\n",
       "      <td>118.000000</td>\n",
       "      <td>0.994890</td>\n",
       "      <td>3.210000</td>\n",
       "      <td>0.510000</td>\n",
       "      <td>10.300000</td>\n",
       "      <td>6.000000</td>\n",
       "      <td>0.000000</td>\n",
       "    </tr>\n",
       "    <tr>\n",
       "      <th>75%</th>\n",
       "      <td>7.700000</td>\n",
       "      <td>0.400000</td>\n",
       "      <td>0.390000</td>\n",
       "      <td>8.100000</td>\n",
       "      <td>0.065000</td>\n",
       "      <td>41.000000</td>\n",
       "      <td>156.000000</td>\n",
       "      <td>0.996990</td>\n",
       "      <td>3.320000</td>\n",
       "      <td>0.600000</td>\n",
       "      <td>11.300000</td>\n",
       "      <td>6.000000</td>\n",
       "      <td>0.000000</td>\n",
       "    </tr>\n",
       "    <tr>\n",
       "      <th>max</th>\n",
       "      <td>15.900000</td>\n",
       "      <td>1.580000</td>\n",
       "      <td>1.660000</td>\n",
       "      <td>65.800000</td>\n",
       "      <td>0.611000</td>\n",
       "      <td>289.000000</td>\n",
       "      <td>440.000000</td>\n",
       "      <td>1.038980</td>\n",
       "      <td>4.010000</td>\n",
       "      <td>2.000000</td>\n",
       "      <td>14.900000</td>\n",
       "      <td>9.000000</td>\n",
       "      <td>1.000000</td>\n",
       "    </tr>\n",
       "  </tbody>\n",
       "</table>\n",
       "</div>"
      ],
      "text/plain": [
       "       fixed acidity  volatile acidity  citric acid  residual sugar  \\\n",
       "count    6497.000000       6497.000000  6497.000000     6497.000000   \n",
       "mean        7.215307          0.339666     0.318633        5.443235   \n",
       "std         1.296434          0.164636     0.145318        4.757804   \n",
       "min         3.800000          0.080000     0.000000        0.600000   \n",
       "25%         6.400000          0.230000     0.250000        1.800000   \n",
       "50%         7.000000          0.290000     0.310000        3.000000   \n",
       "75%         7.700000          0.400000     0.390000        8.100000   \n",
       "max        15.900000          1.580000     1.660000       65.800000   \n",
       "\n",
       "         chlorides  free sulfur dioxide  total sulfur dioxide      density  \\\n",
       "count  6497.000000          6497.000000           6497.000000  6497.000000   \n",
       "mean      0.056034            30.525319            115.744574     0.994697   \n",
       "std       0.035034            17.749400             56.521855     0.002999   \n",
       "min       0.009000             1.000000              6.000000     0.987110   \n",
       "25%       0.038000            17.000000             77.000000     0.992340   \n",
       "50%       0.047000            29.000000            118.000000     0.994890   \n",
       "75%       0.065000            41.000000            156.000000     0.996990   \n",
       "max       0.611000           289.000000            440.000000     1.038980   \n",
       "\n",
       "                pH    sulphates      alcohol      quality       is_red  \n",
       "count  6497.000000  6497.000000  6497.000000  6497.000000  6497.000000  \n",
       "mean      3.218501     0.531268    10.491801     5.818378     0.246114  \n",
       "std       0.160787     0.148806     1.192712     0.873255     0.430779  \n",
       "min       2.720000     0.220000     8.000000     3.000000     0.000000  \n",
       "25%       3.110000     0.430000     9.500000     5.000000     0.000000  \n",
       "50%       3.210000     0.510000    10.300000     6.000000     0.000000  \n",
       "75%       3.320000     0.600000    11.300000     6.000000     0.000000  \n",
       "max       4.010000     2.000000    14.900000     9.000000     1.000000  "
      ]
     },
     "execution_count": 144,
     "metadata": {},
     "output_type": "execute_result"
    }
   ],
   "source": [
    "df.describe()"
   ]
  },
  {
   "cell_type": "code",
   "execution_count": 145,
   "metadata": {},
   "outputs": [
    {
     "data": {
      "image/png": "[encoded data removed]",
      "text/plain": [
       "<matplotlib.figure.Figure at 0x7f51a87f9050>"
      ]
     },
     "metadata": {},
     "output_type": "display_data"
    }
   ],
   "source": [
    "import matplotlib.pyplot as plt \n",
    "\n",
    "df.hist(figsize=(16, 10))\n",
    "plt.show()"
   ]
  },
  {
   "cell_type": "markdown",
   "metadata": {},
   "source": [
    "(b) Aborde este problema como si fuera de clasificación binaria para predecir si un vino es de calidad o no, es decir, utilice las distintas características fisioquı́micas presentes en los datos para estimar esta etiqueta. Para esto cree las matrices de entrenamiento y de pruebas, además de la etiqueta para ambos conjuntos, considerando como quality mayor a $5$ un vino de buena calidad. El conjunto de pruebas ($25 \\%$) será utilizado únicamente para verificar la calidad de los algoritmos a entrenar."
   ]
  },
  {
   "cell_type": "code",
   "execution_count": 146,
   "metadata": {
    "collapsed": true,
    "scrolled": false
   },
   "outputs": [],
   "source": [
    "df['good_quality'] = [1 if q>5 else 0 for q in df.quality]\n",
    "#train and test split over df"
   ]
  },
  {
   "cell_type": "code",
   "execution_count": 147,
   "metadata": {},
   "outputs": [
    {
     "data": {
      "text/plain": [
       "count    6497.000000\n",
       "mean        0.633061\n",
       "std         0.482007\n",
       "min         0.000000\n",
       "25%         0.000000\n",
       "50%         1.000000\n",
       "75%         1.000000\n",
       "max         1.000000\n",
       "Name: good_quality, dtype: float64"
      ]
     },
     "execution_count": 147,
     "metadata": {},
     "output_type": "execute_result"
    }
   ],
   "source": [
    "df['good_quality'].describe()"
   ]
  },
  {
   "cell_type": "code",
   "execution_count": 148,
   "metadata": {},
   "outputs": [
    {
     "data": {
      "image/png": "[encoded data removed]",
      "text/plain": [
       "<matplotlib.figure.Figure at 0x7f51a8db7a10>"
      ]
     },
     "metadata": {},
     "output_type": "display_data"
    }
   ],
   "source": [
    "plt.hist(df['good_quality'])\n",
    "plt.show()"
   ]
  },
  {
   "cell_type": "markdown",
   "metadata": {},
   "source": [
    "Del gráfico anterior notamos que las clases están desbalanceadas."
   ]
  },
  {
   "cell_type": "code",
   "execution_count": 149,
   "metadata": {},
   "outputs": [],
   "source": [
    "from sklearn.model_selection import train_test_split\n",
    "\n",
    "X = df.iloc[:,:-1] # Todas los atributos menos el \"y\"\n",
    "X = X.drop('quality', 1)\n",
    "y = df['good_quality'] \n",
    "X.describe()\n",
    "X_train, X_test, y_train, y_test = train_test_split(X, y, test_size=0.25, random_state=42)"
   ]
  },
  {
   "cell_type": "markdown",
   "metadata": {},
   "source": [
    "(c) Entrene un solo Árbol de Clasificación de múltiples niveles para resolver el problema. Puede variar los hiper-parámetros que prefiera, recuerde que las decisiones no pueden ser basadas mirando el conjunto de pruebas. Debido al desbalanceo que se produce en las dos clases mida la métrica *F1-score* [5] sobre el conjunto de entrenamiento y de pruebas."
   ]
  },
  {
   "cell_type": "code",
   "execution_count": 150,
   "metadata": {
    "collapsed": true
   },
   "outputs": [],
   "source": [
    "def plotF1DTC(d, f1):\n",
    "    plt.figure(figsize=(10, 6))\n",
    "    plt.plot(dp, f1_scores)\n",
    "    plt.title(\"F1 scores vs Tree Depth\")\n",
    "    plt.xlabel(\"Tree Depth\")\n",
    "    plt.ylabel(\"F1 Scores\")\n",
    "    plt.grid(True)\n",
    "    plt.show()"
   ]
  },
  {
   "cell_type": "code",
   "execution_count": 151,
   "metadata": {
    "collapsed": true
   },
   "outputs": [],
   "source": [
    "from sklearn.tree import DecisionTreeClassifier\n",
    "from sklearn.model_selection import KFold\n",
    "from sklearn.metrics import f1_score"
   ]
  },
  {
   "cell_type": "code",
   "execution_count": 152,
   "metadata": {
    "collapsed": true
   },
   "outputs": [],
   "source": [
    "dp = np.arange(1, 17) # Depths\n",
    "N = len(dp)\n",
    "f1_scores = np.zeros(N) \n",
    "modelDTC = [None] * N"
   ]
  },
  {
   "cell_type": "code",
   "execution_count": 153,
   "metadata": {
    "scrolled": false
   },
   "outputs": [
    {
     "name": "stdout",
     "output_type": "stream",
     "text": [
      "Best F1 score: 0.8210\n",
      "Depth: 12\n"
     ]
    }
   ],
   "source": [
    "X_tr = X_train.as_matrix()\n",
    "y_tr = y_train.as_matrix()\n",
    "\n",
    "# K-Fold cross validation\n",
    "kf = KFold(n_splits=10)\n",
    "\n",
    "for i in range(N):\n",
    "    modelDTC[i] = DecisionTreeClassifier(random_state=0, max_depth=dp[i])    \n",
    "    f1_cv = 0\n",
    " \n",
    "    for train, val in kf.split(X_tr):\n",
    "        modelDTC[i].fit(X_tr[train], y_tr[train])\n",
    "        yhat_val = modelDTC[i].predict(X_tr[val])\n",
    "        ytrue_val = y_tr[val]\n",
    "        f1_cv += f1_score(ytrue_val, yhat_val)        \n",
    "    f1_scores[i] = f1_cv / 10    \n",
    "    \n",
    "best_arg = np.argmax(f1_scores)\n",
    "print \"Best F1 score: %.4f\" % f1_scores[best_arg]\n",
    "print \"Depth: %d\" % dp[best_arg]"
   ]
  },
  {
   "cell_type": "code",
   "execution_count": 154,
   "metadata": {
    "scrolled": false
   },
   "outputs": [
    {
     "data": {
      "image/png": "[encoded data removed]",
      "text/plain": [
       "<matplotlib.figure.Figure at 0x7f51a82e8a50>"
      ]
     },
     "metadata": {},
     "output_type": "display_data"
    }
   ],
   "source": [
    "plotF1DTC(dp, f1_scores)"
   ]
  },
  {
   "cell_type": "markdown",
   "metadata": {},
   "source": [
    "Del análisis anterior nos quedaremos con el árbol de profundidad 12."
   ]
  },
  {
   "cell_type": "code",
   "execution_count": 155,
   "metadata": {},
   "outputs": [
    {
     "name": "stdout",
     "output_type": "stream",
     "text": [
      "Training Accuracy: 0.9520\n",
      "Testing Accuracy: 0.7612\n",
      "Testing F1 Score: 0.8115\n"
     ]
    }
   ],
   "source": [
    "model = DecisionTreeClassifier(random_state=0, max_depth=12)    \n",
    "model.fit(X_train, y_train)\n",
    "train_acc = model.score(X_train, y_train)\n",
    "test_acc = model.score(X_test, y_test)\n",
    "y_hat = model.predict(X_test)\n",
    "f1_sc = f1_score(y_test, y_hat)\n",
    "\n",
    "print \"Training Accuracy: %.4f\" % train_acc\n",
    "print \"Testing Accuracy: %.4f\" % test_acc\n",
    "print \"Testing F1 Score: %.4f\" % f1_sc"
   ]
  },
  {
   "cell_type": "markdown",
   "metadata": {},
   "source": [
    "(d) Entrene un ensamblador de árboles de múltiples niveles, mediante la técnica de *Random Forest*. Varı́e la cantidad de árboles de decisión utilizados en el ensamblado (```n_estimators```), realice un gráfico resumen del *F1-score* de entrenamiento y de pruebas en función de este hiper-parámetro."
   ]
  },
  {
   "cell_type": "code",
   "execution_count": 156,
   "metadata": {
    "collapsed": true
   },
   "outputs": [],
   "source": [
    "def plotF1EC(N, f1_train, f1_test):\n",
    "    plt.figure(figsize=(10, 6))\n",
    "    plt.plot(N, f1_train, label=\"Train\")\n",
    "    plt.plot(N, f1_test, label=\"Test\")\n",
    "    plt.title(\"F1 scores vs Number of Estimators\")\n",
    "    plt.xlabel(\"N\")\n",
    "    plt.ylabel(\"F1 Scores\")\n",
    "    plt.legend()\n",
    "    plt.grid(True)\n",
    "    plt.show()"
   ]
  },
  {
   "cell_type": "code",
   "execution_count": 157,
   "metadata": {
    "collapsed": true,
    "scrolled": true
   },
   "outputs": [],
   "source": [
    "from sklearn.ensemble import RandomForestClassifier"
   ]
  },
  {
   "cell_type": "code",
   "execution_count": 158,
   "metadata": {},
   "outputs": [
    {
     "name": "stdout",
     "output_type": "stream",
     "text": [
      "Best Train Number of Trees: 64\n",
      "Best Train F1 score: 1.0000\n",
      "Best Test Number of Trees: 128\n",
      "Best Test F1 score: 0.8612\n"
     ]
    }
   ],
   "source": [
    "N = 8\n",
    "ne = np.array([2**i for i in range(N)])\n",
    "f1_scores_train = np.zeros(N)\n",
    "f1_scores_test = np.zeros(N)\n",
    "modelRFC = [None] * N\n",
    "\n",
    "for i in range(N):\n",
    "    modelRFC[i] = RandomForestClassifier(n_estimators=ne[i], max_depth=None, n_jobs=-1)\n",
    "    modelRFC[i].fit(X_train, y_train)\n",
    "    y_pred_train = modelRFC[i].predict(X_train)\n",
    "    y_pred_test = modelRFC[i].predict(X_test)\n",
    "    f1_scores_train[i] = f1_score(y_train, y_pred_train)\n",
    "    f1_scores_test[i] = f1_score(y_test, y_pred_test)\n",
    "                                                         \n",
    "best_train_arg = np.argmax(f1_scores_train)\n",
    "best_test_arg = np.argmax(f1_scores_test)\n",
    "print \"Best Train Number of Trees: %d\" % ne[best_train_arg]                                                         \n",
    "print \"Best Train F1 score: %.4f\" % f1_scores_train[best_train_arg]\n",
    "print \"Best Test Number of Trees: %d\" % ne[best_test_arg]                                                         \n",
    "print \"Best Test F1 score: %.4f\" % f1_scores_test[best_test_arg]"
   ]
  },
  {
   "cell_type": "code",
   "execution_count": 159,
   "metadata": {},
   "outputs": [
    {
     "data": {
      "image/png": "[encoded data removed]",
      "text/plain": [
       "<matplotlib.figure.Figure at 0x7f51a84d96d0>"
      ]
     },
     "metadata": {},
     "output_type": "display_data"
    }
   ],
   "source": [
    "plotF1EC(ne, f1_scores_train, f1_scores_test)"
   ]
  },
  {
   "cell_type": "markdown",
   "metadata": {},
   "source": [
    "(e) Entrene un ensamblador de árboles de múltiples niveles, mediante la técnica de *AdaBoost*. Varíe la cantidad de árboles de decisión utilizados en el ensamblado (```n_estimators```), realice un gráfico resumen del *F1-score* de entrenamiento y de pruebas en función de este hiper-parámetro. Compare y analice con la técnica utilizada en d)."
   ]
  },
  {
   "cell_type": "code",
   "execution_count": 160,
   "metadata": {
    "collapsed": true,
    "scrolled": true
   },
   "outputs": [],
   "source": [
    "from sklearn.ensemble import AdaBoostClassifier\n",
    "from sklearn.tree import DecisionTreeClassifier as Tree"
   ]
  },
  {
   "cell_type": "code",
   "execution_count": 161,
   "metadata": {},
   "outputs": [
    {
     "name": "stdout",
     "output_type": "stream",
     "text": [
      "Best Train Number of Estimators: 64\n",
      "Best Train F1 score: 1.0000\n",
      "Best Test Number of Estimators: 128\n",
      "Best Test F1 score: 0.8401\n"
     ]
    }
   ],
   "source": [
    "N = 8\n",
    "ne = np.array([2**i for i in range(N)])\n",
    "f1_scores_train = np.zeros(N)\n",
    "f1_scores_test = np.zeros(N)\n",
    "modelABC = [None] * N\n",
    "\n",
    "for i in range(N):\n",
    "    modelABC[i] = AdaBoostClassifier(base_estimator=Tree(max_depth=5), n_estimators=ne[i])\n",
    "    modelABC[i].fit(X_train, y_train)\n",
    "    Y_pred_train = modelABC[i].predict(X_train)\n",
    "    Y_pred_test = modelABC[i].predict(X_test)\n",
    "    f1_scores_train[i] = f1_score(y_train, Y_pred_train)\n",
    "    f1_scores_test[i] = f1_score(y_test, Y_pred_test)\n",
    "\n",
    "best_train_arg = np.argmax(f1_scores_train)\n",
    "best_test_arg = np.argmax(f1_scores_test)\n",
    "print \"Best Train Number of Estimators: %d\" % ne[best_train_arg]\n",
    "print \"Best Train F1 score: %.4f\" % f1_scores_train[best_train_arg]\n",
    "print \"Best Test Number of Estimators: %d\" % ne[best_test_arg]                                               \n",
    "print \"Best Test F1 score: %.4f\" % f1_scores_test[best_test_arg]"
   ]
  },
  {
   "cell_type": "code",
   "execution_count": 162,
   "metadata": {},
   "outputs": [
    {
     "data": {
      "image/png": "[encoded data removed]",
      "text/plain": [
       "<matplotlib.figure.Figure at 0x7f51a8bbdd90>"
      ]
     },
     "metadata": {},
     "output_type": "display_data"
    }
   ],
   "source": [
    "plotF1EC(ne, f1_scores_train, f1_scores_test)"
   ]
  },
  {
   "cell_type": "markdown",
   "metadata": {},
   "source": [
    "(f) Entrene alguna otra máquina de aprendizaje, elegida por usted, para resolver este problema. Elija los hiper-parámetros que estime convenientes intentando aumentar el *F1-score* obtenido por los algoritmos anteriores. Compare y analice estas $4$ maneras de resolver el problema definido en b)."
   ]
  },
  {
   "cell_type": "code",
   "execution_count": null,
   "metadata": {
    "collapsed": true
   },
   "outputs": [],
   "source": []
  },
  {
   "cell_type": "markdown",
   "metadata": {},
   "source": [
    "(g) Defina un criterio para estimar la importancia de los distintos atributos en el ensamblado de *Random Forest*, implementelo sobre alguno de los ensambladores entrenados en d), haga un ranking de importancia de atributos ¿Es posible implementar este criterio sobre una técnica de *boost* como lo es *AdaBoost*?"
   ]
  },
  {
   "cell_type": "markdown",
   "metadata": {},
   "source": [
    "El criterio propuesto consiste en medir el F1-score que logra RandomForest, pero en cada caso se le privará de un atributo. A mayor importancia el atributo, menor será el desempeño de RandomForest. Dado el carácter aleatorio del algoritmo, se propone sacar un promedio sobre 10 iteraciones, de forma de hacer más representativo el resultado."
   ]
  },
  {
   "cell_type": "code",
   "execution_count": 163,
   "metadata": {
    "scrolled": false
   },
   "outputs": [],
   "source": [
    "from operator import add\n",
    "\n",
    "features = [X_train.columns]\n",
    "f1s = [0] * len(features[0])\n",
    "iterations = 10\n",
    "\n",
    "for i in range(1, iterations):\n",
    "    f1_features = []\n",
    "    for f in features[0]:\n",
    "        X_train_t = X_train.drop(f, 1)\n",
    "        X_test_t = X_test.drop(f, 1)\n",
    "        X_train_t = X_train_t.as_matrix()\n",
    "        X_test_t = X_test_t.as_matrix()\n",
    "        \n",
    "        n = 128\n",
    "        model = RandomForestClassifier(n_estimators=n, max_depth=None, n_jobs=-1)\n",
    "        model.fit(X_train_t, y_train)\n",
    "        y_pred_test = model.predict(X_test_t)\n",
    "        f1_test = f1_score(y_test, y_pred_test)\n",
    "        f1_features.append(f1_test)\n",
    "        \n",
    "    for j in range(0, len(f1_features)):\n",
    "        f1s[j] = f1s[j] + f1_features[j]\n",
    "    \n",
    "f1_fe = zip(f1s,features[0])\n",
    "f1_fe.sort()"
   ]
  },
  {
   "cell_type": "code",
   "execution_count": 164,
   "metadata": {},
   "outputs": [
    {
     "name": "stdout",
     "output_type": "stream",
     "text": [
      "Feature Relevance Ranking:\n",
      "\n",
      "sulphates\n",
      "volatile acidity\n",
      "free sulfur dioxide\n",
      "residual sugar\n",
      "citric acid\n",
      "fixed acidity\n",
      "density\n",
      "is_red\n",
      "total sulfur dioxide\n",
      "pH\n",
      "chlorides\n",
      "alcohol\n"
     ]
    }
   ],
   "source": [
    "print 'Feature Relevance Ranking:\\n'\n",
    "for i in f1_fe:\n",
    "    print i[1]"
   ]
  },
  {
   "cell_type": "markdown",
   "metadata": {},
   "source": [
    "## 4. Reconocimiento de Imágenes Sign Gestures\n",
    "\n",
    "MNIST es un dataset muy popular de dı́gitos escrito a mano que a servido para probar distintos algoritmos de Machine Learning relacionados con Computer Vision. Buscando nuevos desafı́os, investigadores generaron un dataset que podrı́a usarse eventualmente en aplicaciones reales, Sign Gestures, consta de imagenes del lenguaje de señas, estas tienen una resolución de $28\\times 28$ pixeles representados en una escala de grises $0-255$.\n",
    "La versión utilizada se atribuye a [8] y viene separada en $27455$ ejemplos de entrenamiento y $7172$ casos de pruebas. Las clases son mutualmente excluyentes y corresponden a las letras del alfabeto (ver imagen).\n",
    "\n",
    "<img src=\"img/3.png\">"
   ]
  },
  {
   "cell_type": "markdown",
   "metadata": {},
   "source": [
    "(a) Construya una función que cargue todos los datos de entrenamiento y pruebas del problema generando como salida: (i) dos matrices $X_{tr}$, $Y_{tr}$, correspondientes a las imágenes y etiquetas de entrenamiento, (ii) dos matrices $X_t$, $Y_t$, correspondientes a las imágenes y etiquetas de pruebas, y finalmente (iii) dos matrices $X_v$ , $Y_v$, correspondientes a imágenes y etiquetas que se usarán como conjunto de validación, es decir para tomar decisiones de diseño acerca del modelo. Este último conjunto debe ser extraı́do desde el conjunto de entrenamiento original y no debe superar las $7000$ imágenes."
   ]
  },
  {
   "cell_type": "code",
   "execution_count": 1,
   "metadata": {
    "collapsed": true,
    "scrolled": false
   },
   "outputs": [],
   "source": [
    "import pandas as pd\n",
    "from sklearn.model_selection import train_test_split\n",
    "\n",
    "def load_data():\n",
    "    train = pd.read_csv('data/sign_mnist_train.csv')\n",
    "    test = pd.read_csv('data/sign_mnist_test.csv')\n",
    "    y_tr = train['label']\n",
    "    x_tr = train.iloc[:,1:]\n",
    "    y_t = test['label']\n",
    "    x_t = test.iloc[:,1:]\n",
    "    #you need to add Xval: x_v,y_v\n",
    "    x_v = x_tr[:7000]\n",
    "    y_v = y_tr[:7000]\n",
    "    return(x_tr, x_v, x_t, y_tr, y_v, y_t)\n",
    "\n",
    "x_tr, x_v, x_t, y_tr, y_v, y_t = load_data()"
   ]
  },
  {
   "cell_type": "markdown",
   "metadata": {},
   "source": [
    "(b) Construya una función que escale apropiadamente las imágenes antes de trabajar. Experimente sólo escalando los datos de acuerdo a la intensidad máxima de pixel (i.e., dividiendo por $255$) y luego centrando y escalándolos como en actividades anteriores."
   ]
  },
  {
   "cell_type": "code",
   "execution_count": 2,
   "metadata": {
    "collapsed": true
   },
   "outputs": [],
   "source": [
    "from sklearn.preprocessing import StandardScaler\n",
    "\n",
    "def preProcess(train, val, test, pre=\"int\"):\n",
    "    if pre == \"int\":\n",
    "        return train / 255, val / 255, test / 255\n",
    "    \n",
    "    elif pre == \"sca\":\n",
    "        scalerX = StandardScaler()\n",
    "        x_tr_sc = scalerX.fit_transform(train)\n",
    "        x_v_sc = scalerX.fit_transform(val)\n",
    "        x_t_sc = scalerX.transform(test)\n",
    "        \n",
    "        return x_tr_sc, x_v_sc, x_t_sc"
   ]
  },
  {
   "cell_type": "code",
   "execution_count": 3,
   "metadata": {
    "collapsed": true
   },
   "outputs": [],
   "source": [
    "# Escala de intensidad\n",
    "x_tr_i, x_v_i, x_t_i = preProcess(x_tr, x_v, x_t)"
   ]
  },
  {
   "cell_type": "code",
   "execution_count": 5,
   "metadata": {},
   "outputs": [
    {
     "data": {
      "image/png": "[encoded data removed]",
      "text/plain": [
       "<matplotlib.figure.Figure at 0x7ff0da87ef50>"
      ]
     },
     "metadata": {},
     "output_type": "display_data"
    }
   ],
   "source": [
    "import matplotlib.pyplot as plt\n",
    "\n",
    "plt.imshow(x_tr_i.values[666].reshape(28, 28), cmap=\"gray\")\n",
    "plt.show()"
   ]
  },
  {
   "cell_type": "code",
   "execution_count": 6,
   "metadata": {
    "collapsed": true
   },
   "outputs": [],
   "source": [
    "# Escala estandar\n",
    "x_tr_sc, x_v_sc, x_t_sc = preProcess(x_tr, x_v, x_t, pre=\"sca\")"
   ]
  },
  {
   "cell_type": "code",
   "execution_count": 7,
   "metadata": {},
   "outputs": [
    {
     "data": {
      "image/png": "[encoded data removed]",
      "text/plain": [
       "<matplotlib.figure.Figure at 0x7ff0d8950690>"
      ]
     },
     "metadata": {},
     "output_type": "display_data"
    }
   ],
   "source": [
    "plt.imshow(x_tr_sc[666].reshape(28, 28), cmap=\"gray\")\n",
    "plt.show()"
   ]
  },
  {
   "cell_type": "markdown",
   "metadata": {},
   "source": [
    "Se muestran dos ejemplos para notar la diferencia entre escalar utilizando la intensidad y centrando-escalando los datos. "
   ]
  },
  {
   "cell_type": "markdown",
   "metadata": {},
   "source": [
    "(c) Diseñe, entrene y evalúe una red neuronal para el problema partir de la representación original de las imágenes. Experimente con distintas arquitecturas, pre-procesamientos y métodos de entrenamiento, midiendo el error de clasificación sobre el conjunto de validación. En base a esta última medida de desempeño, decida qué modelo, de entre todos los evaluados, medirá finalmente en el conjunto de test. Reporte y discuta los resultados obtenidos. Se espera que logre obtener un error de pruebas menor o igual a $0.2$."
   ]
  },
  {
   "cell_type": "code",
   "execution_count": 8,
   "metadata": {},
   "outputs": [
    {
     "name": "stderr",
     "output_type": "stream",
     "text": [
      "Using TensorFlow backend.\n"
     ]
    }
   ],
   "source": [
    "from keras.models import Sequential\n",
    "from keras.layers import Dense, Activation\n",
    "from keras.optimizers import SGD\n",
    "from keras.utils.np_utils import to_categorical"
   ]
  },
  {
   "cell_type": "markdown",
   "metadata": {},
   "source": [
    "Sin pre-procesamiento de datos"
   ]
  },
  {
   "cell_type": "code",
   "execution_count": 10,
   "metadata": {
    "collapsed": true,
    "scrolled": false
   },
   "outputs": [],
   "source": [
    "modelANN = Sequential()\n",
    "modelANN.add(Dense(30, input_dim=x_tr.shape[1], kernel_initializer='uniform', activation='relu'))\n",
    "modelANN.add(Dense(30, kernel_initializer='uniform', activation='relu'))\n",
    "modelANN.add(Dense(25, kernel_initializer='uniform', activation='softmax'))\n",
    "modelANN.compile(optimizer=SGD(lr=0.05), loss='categorical_crossentropy', metrics=['accuracy'])\n",
    "hist_raw = modelANN.fit(x_tr.values, to_categorical(y_tr), epochs=100, batch_size=128, verbose=0, validation_data=(x_v.values,to_categorical(y_v)))"
   ]
  },
  {
   "cell_type": "code",
   "execution_count": 12,
   "metadata": {},
   "outputs": [
    {
     "name": "stdout",
     "output_type": "stream",
     "text": [
      "Training accuracy = 0.0423\n",
      "Validation accuracy = 0.0420\n"
     ]
    }
   ],
   "source": [
    "print \"Training accuracy = %.4f\" % hist_raw.history['acc'][-1]\n",
    "print \"Validation accuracy = %.4f\" % hist_raw.history['val_acc'][-1]"
   ]
  },
  {
   "cell_type": "markdown",
   "metadata": {},
   "source": [
    "Notamos que la precisión del modelo es muy baja. Esto se puede atribuir a que los valores de pixeles no están *pre-procesados* y la escala en que se mueven difieren bastante, lo que no permite que el modelo pueda trabajar correcamente."
   ]
  },
  {
   "cell_type": "markdown",
   "metadata": {},
   "source": [
    "Pre-procesando los datos escalando por intensidad de los pixeles."
   ]
  },
  {
   "cell_type": "code",
   "execution_count": 13,
   "metadata": {
    "collapsed": true
   },
   "outputs": [],
   "source": [
    "modelANNi = Sequential()\n",
    "modelANNi.add(Dense(30, input_dim=x_tr_i.shape[1], kernel_initializer='uniform', activation='relu'))\n",
    "modelANNi.add(Dense(30, kernel_initializer='uniform', activation='relu'))\n",
    "modelANNi.add(Dense(25, kernel_initializer='uniform', activation='softmax'))\n",
    "modelANNi.compile(optimizer=SGD(lr=0.05), loss='categorical_crossentropy', metrics=['accuracy'])\n",
    "hist_i = modelANNi.fit(x_tr_i.values, to_categorical(y_tr), epochs=100, batch_size=128, verbose=0, validation_data=(x_v_i.values,to_categorical(y_v)))"
   ]
  },
  {
   "cell_type": "code",
   "execution_count": 14,
   "metadata": {},
   "outputs": [
    {
     "name": "stdout",
     "output_type": "stream",
     "text": [
      "Training accuracy = 1.0000\n",
      "Validation accuracy = 0.9999\n"
     ]
    }
   ],
   "source": [
    "print \"Training accuracy = %.4f\" % hist_i.history['acc'][-1]\n",
    "print \"Validation accuracy = %.4f\" % hist_i.history['val_acc'][-1]"
   ]
  },
  {
   "cell_type": "markdown",
   "metadata": {},
   "source": [
    "Luego de pre-procesar los datos según la intesidad de los pixeles, se aprecia una excesiva mejora del ajuste con los datos de entrenamiento y validación. Se podría inferir que existe sobre ajuste del modelo. "
   ]
  },
  {
   "cell_type": "markdown",
   "metadata": {},
   "source": [
    "Centrando y escalando los datos."
   ]
  },
  {
   "cell_type": "code",
   "execution_count": 15,
   "metadata": {
    "collapsed": true
   },
   "outputs": [],
   "source": [
    "modelANNsc = Sequential()\n",
    "modelANNsc.add(Dense(30, input_dim=x_tr_sc.shape[1], kernel_initializer='uniform', activation='relu'))\n",
    "modelANNsc.add(Dense(30, kernel_initializer='uniform', activation='relu'))\n",
    "modelANNsc.add(Dense(25, kernel_initializer='uniform', activation='softmax'))\n",
    "modelANNsc.compile(optimizer=SGD(lr=.05), loss='categorical_crossentropy', metrics=['accuracy'])\n",
    "hist_sc = modelANNsc.fit(x_tr_sc, to_categorical(y_tr), epochs=100, batch_size=128, verbose=0, validation_data=(x_v_sc, to_categorical(y_v)))"
   ]
  },
  {
   "cell_type": "code",
   "execution_count": 16,
   "metadata": {},
   "outputs": [
    {
     "name": "stdout",
     "output_type": "stream",
     "text": [
      "Training accuracy = 1.0000\n",
      "Validation accuracy = 1.0000\n"
     ]
    }
   ],
   "source": [
    "print \"Training accuracy = %.4f\" % hist_sc.history['acc'][-1]\n",
    "print \"Validation accuracy = %.4f\" % hist_sc.history['val_acc'][-1]"
   ]
  },
  {
   "cell_type": "markdown",
   "metadata": {},
   "source": [
    "En este caso el efecto del pre-procesamiento pareciera mejorar mucho más el ajuste del modelo. Pero nuevamente genera la impresión de que el modelo está sobreajustado."
   ]
  },
  {
   "cell_type": "code",
   "execution_count": null,
   "metadata": {
    "collapsed": true
   },
   "outputs": [],
   "source": [
    "import numpy as np\n",
    "\n",
    "N = 10\n",
    "lrate = np.linspace(0.1, 1, N)\n",
    "train_scores = np.zeros(N)\n",
    "val_scores = np.zeros(N)\n",
    "\n",
    "for i in range(N):\n",
    "    model = Sequential()\n",
    "    model.add(Dense(30, input_dim=x_tr.shape[1], kernel_initializer='uniform', activation='relu'))\n",
    "    model.add(Dense(30, kernel_initializer='uniform', activation='relu'))\n",
    "    model.add(Dense(25, kernel_initializer='uniform', activation='softmax'))\n",
    "    model.compile(optimizer=SGD(lr=lrate[i]), loss='categorical_crossentropy', metrics=['accuracy'])\n",
    "    hist = model.fit(x_tr.values, to_categorical(y_tr), nb_epoch=100, batch_size=128, verbose=0, \n",
    "                     validation_data=(x_v.values,to_categorical(y_v)))\n",
    "    train_scores[i] = 1 - hist.history['acc'][-1]\n",
    "    val_scores[i] = 1 - hist.history['val_acc'][-1]"
   ]
  },
  {
   "cell_type": "code",
   "execution_count": null,
   "metadata": {
    "collapsed": true
   },
   "outputs": [],
   "source": [
    "import matplotlib.pyplot as plt\n",
    "\n",
    "plt.plot(lrate, train_scores)\n",
    "plt.plot(lrate, val_scores)\n",
    "plt.show()"
   ]
  },
  {
   "cell_type": "markdown",
   "metadata": {},
   "source": [
    "(d) Para la mejor red entrenada anteriormente construya la matriz de confusión de las distintas clases, para asi visualizar cuáles son las clases más difı́ciles de clasificar y con cuáles se confunden. Comente."
   ]
  },
  {
   "cell_type": "code",
   "execution_count": 17,
   "metadata": {
    "collapsed": true
   },
   "outputs": [],
   "source": [
    "import numpy as np\n",
    "from sklearn.metrics import confusion_matrix\n",
    "import matplotlib.pyplot as plt\n",
    "import seaborn as sns"
   ]
  },
  {
   "cell_type": "code",
   "execution_count": 18,
   "metadata": {
    "collapsed": true
   },
   "outputs": [],
   "source": [
    "def plotCnfMatrix(y_true, y_pred):\n",
    "    cnf_matrix = confusion_matrix(y_true, y_pred)\n",
    "    fig = plt.figure(figsize=(16,10))\n",
    "    sns.heatmap(cnf_matrix, cmap=\"coolwarm_r\",annot=True,linewidths=0.5)\n",
    "    plt.title(\"Confusion matrix\")\n",
    "    plt.xlabel(\"Predicted class\")\n",
    "    plt.ylabel(\"Real class\")\n",
    "    plt.show()"
   ]
  },
  {
   "cell_type": "code",
   "execution_count": 20,
   "metadata": {
    "scrolled": false
   },
   "outputs": [
    {
     "data": {
      "image/png": "[encoded data removed]",
      "text/plain": [
       "<matplotlib.figure.Figure at 0x7ff038abdb50>"
      ]
     },
     "metadata": {},
     "output_type": "display_data"
    }
   ],
   "source": [
    "y_pred = modelANNsc.predict(x_t_sc)\n",
    "y_hat = np.argmax(y_pred,axis=1) # Probabilidad a categoria\n",
    "plotCnfMatrix(y_t, y_hat)"
   ]
  },
  {
   "cell_type": "code",
   "execution_count": 24,
   "metadata": {},
   "outputs": [
    {
     "name": "stdout",
     "output_type": "stream",
     "text": [
      "Testing accuracy = 0.6821\n"
     ]
    }
   ],
   "source": [
    "score_ANN = modelANNsc.evaluate(x_t_sc, to_categorical(y_t), verbose=0)\n",
    "print \"Testing accuracy = %.4f\" % score_ANN[1]"
   ]
  },
  {
   "cell_type": "markdown",
   "metadata": {},
   "source": [
    "Revisando el error de prueba, notamos que el modelo claramente mostró un sobreajuste. Aún así para ser un problema de clasificación multiclase el resultado es interesante."
   ]
  },
  {
   "cell_type": "markdown",
   "metadata": {},
   "source": [
    "(e) Entrene una SVM no lineal sobre los pixeles con y sin pre-procesamiento. Puede utilizar el conjunto de validación para seleccionar hiper-parámetros, como el nivel de regularización aplicado y/o la función de kernel a utilizar."
   ]
  },
  {
   "cell_type": "code",
   "execution_count": 25,
   "metadata": {
    "collapsed": true
   },
   "outputs": [],
   "source": [
    "from sklearn.svm import SVC"
   ]
  },
  {
   "cell_type": "code",
   "execution_count": 26,
   "metadata": {
    "collapsed": true
   },
   "outputs": [],
   "source": [
    "# Graficar error de entrenamiento y validacion\n",
    "def plotSVCClassErr(C, train_a, val_a):\n",
    "    plt.figure(figsize=(16, 4))\n",
    "    plt.plot(C, 1 - train_a, label=\"Train\") # Train error\n",
    "    plt.plot(C, 1 - val_a, label=\"Val\") # Validation error\n",
    "    plt.title(\"Error vs C\")\n",
    "    plt.xlabel(\"C\")\n",
    "    plt.ylabel(\"Error\")\n",
    "    plt.legend()\n",
    "    plt.grid(True)     \n",
    "    plt.show()"
   ]
  },
  {
   "cell_type": "code",
   "execution_count": 27,
   "metadata": {
    "collapsed": true
   },
   "outputs": [],
   "source": [
    "# Valores de C\n",
    "C = np.logspace(-2, 2, 3)\n",
    "N = len(C)"
   ]
  },
  {
   "cell_type": "markdown",
   "metadata": {},
   "source": [
    "Utilizando datos sin pre-procesar"
   ]
  },
  {
   "cell_type": "code",
   "execution_count": 28,
   "metadata": {
    "collapsed": true
   },
   "outputs": [],
   "source": [
    "svcs = [None] * N \n",
    "tra_acc = np.zeros(N)\n",
    "val_acc = np.zeros(N)"
   ]
  },
  {
   "cell_type": "code",
   "execution_count": 29,
   "metadata": {
    "scrolled": false
   },
   "outputs": [
    {
     "name": "stderr",
     "output_type": "stream",
     "text": [
      "/home/dsanmartin/anaconda3/envs/py27/lib/python2.7/site-packages/sklearn/svm/base.py:218: ConvergenceWarning: Solver terminated early (max_iter=40).  Consider pre-processing your data with StandardScaler or MinMaxScaler.\n",
      "  % self.max_iter, ConvergenceWarning)\n"
     ]
    }
   ],
   "source": [
    "for i in range(N):\n",
    "    svcs[i] = SVC(C=C[i], max_iter=40)\n",
    "    svcs[i].fit(x_tr, y_tr)\n",
    "    tra_acc[i] = svcs[i].score(x_tr, y_tr)\n",
    "    val_acc[i] = svcs[i].score(x_v, y_v)"
   ]
  },
  {
   "cell_type": "code",
   "execution_count": 30,
   "metadata": {
    "scrolled": true
   },
   "outputs": [
    {
     "data": {
      "image/png": "[encoded data removed]",
      "text/plain": [
       "<matplotlib.figure.Figure at 0x7ff02018a690>"
      ]
     },
     "metadata": {},
     "output_type": "display_data"
    }
   ],
   "source": [
    "plotSVCClassErr(C, tra_acc, val_acc)"
   ]
  },
  {
   "cell_type": "markdown",
   "metadata": {},
   "source": [
    "Al variar el efecto de $C \\in [0.01, 1, 100]$ el mejor resultado se obtiene para $C=1$. "
   ]
  },
  {
   "cell_type": "markdown",
   "metadata": {},
   "source": [
    "Utilizando pre-procesamiento de intesidad"
   ]
  },
  {
   "cell_type": "code",
   "execution_count": 33,
   "metadata": {
    "collapsed": true
   },
   "outputs": [],
   "source": [
    "svcsi = [None] * N \n",
    "tra_acc_i = np.zeros(N)\n",
    "val_acc_i = np.zeros(N)"
   ]
  },
  {
   "cell_type": "code",
   "execution_count": 34,
   "metadata": {
    "collapsed": true
   },
   "outputs": [],
   "source": [
    "for i in range(N):\n",
    "    svcsi[i] = SVC(C=C[i], max_iter=40)\n",
    "    svcsi[i].fit(x_tr_i, y_tr)\n",
    "    tra_acc_i[i] = svcsi[i].score(x_tr_i, y_tr)\n",
    "    val_acc_i[i] = svcsi[i].score(x_v_i, y_v)"
   ]
  },
  {
   "cell_type": "code",
   "execution_count": 35,
   "metadata": {},
   "outputs": [
    {
     "data": {
      "image/png": "[encoded data removed]",
      "text/plain": [
       "<matplotlib.figure.Figure at 0x7ff0200779d0>"
      ]
     },
     "metadata": {},
     "output_type": "display_data"
    }
   ],
   "source": [
    "plotSVCClassErr(C, tra_acc_i, val_acc_i)"
   ]
  },
  {
   "cell_type": "markdown",
   "metadata": {},
   "source": [
    "Al utilizar el pre-procesamiento relacionado con la intesidad notamos que los valores de error decaen mucho más y su mínimo valor está asociado a $C=100$."
   ]
  },
  {
   "cell_type": "markdown",
   "metadata": {},
   "source": [
    "Utilizando pre-procesamiento centrando y escalando"
   ]
  },
  {
   "cell_type": "code",
   "execution_count": 36,
   "metadata": {
    "collapsed": true
   },
   "outputs": [],
   "source": [
    "svcssc = [None] * N \n",
    "tra_acc_sc = np.zeros(N)\n",
    "val_acc_sc = np.zeros(N)"
   ]
  },
  {
   "cell_type": "code",
   "execution_count": 37,
   "metadata": {
    "collapsed": true
   },
   "outputs": [],
   "source": [
    "for i in range(N):\n",
    "    svcssc[i] = SVC(C=C[i], max_iter=40)\n",
    "    svcssc[i].fit(x_tr_sc, y_tr)\n",
    "    tra_acc_sc[i] = svcssc[i].score(x_tr_sc, y_tr)\n",
    "    val_acc_sc[i] = svcssc[i].score(x_v_sc, y_v)"
   ]
  },
  {
   "cell_type": "code",
   "execution_count": 38,
   "metadata": {},
   "outputs": [
    {
     "data": {
      "image/png": "[encoded data removed]",
      "text/plain": [
       "<matplotlib.figure.Figure at 0x7ff0236a4c50>"
      ]
     },
     "metadata": {},
     "output_type": "display_data"
    }
   ],
   "source": [
    "plotSVCClassErr(C, tra_acc_sc, val_acc_sc)"
   ]
  },
  {
   "cell_type": "markdown",
   "metadata": {},
   "source": [
    "Al igual que para el pre-procesamiento anterior, el valor de error decae considerablemente en comparación a los datos crudos y el mejor valor del parámetro es $C=100$."
   ]
  },
  {
   "cell_type": "code",
   "execution_count": 39,
   "metadata": {},
   "outputs": [
    {
     "name": "stdout",
     "output_type": "stream",
     "text": [
      "Validation SVC Accuracy\n",
      "Raw: 0.5546\n",
      "Intensity: 0.9447\n",
      "Scaler: 0.9810\n"
     ]
    }
   ],
   "source": [
    "# Mejores valores de validacion\n",
    "print \"Validation SVC Accuracy\"\n",
    "print \"Raw: %.4f\" % val_acc[0]\n",
    "print \"Intensity: %.4f\" % val_acc_i[-1]\n",
    "print \"Scaler: %.4f\" % val_acc_sc[-1]"
   ]
  },
  {
   "cell_type": "markdown",
   "metadata": {},
   "source": [
    "Considerando la información anterior, nos quedamos con el último modelo, entrenado con los datos centrados y escalados."
   ]
  },
  {
   "cell_type": "code",
   "execution_count": 41,
   "metadata": {},
   "outputs": [
    {
     "name": "stdout",
     "output_type": "stream",
     "text": [
      "0.830312325711\n"
     ]
    },
    {
     "data": {
      "image/png": "[encoded data removed]",
      "text/plain": [
       "<matplotlib.figure.Figure at 0x7ff0200b8e90>"
      ]
     },
     "metadata": {},
     "output_type": "display_data"
    }
   ],
   "source": [
    "y_hat = svcssc[-1].predict(x_t_sc)\n",
    "score_scvsc = svcssc[-1].score(x_t_sc, y_t)\n",
    "print score_scvsc\n",
    "plotCnfMatrix(y_t, y_hat)"
   ]
  },
  {
   "cell_type": "markdown",
   "metadata": {},
   "source": [
    "Notamos que el resultado para los datos de prueba son muy buenos en comparación al modelo de redes neuronales."
   ]
  },
  {
   "cell_type": "markdown",
   "metadata": {},
   "source": [
    "(f) Entrene una árbol de clasificación sobre los pixeles con y sin pre-procesamiento. Puede utilizar el conjunto de validación para seleccionar hiper-parámetros, como la profundidad máxima del árbol."
   ]
  },
  {
   "cell_type": "code",
   "execution_count": 42,
   "metadata": {
    "collapsed": true
   },
   "outputs": [],
   "source": [
    "from sklearn.tree import DecisionTreeClassifier as Tree"
   ]
  },
  {
   "cell_type": "code",
   "execution_count": 43,
   "metadata": {
    "collapsed": true
   },
   "outputs": [],
   "source": [
    "def plotTreeClassErr(d, train_a, val_a):\n",
    "    plt.figure(figsize=(16, 4))\n",
    "    plt.plot(d, 1 - train_a, label=\"Train\") # Train error\n",
    "    plt.plot(d, 1 - val_a, label=\"Val\") # Train error\n",
    "    plt.title(\"Error vs Max Depth\")\n",
    "    plt.xlabel(\"Max Depth\")\n",
    "    plt.ylabel(\"Error\")\n",
    "    plt.legend()\n",
    "    plt.grid(True)     \n",
    "    plt.show()"
   ]
  },
  {
   "cell_type": "code",
   "execution_count": 45,
   "metadata": {
    "collapsed": true
   },
   "outputs": [],
   "source": [
    "# Profundidad del arbol\n",
    "dp = np.arange(1, 21)\n",
    "N = len(dp)"
   ]
  },
  {
   "cell_type": "markdown",
   "metadata": {},
   "source": [
    "Utilizando datos sin pre-procesamiento"
   ]
  },
  {
   "cell_type": "code",
   "execution_count": 46,
   "metadata": {
    "collapsed": true
   },
   "outputs": [],
   "source": [
    "clfs = [None] * N \n",
    "tra_acc = np.zeros(N)\n",
    "val_acc = np.zeros(N)"
   ]
  },
  {
   "cell_type": "code",
   "execution_count": 47,
   "metadata": {
    "collapsed": true
   },
   "outputs": [],
   "source": [
    "for i in range(N):\n",
    "    clfs[i] = Tree(criterion='gini', splitter='best', random_state=0, max_depth=dp[i])\n",
    "    clfs[i].fit(x_tr, y_tr)\n",
    "    tra_acc[i] = clfs[i].score(x_tr, y_tr)\n",
    "    val_acc[i] = clfs[i].score(x_v, y_v)"
   ]
  },
  {
   "cell_type": "code",
   "execution_count": 48,
   "metadata": {},
   "outputs": [
    {
     "data": {
      "image/png": "[encoded data removed]",
      "text/plain": [
       "<matplotlib.figure.Figure at 0x7ff0149ab310>"
      ]
     },
     "metadata": {},
     "output_type": "display_data"
    }
   ],
   "source": [
    "plotTreeClassErr(dp, tra_acc, val_acc)"
   ]
  },
  {
   "cell_type": "markdown",
   "metadata": {},
   "source": [
    "Sin procesamiento el árbol muestra el menor valor de error para la máxima profundidad igual a $20$."
   ]
  },
  {
   "cell_type": "markdown",
   "metadata": {},
   "source": [
    "Utilizando datos pre-procesados utilizando la intensidad"
   ]
  },
  {
   "cell_type": "code",
   "execution_count": 49,
   "metadata": {
    "collapsed": true
   },
   "outputs": [],
   "source": [
    "clfsi = [None] * N \n",
    "tra_acc_i = np.zeros(N)\n",
    "val_acc_i = np.zeros(N)"
   ]
  },
  {
   "cell_type": "code",
   "execution_count": 50,
   "metadata": {
    "collapsed": true
   },
   "outputs": [],
   "source": [
    "for i in range(N):\n",
    "    clfsi[i] = Tree(criterion='gini', splitter='best', random_state=0, max_depth=dp[i])\n",
    "    clfsi[i].fit(x_tr_i, y_tr)\n",
    "    tra_acc_i[i] = clfsi[i].score(x_tr_i, y_tr)\n",
    "    val_acc_i[i] = clfsi[i].score(x_v_i, y_v)"
   ]
  },
  {
   "cell_type": "code",
   "execution_count": 51,
   "metadata": {},
   "outputs": [
    {
     "data": {
      "image/png": "[encoded data removed]",
      "text/plain": [
       "<matplotlib.figure.Figure at 0x7ff0149728d0>"
      ]
     },
     "metadata": {},
     "output_type": "display_data"
    }
   ],
   "source": [
    "plotTreeClassErr(dp, tra_acc_i, val_acc_i)"
   ]
  },
  {
   "cell_type": "markdown",
   "metadata": {},
   "source": [
    "Nuevamente se repite el comportamiento del experimento anterior. Los menores valores de error están para la profundidad $20$."
   ]
  },
  {
   "cell_type": "markdown",
   "metadata": {},
   "source": [
    "Utilizando datos pre-procesados utilizado *Scaler*"
   ]
  },
  {
   "cell_type": "code",
   "execution_count": 52,
   "metadata": {
    "collapsed": true
   },
   "outputs": [],
   "source": [
    "clfssc = [None] * N \n",
    "tra_acc_sc = np.zeros(N)\n",
    "val_acc_sc = np.zeros(N)"
   ]
  },
  {
   "cell_type": "code",
   "execution_count": 53,
   "metadata": {
    "collapsed": true
   },
   "outputs": [],
   "source": [
    "for i in range(N):\n",
    "    clfssc[i] = Tree(criterion='gini', splitter='best', random_state=0, max_depth=dp[i])\n",
    "    clfssc[i].fit(x_tr_sc, y_tr)\n",
    "    tra_acc_sc[i] = clfssc[i].score(x_tr_sc, y_tr)\n",
    "    val_acc_sc[i] = clfssc[i].score(x_v_sc, y_v)"
   ]
  },
  {
   "cell_type": "code",
   "execution_count": 54,
   "metadata": {},
   "outputs": [
    {
     "data": {
      "image/png": "[encoded data removed]",
      "text/plain": [
       "<matplotlib.figure.Figure at 0x7ff017fbf050>"
      ]
     },
     "metadata": {},
     "output_type": "display_data"
    }
   ],
   "source": [
    "plotTreeClassErr(dp, tra_acc_sc, val_acc_sc)"
   ]
  },
  {
   "cell_type": "code",
   "execution_count": 55,
   "metadata": {
    "scrolled": true
   },
   "outputs": [
    {
     "name": "stdout",
     "output_type": "stream",
     "text": [
      "Validation Classification Tree Accuracy\n",
      "Raw: 0.0771\n",
      "Intensity: 0.9669\n",
      "Scaler: 0.9581\n"
     ]
    }
   ],
   "source": [
    "# Mejores valores de validacion\n",
    "print \"Validation Classification Tree Accuracy\"\n",
    "print \"Raw: %.4f\" % val_acc[0]\n",
    "print \"Intensity: %.4f\" % val_acc_i[-1]\n",
    "print \"Scaler: %.4f\" % val_acc_sc[-1]"
   ]
  },
  {
   "cell_type": "markdown",
   "metadata": {},
   "source": [
    "De los valores de ajuste nos quedaremos finalmente con el modelo que se entrena con los datos escalados según la intensidad."
   ]
  },
  {
   "cell_type": "code",
   "execution_count": 57,
   "metadata": {},
   "outputs": [
    {
     "name": "stdout",
     "output_type": "stream",
     "text": [
      "0.429726715003\n"
     ]
    },
    {
     "data": {
      "image/png": "[encoded data removed]",
      "text/plain": [
       "<matplotlib.figure.Figure at 0x7ff01492dad0>"
      ]
     },
     "metadata": {},
     "output_type": "display_data"
    }
   ],
   "source": [
    "y_hat = clfsi[-1].predict(x_t_i)\n",
    "score_clfi = clfsi[-1].score(x_t_i, y_t)\n",
    "print score_clfi\n",
    "plotCnfMatrix(y_t, y_hat)"
   ]
  },
  {
   "cell_type": "markdown",
   "metadata": {},
   "source": [
    "Para los valores de prueba finalmente obtenemos un valor de ajuste considerablemente bueno. Un resultado comprobado fue el sobreajuste de los árboles y se nota dada la diferencia entre los valores de error."
   ]
  },
  {
   "cell_type": "markdown",
   "metadata": {},
   "source": [
    "## Referencias\n",
    "\n",
    "* [1] Keras: Deep Learning library for Theano and TensorFlow. https://keras.io/ \n",
    "* [2] Bernhard Schoelkopf, Alexander J. Smola, and Klaus-Robert Mueller. 1999. Kernel principal component analysis. In Advances in kernel methods, MIT Press, Cambridge, MA, USA 327-352.\n",
    "* [3] https://www.kaggle.com/c/bike-sharing-demand\n",
    "* [4] http://archive.ics.uci.edu/ml/datasets/Wine+Quality\n",
    "* [5] http://scikit-learn.org/stable/modules/generated/sklearn.metrics.f1 score.html\n",
    "* [6] Dalal, N., Triggs, B. (2005, June). Histograms of oriented gradients for human detection. In 2005 IEEE Computer Society Conference on Computer Vision and Pattern Recognition (CVPR’05) (Vol. 1, pp. 886-893). IEEE.\n",
    "* [7] Forsyth, D. A., Ponce, J. (2002). Computer vision: a modern approach. Prentice Hall Professional Tech- nical Reference.\n",
    "* [8] https://www.kaggle.com/datamunge/sign-language-mnist"
   ]
  },
  {
   "cell_type": "code",
   "execution_count": null,
   "metadata": {
    "collapsed": true,
    "scrolled": false
   },
   "outputs": [],
   "source": []
  }
 ],
 "metadata": {
  "kernelspec": {
   "display_name": "Python 2",
   "language": "python",
   "name": "python2"
  },
  "language_info": {
   "codemirror_mode": {
    "name": "ipython",
    "version": 2
   },
   "file_extension": ".py",
   "mimetype": "text/x-python",
   "name": "python",
   "nbconvert_exporter": "python",
   "pygments_lexer": "ipython2",
   "version": "2.7.13"
  }
 },
 "nbformat": 4,
 "nbformat_minor": 2
}
